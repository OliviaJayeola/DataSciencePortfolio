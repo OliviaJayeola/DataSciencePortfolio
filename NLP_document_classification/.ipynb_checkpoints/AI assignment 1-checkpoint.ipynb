{
 "cells": [
  {
   "cell_type": "markdown",
   "id": "6b17548c",
   "metadata": {},
   "source": [
    "# Document Classification of Papers Publish in Neural Information Processing Systems Proceedings in 2021"
   ]
  },
  {
   "cell_type": "markdown",
   "id": "0c57b482",
   "metadata": {},
   "source": [
    "# Contents"
   ]
  },
  {
   "cell_type": "markdown",
   "id": "03432da3",
   "metadata": {},
   "source": [
    "# 1. Introduction "
   ]
  },
  {
   "cell_type": "markdown",
   "id": "cfd64ee6",
   "metadata": {},
   "source": [
    "# 2. Methodology"
   ]
  },
  {
   "cell_type": "markdown",
   "id": "751ba1c0",
   "metadata": {},
   "source": [
    "## 2.1 Webscraping"
   ]
  },
  {
   "cell_type": "code",
   "execution_count": null,
   "id": "8acf8012",
   "metadata": {},
   "outputs": [],
   "source": [
    "import scrapy\n",
    "import os\n",
    "import urllib.request\n",
    "import shutil\n",
    "\n",
    "class NIPSSpider(scrapy.Spider):\n",
    "    name = 'nipsproceedings'\n",
    "    start_urls = ['https://papers.nips.cc/paper/2021']\n",
    "\n",
    "    # Setting up for the JSON output file\n",
    "    custom_settings = {\n",
    "        'FEED_URI' : 'nipsproceedings-scrapy.json'\n",
    "    }\n",
    "\n",
    "    def parse(self, response):\n",
    "        self.log('I just visited: ' + response.url)\n",
    "        website_url = \"https://papers.nips.cc\"\n",
    "        for doc_entry in response.css('div.main ul li'):\n",
    "            item = {\n",
    "                'title': doc_entry.css('a::text').extract_first(),\n",
    "                'authors': doc_entry.css('a.author::text').extract(),\n",
    "                'doc_link': website_url + doc_entry.css('a::attr(href)').extract_first(),\n",
    "            }\n",
    "            yield item\n",
    "\n",
    "            next_url = item['doc_link']\n",
    "            self.log('About to visit: ' + next_url)\n",
    "            # follow links to the individual document page\n",
    "            yield scrapy.Request(next_url, self.parse_doc)\n",
    "\n",
    "    def parse_doc(self, response):\n",
    "        self.log('Visiting doc URL: ' + response.url)\n",
    "        website_url = \"https://papers.nips.cc\"\n",
    "        for artifact in response.css('div.main a'):\n",
    "            if artifact.css('a::text').extract_first() == \"[PDF]\":\n",
    "                doc_path = website_url + artifact.css('a::attr(href)').extract_first()\n",
    "                dest_file = os.path.basename(doc_path)\n",
    "                self.log('Grabing document: ' + doc_path + \" as \" + dest_file)\n",
    "                with urllib.request.urlopen(doc_path) as in_resp, open(dest_file, 'wb') as out_file:\n",
    "                    shutil.copyfileobj(in_resp, out_file)"
   ]
  },
  {
   "cell_type": "code",
   "execution_count": 1,
   "id": "412b58be",
   "metadata": {},
   "outputs": [
    {
     "ename": "ModuleNotFoundError",
     "evalue": "No module named 'requests_html'",
     "output_type": "error",
     "traceback": [
      "\u001b[0;31m---------------------------------------------------------------------------\u001b[0m",
      "\u001b[0;31mModuleNotFoundError\u001b[0m                       Traceback (most recent call last)",
      "Input \u001b[0;32mIn [1]\u001b[0m, in \u001b[0;36m<cell line: 1>\u001b[0;34m()\u001b[0m\n\u001b[0;32m----> 1\u001b[0m \u001b[38;5;28;01mfrom\u001b[39;00m \u001b[38;5;21;01mrequests_html\u001b[39;00m \u001b[38;5;28;01mimport\u001b[39;00m HTMLSession\n\u001b[1;32m      3\u001b[0m s \u001b[38;5;241m=\u001b[39m HTMLSession()\n\u001b[1;32m      4\u001b[0m r \u001b[38;5;241m=\u001b[39m s\u001b[38;5;241m.\u001b[39mget(\u001b[38;5;124m'\u001b[39m\u001b[38;5;124mhttps://papers.nips.cc/paper/2021\u001b[39m\u001b[38;5;124m'\u001b[39m)\n",
      "\u001b[0;31mModuleNotFoundError\u001b[0m: No module named 'requests_html'"
     ]
    }
   ],
   "source": [
    "from requests_html import HTMLSession\n",
    "\n",
    "s = HTMLSession()\n",
    "r = s.get('https://papers.nips.cc/paper/2021')\n",
    "\n",
    "sel= '#MathJax_Message'\n",
    "\n",
    "print(r.html.find(sel))"
   ]
  },
  {
   "cell_type": "code",
   "execution_count": null,
   "id": "75901b7d",
   "metadata": {},
   "outputs": [],
   "source": []
  }
 ],
 "metadata": {
  "kernelspec": {
   "display_name": "Python 3 (ipykernel)",
   "language": "python",
   "name": "python3"
  },
  "language_info": {
   "codemirror_mode": {
    "name": "ipython",
    "version": 3
   },
   "file_extension": ".py",
   "mimetype": "text/x-python",
   "name": "python",
   "nbconvert_exporter": "python",
   "pygments_lexer": "ipython3",
   "version": "3.9.12"
  }
 },
 "nbformat": 4,
 "nbformat_minor": 5
}
