{
 "cells": [
  {
   "cell_type": "code",
   "execution_count": 1,
   "metadata": {},
   "outputs": [],
   "source": [
    "import pandas as pd\n",
    "import matplotlib.pyplot as plt\n",
    "import seaborn as sns\n",
    "import datetime as dt\n",
    "import numpy as np\n",
    "import plotly.express as px\n",
    "import plotly.graph_objects as go\n",
    "from plotly.subplots import make_subplots\n",
    "from statsmodels.graphics.tsaplots import plot_acf\n",
    "from statsmodels.tsa.stattools import ccf"
   ]
  },
  {
   "cell_type": "code",
   "execution_count": 2,
   "metadata": {},
   "outputs": [],
   "source": [
    "date_block_mapping = {\n",
    "    0: dt.datetime(2013, 1, 1), 1: dt.datetime(2013, 2, 1), 2: dt.datetime(2013, 3, 1), 3: dt.datetime(2013, 4, 1),\n",
    "    4: dt.datetime(2013, 5, 1), 5: dt.datetime(2013, 6, 1), 6: dt.datetime(2013, 7, 1), 7: dt.datetime(2013, 8, 1),\n",
    "    8: dt.datetime(2013, 9, 1), 9: dt.datetime(2013, 10, 1), 10: dt.datetime(2013, 11, 1), 11: dt.datetime(2013, 12, 1),\n",
    "    12: dt.datetime(2014, 1, 1), 13: dt.datetime(2014, 2, 1), 14: dt.datetime(2014, 3, 1), 15: dt.datetime(2014, 4, 1),\n",
    "    16: dt.datetime(2014, 5, 1), 17: dt.datetime(2014, 6, 1), 18: dt.datetime(2014, 7, 1), 19: dt.datetime(2014, 8, 1),\n",
    "    20: dt.datetime(2014, 9, 1), 21: dt.datetime(2014, 10, 1), 22: dt.datetime(2014, 11, 1), 23: dt.datetime(2014, 12, 1),\n",
    "    24: dt.datetime(2015, 1, 1), 25: dt.datetime(2015, 2, 1), 26: dt.datetime(2015, 3, 1), 27: dt.datetime(2015, 4, 1),\n",
    "    28: dt.datetime(2015, 5, 1), 29: dt.datetime(2015, 6, 1), 30: dt.datetime(2015, 7, 1), 31: dt.datetime(2015, 8, 1),\n",
    "    32: dt.datetime(2015, 9, 1), 33: dt.datetime(2015, 10, 1)\n",
    "}"
   ]
  },
  {
   "cell_type": "markdown",
   "metadata": {},
   "source": [
    "# Plan\n",
    "\n",
    "### - For the first iteration of this project I am focusing on predicting \n",
    "### future sales for 1 product/item (grouping all shops together)\n",
    "\n",
    "\n",
    "### - In the second iteration I can extend this to make predictions for \n",
    "### individual shops/group shops based on patterns etc\n",
    "### - Predictions will be made on weekly data for practicality \n",
    "### (difficult to control stock on a daily basis but monthly less granular)\n",
    "### - Planning to write script/program to make prediction for each item\n",
    "\n",
    "\n",
    "\n",
    "# 1. Exploratory data analysis and visualization:\n",
    "\n",
    "###       - Pick product with most sales \n",
    "\n",
    "\n",
    "\n",
    "###    - understand general demand for item\n",
    "\n",
    "        Is there typical purchasing behaviours/a measurable pattern?\n",
    "        Is there an autocorrelation above 0.5 at any point? Focus on where there is a linear pattern?\n",
    "        Is there cross-correlation across years? Cycle?\n",
    "        Can I find non-linear patterns?\n",
    "\n",
    "\n",
    "###    - understand general demand for shops (second iteration)\n",
    "        Do certain shops have more typical purchasing behaviours? Is there a measurable pattern?\n",
    "        Is there a way to group shops by trend? eg are some shops visited more during christmas \n",
    "        and others are visited more during the weekends\n",
    "        How much do shops vary around mean (standard deviation, coefficient of variation)?\n",
    "        Is there a cross-correlation between any shops?\n",
    "        which shops are customers more likely to go to during high demand seasons or days\n",
    "        What shops perform above and below the average (outliers)?\n",
    "        How to remove outliers or split shops up by popularity/number of sales? z score or interquartile range?\n",
    "\n",
    "\n",
    "# 2. Model fitting and predictions\n",
    "\n",
    "\n",
    "###     - Data cleaning/prep\n",
    "\n",
    "        What moving average parameters am I using?\n",
    "\n",
    "        What groups have I created?\n",
    "\n",
    "        Am I adding additional features eg season?\n",
    "                Month/Season/Event \n",
    "                Number of sales in the previous year?\n",
    "                Number of sales/average in the previous week, two weeks or month?\n",
    "                popularity of shop/group?\n",
    "                Number of popular items in shop?\n",
    "                Average price that week\n",
    "                Price change (actual value)\n",
    "\n",
    "        Outliers removed?\n",
    "\n",
    "        Data imputation - where there is a measurable pattern I will add in values for missing data\n",
    "\n",
    "\n",
    "###    Starting with simple model then complex - most likely not enough data for deep learning/AI\n",
    "\n",
    "        - Regression: ARIMA/autoregression\n",
    "        \n",
    "                Independent Variables:\n",
    "                        Month/Season/Event \n",
    "                        Number of sales in the previous year?\n",
    "                        Number of sales/average in the previous week, two weeks or month?\n",
    "                        popularity of shop/group?\n",
    "                        Number of popular items in shop?\n",
    "\n",
    "                Dependent Variable:\n",
    "                        Number of sales next day/week\n",
    "\n",
    "\n",
    "        - Bayesian \n",
    "\n",
    "\n",
    "        - Machine Learning\n",
    "            Can K-means clustering be used to determine whether there is a pattern and what the variables are?\n",
    "            SVM & XGBOOST\n",
    "\n",
    "    \n",
    "    \n"
   ]
  },
  {
   "cell_type": "markdown",
   "metadata": {},
   "source": [
    "## Conclusions/findings \n",
    "\n",
    "\n",
    "       Average number of sales decreasing yearly (less data collected?)\n",
    "       Price of same item is different across shops and dates (different promotions?)\n",
    "       \n",
    "       - What timeframe was the dataset collected?\n",
    "        2 years 10 months - Jan 2013 - Oct 2015\n",
    "\n",
    "        Data is negatively skewed - more shops have sales within the lower end from 0 to ~3000\n",
    "\n",
    "        Items have different prices across shops and dates\n",
    "\n",
    "       new possible features:\n",
    "\n",
    "       Average price that week\n",
    "\n",
    "       Price change (actual value)\n",
    "\n",
    "\n",
    "\n",
    "\n",
    "        \n",
    "\n"
   ]
  },
  {
   "cell_type": "markdown",
   "metadata": {},
   "source": [
    "# 1. Exploratory data analysis and visualization:\n",
    "\n",
    "###       - Pick product with most sales and understand general characteristics eg what is the general trend?\n",
    "\n",
    "    \n"
   ]
  },
  {
   "cell_type": "code",
   "execution_count": 29,
   "metadata": {},
   "outputs": [
    {
     "data": {
      "text/html": [
       "<div>\n",
       "<style scoped>\n",
       "    .dataframe tbody tr th:only-of-type {\n",
       "        vertical-align: middle;\n",
       "    }\n",
       "\n",
       "    .dataframe tbody tr th {\n",
       "        vertical-align: top;\n",
       "    }\n",
       "\n",
       "    .dataframe thead th {\n",
       "        text-align: right;\n",
       "    }\n",
       "</style>\n",
       "<table border=\"1\" class=\"dataframe\">\n",
       "  <thead>\n",
       "    <tr style=\"text-align: right;\">\n",
       "      <th></th>\n",
       "      <th>date</th>\n",
       "      <th>date_block_num</th>\n",
       "      <th>shop_id</th>\n",
       "      <th>item_id</th>\n",
       "      <th>item_price</th>\n",
       "      <th>item_cnt_day</th>\n",
       "      <th>year</th>\n",
       "      <th>month</th>\n",
       "      <th>day</th>\n",
       "    </tr>\n",
       "  </thead>\n",
       "  <tbody>\n",
       "    <tr>\n",
       "      <th>0</th>\n",
       "      <td>2013-01-02</td>\n",
       "      <td>0</td>\n",
       "      <td>59</td>\n",
       "      <td>22154</td>\n",
       "      <td>999.00</td>\n",
       "      <td>1.0</td>\n",
       "      <td>2013</td>\n",
       "      <td>1</td>\n",
       "      <td>2</td>\n",
       "    </tr>\n",
       "    <tr>\n",
       "      <th>1</th>\n",
       "      <td>2013-01-03</td>\n",
       "      <td>0</td>\n",
       "      <td>25</td>\n",
       "      <td>2552</td>\n",
       "      <td>899.00</td>\n",
       "      <td>1.0</td>\n",
       "      <td>2013</td>\n",
       "      <td>1</td>\n",
       "      <td>3</td>\n",
       "    </tr>\n",
       "    <tr>\n",
       "      <th>3</th>\n",
       "      <td>2013-01-06</td>\n",
       "      <td>0</td>\n",
       "      <td>25</td>\n",
       "      <td>2554</td>\n",
       "      <td>1709.05</td>\n",
       "      <td>1.0</td>\n",
       "      <td>2013</td>\n",
       "      <td>1</td>\n",
       "      <td>6</td>\n",
       "    </tr>\n",
       "    <tr>\n",
       "      <th>4</th>\n",
       "      <td>2013-01-15</td>\n",
       "      <td>0</td>\n",
       "      <td>25</td>\n",
       "      <td>2555</td>\n",
       "      <td>1099.00</td>\n",
       "      <td>1.0</td>\n",
       "      <td>2013</td>\n",
       "      <td>1</td>\n",
       "      <td>15</td>\n",
       "    </tr>\n",
       "    <tr>\n",
       "      <th>5</th>\n",
       "      <td>2013-01-10</td>\n",
       "      <td>0</td>\n",
       "      <td>25</td>\n",
       "      <td>2564</td>\n",
       "      <td>349.00</td>\n",
       "      <td>1.0</td>\n",
       "      <td>2013</td>\n",
       "      <td>1</td>\n",
       "      <td>10</td>\n",
       "    </tr>\n",
       "  </tbody>\n",
       "</table>\n",
       "</div>"
      ],
      "text/plain": [
       "        date  date_block_num  shop_id  item_id  item_price  item_cnt_day  \\\n",
       "0 2013-01-02               0       59    22154      999.00           1.0   \n",
       "1 2013-01-03               0       25     2552      899.00           1.0   \n",
       "3 2013-01-06               0       25     2554     1709.05           1.0   \n",
       "4 2013-01-15               0       25     2555     1099.00           1.0   \n",
       "5 2013-01-10               0       25     2564      349.00           1.0   \n",
       "\n",
       "   year  month  day  \n",
       "0  2013      1    2  \n",
       "1  2013      1    3  \n",
       "3  2013      1    6  \n",
       "4  2013      1   15  \n",
       "5  2013      1   10  "
      ]
     },
     "execution_count": 29,
     "metadata": {},
     "output_type": "execute_result"
    }
   ],
   "source": [
    "sales = pd.read_csv('data/sales_train.csv')\n",
    "sales = sales[(sales['item_cnt_day'] > 0 ) & (sales['item_price'] > 0)] # only rows that have a price and item count\n",
    "sales['date'] = pd.to_datetime(sales['date'], dayfirst=True)\n",
    "sales['year'] = sales['date'].dt.year\n",
    "sales['month'] = sales['date'].dt.month\n",
    "sales['day'] = sales['date'].dt.day\n",
    "\n",
    "sales.head()"
   ]
  },
  {
   "cell_type": "markdown",
   "metadata": {},
   "source": [
    "    - What timeframe was the dataset collected?\n",
    "\n",
    "Jan 2013 - Oct 2015"
   ]
  },
  {
   "cell_type": "code",
   "execution_count": 171,
   "metadata": {},
   "outputs": [
    {
     "name": "stdout",
     "output_type": "stream",
     "text": [
      "2015-10-31 00:00:00 2013-01-01 00:00:00\n"
     ]
    }
   ],
   "source": [
    "print(sales['date'].max(),sales['date'].min())"
   ]
  },
  {
   "cell_type": "markdown",
   "metadata": {},
   "source": [
    "### Items have different prices across shops and dates\n",
    "\n",
    "new possible features:\n",
    "\n",
    "Average price that week\n",
    "\n",
    "Price change (actual value)"
   ]
  },
  {
   "cell_type": "code",
   "execution_count": null,
   "metadata": {},
   "outputs": [
    {
     "data": {
      "text/html": [
       "<div>\n",
       "<style scoped>\n",
       "    .dataframe tbody tr th:only-of-type {\n",
       "        vertical-align: middle;\n",
       "    }\n",
       "\n",
       "    .dataframe tbody tr th {\n",
       "        vertical-align: top;\n",
       "    }\n",
       "\n",
       "    .dataframe thead th {\n",
       "        text-align: right;\n",
       "    }\n",
       "</style>\n",
       "<table border=\"1\" class=\"dataframe\">\n",
       "  <thead>\n",
       "    <tr style=\"text-align: right;\">\n",
       "      <th></th>\n",
       "      <th>date</th>\n",
       "      <th>date_block_num</th>\n",
       "      <th>shop_id</th>\n",
       "      <th>item_id</th>\n",
       "      <th>item_price</th>\n",
       "      <th>item_cnt_day</th>\n",
       "      <th>year</th>\n",
       "      <th>month</th>\n",
       "      <th>day</th>\n",
       "    </tr>\n",
       "  </thead>\n",
       "  <tbody>\n",
       "    <tr>\n",
       "      <th>40085</th>\n",
       "      <td>2013-01-03</td>\n",
       "      <td>0</td>\n",
       "      <td>0</td>\n",
       "      <td>32</td>\n",
       "      <td>221.0</td>\n",
       "      <td>2.0</td>\n",
       "      <td>2013</td>\n",
       "      <td>1</td>\n",
       "      <td>3</td>\n",
       "    </tr>\n",
       "    <tr>\n",
       "      <th>31260</th>\n",
       "      <td>2013-01-03</td>\n",
       "      <td>0</td>\n",
       "      <td>6</td>\n",
       "      <td>32</td>\n",
       "      <td>349.0</td>\n",
       "      <td>1.0</td>\n",
       "      <td>2013</td>\n",
       "      <td>1</td>\n",
       "      <td>3</td>\n",
       "    </tr>\n",
       "    <tr>\n",
       "      <th>58567</th>\n",
       "      <td>2013-01-03</td>\n",
       "      <td>0</td>\n",
       "      <td>13</td>\n",
       "      <td>32</td>\n",
       "      <td>221.0</td>\n",
       "      <td>1.0</td>\n",
       "      <td>2013</td>\n",
       "      <td>1</td>\n",
       "      <td>3</td>\n",
       "    </tr>\n",
       "    <tr>\n",
       "      <th>45904</th>\n",
       "      <td>2013-01-03</td>\n",
       "      <td>0</td>\n",
       "      <td>16</td>\n",
       "      <td>32</td>\n",
       "      <td>349.0</td>\n",
       "      <td>1.0</td>\n",
       "      <td>2013</td>\n",
       "      <td>1</td>\n",
       "      <td>3</td>\n",
       "    </tr>\n",
       "    <tr>\n",
       "      <th>10000</th>\n",
       "      <td>2013-01-03</td>\n",
       "      <td>0</td>\n",
       "      <td>19</td>\n",
       "      <td>32</td>\n",
       "      <td>349.0</td>\n",
       "      <td>1.0</td>\n",
       "      <td>2013</td>\n",
       "      <td>1</td>\n",
       "      <td>3</td>\n",
       "    </tr>\n",
       "  </tbody>\n",
       "</table>\n",
       "</div>"
      ],
      "text/plain": [
       "            date  date_block_num  shop_id  item_id  item_price  item_cnt_day  \\\n",
       "40085 2013-01-03               0        0       32       221.0           2.0   \n",
       "31260 2013-01-03               0        6       32       349.0           1.0   \n",
       "58567 2013-01-03               0       13       32       221.0           1.0   \n",
       "45904 2013-01-03               0       16       32       349.0           1.0   \n",
       "10000 2013-01-03               0       19       32       349.0           1.0   \n",
       "\n",
       "       year  month  day  \n",
       "40085  2013      1    3  \n",
       "31260  2013      1    3  \n",
       "58567  2013      1    3  \n",
       "45904  2013      1    3  \n",
       "10000  2013      1    3  "
      ]
     },
     "metadata": {},
     "output_type": "display_data"
    }
   ],
   "source": [
    "# same date and item, different prices\n",
    "sales[(sales['item_id'] == 32) & (sales['date'] == '2013-01-03')].head()"
   ]
  },
  {
   "cell_type": "code",
   "execution_count": 56,
   "metadata": {},
   "outputs": [],
   "source": [
    "weekly_sales_dict = {}\n",
    "years = sales['date'].dt.year.unique()\n",
    "\n",
    "for y in years:\n",
    "    \n",
    "    yearly_data = sales[sales['date'].dt.year == y]\n",
    "    \n",
    "    # calculates average weekly sales for each item\n",
    "    \n",
    "    weekly_sales_per_shop = yearly_data.groupby([pd.Grouper(key='date', freq='W'), 'item_id', 'shop_id'])['item_cnt_day'].sum().reset_index()\n",
    "    \n",
    "    weekly_sales_total = weekly_sales_per_shop.groupby([pd.Grouper(key='date', freq='W'), 'item_id'])['item_cnt_day'].sum().reset_index(name='total_sales')\n",
    "    \n",
    "    shop_counts = weekly_sales_per_shop.groupby([pd.Grouper(key='date', freq='W'), 'item_id'])['shop_id'].nunique().reset_index(name='shop_count')\n",
    "    \n",
    "    merged = pd.merge(weekly_sales_total, shop_counts, on=['date', 'item_id'])\n",
    "    \n",
    "    merged['average_weekly_sales'] = merged['total_sales'] / merged['shop_count']\n",
    "    \n",
    "    # Adjust week numbers for year transition\n",
    "    merged['week'] = merged['date'].dt.strftime('%U').astype(int)\n",
    "    merged.loc[merged['date'].dt.year == y + 1, 'week'] = 53\n",
    "    \n",
    "    # Add the result to the dictionary\n",
    "    weekly_sales_dict[y] = merged"
   ]
  },
  {
   "cell_type": "code",
   "execution_count": 84,
   "metadata": {},
   "outputs": [
    {
     "data": {
      "application/vnd.plotly.v1+json": {
       "config": {
        "plotlyServerURL": "https://plot.ly"
       },
       "data": [
        {
         "hovertemplate": "item_id=13598<br>year=2013<br>week=%{x}<br>average_weekly_sales=%{y}<extra></extra>",
         "legendgroup": "13598",
         "line": {
          "color": "#636efa",
          "dash": "solid"
         },
         "marker": {
          "symbol": "circle"
         },
         "mode": "lines",
         "name": "13598",
         "showlegend": true,
         "type": "scattergl",
         "x": [
          1,
          21
         ],
         "xaxis": "x",
         "y": [
          46.333333333333336,
          11
         ],
         "yaxis": "y"
        },
        {
         "hovertemplate": "item_id=13598<br>year=2015<br>week=%{x}<br>average_weekly_sales=%{y}<extra></extra>",
         "legendgroup": "13598",
         "line": {
          "color": "#636efa",
          "dash": "solid"
         },
         "marker": {
          "symbol": "circle"
         },
         "mode": "lines",
         "name": "13598",
         "showlegend": false,
         "type": "scattergl",
         "x": [
          8,
          9,
          10
         ],
         "xaxis": "x3",
         "y": [
          30,
          54,
          86
         ],
         "yaxis": "y3"
        },
        {
         "hovertemplate": "item_id=16450<br>year=2013<br>week=%{x}<br>average_weekly_sales=%{y}<extra></extra>",
         "legendgroup": "16450",
         "line": {
          "color": "#EF553B",
          "dash": "solid"
         },
         "marker": {
          "symbol": "circle"
         },
         "mode": "lines",
         "name": "16450",
         "showlegend": true,
         "type": "scattergl",
         "x": [
          1
         ],
         "xaxis": "x",
         "y": [
          12.214285714285714
         ],
         "yaxis": "y"
        },
        {
         "hovertemplate": "item_id=14824<br>year=2013<br>week=%{x}<br>average_weekly_sales=%{y}<extra></extra>",
         "legendgroup": "14824",
         "line": {
          "color": "#00cc96",
          "dash": "solid"
         },
         "marker": {
          "symbol": "circle"
         },
         "mode": "lines",
         "name": "14824",
         "showlegend": true,
         "type": "scattergl",
         "x": [
          2
         ],
         "xaxis": "x",
         "y": [
          9.333333333333334
         ],
         "yaxis": "y"
        },
        {
         "hovertemplate": "item_id=2973<br>year=2013<br>week=%{x}<br>average_weekly_sales=%{y}<extra></extra>",
         "legendgroup": "2973",
         "line": {
          "color": "#ab63fa",
          "dash": "solid"
         },
         "marker": {
          "symbol": "circle"
         },
         "mode": "lines",
         "name": "2973",
         "showlegend": true,
         "type": "scattergl",
         "x": [
          3
         ],
         "xaxis": "x",
         "y": [
          9.136363636363637
         ],
         "yaxis": "y"
        },
        {
         "hovertemplate": "item_id=11365<br>year=2013<br>week=%{x}<br>average_weekly_sales=%{y}<extra></extra>",
         "legendgroup": "11365",
         "line": {
          "color": "#FFA15A",
          "dash": "solid"
         },
         "marker": {
          "symbol": "circle"
         },
         "mode": "lines",
         "name": "11365",
         "showlegend": true,
         "type": "scattergl",
         "x": [
          3,
          5,
          6,
          10,
          11,
          12,
          13,
          18,
          22,
          26,
          27,
          44,
          47,
          48,
          51
         ],
         "xaxis": "x",
         "y": [
          12,
          16,
          12,
          15,
          18,
          11,
          12,
          10,
          13,
          15,
          11,
          22,
          106,
          59,
          15
         ],
         "yaxis": "y"
        },
        {
         "hovertemplate": "item_id=11365<br>year=2014<br>week=%{x}<br>average_weekly_sales=%{y}<extra></extra>",
         "legendgroup": "11365",
         "line": {
          "color": "#FFA15A",
          "dash": "solid"
         },
         "marker": {
          "symbol": "circle"
         },
         "mode": "lines",
         "name": "11365",
         "showlegend": false,
         "type": "scattergl",
         "x": [
          6,
          9,
          10,
          12,
          13,
          22,
          47,
          48,
          50,
          51,
          52
         ],
         "xaxis": "x2",
         "y": [
          25,
          19,
          10,
          30,
          16,
          14,
          13,
          13,
          11,
          11,
          14
         ],
         "yaxis": "y2"
        },
        {
         "hovertemplate": "item_id=11365<br>year=2015<br>week=%{x}<br>average_weekly_sales=%{y}<extra></extra>",
         "legendgroup": "11365",
         "line": {
          "color": "#FFA15A",
          "dash": "solid"
         },
         "marker": {
          "symbol": "circle"
         },
         "mode": "lines",
         "name": "11365",
         "showlegend": false,
         "type": "scattergl",
         "x": [
          7,
          16,
          21,
          43
         ],
         "xaxis": "x3",
         "y": [
          16,
          21,
          49,
          14
         ],
         "yaxis": "y3"
        },
        {
         "hovertemplate": "item_id=11369<br>year=2013<br>week=%{x}<br>average_weekly_sales=%{y}<extra></extra>",
         "legendgroup": "11369",
         "line": {
          "color": "#19d3f3",
          "dash": "solid"
         },
         "marker": {
          "symbol": "circle"
         },
         "mode": "lines",
         "name": "11369",
         "showlegend": true,
         "type": "scattergl",
         "x": [
          3,
          6,
          7,
          8,
          10,
          11,
          13,
          15,
          20,
          32,
          35,
          36,
          39,
          43,
          44,
          47,
          48,
          49,
          50,
          51,
          52
         ],
         "xaxis": "x",
         "y": [
          21,
          13,
          13,
          16,
          11,
          22,
          10,
          22,
          10,
          10,
          12,
          12,
          11,
          18,
          82,
          211,
          41,
          22,
          20,
          36,
          11
         ],
         "yaxis": "y"
        },
        {
         "hovertemplate": "item_id=11369<br>year=2014<br>week=%{x}<br>average_weekly_sales=%{y}<extra></extra>",
         "legendgroup": "11369",
         "line": {
          "color": "#19d3f3",
          "dash": "solid"
         },
         "marker": {
          "symbol": "circle"
         },
         "mode": "lines",
         "name": "11369",
         "showlegend": false,
         "type": "scattergl",
         "x": [
          3,
          4,
          5,
          6,
          8,
          9,
          10,
          12,
          13,
          14,
          15,
          16,
          20,
          21,
          22,
          23,
          30,
          31,
          34,
          36,
          39,
          42,
          43,
          45,
          46,
          47,
          48,
          49,
          50,
          51,
          52
         ],
         "xaxis": "x2",
         "y": [
          18,
          13,
          11,
          17,
          28,
          25,
          35,
          48,
          13,
          12,
          45,
          32,
          13,
          23,
          96,
          14,
          19,
          12,
          10,
          19,
          22,
          15,
          10,
          34,
          69,
          108,
          47,
          31,
          22,
          15,
          18
         ],
         "yaxis": "y2"
        },
        {
         "hovertemplate": "item_id=11369<br>year=2015<br>week=%{x}<br>average_weekly_sales=%{y}<extra></extra>",
         "legendgroup": "11369",
         "line": {
          "color": "#19d3f3",
          "dash": "solid"
         },
         "marker": {
          "symbol": "circle"
         },
         "mode": "lines",
         "name": "11369",
         "showlegend": false,
         "type": "scattergl",
         "x": [
          1,
          3,
          6,
          7,
          8,
          9,
          10,
          13,
          15,
          16,
          17,
          20,
          21,
          22,
          23,
          26,
          28,
          29,
          37,
          38,
          39,
          40,
          42,
          43
         ],
         "xaxis": "x3",
         "y": [
          16,
          22,
          11,
          11,
          11,
          10,
          18,
          26,
          13,
          116,
          45,
          14,
          270,
          51,
          17,
          15,
          34,
          23,
          17,
          11,
          13,
          32,
          10,
          10
         ],
         "yaxis": "y3"
        },
        {
         "hovertemplate": "item_id=11370<br>year=2013<br>week=%{x}<br>average_weekly_sales=%{y}<extra></extra>",
         "legendgroup": "11370",
         "line": {
          "color": "#FF6692",
          "dash": "solid"
         },
         "marker": {
          "symbol": "circle"
         },
         "mode": "lines",
         "name": "11370",
         "showlegend": true,
         "type": "scattergl",
         "x": [
          3,
          4,
          5,
          7,
          8,
          9,
          11,
          12,
          13,
          14,
          15,
          17,
          18,
          21,
          23,
          25,
          26,
          28,
          31,
          33,
          35,
          38,
          42,
          43,
          44,
          46,
          47,
          48,
          49,
          50,
          51,
          52
         ],
         "xaxis": "x",
         "y": [
          22,
          22,
          14,
          20,
          34,
          21,
          25,
          25,
          18,
          14,
          21,
          19,
          10,
          13,
          11,
          16,
          13,
          13,
          13,
          11,
          10,
          11,
          10,
          14,
          26,
          17,
          76,
          39,
          34,
          39,
          48,
          36
         ],
         "yaxis": "y"
        },
        {
         "hovertemplate": "item_id=11370<br>year=2014<br>week=%{x}<br>average_weekly_sales=%{y}<extra></extra>",
         "legendgroup": "11370",
         "line": {
          "color": "#FF6692",
          "dash": "solid"
         },
         "marker": {
          "symbol": "circle"
         },
         "mode": "lines",
         "name": "11370",
         "showlegend": false,
         "type": "scattergl",
         "x": [
          2,
          3,
          5,
          6,
          7,
          8,
          9,
          10,
          11,
          12,
          13,
          14,
          15,
          16,
          17,
          18,
          19,
          20,
          21,
          22,
          23,
          24,
          25,
          26,
          27,
          28,
          29,
          30,
          31,
          33,
          34,
          35,
          36,
          37,
          38,
          39,
          40,
          41,
          42,
          43,
          44,
          45,
          46,
          47,
          48,
          49,
          50,
          51,
          52
         ],
         "xaxis": "x2",
         "y": [
          10,
          17,
          21,
          23,
          16,
          37,
          35,
          13,
          12,
          212,
          140,
          55,
          64,
          70,
          45,
          14,
          12,
          33,
          16,
          185,
          19,
          12,
          32,
          35,
          28,
          18,
          20,
          28,
          26,
          23,
          45,
          44,
          66,
          37,
          41,
          72,
          34,
          50,
          57,
          37,
          55,
          75,
          226,
          344,
          102,
          104,
          85,
          151,
          207
         ],
         "yaxis": "y2"
        },
        {
         "hovertemplate": "item_id=11370<br>year=2015<br>week=%{x}<br>average_weekly_sales=%{y}<extra></extra>",
         "legendgroup": "11370",
         "line": {
          "color": "#FF6692",
          "dash": "solid"
         },
         "marker": {
          "symbol": "circle"
         },
         "mode": "lines",
         "name": "11370",
         "showlegend": false,
         "type": "scattergl",
         "x": [
          53,
          3,
          4,
          5,
          6,
          7,
          8,
          9,
          10,
          11,
          12,
          13,
          14,
          15,
          16,
          17,
          18,
          20,
          21,
          22,
          23,
          24,
          25,
          26,
          27,
          28,
          29,
          30,
          32,
          33,
          34,
          35,
          36,
          37,
          38,
          39,
          40,
          41,
          42,
          43,
          44
         ],
         "xaxis": "x3",
         "y": [
          54,
          103,
          39,
          44,
          46,
          45,
          48,
          56,
          30,
          33,
          26,
          55,
          32,
          15,
          207,
          64,
          32,
          19,
          465,
          88,
          31,
          20,
          20,
          34,
          23,
          50,
          36,
          11,
          15,
          14,
          24,
          32,
          64,
          24,
          50,
          31,
          111,
          35,
          23,
          19,
          26
         ],
         "yaxis": "y3"
        },
        {
         "hovertemplate": "item_id=2972<br>year=2013<br>week=%{x}<br>average_weekly_sales=%{y}<extra></extra>",
         "legendgroup": "2972",
         "line": {
          "color": "#B6E880",
          "dash": "solid"
         },
         "marker": {
          "symbol": "circle"
         },
         "mode": "lines",
         "name": "2972",
         "showlegend": true,
         "type": "scattergl",
         "x": [
          4
         ],
         "xaxis": "x",
         "y": [
          11.13953488372093
         ],
         "yaxis": "y"
        },
        {
         "hovertemplate": "item_id=19811<br>year=2013<br>week=%{x}<br>average_weekly_sales=%{y}<extra></extra>",
         "legendgroup": "19811",
         "line": {
          "color": "#FF97FF",
          "dash": "solid"
         },
         "marker": {
          "symbol": "circle"
         },
         "mode": "lines",
         "name": "19811",
         "showlegend": true,
         "type": "scattergl",
         "x": [
          4,
          5
         ],
         "xaxis": "x",
         "y": [
          12.131578947368421,
          9.857142857142858
         ],
         "yaxis": "y"
        },
        {
         "hovertemplate": "item_id=6736<br>year=2013<br>week=%{x}<br>average_weekly_sales=%{y}<extra></extra>",
         "legendgroup": "6736",
         "line": {
          "color": "#FECB52",
          "dash": "solid"
         },
         "marker": {
          "symbol": "circle"
         },
         "mode": "lines",
         "name": "6736",
         "showlegend": true,
         "type": "scattergl",
         "x": [
          5
         ],
         "xaxis": "x",
         "y": [
          30
         ],
         "yaxis": "y"
        },
        {
         "hovertemplate": "item_id=2749<br>year=2013<br>week=%{x}<br>average_weekly_sales=%{y}<extra></extra>",
         "legendgroup": "2749",
         "line": {
          "color": "#636efa",
          "dash": "solid"
         },
         "marker": {
          "symbol": "circle"
         },
         "mode": "lines",
         "name": "2749",
         "showlegend": true,
         "type": "scattergl",
         "x": [
          6
         ],
         "xaxis": "x",
         "y": [
          19.59090909090909
         ],
         "yaxis": "y"
        },
        {
         "hovertemplate": "item_id=2750<br>year=2013<br>week=%{x}<br>average_weekly_sales=%{y}<extra></extra>",
         "legendgroup": "2750",
         "line": {
          "color": "#EF553B",
          "dash": "solid"
         },
         "marker": {
          "symbol": "circle"
         },
         "mode": "lines",
         "name": "2750",
         "showlegend": true,
         "type": "scattergl",
         "x": [
          6
         ],
         "xaxis": "x",
         "y": [
          9.977272727272727
         ],
         "yaxis": "y"
        },
        {
         "hovertemplate": "item_id=2753<br>year=2013<br>week=%{x}<br>average_weekly_sales=%{y}<extra></extra>",
         "legendgroup": "2753",
         "line": {
          "color": "#00cc96",
          "dash": "solid"
         },
         "marker": {
          "symbol": "circle"
         },
         "mode": "lines",
         "name": "2753",
         "showlegend": true,
         "type": "scattergl",
         "x": [
          6
         ],
         "xaxis": "x",
         "y": [
          15.2
         ],
         "yaxis": "y"
        },
        {
         "hovertemplate": "item_id=30<br>year=2013<br>week=%{x}<br>average_weekly_sales=%{y}<extra></extra>",
         "legendgroup": "30",
         "line": {
          "color": "#ab63fa",
          "dash": "solid"
         },
         "marker": {
          "symbol": "circle"
         },
         "mode": "lines",
         "name": "30",
         "showlegend": true,
         "type": "scattergl",
         "x": [
          7
         ],
         "xaxis": "x",
         "y": [
          10.488888888888889
         ],
         "yaxis": "y"
        },
        {
         "hovertemplate": "item_id=31<br>year=2013<br>week=%{x}<br>average_weekly_sales=%{y}<extra></extra>",
         "legendgroup": "31",
         "line": {
          "color": "#FFA15A",
          "dash": "solid"
         },
         "marker": {
          "symbol": "circle"
         },
         "mode": "lines",
         "name": "31",
         "showlegend": true,
         "type": "scattergl",
         "x": [
          7
         ],
         "xaxis": "x",
         "y": [
          9.022222222222222
         ],
         "yaxis": "y"
        },
        {
         "hovertemplate": "item_id=1398<br>year=2013<br>week=%{x}<br>average_weekly_sales=%{y}<extra></extra>",
         "legendgroup": "1398",
         "line": {
          "color": "#19d3f3",
          "dash": "solid"
         },
         "marker": {
          "symbol": "circle"
         },
         "mode": "lines",
         "name": "1398",
         "showlegend": true,
         "type": "scattergl",
         "x": [
          7
         ],
         "xaxis": "x",
         "y": [
          9.152173913043478
         ],
         "yaxis": "y"
        },
        {
         "hovertemplate": "item_id=1402<br>year=2013<br>week=%{x}<br>average_weekly_sales=%{y}<extra></extra>",
         "legendgroup": "1402",
         "line": {
          "color": "#FF6692",
          "dash": "solid"
         },
         "marker": {
          "symbol": "circle"
         },
         "mode": "lines",
         "name": "1402",
         "showlegend": true,
         "type": "scattergl",
         "x": [
          7
         ],
         "xaxis": "x",
         "y": [
          9.025641025641026
         ],
         "yaxis": "y"
        },
        {
         "hovertemplate": "item_id=2445<br>year=2013<br>week=%{x}<br>average_weekly_sales=%{y}<extra></extra>",
         "legendgroup": "2445",
         "line": {
          "color": "#B6E880",
          "dash": "solid"
         },
         "marker": {
          "symbol": "circle"
         },
         "mode": "lines",
         "name": "2445",
         "showlegend": true,
         "type": "scattergl",
         "x": [
          8,
          9
         ],
         "xaxis": "x",
         "y": [
          29.630434782608695,
          9.75
         ],
         "yaxis": "y"
        },
        {
         "hovertemplate": "item_id=2448<br>year=2013<br>week=%{x}<br>average_weekly_sales=%{y}<extra></extra>",
         "legendgroup": "2448",
         "line": {
          "color": "#FF97FF",
          "dash": "solid"
         },
         "marker": {
          "symbol": "circle"
         },
         "mode": "lines",
         "name": "2448",
         "showlegend": true,
         "type": "scattergl",
         "x": [
          8
         ],
         "xaxis": "x",
         "y": [
          19.4
         ],
         "yaxis": "y"
        },
        {
         "hovertemplate": "item_id=6455<br>year=2013<br>week=%{x}<br>average_weekly_sales=%{y}<extra></extra>",
         "legendgroup": "6455",
         "line": {
          "color": "#FECB52",
          "dash": "solid"
         },
         "marker": {
          "symbol": "circle"
         },
         "mode": "lines",
         "name": "6455",
         "showlegend": true,
         "type": "scattergl",
         "x": [
          10
         ],
         "xaxis": "x",
         "y": [
          12.790697674418604
         ],
         "yaxis": "y"
        },
        {
         "hovertemplate": "item_id=6500<br>year=2013<br>week=%{x}<br>average_weekly_sales=%{y}<extra></extra>",
         "legendgroup": "6500",
         "line": {
          "color": "#636efa",
          "dash": "solid"
         },
         "marker": {
          "symbol": "circle"
         },
         "mode": "lines",
         "name": "6500",
         "showlegend": true,
         "type": "scattergl",
         "x": [
          10
         ],
         "xaxis": "x",
         "y": [
          11.69767441860465
         ],
         "yaxis": "y"
        },
        {
         "hovertemplate": "item_id=7068<br>year=2013<br>week=%{x}<br>average_weekly_sales=%{y}<extra></extra>",
         "legendgroup": "7068",
         "line": {
          "color": "#EF553B",
          "dash": "solid"
         },
         "marker": {
          "symbol": "circle"
         },
         "mode": "lines",
         "name": "7068",
         "showlegend": true,
         "type": "scattergl",
         "x": [
          10
         ],
         "xaxis": "x",
         "y": [
          18.108695652173914
         ],
         "yaxis": "y"
        },
        {
         "hovertemplate": "item_id=7070<br>year=2013<br>week=%{x}<br>average_weekly_sales=%{y}<extra></extra>",
         "legendgroup": "7070",
         "line": {
          "color": "#00cc96",
          "dash": "solid"
         },
         "marker": {
          "symbol": "circle"
         },
         "mode": "lines",
         "name": "7070",
         "showlegend": true,
         "type": "scattergl",
         "x": [
          10
         ],
         "xaxis": "x",
         "y": [
          18.97826086956522
         ],
         "yaxis": "y"
        },
        {
         "hovertemplate": "item_id=11867<br>year=2013<br>week=%{x}<br>average_weekly_sales=%{y}<extra></extra>",
         "legendgroup": "11867",
         "line": {
          "color": "#ab63fa",
          "dash": "solid"
         },
         "marker": {
          "symbol": "circle"
         },
         "mode": "lines",
         "name": "11867",
         "showlegend": true,
         "type": "scattergl",
         "x": [
          10
         ],
         "xaxis": "x",
         "y": [
          10
         ],
         "yaxis": "y"
        },
        {
         "hovertemplate": "item_id=3697<br>year=2013<br>week=%{x}<br>average_weekly_sales=%{y}<extra></extra>",
         "legendgroup": "3697",
         "line": {
          "color": "#FFA15A",
          "dash": "solid"
         },
         "marker": {
          "symbol": "circle"
         },
         "mode": "lines",
         "name": "3697",
         "showlegend": true,
         "type": "scattergl",
         "x": [
          11
         ],
         "xaxis": "x",
         "y": [
          13.142857142857142
         ],
         "yaxis": "y"
        },
        {
         "hovertemplate": "item_id=6738<br>year=2013<br>week=%{x}<br>average_weekly_sales=%{y}<extra></extra>",
         "legendgroup": "6738",
         "line": {
          "color": "#19d3f3",
          "dash": "solid"
         },
         "marker": {
          "symbol": "circle"
         },
         "mode": "lines",
         "name": "6738",
         "showlegend": true,
         "type": "scattergl",
         "x": [
          11,
          12,
          13
         ],
         "xaxis": "x",
         "y": [
          50.891304347826086,
          15.804347826086957,
          9.688888888888888
         ],
         "yaxis": "y"
        },
        {
         "hovertemplate": "item_id=6739<br>year=2013<br>week=%{x}<br>average_weekly_sales=%{y}<extra></extra>",
         "legendgroup": "6739",
         "line": {
          "color": "#FF6692",
          "dash": "solid"
         },
         "marker": {
          "symbol": "circle"
         },
         "mode": "lines",
         "name": "6739",
         "showlegend": true,
         "type": "scattergl",
         "x": [
          11
         ],
         "xaxis": "x",
         "y": [
          11.883720930232558
         ],
         "yaxis": "y"
        },
        {
         "hovertemplate": "item_id=6740<br>year=2013<br>week=%{x}<br>average_weekly_sales=%{y}<extra></extra>",
         "legendgroup": "6740",
         "line": {
          "color": "#B6E880",
          "dash": "solid"
         },
         "marker": {
          "symbol": "circle"
         },
         "mode": "lines",
         "name": "6740",
         "showlegend": true,
         "type": "scattergl",
         "x": [
          11
         ],
         "xaxis": "x",
         "y": [
          10.777777777777779
         ],
         "yaxis": "y"
        },
        {
         "hovertemplate": "item_id=11373<br>year=2013<br>week=%{x}<br>average_weekly_sales=%{y}<extra></extra>",
         "legendgroup": "11373",
         "line": {
          "color": "#FF97FF",
          "dash": "solid"
         },
         "marker": {
          "symbol": "circle"
         },
         "mode": "lines",
         "name": "11373",
         "showlegend": true,
         "type": "scattergl",
         "x": [
          11,
          25,
          35,
          36,
          41,
          44,
          47,
          48,
          49,
          50,
          51
         ],
         "xaxis": "x",
         "y": [
          18,
          11,
          22,
          12,
          11,
          29,
          248,
          117,
          16,
          19,
          34
         ],
         "yaxis": "y"
        },
        {
         "hovertemplate": "item_id=11373<br>year=2014<br>week=%{x}<br>average_weekly_sales=%{y}<extra></extra>",
         "legendgroup": "11373",
         "line": {
          "color": "#FF97FF",
          "dash": "solid"
         },
         "marker": {
          "symbol": "circle"
         },
         "mode": "lines",
         "name": "11373",
         "showlegend": false,
         "type": "scattergl",
         "x": [
          3,
          5,
          6,
          8,
          9,
          10,
          12,
          13,
          14,
          16,
          19,
          21,
          22,
          23,
          25,
          33,
          34,
          36,
          37,
          38,
          39,
          40,
          41,
          42,
          44,
          45,
          46,
          47,
          48,
          49,
          50,
          51,
          52
         ],
         "xaxis": "x2",
         "y": [
          13,
          10,
          71,
          64,
          65,
          20,
          105,
          22,
          41,
          37,
          19,
          11,
          109,
          27,
          10,
          10,
          12,
          23,
          12,
          12,
          43,
          16,
          23,
          17,
          11,
          31,
          101,
          130,
          46,
          63,
          53,
          63,
          69
         ],
         "yaxis": "y2"
        },
        {
         "hovertemplate": "item_id=11373<br>year=2015<br>week=%{x}<br>average_weekly_sales=%{y}<extra></extra>",
         "legendgroup": "11373",
         "line": {
          "color": "#FF97FF",
          "dash": "solid"
         },
         "marker": {
          "symbol": "circle"
         },
         "mode": "lines",
         "name": "11373",
         "showlegend": false,
         "type": "scattergl",
         "x": [
          53,
          2,
          3,
          4,
          5,
          6,
          7,
          8,
          9,
          10,
          11,
          12,
          13,
          14,
          15,
          16,
          17,
          18,
          19,
          20,
          21,
          22,
          23,
          24,
          25,
          26,
          27,
          28,
          29,
          30,
          31,
          32,
          33,
          34,
          35,
          36,
          37,
          38,
          39,
          40,
          41,
          42,
          43,
          44
         ],
         "xaxis": "x3",
         "y": [
          17,
          11,
          41,
          41,
          40,
          22,
          30,
          31,
          34,
          21,
          20,
          22,
          75,
          17,
          14,
          176,
          78,
          16,
          10,
          16,
          605,
          111,
          64,
          49,
          32,
          45,
          21,
          110,
          35,
          26,
          21,
          13,
          12,
          22,
          21,
          58,
          36,
          40,
          21,
          104,
          24,
          33,
          14,
          2176
         ],
         "yaxis": "y3"
        },
        {
         "hovertemplate": "item_id=14574<br>year=2013<br>week=%{x}<br>average_weekly_sales=%{y}<extra></extra>",
         "legendgroup": "14574",
         "line": {
          "color": "#FECB52",
          "dash": "solid"
         },
         "marker": {
          "symbol": "circle"
         },
         "mode": "lines",
         "name": "14574",
         "showlegend": true,
         "type": "scattergl",
         "x": [
          11
         ],
         "xaxis": "x",
         "y": [
          9.15
         ],
         "yaxis": "y"
        },
        {
         "hovertemplate": "item_id=19196<br>year=2013<br>week=%{x}<br>average_weekly_sales=%{y}<extra></extra>",
         "legendgroup": "19196",
         "line": {
          "color": "#636efa",
          "dash": "solid"
         },
         "marker": {
          "symbol": "circle"
         },
         "mode": "lines",
         "name": "19196",
         "showlegend": true,
         "type": "scattergl",
         "x": [
          11
         ],
         "xaxis": "x",
         "y": [
          11.418604651162791
         ],
         "yaxis": "y"
        },
        {
         "hovertemplate": "item_id=6121<br>year=2013<br>week=%{x}<br>average_weekly_sales=%{y}<extra></extra>",
         "legendgroup": "6121",
         "line": {
          "color": "#EF553B",
          "dash": "solid"
         },
         "marker": {
          "symbol": "circle"
         },
         "mode": "lines",
         "name": "6121",
         "showlegend": true,
         "type": "scattergl",
         "x": [
          12,
          13
         ],
         "xaxis": "x",
         "y": [
          12.868421052631579,
          9.28888888888889
         ],
         "yaxis": "y"
        },
        {
         "hovertemplate": "item_id=21440<br>year=2013<br>week=%{x}<br>average_weekly_sales=%{y}<extra></extra>",
         "legendgroup": "21440",
         "line": {
          "color": "#00cc96",
          "dash": "solid"
         },
         "marker": {
          "symbol": "circle"
         },
         "mode": "lines",
         "name": "21440",
         "showlegend": true,
         "type": "scattergl",
         "x": [
          12,
          13
         ],
         "xaxis": "x",
         "y": [
          10.676470588235293,
          9.295454545454545
         ],
         "yaxis": "y"
        },
        {
         "hovertemplate": "item_id=1939<br>year=2013<br>week=%{x}<br>average_weekly_sales=%{y}<extra></extra>",
         "legendgroup": "1939",
         "line": {
          "color": "#ab63fa",
          "dash": "solid"
         },
         "marker": {
          "symbol": "circle"
         },
         "mode": "lines",
         "name": "1939",
         "showlegend": true,
         "type": "scattergl",
         "x": [
          13
         ],
         "xaxis": "x",
         "y": [
          30
         ],
         "yaxis": "y"
        },
        {
         "hovertemplate": "item_id=6954<br>year=2013<br>week=%{x}<br>average_weekly_sales=%{y}<extra></extra>",
         "legendgroup": "6954",
         "line": {
          "color": "#FFA15A",
          "dash": "solid"
         },
         "marker": {
          "symbol": "circle"
         },
         "mode": "lines",
         "name": "6954",
         "showlegend": true,
         "type": "scattergl",
         "x": [
          14
         ],
         "xaxis": "x",
         "y": [
          11.024390243902438
         ],
         "yaxis": "y"
        },
        {
         "hovertemplate": "item_id=21376<br>year=2013<br>week=%{x}<br>average_weekly_sales=%{y}<extra></extra>",
         "legendgroup": "21376",
         "line": {
          "color": "#19d3f3",
          "dash": "solid"
         },
         "marker": {
          "symbol": "circle"
         },
         "mode": "lines",
         "name": "21376",
         "showlegend": true,
         "type": "scattergl",
         "x": [
          15,
          16
         ],
         "xaxis": "x",
         "y": [
          12.954545454545455,
          9.953488372093023
         ],
         "yaxis": "y"
        },
        {
         "hovertemplate": "item_id=3938<br>year=2013<br>week=%{x}<br>average_weekly_sales=%{y}<extra></extra>",
         "legendgroup": "3938",
         "line": {
          "color": "#FF6692",
          "dash": "solid"
         },
         "marker": {
          "symbol": "circle"
         },
         "mode": "lines",
         "name": "3938",
         "showlegend": true,
         "type": "scattergl",
         "x": [
          16
         ],
         "xaxis": "x",
         "y": [
          13.235294117647058
         ],
         "yaxis": "y"
        },
        {
         "hovertemplate": "item_id=22076<br>year=2013<br>week=%{x}<br>average_weekly_sales=%{y}<extra></extra>",
         "legendgroup": "22076",
         "line": {
          "color": "#B6E880",
          "dash": "solid"
         },
         "marker": {
          "symbol": "circle"
         },
         "mode": "lines",
         "name": "22076",
         "showlegend": true,
         "type": "scattergl",
         "x": [
          16
         ],
         "xaxis": "x",
         "y": [
          11.439024390243903
         ],
         "yaxis": "y"
        },
        {
         "hovertemplate": "item_id=16832<br>year=2013<br>week=%{x}<br>average_weekly_sales=%{y}<extra></extra>",
         "legendgroup": "16832",
         "line": {
          "color": "#FF97FF",
          "dash": "solid"
         },
         "marker": {
          "symbol": "circle"
         },
         "mode": "lines",
         "name": "16832",
         "showlegend": true,
         "type": "scattergl",
         "x": [
          17,
          51
         ],
         "xaxis": "x",
         "y": [
          9.25,
          11
         ],
         "yaxis": "y"
        },
        {
         "hovertemplate": "item_id=20949<br>year=2013<br>week=%{x}<br>average_weekly_sales=%{y}<extra></extra>",
         "legendgroup": "20949",
         "line": {
          "color": "#FECB52",
          "dash": "solid"
         },
         "marker": {
          "symbol": "circle"
         },
         "mode": "lines",
         "name": "20949",
         "showlegend": true,
         "type": "scattergl",
         "x": [
          17,
          18,
          19,
          20,
          21,
          22,
          23,
          24,
          25,
          26,
          27,
          28,
          29,
          30,
          31,
          32,
          33,
          34,
          35,
          36,
          37,
          38,
          39,
          40,
          41,
          42,
          43,
          44,
          45,
          46,
          47,
          48,
          49,
          50,
          51,
          52
         ],
         "xaxis": "x",
         "y": [
          10.133333333333333,
          24.08,
          20.833333333333332,
          23.235294117647058,
          27.86111111111111,
          36.23809523809524,
          46.38095238095238,
          48.395348837209305,
          43.06976744186046,
          42.58139534883721,
          39.18181818181818,
          39.642857142857146,
          38.604651162790695,
          38.04651162790697,
          37.372093023255815,
          35.829268292682926,
          36.707317073170735,
          41.73809523809524,
          45.609756097560975,
          50.666666666666664,
          39.65853658536585,
          49.55,
          39.16279069767442,
          40.23255813953488,
          40.13953488372093,
          41.27906976744186,
          39.53488372093023,
          52.48837209302326,
          51.93023255813954,
          40.627906976744185,
          43.604651162790695,
          41.48837209302326,
          43.06976744186046,
          47.93023255813954,
          55.627906976744185,
          91.81818181818181
         ],
         "yaxis": "y"
        },
        {
         "hovertemplate": "item_id=20949<br>year=2014<br>week=%{x}<br>average_weekly_sales=%{y}<extra></extra>",
         "legendgroup": "20949",
         "line": {
          "color": "#FECB52",
          "dash": "solid"
         },
         "marker": {
          "symbol": "circle"
         },
         "mode": "lines",
         "name": "20949",
         "showlegend": false,
         "type": "scattergl",
         "x": [
          53,
          1,
          2,
          3,
          4,
          5,
          6,
          7,
          8,
          9,
          10,
          11,
          12,
          13,
          14,
          15,
          16,
          17,
          18,
          19,
          20,
          21,
          22,
          23,
          24,
          25,
          26,
          27,
          28,
          29,
          30,
          31,
          32,
          33,
          34,
          35,
          36,
          37,
          38,
          39,
          40,
          41,
          42,
          43,
          44,
          45,
          46,
          47,
          48,
          49,
          50,
          51,
          52
         ],
         "xaxis": "x2",
         "y": [
          42.29545454545455,
          44.74418604651163,
          41.47727272727273,
          31.348837209302324,
          32.48837209302326,
          34.627906976744185,
          35.72093023255814,
          37.5,
          45.41860465116279,
          33.15909090909091,
          39.37777777777778,
          44.55555555555556,
          37.111111111111114,
          33.22222222222222,
          29.2,
          34.37777777777778,
          31.68888888888889,
          27.47826086956522,
          28.108695652173914,
          26.26086956521739,
          22.543478260869566,
          29.217391304347824,
          36.108695652173914,
          25.8,
          33.93333333333333,
          33.87234042553192,
          43.73913043478261,
          27.95744680851064,
          32.48936170212766,
          27.659574468085108,
          27.695652173913043,
          27.895833333333332,
          26.5625,
          29.70212765957447,
          31.382978723404257,
          32.229166666666664,
          31.625,
          37.06521739130435,
          30.782608695652176,
          34.61702127659574,
          33.59574468085106,
          34.638297872340424,
          30.1875,
          30.333333333333332,
          29.23404255319149,
          38.91489361702128,
          40.04255319148936,
          39.319148936170215,
          33.21739130434783,
          33.5625,
          37.5,
          60.12765957446808,
          72.56521739130434
         ],
         "yaxis": "y2"
        },
        {
         "hovertemplate": "item_id=20949<br>year=2015<br>week=%{x}<br>average_weekly_sales=%{y}<extra></extra>",
         "legendgroup": "20949",
         "line": {
          "color": "#FECB52",
          "dash": "solid"
         },
         "marker": {
          "symbol": "circle"
         },
         "mode": "lines",
         "name": "20949",
         "showlegend": false,
         "type": "scattergl",
         "x": [
          53,
          1,
          2,
          3,
          4,
          5,
          6,
          7,
          8,
          9,
          10,
          11,
          12,
          13,
          14,
          15,
          16,
          17,
          18,
          19,
          20,
          21,
          22,
          23,
          24,
          25,
          26,
          27,
          28,
          29,
          30,
          31,
          32,
          33,
          34,
          35,
          36,
          37,
          38,
          39,
          40,
          41,
          42,
          43,
          44
         ],
         "xaxis": "x3",
         "y": [
          59.666666666666664,
          37.11363636363637,
          47.76744186046512,
          57.08695652173913,
          20.976744186046513,
          19.7,
          20.105263157894736,
          20.57894736842105,
          25.97222222222222,
          16.25,
          14.903225806451612,
          14.333333333333334,
          11.607142857142858,
          16.178571428571427,
          16.5,
          20.864864864864863,
          42.270270270270274,
          24.44736842105263,
          23.45945945945946,
          18.57894736842105,
          16.875,
          30.342105263157894,
          20.53846153846154,
          21,
          22.942857142857143,
          22.6,
          23.63157894736842,
          21.37837837837838,
          19.210526315789473,
          20.743589743589745,
          19.435897435897434,
          17.57894736842105,
          18.64864864864865,
          19.756756756756758,
          26.77777777777778,
          22.17948717948718,
          22.675675675675677,
          22,
          20.7027027027027,
          20.641025641025642,
          20.13157894736842,
          22.675675675675677,
          35.8421052631579,
          21.43243243243243,
          15.435897435897436
         ],
         "yaxis": "y3"
        },
        {
         "hovertemplate": "item_id=1828<br>year=2013<br>week=%{x}<br>average_weekly_sales=%{y}<extra></extra>",
         "legendgroup": "1828",
         "line": {
          "color": "#636efa",
          "dash": "solid"
         },
         "marker": {
          "symbol": "circle"
         },
         "mode": "lines",
         "name": "1828",
         "showlegend": true,
         "type": "scattergl",
         "x": [
          18
         ],
         "xaxis": "x",
         "y": [
          17
         ],
         "yaxis": "y"
        },
        {
         "hovertemplate": "item_id=4799<br>year=2013<br>week=%{x}<br>average_weekly_sales=%{y}<extra></extra>",
         "legendgroup": "4799",
         "line": {
          "color": "#EF553B",
          "dash": "solid"
         },
         "marker": {
          "symbol": "circle"
         },
         "mode": "lines",
         "name": "4799",
         "showlegend": true,
         "type": "scattergl",
         "x": [
          18
         ],
         "xaxis": "x",
         "y": [
          13
         ],
         "yaxis": "y"
        },
        {
         "hovertemplate": "item_id=9768<br>year=2013<br>week=%{x}<br>average_weekly_sales=%{y}<extra></extra>",
         "legendgroup": "9768",
         "line": {
          "color": "#00cc96",
          "dash": "solid"
         },
         "marker": {
          "symbol": "circle"
         },
         "mode": "lines",
         "name": "9768",
         "showlegend": true,
         "type": "scattergl",
         "x": [
          18
         ],
         "xaxis": "x",
         "y": [
          15
         ],
         "yaxis": "y"
        },
        {
         "hovertemplate": "item_id=492<br>year=2013<br>week=%{x}<br>average_weekly_sales=%{y}<extra></extra>",
         "legendgroup": "492",
         "line": {
          "color": "#ab63fa",
          "dash": "solid"
         },
         "marker": {
          "symbol": "circle"
         },
         "mode": "lines",
         "name": "492",
         "showlegend": true,
         "type": "scattergl",
         "x": [
          19,
          23,
          24,
          25,
          26,
          27,
          30,
          31,
          32,
          33,
          34,
          36,
          37,
          38,
          39,
          40,
          41,
          42,
          43,
          44,
          45,
          46,
          48,
          49,
          50,
          51,
          52
         ],
         "xaxis": "x",
         "y": [
          10,
          10,
          11,
          29,
          18,
          27,
          14,
          12,
          29,
          15,
          14,
          21,
          15,
          28,
          13,
          15,
          16,
          12,
          19,
          15,
          74,
          27,
          16,
          19,
          22,
          23,
          19
         ],
         "yaxis": "y"
        },
        {
         "hovertemplate": "item_id=492<br>year=2014<br>week=%{x}<br>average_weekly_sales=%{y}<extra></extra>",
         "legendgroup": "492",
         "line": {
          "color": "#ab63fa",
          "dash": "solid"
         },
         "marker": {
          "symbol": "circle"
         },
         "mode": "lines",
         "name": "492",
         "showlegend": false,
         "type": "scattergl",
         "x": [
          1,
          2,
          3,
          4,
          5,
          6,
          7,
          8,
          10,
          11,
          12,
          13,
          14,
          15,
          17,
          18,
          19,
          20,
          21,
          22,
          23,
          24,
          26,
          27,
          28,
          29,
          31,
          32,
          35,
          38,
          39,
          40,
          41,
          42,
          43,
          44,
          45,
          46,
          47,
          48,
          49,
          50,
          51,
          52
         ],
         "xaxis": "x2",
         "y": [
          15,
          42,
          27,
          22,
          20,
          13,
          21,
          13,
          15,
          39,
          15,
          14,
          24,
          22,
          15,
          15,
          10,
          17,
          11,
          10,
          21,
          10,
          14,
          13,
          13,
          14,
          11,
          15,
          15,
          20,
          25,
          18,
          20,
          13,
          13,
          28,
          19,
          18,
          19,
          17,
          19,
          21,
          20,
          12
         ],
         "yaxis": "y2"
        },
        {
         "hovertemplate": "item_id=492<br>year=2015<br>week=%{x}<br>average_weekly_sales=%{y}<extra></extra>",
         "legendgroup": "492",
         "line": {
          "color": "#ab63fa",
          "dash": "solid"
         },
         "marker": {
          "symbol": "circle"
         },
         "mode": "lines",
         "name": "492",
         "showlegend": false,
         "type": "scattergl",
         "x": [
          1,
          2,
          3,
          4,
          5,
          6,
          7,
          8,
          9,
          10,
          11,
          12,
          13,
          14,
          15,
          16,
          17,
          18,
          19,
          20,
          21,
          22,
          23,
          24,
          26,
          27,
          28,
          29,
          30,
          31,
          32,
          33,
          34,
          35,
          36,
          37,
          39,
          40,
          41,
          42,
          43,
          44
         ],
         "xaxis": "x3",
         "y": [
          11,
          31,
          14,
          33,
          18,
          18,
          24,
          25,
          14,
          22,
          16,
          12,
          13,
          23,
          17,
          11,
          20,
          17,
          13,
          16,
          15,
          11,
          13,
          18,
          13,
          15,
          13,
          36,
          12,
          12,
          19,
          15,
          19,
          12,
          27,
          21,
          21,
          18,
          12,
          20,
          26,
          13
         ],
         "yaxis": "y3"
        },
        {
         "hovertemplate": "item_id=4168<br>year=2013<br>week=%{x}<br>average_weekly_sales=%{y}<extra></extra>",
         "legendgroup": "4168",
         "line": {
          "color": "#FFA15A",
          "dash": "solid"
         },
         "marker": {
          "symbol": "circle"
         },
         "mode": "lines",
         "name": "4168",
         "showlegend": true,
         "type": "scattergl",
         "x": [
          19,
          20
         ],
         "xaxis": "x",
         "y": [
          11,
          10
         ],
         "yaxis": "y"
        },
        {
         "hovertemplate": "item_id=15043<br>year=2013<br>week=%{x}<br>average_weekly_sales=%{y}<extra></extra>",
         "legendgroup": "15043",
         "line": {
          "color": "#19d3f3",
          "dash": "solid"
         },
         "marker": {
          "symbol": "circle"
         },
         "mode": "lines",
         "name": "15043",
         "showlegend": true,
         "type": "scattergl",
         "x": [
          20
         ],
         "xaxis": "x",
         "y": [
          9.142857142857142
         ],
         "yaxis": "y"
        },
        {
         "hovertemplate": "item_id=15044<br>year=2013<br>week=%{x}<br>average_weekly_sales=%{y}<extra></extra>",
         "legendgroup": "15044",
         "line": {
          "color": "#FF6692",
          "dash": "solid"
         },
         "marker": {
          "symbol": "circle"
         },
         "mode": "lines",
         "name": "15044",
         "showlegend": true,
         "type": "scattergl",
         "x": [
          20,
          21
         ],
         "xaxis": "x",
         "y": [
          33.40909090909091,
          18.25
         ],
         "yaxis": "y"
        },
        {
         "hovertemplate": "item_id=15072<br>year=2013<br>week=%{x}<br>average_weekly_sales=%{y}<extra></extra>",
         "legendgroup": "15072",
         "line": {
          "color": "#B6E880",
          "dash": "solid"
         },
         "marker": {
          "symbol": "circle"
         },
         "mode": "lines",
         "name": "15072",
         "showlegend": true,
         "type": "scattergl",
         "x": [
          20
         ],
         "xaxis": "x",
         "y": [
          10
         ],
         "yaxis": "y"
        },
        {
         "hovertemplate": "item_id=10956<br>year=2013<br>week=%{x}<br>average_weekly_sales=%{y}<extra></extra>",
         "legendgroup": "10956",
         "line": {
          "color": "#FF97FF",
          "dash": "solid"
         },
         "marker": {
          "symbol": "circle"
         },
         "mode": "lines",
         "name": "10956",
         "showlegend": true,
         "type": "scattergl",
         "x": [
          21
         ],
         "xaxis": "x",
         "y": [
          9.55813953488372
         ],
         "yaxis": "y"
        },
        {
         "hovertemplate": "item_id=2808<br>year=2013<br>week=%{x}<br>average_weekly_sales=%{y}<extra></extra>",
         "legendgroup": "2808",
         "line": {
          "color": "#FECB52",
          "dash": "solid"
         },
         "marker": {
          "symbol": "circle"
         },
         "mode": "lines",
         "name": "2808",
         "showlegend": true,
         "type": "scattergl",
         "x": [
          22,
          23,
          24,
          26,
          27,
          28,
          35,
          36,
          40
         ],
         "xaxis": "x",
         "y": [
          12.514285714285714,
          20.825,
          16.085714285714285,
          28.05263157894737,
          19.864864864864863,
          19.314285714285713,
          23.36,
          27.682926829268293,
          10
         ],
         "yaxis": "y"
        },
        {
         "hovertemplate": "item_id=2808<br>year=2014<br>week=%{x}<br>average_weekly_sales=%{y}<extra></extra>",
         "legendgroup": "2808",
         "line": {
          "color": "#FECB52",
          "dash": "solid"
         },
         "marker": {
          "symbol": "circle"
         },
         "mode": "lines",
         "name": "2808",
         "showlegend": false,
         "type": "scattergl",
         "x": [
          24
         ],
         "xaxis": "x2",
         "y": [
          10.69767441860465
         ],
         "yaxis": "y2"
        },
        {
         "hovertemplate": "item_id=13811<br>year=2013<br>week=%{x}<br>average_weekly_sales=%{y}<extra></extra>",
         "legendgroup": "13811",
         "line": {
          "color": "#636efa",
          "dash": "solid"
         },
         "marker": {
          "symbol": "circle"
         },
         "mode": "lines",
         "name": "13811",
         "showlegend": true,
         "type": "scattergl",
         "x": [
          22,
          23
         ],
         "xaxis": "x",
         "y": [
          13.85,
          11.380952380952381
         ],
         "yaxis": "y"
        },
        {
         "hovertemplate": "item_id=14611<br>year=2013<br>week=%{x}<br>average_weekly_sales=%{y}<extra></extra>",
         "legendgroup": "14611",
         "line": {
          "color": "#EF553B",
          "dash": "solid"
         },
         "marker": {
          "symbol": "circle"
         },
         "mode": "lines",
         "name": "14611",
         "showlegend": true,
         "type": "scattergl",
         "x": [
          22
         ],
         "xaxis": "x",
         "y": [
          10
         ],
         "yaxis": "y"
        },
        {
         "hovertemplate": "item_id=6111<br>year=2013<br>week=%{x}<br>average_weekly_sales=%{y}<extra></extra>",
         "legendgroup": "6111",
         "line": {
          "color": "#00cc96",
          "dash": "solid"
         },
         "marker": {
          "symbol": "circle"
         },
         "mode": "lines",
         "name": "6111",
         "showlegend": true,
         "type": "scattergl",
         "x": [
          23
         ],
         "xaxis": "x",
         "y": [
          11.275
         ],
         "yaxis": "y"
        },
        {
         "hovertemplate": "item_id=6111<br>year=2014<br>week=%{x}<br>average_weekly_sales=%{y}<extra></extra>",
         "legendgroup": "6111",
         "line": {
          "color": "#00cc96",
          "dash": "solid"
         },
         "marker": {
          "symbol": "circle"
         },
         "mode": "lines",
         "name": "6111",
         "showlegend": false,
         "type": "scattergl",
         "x": [
          25
         ],
         "xaxis": "x2",
         "y": [
          14.076923076923077
         ],
         "yaxis": "y2"
        },
        {
         "hovertemplate": "item_id=1831<br>year=2013<br>week=%{x}<br>average_weekly_sales=%{y}<extra></extra>",
         "legendgroup": "1831",
         "line": {
          "color": "#ab63fa",
          "dash": "solid"
         },
         "marker": {
          "symbol": "circle"
         },
         "mode": "lines",
         "name": "1831",
         "showlegend": true,
         "type": "scattergl",
         "x": [
          24,
          36
         ],
         "xaxis": "x",
         "y": [
          16,
          11
         ],
         "yaxis": "y"
        },
        {
         "hovertemplate": "item_id=2444<br>year=2013<br>week=%{x}<br>average_weekly_sales=%{y}<extra></extra>",
         "legendgroup": "2444",
         "line": {
          "color": "#FFA15A",
          "dash": "solid"
         },
         "marker": {
          "symbol": "circle"
         },
         "mode": "lines",
         "name": "2444",
         "showlegend": true,
         "type": "scattergl",
         "x": [
          24,
          30
         ],
         "xaxis": "x",
         "y": [
          22,
          11
         ],
         "yaxis": "y"
        },
        {
         "hovertemplate": "item_id=4157<br>year=2013<br>week=%{x}<br>average_weekly_sales=%{y}<extra></extra>",
         "legendgroup": "4157",
         "line": {
          "color": "#19d3f3",
          "dash": "solid"
         },
         "marker": {
          "symbol": "circle"
         },
         "mode": "lines",
         "name": "4157",
         "showlegend": true,
         "type": "scattergl",
         "x": [
          24
         ],
         "xaxis": "x",
         "y": [
          10
         ],
         "yaxis": "y"
        },
        {
         "hovertemplate": "item_id=6412<br>year=2013<br>week=%{x}<br>average_weekly_sales=%{y}<extra></extra>",
         "legendgroup": "6412",
         "line": {
          "color": "#FF6692",
          "dash": "solid"
         },
         "marker": {
          "symbol": "circle"
         },
         "mode": "lines",
         "name": "6412",
         "showlegend": true,
         "type": "scattergl",
         "x": [
          24
         ],
         "xaxis": "x",
         "y": [
          13.555555555555555
         ],
         "yaxis": "y"
        },
        {
         "hovertemplate": "item_id=16787<br>year=2013<br>week=%{x}<br>average_weekly_sales=%{y}<extra></extra>",
         "legendgroup": "16787",
         "line": {
          "color": "#B6E880",
          "dash": "solid"
         },
         "marker": {
          "symbol": "circle"
         },
         "mode": "lines",
         "name": "16787",
         "showlegend": true,
         "type": "scattergl",
         "x": [
          24,
          25,
          26,
          27
         ],
         "xaxis": "x",
         "y": [
          41.63636363636363,
          18.59090909090909,
          11.44186046511628,
          9.363636363636363
         ],
         "yaxis": "y"
        },
        {
         "hovertemplate": "item_id=16792<br>year=2013<br>week=%{x}<br>average_weekly_sales=%{y}<extra></extra>",
         "legendgroup": "16792",
         "line": {
          "color": "#FF97FF",
          "dash": "solid"
         },
         "marker": {
          "symbol": "circle"
         },
         "mode": "lines",
         "name": "16792",
         "showlegend": true,
         "type": "scattergl",
         "x": [
          24
         ],
         "xaxis": "x",
         "y": [
          9.636363636363637
         ],
         "yaxis": "y"
        },
        {
         "hovertemplate": "item_id=2398<br>year=2013<br>week=%{x}<br>average_weekly_sales=%{y}<extra></extra>",
         "legendgroup": "2398",
         "line": {
          "color": "#FECB52",
          "dash": "solid"
         },
         "marker": {
          "symbol": "circle"
         },
         "mode": "lines",
         "name": "2398",
         "showlegend": true,
         "type": "scattergl",
         "x": [
          26
         ],
         "xaxis": "x",
         "y": [
          14.953488372093023
         ],
         "yaxis": "y"
        },
        {
         "hovertemplate": "item_id=2400<br>year=2013<br>week=%{x}<br>average_weekly_sales=%{y}<extra></extra>",
         "legendgroup": "2400",
         "line": {
          "color": "#636efa",
          "dash": "solid"
         },
         "marker": {
          "symbol": "circle"
         },
         "mode": "lines",
         "name": "2400",
         "showlegend": true,
         "type": "scattergl",
         "x": [
          26
         ],
         "xaxis": "x",
         "y": [
          12.414634146341463
         ],
         "yaxis": "y"
        },
        {
         "hovertemplate": "item_id=6499<br>year=2013<br>week=%{x}<br>average_weekly_sales=%{y}<extra></extra>",
         "legendgroup": "6499",
         "line": {
          "color": "#EF553B",
          "dash": "solid"
         },
         "marker": {
          "symbol": "circle"
         },
         "mode": "lines",
         "name": "6499",
         "showlegend": true,
         "type": "scattergl",
         "x": [
          26
         ],
         "xaxis": "x",
         "y": [
          10.674418604651162
         ],
         "yaxis": "y"
        },
        {
         "hovertemplate": "item_id=14835<br>year=2013<br>week=%{x}<br>average_weekly_sales=%{y}<extra></extra>",
         "legendgroup": "14835",
         "line": {
          "color": "#00cc96",
          "dash": "solid"
         },
         "marker": {
          "symbol": "circle"
         },
         "mode": "lines",
         "name": "14835",
         "showlegend": true,
         "type": "scattergl",
         "x": [
          26
         ],
         "xaxis": "x",
         "y": [
          17
         ],
         "yaxis": "y"
        },
        {
         "hovertemplate": "item_id=4772<br>year=2013<br>week=%{x}<br>average_weekly_sales=%{y}<extra></extra>",
         "legendgroup": "4772",
         "line": {
          "color": "#ab63fa",
          "dash": "solid"
         },
         "marker": {
          "symbol": "circle"
         },
         "mode": "lines",
         "name": "4772",
         "showlegend": true,
         "type": "scattergl",
         "x": [
          27
         ],
         "xaxis": "x",
         "y": [
          10
         ],
         "yaxis": "y"
        },
        {
         "hovertemplate": "item_id=4778<br>year=2013<br>week=%{x}<br>average_weekly_sales=%{y}<extra></extra>",
         "legendgroup": "4778",
         "line": {
          "color": "#FFA15A",
          "dash": "solid"
         },
         "marker": {
          "symbol": "circle"
         },
         "mode": "lines",
         "name": "4778",
         "showlegend": true,
         "type": "scattergl",
         "x": [
          27
         ],
         "xaxis": "x",
         "y": [
          14
         ],
         "yaxis": "y"
        },
        {
         "hovertemplate": "item_id=4783<br>year=2013<br>week=%{x}<br>average_weekly_sales=%{y}<extra></extra>",
         "legendgroup": "4783",
         "line": {
          "color": "#19d3f3",
          "dash": "solid"
         },
         "marker": {
          "symbol": "circle"
         },
         "mode": "lines",
         "name": "4783",
         "showlegend": true,
         "type": "scattergl",
         "x": [
          27
         ],
         "xaxis": "x",
         "y": [
          11
         ],
         "yaxis": "y"
        },
        {
         "hovertemplate": "item_id=2438<br>year=2013<br>week=%{x}<br>average_weekly_sales=%{y}<extra></extra>",
         "legendgroup": "2438",
         "line": {
          "color": "#FF6692",
          "dash": "solid"
         },
         "marker": {
          "symbol": "circle"
         },
         "mode": "lines",
         "name": "2438",
         "showlegend": true,
         "type": "scattergl",
         "x": [
          30
         ],
         "xaxis": "x",
         "y": [
          11
         ],
         "yaxis": "y"
        },
        {
         "hovertemplate": "item_id=1516<br>year=2013<br>week=%{x}<br>average_weekly_sales=%{y}<extra></extra>",
         "legendgroup": "1516",
         "line": {
          "color": "#B6E880",
          "dash": "solid"
         },
         "marker": {
          "symbol": "circle"
         },
         "mode": "lines",
         "name": "1516",
         "showlegend": true,
         "type": "scattergl",
         "x": [
          31,
          32
         ],
         "xaxis": "x",
         "y": [
          16.294117647058822,
          21.142857142857142
         ],
         "yaxis": "y"
        },
        {
         "hovertemplate": "item_id=13345<br>year=2013<br>week=%{x}<br>average_weekly_sales=%{y}<extra></extra>",
         "legendgroup": "13345",
         "line": {
          "color": "#FF97FF",
          "dash": "solid"
         },
         "marker": {
          "symbol": "circle"
         },
         "mode": "lines",
         "name": "13345",
         "showlegend": true,
         "type": "scattergl",
         "x": [
          31,
          48,
          51,
          52
         ],
         "xaxis": "x",
         "y": [
          10.666666666666666,
          10,
          11.5,
          13
         ],
         "yaxis": "y"
        },
        {
         "hovertemplate": "item_id=13345<br>year=2014<br>week=%{x}<br>average_weekly_sales=%{y}<extra></extra>",
         "legendgroup": "13345",
         "line": {
          "color": "#FF97FF",
          "dash": "solid"
         },
         "marker": {
          "symbol": "circle"
         },
         "mode": "lines",
         "name": "13345",
         "showlegend": false,
         "type": "scattergl",
         "x": [
          6,
          7,
          10,
          11,
          13,
          14,
          15,
          17
         ],
         "xaxis": "x2",
         "y": [
          11,
          25,
          12,
          18,
          14,
          10,
          25,
          27
         ],
         "yaxis": "y2"
        },
        {
         "hovertemplate": "item_id=13345<br>year=2015<br>week=%{x}<br>average_weekly_sales=%{y}<extra></extra>",
         "legendgroup": "13345",
         "line": {
          "color": "#FF97FF",
          "dash": "solid"
         },
         "marker": {
          "symbol": "circle"
         },
         "mode": "lines",
         "name": "13345",
         "showlegend": false,
         "type": "scattergl",
         "x": [
          4
         ],
         "xaxis": "x3",
         "y": [
          50
         ],
         "yaxis": "y3"
        },
        {
         "hovertemplate": "item_id=6456<br>year=2013<br>week=%{x}<br>average_weekly_sales=%{y}<extra></extra>",
         "legendgroup": "6456",
         "line": {
          "color": "#FECB52",
          "dash": "solid"
         },
         "marker": {
          "symbol": "circle"
         },
         "mode": "lines",
         "name": "6456",
         "showlegend": true,
         "type": "scattergl",
         "x": [
          32
         ],
         "xaxis": "x",
         "y": [
          18
         ],
         "yaxis": "y"
        },
        {
         "hovertemplate": "item_id=20143<br>year=2013<br>week=%{x}<br>average_weekly_sales=%{y}<extra></extra>",
         "legendgroup": "20143",
         "line": {
          "color": "#636efa",
          "dash": "solid"
         },
         "marker": {
          "symbol": "circle"
         },
         "mode": "lines",
         "name": "20143",
         "showlegend": true,
         "type": "scattergl",
         "x": [
          32
         ],
         "xaxis": "x",
         "y": [
          12
         ],
         "yaxis": "y"
        },
        {
         "hovertemplate": "item_id=5225<br>year=2013<br>week=%{x}<br>average_weekly_sales=%{y}<extra></extra>",
         "legendgroup": "5225",
         "line": {
          "color": "#EF553B",
          "dash": "solid"
         },
         "marker": {
          "symbol": "circle"
         },
         "mode": "lines",
         "name": "5225",
         "showlegend": true,
         "type": "scattergl",
         "x": [
          33
         ],
         "xaxis": "x",
         "y": [
          20
         ],
         "yaxis": "y"
        },
        {
         "hovertemplate": "item_id=5229<br>year=2013<br>week=%{x}<br>average_weekly_sales=%{y}<extra></extra>",
         "legendgroup": "5229",
         "line": {
          "color": "#00cc96",
          "dash": "solid"
         },
         "marker": {
          "symbol": "circle"
         },
         "mode": "lines",
         "name": "5229",
         "showlegend": true,
         "type": "scattergl",
         "x": [
          33
         ],
         "xaxis": "x",
         "y": [
          11
         ],
         "yaxis": "y"
        },
        {
         "hovertemplate": "item_id=13344<br>year=2013<br>week=%{x}<br>average_weekly_sales=%{y}<extra></extra>",
         "legendgroup": "13344",
         "line": {
          "color": "#ab63fa",
          "dash": "solid"
         },
         "marker": {
          "symbol": "circle"
         },
         "mode": "lines",
         "name": "13344",
         "showlegend": true,
         "type": "scattergl",
         "x": [
          33
         ],
         "xaxis": "x",
         "y": [
          9.857142857142858
         ],
         "yaxis": "y"
        },
        {
         "hovertemplate": "item_id=13344<br>year=2014<br>week=%{x}<br>average_weekly_sales=%{y}<extra></extra>",
         "legendgroup": "13344",
         "line": {
          "color": "#ab63fa",
          "dash": "solid"
         },
         "marker": {
          "symbol": "circle"
         },
         "mode": "lines",
         "name": "13344",
         "showlegend": false,
         "type": "scattergl",
         "x": [
          4,
          5,
          6
         ],
         "xaxis": "x2",
         "y": [
          11,
          11,
          10
         ],
         "yaxis": "y2"
        },
        {
         "hovertemplate": "item_id=5819<br>year=2013<br>week=%{x}<br>average_weekly_sales=%{y}<extra></extra>",
         "legendgroup": "5819",
         "line": {
          "color": "#FFA15A",
          "dash": "solid"
         },
         "marker": {
          "symbol": "circle"
         },
         "mode": "lines",
         "name": "5819",
         "showlegend": true,
         "type": "scattergl",
         "x": [
          34
         ],
         "xaxis": "x",
         "y": [
          12.795454545454545
         ],
         "yaxis": "y"
        },
        {
         "hovertemplate": "item_id=16454<br>year=2013<br>week=%{x}<br>average_weekly_sales=%{y}<extra></extra>",
         "legendgroup": "16454",
         "line": {
          "color": "#19d3f3",
          "dash": "solid"
         },
         "marker": {
          "symbol": "circle"
         },
         "mode": "lines",
         "name": "16454",
         "showlegend": true,
         "type": "scattergl",
         "x": [
          34
         ],
         "xaxis": "x",
         "y": [
          9.465116279069768
         ],
         "yaxis": "y"
        },
        {
         "hovertemplate": "item_id=7047<br>year=2013<br>week=%{x}<br>average_weekly_sales=%{y}<extra></extra>",
         "legendgroup": "7047",
         "line": {
          "color": "#FF6692",
          "dash": "solid"
         },
         "marker": {
          "symbol": "circle"
         },
         "mode": "lines",
         "name": "7047",
         "showlegend": true,
         "type": "scattergl",
         "x": [
          35
         ],
         "xaxis": "x",
         "y": [
          12
         ],
         "yaxis": "y"
        },
        {
         "hovertemplate": "item_id=7048<br>year=2013<br>week=%{x}<br>average_weekly_sales=%{y}<extra></extra>",
         "legendgroup": "7048",
         "line": {
          "color": "#B6E880",
          "dash": "solid"
         },
         "marker": {
          "symbol": "circle"
         },
         "mode": "lines",
         "name": "7048",
         "showlegend": true,
         "type": "scattergl",
         "x": [
          35
         ],
         "xaxis": "x",
         "y": [
          9.735294117647058
         ],
         "yaxis": "y"
        },
        {
         "hovertemplate": "item_id=7100<br>year=2013<br>week=%{x}<br>average_weekly_sales=%{y}<extra></extra>",
         "legendgroup": "7100",
         "line": {
          "color": "#FF97FF",
          "dash": "solid"
         },
         "marker": {
          "symbol": "circle"
         },
         "mode": "lines",
         "name": "7100",
         "showlegend": true,
         "type": "scattergl",
         "x": [
          35
         ],
         "xaxis": "x",
         "y": [
          13
         ],
         "yaxis": "y"
        },
        {
         "hovertemplate": "item_id=11457<br>year=2013<br>week=%{x}<br>average_weekly_sales=%{y}<extra></extra>",
         "legendgroup": "11457",
         "line": {
          "color": "#FECB52",
          "dash": "solid"
         },
         "marker": {
          "symbol": "circle"
         },
         "mode": "lines",
         "name": "11457",
         "showlegend": true,
         "type": "scattergl",
         "x": [
          35
         ],
         "xaxis": "x",
         "y": [
          11
         ],
         "yaxis": "y"
        },
        {
         "hovertemplate": "item_id=587<br>year=2013<br>week=%{x}<br>average_weekly_sales=%{y}<extra></extra>",
         "legendgroup": "587",
         "line": {
          "color": "#636efa",
          "dash": "solid"
         },
         "marker": {
          "symbol": "circle"
         },
         "mode": "lines",
         "name": "587",
         "showlegend": true,
         "type": "scattergl",
         "x": [
          36
         ],
         "xaxis": "x",
         "y": [
          10
         ],
         "yaxis": "y"
        },
        {
         "hovertemplate": "item_id=2809<br>year=2013<br>week=%{x}<br>average_weekly_sales=%{y}<extra></extra>",
         "legendgroup": "2809",
         "line": {
          "color": "#EF553B",
          "dash": "solid"
         },
         "marker": {
          "symbol": "circle"
         },
         "mode": "lines",
         "name": "2809",
         "showlegend": true,
         "type": "scattergl",
         "x": [
          36
         ],
         "xaxis": "x",
         "y": [
          11.883720930232558
         ],
         "yaxis": "y"
        },
        {
         "hovertemplate": "item_id=4233<br>year=2013<br>week=%{x}<br>average_weekly_sales=%{y}<extra></extra>",
         "legendgroup": "4233",
         "line": {
          "color": "#00cc96",
          "dash": "solid"
         },
         "marker": {
          "symbol": "circle"
         },
         "mode": "lines",
         "name": "4233",
         "showlegend": true,
         "type": "scattergl",
         "x": [
          36
         ],
         "xaxis": "x",
         "y": [
          9.133333333333333
         ],
         "yaxis": "y"
        },
        {
         "hovertemplate": "item_id=7096<br>year=2013<br>week=%{x}<br>average_weekly_sales=%{y}<extra></extra>",
         "legendgroup": "7096",
         "line": {
          "color": "#ab63fa",
          "dash": "solid"
         },
         "marker": {
          "symbol": "circle"
         },
         "mode": "lines",
         "name": "7096",
         "showlegend": true,
         "type": "scattergl",
         "x": [
          36,
          37,
          40
         ],
         "xaxis": "x",
         "y": [
          30.272727272727273,
          10.790697674418604,
          10.69047619047619
         ],
         "yaxis": "y"
        },
        {
         "hovertemplate": "item_id=7097<br>year=2013<br>week=%{x}<br>average_weekly_sales=%{y}<extra></extra>",
         "legendgroup": "7097",
         "line": {
          "color": "#FFA15A",
          "dash": "solid"
         },
         "marker": {
          "symbol": "circle"
         },
         "mode": "lines",
         "name": "7097",
         "showlegend": true,
         "type": "scattergl",
         "x": [
          36
         ],
         "xaxis": "x",
         "y": [
          23.727272727272727
         ],
         "yaxis": "y"
        },
        {
         "hovertemplate": "item_id=7098<br>year=2013<br>week=%{x}<br>average_weekly_sales=%{y}<extra></extra>",
         "legendgroup": "7098",
         "line": {
          "color": "#19d3f3",
          "dash": "solid"
         },
         "marker": {
          "symbol": "circle"
         },
         "mode": "lines",
         "name": "7098",
         "showlegend": true,
         "type": "scattergl",
         "x": [
          36
         ],
         "xaxis": "x",
         "y": [
          22.84090909090909
         ],
         "yaxis": "y"
        },
        {
         "hovertemplate": "item_id=11367<br>year=2013<br>week=%{x}<br>average_weekly_sales=%{y}<extra></extra>",
         "legendgroup": "11367",
         "line": {
          "color": "#FF6692",
          "dash": "solid"
         },
         "marker": {
          "symbol": "circle"
         },
         "mode": "lines",
         "name": "11367",
         "showlegend": true,
         "type": "scattergl",
         "x": [
          36
         ],
         "xaxis": "x",
         "y": [
          17
         ],
         "yaxis": "y"
        },
        {
         "hovertemplate": "item_id=13351<br>year=2013<br>week=%{x}<br>average_weekly_sales=%{y}<extra></extra>",
         "legendgroup": "13351",
         "line": {
          "color": "#B6E880",
          "dash": "solid"
         },
         "marker": {
          "symbol": "circle"
         },
         "mode": "lines",
         "name": "13351",
         "showlegend": true,
         "type": "scattergl",
         "x": [
          37
         ],
         "xaxis": "x",
         "y": [
          9.6
         ],
         "yaxis": "y"
        },
        {
         "hovertemplate": "item_id=1028<br>year=2013<br>week=%{x}<br>average_weekly_sales=%{y}<extra></extra>",
         "legendgroup": "1028",
         "line": {
          "color": "#FF97FF",
          "dash": "solid"
         },
         "marker": {
          "symbol": "circle"
         },
         "mode": "lines",
         "name": "1028",
         "showlegend": true,
         "type": "scattergl",
         "x": [
          38
         ],
         "xaxis": "x",
         "y": [
          12
         ],
         "yaxis": "y"
        },
        {
         "hovertemplate": "item_id=3732<br>year=2013<br>week=%{x}<br>average_weekly_sales=%{y}<extra></extra>",
         "legendgroup": "3732",
         "line": {
          "color": "#FECB52",
          "dash": "solid"
         },
         "marker": {
          "symbol": "circle"
         },
         "mode": "lines",
         "name": "3732",
         "showlegend": true,
         "type": "scattergl",
         "x": [
          38,
          39,
          40,
          41,
          42,
          52
         ],
         "xaxis": "x",
         "y": [
          131.71428571428572,
          29.613636363636363,
          28.09090909090909,
          15.5,
          11.953488372093023,
          10.727272727272727
         ],
         "yaxis": "y"
        },
        {
         "hovertemplate": "item_id=3734<br>year=2013<br>week=%{x}<br>average_weekly_sales=%{y}<extra></extra>",
         "legendgroup": "3734",
         "line": {
          "color": "#636efa",
          "dash": "solid"
         },
         "marker": {
          "symbol": "circle"
         },
         "mode": "lines",
         "name": "3734",
         "showlegend": true,
         "type": "scattergl",
         "x": [
          38,
          39,
          40,
          41,
          42
         ],
         "xaxis": "x",
         "y": [
          63.54761904761905,
          13.097560975609756,
          21.5609756097561,
          16.886363636363637,
          11.720930232558139
         ],
         "yaxis": "y"
        },
        {
         "hovertemplate": "item_id=3740<br>year=2013<br>week=%{x}<br>average_weekly_sales=%{y}<extra></extra>",
         "legendgroup": "3740",
         "line": {
          "color": "#EF553B",
          "dash": "solid"
         },
         "marker": {
          "symbol": "circle"
         },
         "mode": "lines",
         "name": "3740",
         "showlegend": true,
         "type": "scattergl",
         "x": [
          38
         ],
         "xaxis": "x",
         "y": [
          10.317073170731707
         ],
         "yaxis": "y"
        },
        {
         "hovertemplate": "item_id=3329<br>year=2013<br>week=%{x}<br>average_weekly_sales=%{y}<extra></extra>",
         "legendgroup": "3329",
         "line": {
          "color": "#00cc96",
          "dash": "solid"
         },
         "marker": {
          "symbol": "circle"
         },
         "mode": "lines",
         "name": "3329",
         "showlegend": true,
         "type": "scattergl",
         "x": [
          39
         ],
         "xaxis": "x",
         "y": [
          18.146341463414632
         ],
         "yaxis": "y"
        },
        {
         "hovertemplate": "item_id=3330<br>year=2013<br>week=%{x}<br>average_weekly_sales=%{y}<extra></extra>",
         "legendgroup": "3330",
         "line": {
          "color": "#ab63fa",
          "dash": "solid"
         },
         "marker": {
          "symbol": "circle"
         },
         "mode": "lines",
         "name": "3330",
         "showlegend": true,
         "type": "scattergl",
         "x": [
          39,
          43,
          50
         ],
         "xaxis": "x",
         "y": [
          23,
          10,
          16
         ],
         "yaxis": "y"
        },
        {
         "hovertemplate": "item_id=3330<br>year=2014<br>week=%{x}<br>average_weekly_sales=%{y}<extra></extra>",
         "legendgroup": "3330",
         "line": {
          "color": "#ab63fa",
          "dash": "solid"
         },
         "marker": {
          "symbol": "circle"
         },
         "mode": "lines",
         "name": "3330",
         "showlegend": false,
         "type": "scattergl",
         "x": [
          2,
          16,
          17,
          18
         ],
         "xaxis": "x2",
         "y": [
          20,
          11,
          24,
          37
         ],
         "yaxis": "y2"
        },
        {
         "hovertemplate": "item_id=3331<br>year=2013<br>week=%{x}<br>average_weekly_sales=%{y}<extra></extra>",
         "legendgroup": "3331",
         "line": {
          "color": "#FFA15A",
          "dash": "solid"
         },
         "marker": {
          "symbol": "circle"
         },
         "mode": "lines",
         "name": "3331",
         "showlegend": true,
         "type": "scattergl",
         "x": [
          39,
          40,
          41
         ],
         "xaxis": "x",
         "y": [
          40.523809523809526,
          21.704545454545453,
          12.340909090909092
         ],
         "yaxis": "y"
        },
        {
         "hovertemplate": "item_id=3335<br>year=2013<br>week=%{x}<br>average_weekly_sales=%{y}<extra></extra>",
         "legendgroup": "3335",
         "line": {
          "color": "#19d3f3",
          "dash": "solid"
         },
         "marker": {
          "symbol": "circle"
         },
         "mode": "lines",
         "name": "3335",
         "showlegend": true,
         "type": "scattergl",
         "x": [
          39
         ],
         "xaxis": "x",
         "y": [
          10.595238095238095
         ],
         "yaxis": "y"
        },
        {
         "hovertemplate": "item_id=3336<br>year=2013<br>week=%{x}<br>average_weekly_sales=%{y}<extra></extra>",
         "legendgroup": "3336",
         "line": {
          "color": "#FF6692",
          "dash": "solid"
         },
         "marker": {
          "symbol": "circle"
         },
         "mode": "lines",
         "name": "3336",
         "showlegend": true,
         "type": "scattergl",
         "x": [
          39
         ],
         "xaxis": "x",
         "y": [
          15.023809523809524
         ],
         "yaxis": "y"
        },
        {
         "hovertemplate": "item_id=8023<br>year=2013<br>week=%{x}<br>average_weekly_sales=%{y}<extra></extra>",
         "legendgroup": "8023",
         "line": {
          "color": "#B6E880",
          "dash": "solid"
         },
         "marker": {
          "symbol": "circle"
         },
         "mode": "lines",
         "name": "8023",
         "showlegend": true,
         "type": "scattergl",
         "x": [
          39
         ],
         "xaxis": "x",
         "y": [
          11.5
         ],
         "yaxis": "y"
        },
        {
         "hovertemplate": "item_id=8023<br>year=2014<br>week=%{x}<br>average_weekly_sales=%{y}<extra></extra>",
         "legendgroup": "8023",
         "line": {
          "color": "#B6E880",
          "dash": "solid"
         },
         "marker": {
          "symbol": "circle"
         },
         "mode": "lines",
         "name": "8023",
         "showlegend": false,
         "type": "scattergl",
         "x": [
          5
         ],
         "xaxis": "x2",
         "y": [
          20
         ],
         "yaxis": "y2"
        },
        {
         "hovertemplate": "item_id=9983<br>year=2013<br>week=%{x}<br>average_weekly_sales=%{y}<extra></extra>",
         "legendgroup": "9983",
         "line": {
          "color": "#FF97FF",
          "dash": "solid"
         },
         "marker": {
          "symbol": "circle"
         },
         "mode": "lines",
         "name": "9983",
         "showlegend": true,
         "type": "scattergl",
         "x": [
          39
         ],
         "xaxis": "x",
         "y": [
          9.619047619047619
         ],
         "yaxis": "y"
        },
        {
         "hovertemplate": "item_id=4497<br>year=2013<br>week=%{x}<br>average_weekly_sales=%{y}<extra></extra>",
         "legendgroup": "4497",
         "line": {
          "color": "#FECB52",
          "dash": "solid"
         },
         "marker": {
          "symbol": "circle"
         },
         "mode": "lines",
         "name": "4497",
         "showlegend": true,
         "type": "scattergl",
         "x": [
          40
         ],
         "xaxis": "x",
         "y": [
          20
         ],
         "yaxis": "y"
        },
        {
         "hovertemplate": "item_id=6457<br>year=2013<br>week=%{x}<br>average_weekly_sales=%{y}<extra></extra>",
         "legendgroup": "6457",
         "line": {
          "color": "#636efa",
          "dash": "solid"
         },
         "marker": {
          "symbol": "circle"
         },
         "mode": "lines",
         "name": "6457",
         "showlegend": true,
         "type": "scattergl",
         "x": [
          40
         ],
         "xaxis": "x",
         "y": [
          18.133333333333333
         ],
         "yaxis": "y"
        },
        {
         "hovertemplate": "item_id=7802<br>year=2013<br>week=%{x}<br>average_weekly_sales=%{y}<extra></extra>",
         "legendgroup": "7802",
         "line": {
          "color": "#EF553B",
          "dash": "solid"
         },
         "marker": {
          "symbol": "circle"
         },
         "mode": "lines",
         "name": "7802",
         "showlegend": true,
         "type": "scattergl",
         "x": [
          40
         ],
         "xaxis": "x",
         "y": [
          11.18918918918919
         ],
         "yaxis": "y"
        },
        {
         "hovertemplate": "item_id=8022<br>year=2013<br>week=%{x}<br>average_weekly_sales=%{y}<extra></extra>",
         "legendgroup": "8022",
         "line": {
          "color": "#00cc96",
          "dash": "solid"
         },
         "marker": {
          "symbol": "circle"
         },
         "mode": "lines",
         "name": "8022",
         "showlegend": true,
         "type": "scattergl",
         "x": [
          40
         ],
         "xaxis": "x",
         "y": [
          16.5
         ],
         "yaxis": "y"
        },
        {
         "hovertemplate": "item_id=9324<br>year=2013<br>week=%{x}<br>average_weekly_sales=%{y}<extra></extra>",
         "legendgroup": "9324",
         "line": {
          "color": "#ab63fa",
          "dash": "solid"
         },
         "marker": {
          "symbol": "circle"
         },
         "mode": "lines",
         "name": "9324",
         "showlegend": true,
         "type": "scattergl",
         "x": [
          40
         ],
         "xaxis": "x",
         "y": [
          17
         ],
         "yaxis": "y"
        },
        {
         "hovertemplate": "item_id=9326<br>year=2013<br>week=%{x}<br>average_weekly_sales=%{y}<extra></extra>",
         "legendgroup": "9326",
         "line": {
          "color": "#FFA15A",
          "dash": "solid"
         },
         "marker": {
          "symbol": "circle"
         },
         "mode": "lines",
         "name": "9326",
         "showlegend": true,
         "type": "scattergl",
         "x": [
          40
         ],
         "xaxis": "x",
         "y": [
          13
         ],
         "yaxis": "y"
        },
        {
         "hovertemplate": "item_id=9327<br>year=2013<br>week=%{x}<br>average_weekly_sales=%{y}<extra></extra>",
         "legendgroup": "9327",
         "line": {
          "color": "#19d3f3",
          "dash": "solid"
         },
         "marker": {
          "symbol": "circle"
         },
         "mode": "lines",
         "name": "9327",
         "showlegend": true,
         "type": "scattergl",
         "x": [
          40
         ],
         "xaxis": "x",
         "y": [
          10.666666666666666
         ],
         "yaxis": "y"
        },
        {
         "hovertemplate": "item_id=11523<br>year=2013<br>week=%{x}<br>average_weekly_sales=%{y}<extra></extra>",
         "legendgroup": "11523",
         "line": {
          "color": "#FF6692",
          "dash": "solid"
         },
         "marker": {
          "symbol": "circle"
         },
         "mode": "lines",
         "name": "11523",
         "showlegend": true,
         "type": "scattergl",
         "x": [
          40
         ],
         "xaxis": "x",
         "y": [
          18
         ],
         "yaxis": "y"
        },
        {
         "hovertemplate": "item_id=11523<br>year=2015<br>week=%{x}<br>average_weekly_sales=%{y}<extra></extra>",
         "legendgroup": "11523",
         "line": {
          "color": "#FF6692",
          "dash": "solid"
         },
         "marker": {
          "symbol": "circle"
         },
         "mode": "lines",
         "name": "11523",
         "showlegend": false,
         "type": "scattergl",
         "x": [
          40
         ],
         "xaxis": "x3",
         "y": [
          15
         ],
         "yaxis": "y3"
        },
        {
         "hovertemplate": "item_id=12186<br>year=2013<br>week=%{x}<br>average_weekly_sales=%{y}<extra></extra>",
         "legendgroup": "12186",
         "line": {
          "color": "#B6E880",
          "dash": "solid"
         },
         "marker": {
          "symbol": "circle"
         },
         "mode": "lines",
         "name": "12186",
         "showlegend": true,
         "type": "scattergl",
         "x": [
          40
         ],
         "xaxis": "x",
         "y": [
          10
         ],
         "yaxis": "y"
        },
        {
         "hovertemplate": "item_id=13614<br>year=2013<br>week=%{x}<br>average_weekly_sales=%{y}<extra></extra>",
         "legendgroup": "13614",
         "line": {
          "color": "#FF97FF",
          "dash": "solid"
         },
         "marker": {
          "symbol": "circle"
         },
         "mode": "lines",
         "name": "13614",
         "showlegend": true,
         "type": "scattergl",
         "x": [
          40
         ],
         "xaxis": "x",
         "y": [
          17
         ],
         "yaxis": "y"
        },
        {
         "hovertemplate": "item_id=13616<br>year=2013<br>week=%{x}<br>average_weekly_sales=%{y}<extra></extra>",
         "legendgroup": "13616",
         "line": {
          "color": "#FECB52",
          "dash": "solid"
         },
         "marker": {
          "symbol": "circle"
         },
         "mode": "lines",
         "name": "13616",
         "showlegend": true,
         "type": "scattergl",
         "x": [
          40
         ],
         "xaxis": "x",
         "y": [
          11.571428571428571
         ],
         "yaxis": "y"
        },
        {
         "hovertemplate": "item_id=13616<br>year=2014<br>week=%{x}<br>average_weekly_sales=%{y}<extra></extra>",
         "legendgroup": "13616",
         "line": {
          "color": "#FECB52",
          "dash": "solid"
         },
         "marker": {
          "symbol": "circle"
         },
         "mode": "lines",
         "name": "13616",
         "showlegend": false,
         "type": "scattergl",
         "x": [
          40
         ],
         "xaxis": "x2",
         "y": [
          12
         ],
         "yaxis": "y2"
        },
        {
         "hovertemplate": "item_id=13617<br>year=2013<br>week=%{x}<br>average_weekly_sales=%{y}<extra></extra>",
         "legendgroup": "13617",
         "line": {
          "color": "#636efa",
          "dash": "solid"
         },
         "marker": {
          "symbol": "circle"
         },
         "mode": "lines",
         "name": "13617",
         "showlegend": true,
         "type": "scattergl",
         "x": [
          40
         ],
         "xaxis": "x",
         "y": [
          25.666666666666668
         ],
         "yaxis": "y"
        },
        {
         "hovertemplate": "item_id=13619<br>year=2013<br>week=%{x}<br>average_weekly_sales=%{y}<extra></extra>",
         "legendgroup": "13619",
         "line": {
          "color": "#EF553B",
          "dash": "solid"
         },
         "marker": {
          "symbol": "circle"
         },
         "mode": "lines",
         "name": "13619",
         "showlegend": true,
         "type": "scattergl",
         "x": [
          40
         ],
         "xaxis": "x",
         "y": [
          14.444444444444445
         ],
         "yaxis": "y"
        },
        {
         "hovertemplate": "item_id=13620<br>year=2013<br>week=%{x}<br>average_weekly_sales=%{y}<extra></extra>",
         "legendgroup": "13620",
         "line": {
          "color": "#00cc96",
          "dash": "solid"
         },
         "marker": {
          "symbol": "circle"
         },
         "mode": "lines",
         "name": "13620",
         "showlegend": true,
         "type": "scattergl",
         "x": [
          40
         ],
         "xaxis": "x",
         "y": [
          18
         ],
         "yaxis": "y"
        },
        {
         "hovertemplate": "item_id=13639<br>year=2013<br>week=%{x}<br>average_weekly_sales=%{y}<extra></extra>",
         "legendgroup": "13639",
         "line": {
          "color": "#ab63fa",
          "dash": "solid"
         },
         "marker": {
          "symbol": "circle"
         },
         "mode": "lines",
         "name": "13639",
         "showlegend": true,
         "type": "scattergl",
         "x": [
          40
         ],
         "xaxis": "x",
         "y": [
          11
         ],
         "yaxis": "y"
        },
        {
         "hovertemplate": "item_id=13639<br>year=2014<br>week=%{x}<br>average_weekly_sales=%{y}<extra></extra>",
         "legendgroup": "13639",
         "line": {
          "color": "#ab63fa",
          "dash": "solid"
         },
         "marker": {
          "symbol": "circle"
         },
         "mode": "lines",
         "name": "13639",
         "showlegend": false,
         "type": "scattergl",
         "x": [
          40
         ],
         "xaxis": "x2",
         "y": [
          12
         ],
         "yaxis": "y2"
        },
        {
         "hovertemplate": "item_id=13640<br>year=2013<br>week=%{x}<br>average_weekly_sales=%{y}<extra></extra>",
         "legendgroup": "13640",
         "line": {
          "color": "#FFA15A",
          "dash": "solid"
         },
         "marker": {
          "symbol": "circle"
         },
         "mode": "lines",
         "name": "13640",
         "showlegend": true,
         "type": "scattergl",
         "x": [
          40
         ],
         "xaxis": "x",
         "y": [
          14
         ],
         "yaxis": "y"
        },
        {
         "hovertemplate": "item_id=13640<br>year=2014<br>week=%{x}<br>average_weekly_sales=%{y}<extra></extra>",
         "legendgroup": "13640",
         "line": {
          "color": "#FFA15A",
          "dash": "solid"
         },
         "marker": {
          "symbol": "circle"
         },
         "mode": "lines",
         "name": "13640",
         "showlegend": false,
         "type": "scattergl",
         "x": [
          40
         ],
         "xaxis": "x2",
         "y": [
          12
         ],
         "yaxis": "y2"
        },
        {
         "hovertemplate": "item_id=15053<br>year=2013<br>week=%{x}<br>average_weekly_sales=%{y}<extra></extra>",
         "legendgroup": "15053",
         "line": {
          "color": "#19d3f3",
          "dash": "solid"
         },
         "marker": {
          "symbol": "circle"
         },
         "mode": "lines",
         "name": "15053",
         "showlegend": true,
         "type": "scattergl",
         "x": [
          40
         ],
         "xaxis": "x",
         "y": [
          15
         ],
         "yaxis": "y"
        },
        {
         "hovertemplate": "item_id=15226<br>year=2013<br>week=%{x}<br>average_weekly_sales=%{y}<extra></extra>",
         "legendgroup": "15226",
         "line": {
          "color": "#FF6692",
          "dash": "solid"
         },
         "marker": {
          "symbol": "circle"
         },
         "mode": "lines",
         "name": "15226",
         "showlegend": true,
         "type": "scattergl",
         "x": [
          40
         ],
         "xaxis": "x",
         "y": [
          15
         ],
         "yaxis": "y"
        },
        {
         "hovertemplate": "item_id=15293<br>year=2013<br>week=%{x}<br>average_weekly_sales=%{y}<extra></extra>",
         "legendgroup": "15293",
         "line": {
          "color": "#B6E880",
          "dash": "solid"
         },
         "marker": {
          "symbol": "circle"
         },
         "mode": "lines",
         "name": "15293",
         "showlegend": true,
         "type": "scattergl",
         "x": [
          40
         ],
         "xaxis": "x",
         "y": [
          10.5
         ],
         "yaxis": "y"
        },
        {
         "hovertemplate": "item_id=15910<br>year=2013<br>week=%{x}<br>average_weekly_sales=%{y}<extra></extra>",
         "legendgroup": "15910",
         "line": {
          "color": "#FF97FF",
          "dash": "solid"
         },
         "marker": {
          "symbol": "circle"
         },
         "mode": "lines",
         "name": "15910",
         "showlegend": true,
         "type": "scattergl",
         "x": [
          40
         ],
         "xaxis": "x",
         "y": [
          13
         ],
         "yaxis": "y"
        },
        {
         "hovertemplate": "item_id=16258<br>year=2013<br>week=%{x}<br>average_weekly_sales=%{y}<extra></extra>",
         "legendgroup": "16258",
         "line": {
          "color": "#FECB52",
          "dash": "solid"
         },
         "marker": {
          "symbol": "circle"
         },
         "mode": "lines",
         "name": "16258",
         "showlegend": true,
         "type": "scattergl",
         "x": [
          40
         ],
         "xaxis": "x",
         "y": [
          15
         ],
         "yaxis": "y"
        },
        {
         "hovertemplate": "item_id=16258<br>year=2014<br>week=%{x}<br>average_weekly_sales=%{y}<extra></extra>",
         "legendgroup": "16258",
         "line": {
          "color": "#FECB52",
          "dash": "solid"
         },
         "marker": {
          "symbol": "circle"
         },
         "mode": "lines",
         "name": "16258",
         "showlegend": false,
         "type": "scattergl",
         "x": [
          40
         ],
         "xaxis": "x2",
         "y": [
          9.666666666666666
         ],
         "yaxis": "y2"
        },
        {
         "hovertemplate": "item_id=16259<br>year=2013<br>week=%{x}<br>average_weekly_sales=%{y}<extra></extra>",
         "legendgroup": "16259",
         "line": {
          "color": "#636efa",
          "dash": "solid"
         },
         "marker": {
          "symbol": "circle"
         },
         "mode": "lines",
         "name": "16259",
         "showlegend": true,
         "type": "scattergl",
         "x": [
          40
         ],
         "xaxis": "x",
         "y": [
          15
         ],
         "yaxis": "y"
        },
        {
         "hovertemplate": "item_id=16259<br>year=2014<br>week=%{x}<br>average_weekly_sales=%{y}<extra></extra>",
         "legendgroup": "16259",
         "line": {
          "color": "#636efa",
          "dash": "solid"
         },
         "marker": {
          "symbol": "circle"
         },
         "mode": "lines",
         "name": "16259",
         "showlegend": false,
         "type": "scattergl",
         "x": [
          40
         ],
         "xaxis": "x2",
         "y": [
          16
         ],
         "yaxis": "y2"
        },
        {
         "hovertemplate": "item_id=16268<br>year=2013<br>week=%{x}<br>average_weekly_sales=%{y}<extra></extra>",
         "legendgroup": "16268",
         "line": {
          "color": "#EF553B",
          "dash": "solid"
         },
         "marker": {
          "symbol": "circle"
         },
         "mode": "lines",
         "name": "16268",
         "showlegend": true,
         "type": "scattergl",
         "x": [
          40
         ],
         "xaxis": "x",
         "y": [
          10
         ],
         "yaxis": "y"
        },
        {
         "hovertemplate": "item_id=17715<br>year=2013<br>week=%{x}<br>average_weekly_sales=%{y}<extra></extra>",
         "legendgroup": "17715",
         "line": {
          "color": "#00cc96",
          "dash": "solid"
         },
         "marker": {
          "symbol": "circle"
         },
         "mode": "lines",
         "name": "17715",
         "showlegend": true,
         "type": "scattergl",
         "x": [
          40
         ],
         "xaxis": "x",
         "y": [
          20
         ],
         "yaxis": "y"
        },
        {
         "hovertemplate": "item_id=19983<br>year=2013<br>week=%{x}<br>average_weekly_sales=%{y}<extra></extra>",
         "legendgroup": "19983",
         "line": {
          "color": "#ab63fa",
          "dash": "solid"
         },
         "marker": {
          "symbol": "circle"
         },
         "mode": "lines",
         "name": "19983",
         "showlegend": true,
         "type": "scattergl",
         "x": [
          40
         ],
         "xaxis": "x",
         "y": [
          20
         ],
         "yaxis": "y"
        },
        {
         "hovertemplate": "item_id=20338<br>year=2013<br>week=%{x}<br>average_weekly_sales=%{y}<extra></extra>",
         "legendgroup": "20338",
         "line": {
          "color": "#FFA15A",
          "dash": "solid"
         },
         "marker": {
          "symbol": "circle"
         },
         "mode": "lines",
         "name": "20338",
         "showlegend": true,
         "type": "scattergl",
         "x": [
          40
         ],
         "xaxis": "x",
         "y": [
          10
         ],
         "yaxis": "y"
        },
        {
         "hovertemplate": "item_id=20340<br>year=2013<br>week=%{x}<br>average_weekly_sales=%{y}<extra></extra>",
         "legendgroup": "20340",
         "line": {
          "color": "#19d3f3",
          "dash": "solid"
         },
         "marker": {
          "symbol": "circle"
         },
         "mode": "lines",
         "name": "20340",
         "showlegend": true,
         "type": "scattergl",
         "x": [
          40
         ],
         "xaxis": "x",
         "y": [
          14
         ],
         "yaxis": "y"
        },
        {
         "hovertemplate": "item_id=20354<br>year=2013<br>week=%{x}<br>average_weekly_sales=%{y}<extra></extra>",
         "legendgroup": "20354",
         "line": {
          "color": "#FF6692",
          "dash": "solid"
         },
         "marker": {
          "symbol": "circle"
         },
         "mode": "lines",
         "name": "20354",
         "showlegend": true,
         "type": "scattergl",
         "x": [
          40
         ],
         "xaxis": "x",
         "y": [
          15
         ],
         "yaxis": "y"
        },
        {
         "hovertemplate": "item_id=21934<br>year=2013<br>week=%{x}<br>average_weekly_sales=%{y}<extra></extra>",
         "legendgroup": "21934",
         "line": {
          "color": "#B6E880",
          "dash": "solid"
         },
         "marker": {
          "symbol": "circle"
         },
         "mode": "lines",
         "name": "21934",
         "showlegend": true,
         "type": "scattergl",
         "x": [
          40
         ],
         "xaxis": "x",
         "y": [
          15
         ],
         "yaxis": "y"
        },
        {
         "hovertemplate": "item_id=21935<br>year=2013<br>week=%{x}<br>average_weekly_sales=%{y}<extra></extra>",
         "legendgroup": "21935",
         "line": {
          "color": "#FF97FF",
          "dash": "solid"
         },
         "marker": {
          "symbol": "circle"
         },
         "mode": "lines",
         "name": "21935",
         "showlegend": true,
         "type": "scattergl",
         "x": [
          40
         ],
         "xaxis": "x",
         "y": [
          15
         ],
         "yaxis": "y"
        },
        {
         "hovertemplate": "item_id=7918<br>year=2013<br>week=%{x}<br>average_weekly_sales=%{y}<extra></extra>",
         "legendgroup": "7918",
         "line": {
          "color": "#FECB52",
          "dash": "solid"
         },
         "marker": {
          "symbol": "circle"
         },
         "mode": "lines",
         "name": "7918",
         "showlegend": true,
         "type": "scattergl",
         "x": [
          41,
          46
         ],
         "xaxis": "x",
         "y": [
          13,
          21
         ],
         "yaxis": "y"
        },
        {
         "hovertemplate": "item_id=11811<br>year=2013<br>week=%{x}<br>average_weekly_sales=%{y}<extra></extra>",
         "legendgroup": "11811",
         "line": {
          "color": "#636efa",
          "dash": "solid"
         },
         "marker": {
          "symbol": "circle"
         },
         "mode": "lines",
         "name": "11811",
         "showlegend": true,
         "type": "scattergl",
         "x": [
          41
         ],
         "xaxis": "x",
         "y": [
          12.386363636363637
         ],
         "yaxis": "y"
        },
        {
         "hovertemplate": "item_id=11813<br>year=2013<br>week=%{x}<br>average_weekly_sales=%{y}<extra></extra>",
         "legendgroup": "11813",
         "line": {
          "color": "#EF553B",
          "dash": "solid"
         },
         "marker": {
          "symbol": "circle"
         },
         "mode": "lines",
         "name": "11813",
         "showlegend": true,
         "type": "scattergl",
         "x": [
          41
         ],
         "xaxis": "x",
         "y": [
          29.325581395348838
         ],
         "yaxis": "y"
        },
        {
         "hovertemplate": "item_id=16501<br>year=2013<br>week=%{x}<br>average_weekly_sales=%{y}<extra></extra>",
         "legendgroup": "16501",
         "line": {
          "color": "#00cc96",
          "dash": "solid"
         },
         "marker": {
          "symbol": "circle"
         },
         "mode": "lines",
         "name": "16501",
         "showlegend": true,
         "type": "scattergl",
         "x": [
          42
         ],
         "xaxis": "x",
         "y": [
          9.906976744186046
         ],
         "yaxis": "y"
        },
        {
         "hovertemplate": "item_id=1809<br>year=2013<br>week=%{x}<br>average_weekly_sales=%{y}<extra></extra>",
         "legendgroup": "1809",
         "line": {
          "color": "#ab63fa",
          "dash": "solid"
         },
         "marker": {
          "symbol": "circle"
         },
         "mode": "lines",
         "name": "1809",
         "showlegend": true,
         "type": "scattergl",
         "x": [
          43
         ],
         "xaxis": "x",
         "y": [
          14.613636363636363
         ],
         "yaxis": "y"
        },
        {
         "hovertemplate": "item_id=1810<br>year=2013<br>week=%{x}<br>average_weekly_sales=%{y}<extra></extra>",
         "legendgroup": "1810",
         "line": {
          "color": "#FFA15A",
          "dash": "solid"
         },
         "marker": {
          "symbol": "circle"
         },
         "mode": "lines",
         "name": "1810",
         "showlegend": true,
         "type": "scattergl",
         "x": [
          43
         ],
         "xaxis": "x",
         "y": [
          12.921052631578947
         ],
         "yaxis": "y"
        },
        {
         "hovertemplate": "item_id=1811<br>year=2013<br>week=%{x}<br>average_weekly_sales=%{y}<extra></extra>",
         "legendgroup": "1811",
         "line": {
          "color": "#19d3f3",
          "dash": "solid"
         },
         "marker": {
          "symbol": "circle"
         },
         "mode": "lines",
         "name": "1811",
         "showlegend": true,
         "type": "scattergl",
         "x": [
          43
         ],
         "xaxis": "x",
         "y": [
          11.380952380952381
         ],
         "yaxis": "y"
        },
        {
         "hovertemplate": "item_id=1848<br>year=2013<br>week=%{x}<br>average_weekly_sales=%{y}<extra></extra>",
         "legendgroup": "1848",
         "line": {
          "color": "#FF6692",
          "dash": "solid"
         },
         "marker": {
          "symbol": "circle"
         },
         "mode": "lines",
         "name": "1848",
         "showlegend": true,
         "type": "scattergl",
         "x": [
          43,
          44
         ],
         "xaxis": "x",
         "y": [
          11,
          15
         ],
         "yaxis": "y"
        },
        {
         "hovertemplate": "item_id=6471<br>year=2013<br>week=%{x}<br>average_weekly_sales=%{y}<extra></extra>",
         "legendgroup": "6471",
         "line": {
          "color": "#B6E880",
          "dash": "solid"
         },
         "marker": {
          "symbol": "circle"
         },
         "mode": "lines",
         "name": "6471",
         "showlegend": true,
         "type": "scattergl",
         "x": [
          43
         ],
         "xaxis": "x",
         "y": [
          9.097560975609756
         ],
         "yaxis": "y"
        },
        {
         "hovertemplate": "item_id=8829<br>year=2013<br>week=%{x}<br>average_weekly_sales=%{y}<extra></extra>",
         "legendgroup": "8829",
         "line": {
          "color": "#FF97FF",
          "dash": "solid"
         },
         "marker": {
          "symbol": "circle"
         },
         "mode": "lines",
         "name": "8829",
         "showlegend": true,
         "type": "scattergl",
         "x": [
          43
         ],
         "xaxis": "x",
         "y": [
          11
         ],
         "yaxis": "y"
        },
        {
         "hovertemplate": "item_id=19329<br>year=2013<br>week=%{x}<br>average_weekly_sales=%{y}<extra></extra>",
         "legendgroup": "19329",
         "line": {
          "color": "#FECB52",
          "dash": "solid"
         },
         "marker": {
          "symbol": "circle"
         },
         "mode": "lines",
         "name": "19329",
         "showlegend": true,
         "type": "scattergl",
         "x": [
          43
         ],
         "xaxis": "x",
         "y": [
          20
         ],
         "yaxis": "y"
        },
        {
         "hovertemplate": "item_id=1512<br>year=2013<br>week=%{x}<br>average_weekly_sales=%{y}<extra></extra>",
         "legendgroup": "1512",
         "line": {
          "color": "#636efa",
          "dash": "solid"
         },
         "marker": {
          "symbol": "circle"
         },
         "mode": "lines",
         "name": "1512",
         "showlegend": true,
         "type": "scattergl",
         "x": [
          44
         ],
         "xaxis": "x",
         "y": [
          13.047619047619047
         ],
         "yaxis": "y"
        },
        {
         "hovertemplate": "item_id=1849<br>year=2013<br>week=%{x}<br>average_weekly_sales=%{y}<extra></extra>",
         "legendgroup": "1849",
         "line": {
          "color": "#EF553B",
          "dash": "solid"
         },
         "marker": {
          "symbol": "circle"
         },
         "mode": "lines",
         "name": "1849",
         "showlegend": true,
         "type": "scattergl",
         "x": [
          44,
          45
         ],
         "xaxis": "x",
         "y": [
          72.95454545454545,
          14.886363636363637
         ],
         "yaxis": "y"
        },
        {
         "hovertemplate": "item_id=1850<br>year=2013<br>week=%{x}<br>average_weekly_sales=%{y}<extra></extra>",
         "legendgroup": "1850",
         "line": {
          "color": "#00cc96",
          "dash": "solid"
         },
         "marker": {
          "symbol": "circle"
         },
         "mode": "lines",
         "name": "1850",
         "showlegend": true,
         "type": "scattergl",
         "x": [
          44
         ],
         "xaxis": "x",
         "y": [
          13.883720930232558
         ],
         "yaxis": "y"
        },
        {
         "hovertemplate": "item_id=1854<br>year=2013<br>week=%{x}<br>average_weekly_sales=%{y}<extra></extra>",
         "legendgroup": "1854",
         "line": {
          "color": "#ab63fa",
          "dash": "solid"
         },
         "marker": {
          "symbol": "circle"
         },
         "mode": "lines",
         "name": "1854",
         "showlegend": true,
         "type": "scattergl",
         "x": [
          44,
          46,
          49
         ],
         "xaxis": "x",
         "y": [
          18,
          19,
          14
         ],
         "yaxis": "y"
        },
        {
         "hovertemplate": "item_id=1854<br>year=2014<br>week=%{x}<br>average_weekly_sales=%{y}<extra></extra>",
         "legendgroup": "1854",
         "line": {
          "color": "#ab63fa",
          "dash": "solid"
         },
         "marker": {
          "symbol": "circle"
         },
         "mode": "lines",
         "name": "1854",
         "showlegend": false,
         "type": "scattergl",
         "x": [
          17,
          18
         ],
         "xaxis": "x2",
         "y": [
          20,
          10
         ],
         "yaxis": "y2"
        },
        {
         "hovertemplate": "item_id=1855<br>year=2013<br>week=%{x}<br>average_weekly_sales=%{y}<extra></extra>",
         "legendgroup": "1855",
         "line": {
          "color": "#FFA15A",
          "dash": "solid"
         },
         "marker": {
          "symbol": "circle"
         },
         "mode": "lines",
         "name": "1855",
         "showlegend": true,
         "type": "scattergl",
         "x": [
          44,
          45,
          52
         ],
         "xaxis": "x",
         "y": [
          23.204545454545453,
          12.840909090909092,
          15.272727272727273
         ],
         "yaxis": "y"
        },
        {
         "hovertemplate": "item_id=1855<br>year=2014<br>week=%{x}<br>average_weekly_sales=%{y}<extra></extra>",
         "legendgroup": "1855",
         "line": {
          "color": "#FFA15A",
          "dash": "solid"
         },
         "marker": {
          "symbol": "circle"
         },
         "mode": "lines",
         "name": "1855",
         "showlegend": false,
         "type": "scattergl",
         "x": [
          1
         ],
         "xaxis": "x2",
         "y": [
          9.363636363636363
         ],
         "yaxis": "y2"
        },
        {
         "hovertemplate": "item_id=2264<br>year=2013<br>week=%{x}<br>average_weekly_sales=%{y}<extra></extra>",
         "legendgroup": "2264",
         "line": {
          "color": "#19d3f3",
          "dash": "solid"
         },
         "marker": {
          "symbol": "circle"
         },
         "mode": "lines",
         "name": "2264",
         "showlegend": true,
         "type": "scattergl",
         "x": [
          44,
          45
         ],
         "xaxis": "x",
         "y": [
          14,
          30
         ],
         "yaxis": "y"
        },
        {
         "hovertemplate": "item_id=2266<br>year=2013<br>week=%{x}<br>average_weekly_sales=%{y}<extra></extra>",
         "legendgroup": "2266",
         "line": {
          "color": "#FF6692",
          "dash": "solid"
         },
         "marker": {
          "symbol": "circle"
         },
         "mode": "lines",
         "name": "2266",
         "showlegend": true,
         "type": "scattergl",
         "x": [
          44,
          45
         ],
         "xaxis": "x",
         "y": [
          15,
          28
         ],
         "yaxis": "y"
        },
        {
         "hovertemplate": "item_id=4861<br>year=2013<br>week=%{x}<br>average_weekly_sales=%{y}<extra></extra>",
         "legendgroup": "4861",
         "line": {
          "color": "#B6E880",
          "dash": "solid"
         },
         "marker": {
          "symbol": "circle"
         },
         "mode": "lines",
         "name": "4861",
         "showlegend": true,
         "type": "scattergl",
         "x": [
          44
         ],
         "xaxis": "x",
         "y": [
          10
         ],
         "yaxis": "y"
        },
        {
         "hovertemplate": "item_id=10298<br>year=2013<br>week=%{x}<br>average_weekly_sales=%{y}<extra></extra>",
         "legendgroup": "10298",
         "line": {
          "color": "#FF97FF",
          "dash": "solid"
         },
         "marker": {
          "symbol": "circle"
         },
         "mode": "lines",
         "name": "10298",
         "showlegend": true,
         "type": "scattergl",
         "x": [
          44,
          45
         ],
         "xaxis": "x",
         "y": [
          12.536585365853659,
          10.454545454545455
         ],
         "yaxis": "y"
        },
        {
         "hovertemplate": "item_id=803<br>year=2013<br>week=%{x}<br>average_weekly_sales=%{y}<extra></extra>",
         "legendgroup": "803",
         "line": {
          "color": "#FECB52",
          "dash": "solid"
         },
         "marker": {
          "symbol": "circle"
         },
         "mode": "lines",
         "name": "803",
         "showlegend": true,
         "type": "scattergl",
         "x": [
          45,
          46
         ],
         "xaxis": "x",
         "y": [
          14,
          11
         ],
         "yaxis": "y"
        },
        {
         "hovertemplate": "item_id=2269<br>year=2013<br>week=%{x}<br>average_weekly_sales=%{y}<extra></extra>",
         "legendgroup": "2269",
         "line": {
          "color": "#636efa",
          "dash": "solid"
         },
         "marker": {
          "symbol": "circle"
         },
         "mode": "lines",
         "name": "2269",
         "showlegend": true,
         "type": "scattergl",
         "x": [
          45,
          46
         ],
         "xaxis": "x",
         "y": [
          33.404761904761905,
          11.272727272727273
         ],
         "yaxis": "y"
        },
        {
         "hovertemplate": "item_id=2278<br>year=2013<br>week=%{x}<br>average_weekly_sales=%{y}<extra></extra>",
         "legendgroup": "2278",
         "line": {
          "color": "#EF553B",
          "dash": "solid"
         },
         "marker": {
          "symbol": "circle"
         },
         "mode": "lines",
         "name": "2278",
         "showlegend": true,
         "type": "scattergl",
         "x": [
          45
         ],
         "xaxis": "x",
         "y": [
          18.048780487804876
         ],
         "yaxis": "y"
        },
        {
         "hovertemplate": "item_id=2279<br>year=2013<br>week=%{x}<br>average_weekly_sales=%{y}<extra></extra>",
         "legendgroup": "2279",
         "line": {
          "color": "#00cc96",
          "dash": "solid"
         },
         "marker": {
          "symbol": "circle"
         },
         "mode": "lines",
         "name": "2279",
         "showlegend": true,
         "type": "scattergl",
         "x": [
          45
         ],
         "xaxis": "x",
         "y": [
          24.30952380952381
         ],
         "yaxis": "y"
        },
        {
         "hovertemplate": "item_id=658<br>year=2013<br>week=%{x}<br>average_weekly_sales=%{y}<extra></extra>",
         "legendgroup": "658",
         "line": {
          "color": "#ab63fa",
          "dash": "solid"
         },
         "marker": {
          "symbol": "circle"
         },
         "mode": "lines",
         "name": "658",
         "showlegend": true,
         "type": "scattergl",
         "x": [
          46
         ],
         "xaxis": "x",
         "y": [
          61
         ],
         "yaxis": "y"
        },
        {
         "hovertemplate": "item_id=1852<br>year=2013<br>week=%{x}<br>average_weekly_sales=%{y}<extra></extra>",
         "legendgroup": "1852",
         "line": {
          "color": "#FFA15A",
          "dash": "solid"
         },
         "marker": {
          "symbol": "circle"
         },
         "mode": "lines",
         "name": "1852",
         "showlegend": true,
         "type": "scattergl",
         "x": [
          46,
          47
         ],
         "xaxis": "x",
         "y": [
          11,
          14
         ],
         "yaxis": "y"
        },
        {
         "hovertemplate": "item_id=1852<br>year=2014<br>week=%{x}<br>average_weekly_sales=%{y}<extra></extra>",
         "legendgroup": "1852",
         "line": {
          "color": "#FFA15A",
          "dash": "solid"
         },
         "marker": {
          "symbol": "circle"
         },
         "mode": "lines",
         "name": "1852",
         "showlegend": false,
         "type": "scattergl",
         "x": [
          17,
          18,
          47
         ],
         "xaxis": "x2",
         "y": [
          31,
          10,
          10
         ],
         "yaxis": "y2"
        },
        {
         "hovertemplate": "item_id=1495<br>year=2013<br>week=%{x}<br>average_weekly_sales=%{y}<extra></extra>",
         "legendgroup": "1495",
         "line": {
          "color": "#19d3f3",
          "dash": "solid"
         },
         "marker": {
          "symbol": "circle"
         },
         "mode": "lines",
         "name": "1495",
         "showlegend": true,
         "type": "scattergl",
         "x": [
          47
         ],
         "xaxis": "x",
         "y": [
          13.575
         ],
         "yaxis": "y"
        },
        {
         "hovertemplate": "item_id=1498<br>year=2013<br>week=%{x}<br>average_weekly_sales=%{y}<extra></extra>",
         "legendgroup": "1498",
         "line": {
          "color": "#FF6692",
          "dash": "solid"
         },
         "marker": {
          "symbol": "circle"
         },
         "mode": "lines",
         "name": "1498",
         "showlegend": true,
         "type": "scattergl",
         "x": [
          47
         ],
         "xaxis": "x",
         "y": [
          11.76923076923077
         ],
         "yaxis": "y"
        },
        {
         "hovertemplate": "item_id=1502<br>year=2013<br>week=%{x}<br>average_weekly_sales=%{y}<extra></extra>",
         "legendgroup": "1502",
         "line": {
          "color": "#B6E880",
          "dash": "solid"
         },
         "marker": {
          "symbol": "circle"
         },
         "mode": "lines",
         "name": "1502",
         "showlegend": true,
         "type": "scattergl",
         "x": [
          47
         ],
         "xaxis": "x",
         "y": [
          21.025
         ],
         "yaxis": "y"
        },
        {
         "hovertemplate": "item_id=1511<br>year=2013<br>week=%{x}<br>average_weekly_sales=%{y}<extra></extra>",
         "legendgroup": "1511",
         "line": {
          "color": "#FF97FF",
          "dash": "solid"
         },
         "marker": {
          "symbol": "circle"
         },
         "mode": "lines",
         "name": "1511",
         "showlegend": true,
         "type": "scattergl",
         "x": [
          47,
          48
         ],
         "xaxis": "x",
         "y": [
          32.4390243902439,
          10.767441860465116
         ],
         "yaxis": "y"
        },
        {
         "hovertemplate": "item_id=5235<br>year=2013<br>week=%{x}<br>average_weekly_sales=%{y}<extra></extra>",
         "legendgroup": "5235",
         "line": {
          "color": "#FECB52",
          "dash": "solid"
         },
         "marker": {
          "symbol": "circle"
         },
         "mode": "lines",
         "name": "5235",
         "showlegend": true,
         "type": "scattergl",
         "x": [
          47
         ],
         "xaxis": "x",
         "y": [
          11.714285714285714
         ],
         "yaxis": "y"
        },
        {
         "hovertemplate": "item_id=917<br>year=2013<br>week=%{x}<br>average_weekly_sales=%{y}<extra></extra>",
         "legendgroup": "917",
         "line": {
          "color": "#636efa",
          "dash": "solid"
         },
         "marker": {
          "symbol": "circle"
         },
         "mode": "lines",
         "name": "917",
         "showlegend": true,
         "type": "scattergl",
         "x": [
          48
         ],
         "xaxis": "x",
         "y": [
          14
         ],
         "yaxis": "y"
        },
        {
         "hovertemplate": "item_id=1506<br>year=2013<br>week=%{x}<br>average_weekly_sales=%{y}<extra></extra>",
         "legendgroup": "1506",
         "line": {
          "color": "#EF553B",
          "dash": "solid"
         },
         "marker": {
          "symbol": "circle"
         },
         "mode": "lines",
         "name": "1506",
         "showlegend": true,
         "type": "scattergl",
         "x": [
          48,
          49,
          50
         ],
         "xaxis": "x",
         "y": [
          10,
          28,
          11
         ],
         "yaxis": "y"
        },
        {
         "hovertemplate": "item_id=3333<br>year=2013<br>week=%{x}<br>average_weekly_sales=%{y}<extra></extra>",
         "legendgroup": "3333",
         "line": {
          "color": "#00cc96",
          "dash": "solid"
         },
         "marker": {
          "symbol": "circle"
         },
         "mode": "lines",
         "name": "3333",
         "showlegend": true,
         "type": "scattergl",
         "x": [
          48
         ],
         "xaxis": "x",
         "y": [
          10.976744186046512
         ],
         "yaxis": "y"
        },
        {
         "hovertemplate": "item_id=4231<br>year=2013<br>week=%{x}<br>average_weekly_sales=%{y}<extra></extra>",
         "legendgroup": "4231",
         "line": {
          "color": "#ab63fa",
          "dash": "solid"
         },
         "marker": {
          "symbol": "circle"
         },
         "mode": "lines",
         "name": "4231",
         "showlegend": true,
         "type": "scattergl",
         "x": [
          48
         ],
         "xaxis": "x",
         "y": [
          22.818181818181817
         ],
         "yaxis": "y"
        },
        {
         "hovertemplate": "item_id=6675<br>year=2013<br>week=%{x}<br>average_weekly_sales=%{y}<extra></extra>",
         "legendgroup": "6675",
         "line": {
          "color": "#FFA15A",
          "dash": "solid"
         },
         "marker": {
          "symbol": "circle"
         },
         "mode": "lines",
         "name": "6675",
         "showlegend": true,
         "type": "scattergl",
         "x": [
          48,
          51,
          52
         ],
         "xaxis": "x",
         "y": [
          42.09090909090909,
          17.285714285714285,
          11.681818181818182
         ],
         "yaxis": "y"
        },
        {
         "hovertemplate": "item_id=6675<br>year=2014<br>week=%{x}<br>average_weekly_sales=%{y}<extra></extra>",
         "legendgroup": "6675",
         "line": {
          "color": "#FFA15A",
          "dash": "solid"
         },
         "marker": {
          "symbol": "circle"
         },
         "mode": "lines",
         "name": "6675",
         "showlegend": false,
         "type": "scattergl",
         "x": [
          6
         ],
         "xaxis": "x2",
         "y": [
          16.025641025641026
         ],
         "yaxis": "y2"
        },
        {
         "hovertemplate": "item_id=9240<br>year=2013<br>week=%{x}<br>average_weekly_sales=%{y}<extra></extra>",
         "legendgroup": "9240",
         "line": {
          "color": "#19d3f3",
          "dash": "solid"
         },
         "marker": {
          "symbol": "circle"
         },
         "mode": "lines",
         "name": "9240",
         "showlegend": true,
         "type": "scattergl",
         "x": [
          48
         ],
         "xaxis": "x",
         "y": [
          11
         ],
         "yaxis": "y"
        },
        {
         "hovertemplate": "item_id=9240<br>year=2014<br>week=%{x}<br>average_weekly_sales=%{y}<extra></extra>",
         "legendgroup": "9240",
         "line": {
          "color": "#19d3f3",
          "dash": "solid"
         },
         "marker": {
          "symbol": "circle"
         },
         "mode": "lines",
         "name": "9240",
         "showlegend": false,
         "type": "scattergl",
         "x": [
          48,
          49
         ],
         "xaxis": "x2",
         "y": [
          26,
          27
         ],
         "yaxis": "y2"
        },
        {
         "hovertemplate": "item_id=11364<br>year=2013<br>week=%{x}<br>average_weekly_sales=%{y}<extra></extra>",
         "legendgroup": "11364",
         "line": {
          "color": "#FF6692",
          "dash": "solid"
         },
         "marker": {
          "symbol": "circle"
         },
         "mode": "lines",
         "name": "11364",
         "showlegend": true,
         "type": "scattergl",
         "x": [
          48
         ],
         "xaxis": "x",
         "y": [
          10
         ],
         "yaxis": "y"
        },
        {
         "hovertemplate": "item_id=3707<br>year=2013<br>week=%{x}<br>average_weekly_sales=%{y}<extra></extra>",
         "legendgroup": "3707",
         "line": {
          "color": "#B6E880",
          "dash": "solid"
         },
         "marker": {
          "symbol": "circle"
         },
         "mode": "lines",
         "name": "3707",
         "showlegend": true,
         "type": "scattergl",
         "x": [
          49
         ],
         "xaxis": "x",
         "y": [
          10.404761904761905
         ],
         "yaxis": "y"
        },
        {
         "hovertemplate": "item_id=22166<br>year=2013<br>week=%{x}<br>average_weekly_sales=%{y}<extra></extra>",
         "legendgroup": "22166",
         "line": {
          "color": "#FF97FF",
          "dash": "solid"
         },
         "marker": {
          "symbol": "circle"
         },
         "mode": "lines",
         "name": "22166",
         "showlegend": true,
         "type": "scattergl",
         "x": [
          49
         ],
         "xaxis": "x",
         "y": [
          12
         ],
         "yaxis": "y"
        },
        {
         "hovertemplate": "item_id=22166<br>year=2014<br>week=%{x}<br>average_weekly_sales=%{y}<extra></extra>",
         "legendgroup": "22166",
         "line": {
          "color": "#FF97FF",
          "dash": "solid"
         },
         "marker": {
          "symbol": "circle"
         },
         "mode": "lines",
         "name": "22166",
         "showlegend": false,
         "type": "scattergl",
         "x": [
          11
         ],
         "xaxis": "x2",
         "y": [
          10
         ],
         "yaxis": "y2"
        },
        {
         "hovertemplate": "item_id=805<br>year=2013<br>week=%{x}<br>average_weekly_sales=%{y}<extra></extra>",
         "legendgroup": "805",
         "line": {
          "color": "#FECB52",
          "dash": "solid"
         },
         "marker": {
          "symbol": "circle"
         },
         "mode": "lines",
         "name": "805",
         "showlegend": true,
         "type": "scattergl",
         "x": [
          50,
          51,
          52
         ],
         "xaxis": "x",
         "y": [
          79,
          28,
          21
         ],
         "yaxis": "y"
        },
        {
         "hovertemplate": "item_id=805<br>year=2014<br>week=%{x}<br>average_weekly_sales=%{y}<extra></extra>",
         "legendgroup": "805",
         "line": {
          "color": "#FECB52",
          "dash": "solid"
         },
         "marker": {
          "symbol": "circle"
         },
         "mode": "lines",
         "name": "805",
         "showlegend": false,
         "type": "scattergl",
         "x": [
          3,
          5,
          6,
          7,
          9,
          10,
          11,
          13,
          21,
          38,
          40,
          45
         ],
         "xaxis": "x2",
         "y": [
          10,
          10,
          12,
          15,
          10,
          12,
          10,
          11,
          12,
          12,
          11,
          10
         ],
         "yaxis": "y2"
        },
        {
         "hovertemplate": "item_id=805<br>year=2015<br>week=%{x}<br>average_weekly_sales=%{y}<extra></extra>",
         "legendgroup": "805",
         "line": {
          "color": "#FECB52",
          "dash": "solid"
         },
         "marker": {
          "symbol": "circle"
         },
         "mode": "lines",
         "name": "805",
         "showlegend": false,
         "type": "scattergl",
         "x": [
          21
         ],
         "xaxis": "x3",
         "y": [
          10
         ],
         "yaxis": "y3"
        },
        {
         "hovertemplate": "item_id=3715<br>year=2013<br>week=%{x}<br>average_weekly_sales=%{y}<extra></extra>",
         "legendgroup": "3715",
         "line": {
          "color": "#636efa",
          "dash": "solid"
         },
         "marker": {
          "symbol": "circle"
         },
         "mode": "lines",
         "name": "3715",
         "showlegend": true,
         "type": "scattergl",
         "x": [
          50
         ],
         "xaxis": "x",
         "y": [
          18
         ],
         "yaxis": "y"
        },
        {
         "hovertemplate": "item_id=3715<br>year=2014<br>week=%{x}<br>average_weekly_sales=%{y}<extra></extra>",
         "legendgroup": "3715",
         "line": {
          "color": "#636efa",
          "dash": "solid"
         },
         "marker": {
          "symbol": "circle"
         },
         "mode": "lines",
         "name": "3715",
         "showlegend": false,
         "type": "scattergl",
         "x": [
          23
         ],
         "xaxis": "x2",
         "y": [
          15
         ],
         "yaxis": "y2"
        },
        {
         "hovertemplate": "item_id=3742<br>year=2013<br>week=%{x}<br>average_weekly_sales=%{y}<extra></extra>",
         "legendgroup": "3742",
         "line": {
          "color": "#EF553B",
          "dash": "solid"
         },
         "marker": {
          "symbol": "circle"
         },
         "mode": "lines",
         "name": "3742",
         "showlegend": true,
         "type": "scattergl",
         "x": [
          50
         ],
         "xaxis": "x",
         "y": [
          12
         ],
         "yaxis": "y"
        },
        {
         "hovertemplate": "item_id=3742<br>year=2014<br>week=%{x}<br>average_weekly_sales=%{y}<extra></extra>",
         "legendgroup": "3742",
         "line": {
          "color": "#EF553B",
          "dash": "solid"
         },
         "marker": {
          "symbol": "circle"
         },
         "mode": "lines",
         "name": "3742",
         "showlegend": false,
         "type": "scattergl",
         "x": [
          23
         ],
         "xaxis": "x2",
         "y": [
          11
         ],
         "yaxis": "y2"
        },
        {
         "hovertemplate": "item_id=4788<br>year=2013<br>week=%{x}<br>average_weekly_sales=%{y}<extra></extra>",
         "legendgroup": "4788",
         "line": {
          "color": "#00cc96",
          "dash": "solid"
         },
         "marker": {
          "symbol": "circle"
         },
         "mode": "lines",
         "name": "4788",
         "showlegend": true,
         "type": "scattergl",
         "x": [
          50
         ],
         "xaxis": "x",
         "y": [
          16
         ],
         "yaxis": "y"
        },
        {
         "hovertemplate": "item_id=4789<br>year=2013<br>week=%{x}<br>average_weekly_sales=%{y}<extra></extra>",
         "legendgroup": "4789",
         "line": {
          "color": "#ab63fa",
          "dash": "solid"
         },
         "marker": {
          "symbol": "circle"
         },
         "mode": "lines",
         "name": "4789",
         "showlegend": true,
         "type": "scattergl",
         "x": [
          50
         ],
         "xaxis": "x",
         "y": [
          13
         ],
         "yaxis": "y"
        },
        {
         "hovertemplate": "item_id=16286<br>year=2013<br>week=%{x}<br>average_weekly_sales=%{y}<extra></extra>",
         "legendgroup": "16286",
         "line": {
          "color": "#FFA15A",
          "dash": "solid"
         },
         "marker": {
          "symbol": "circle"
         },
         "mode": "lines",
         "name": "16286",
         "showlegend": true,
         "type": "scattergl",
         "x": [
          51,
          52
         ],
         "xaxis": "x",
         "y": [
          10.238095238095237,
          13.291666666666666
         ],
         "yaxis": "y"
        },
        {
         "hovertemplate": "item_id=20192<br>year=2013<br>week=%{x}<br>average_weekly_sales=%{y}<extra></extra>",
         "legendgroup": "20192",
         "line": {
          "color": "#19d3f3",
          "dash": "solid"
         },
         "marker": {
          "symbol": "circle"
         },
         "mode": "lines",
         "name": "20192",
         "showlegend": true,
         "type": "scattergl",
         "x": [
          51
         ],
         "xaxis": "x",
         "y": [
          15
         ],
         "yaxis": "y"
        },
        {
         "hovertemplate": "item_id=20192<br>year=2014<br>week=%{x}<br>average_weekly_sales=%{y}<extra></extra>",
         "legendgroup": "20192",
         "line": {
          "color": "#19d3f3",
          "dash": "solid"
         },
         "marker": {
          "symbol": "circle"
         },
         "mode": "lines",
         "name": "20192",
         "showlegend": false,
         "type": "scattergl",
         "x": [
          49
         ],
         "xaxis": "x2",
         "y": [
          11
         ],
         "yaxis": "y2"
        },
        {
         "hovertemplate": "item_id=20192<br>year=2015<br>week=%{x}<br>average_weekly_sales=%{y}<extra></extra>",
         "legendgroup": "20192",
         "line": {
          "color": "#19d3f3",
          "dash": "solid"
         },
         "marker": {
          "symbol": "circle"
         },
         "mode": "lines",
         "name": "20192",
         "showlegend": false,
         "type": "scattergl",
         "x": [
          37
         ],
         "xaxis": "x3",
         "y": [
          10
         ],
         "yaxis": "y3"
        },
        {
         "hovertemplate": "item_id=13354<br>year=2014<br>week=%{x}<br>average_weekly_sales=%{y}<extra></extra>",
         "legendgroup": "13354",
         "line": {
          "color": "#FF6692",
          "dash": "solid"
         },
         "marker": {
          "symbol": "circle"
         },
         "mode": "lines",
         "name": "13354",
         "showlegend": true,
         "type": "scattergl",
         "x": [
          2,
          5,
          8,
          11,
          20,
          21
         ],
         "xaxis": "x2",
         "y": [
          14,
          13,
          11,
          11,
          10,
          14
         ],
         "yaxis": "y2"
        },
        {
         "hovertemplate": "item_id=9464<br>year=2014<br>week=%{x}<br>average_weekly_sales=%{y}<extra></extra>",
         "legendgroup": "9464",
         "line": {
          "color": "#B6E880",
          "dash": "solid"
         },
         "marker": {
          "symbol": "circle"
         },
         "mode": "lines",
         "name": "9464",
         "showlegend": true,
         "type": "scattergl",
         "x": [
          3,
          5
         ],
         "xaxis": "x2",
         "y": [
          12,
          10
         ],
         "yaxis": "y2"
        },
        {
         "hovertemplate": "item_id=3860<br>year=2014<br>week=%{x}<br>average_weekly_sales=%{y}<extra></extra>",
         "legendgroup": "3860",
         "line": {
          "color": "#FF97FF",
          "dash": "solid"
         },
         "marker": {
          "symbol": "circle"
         },
         "mode": "lines",
         "name": "3860",
         "showlegend": true,
         "type": "scattergl",
         "x": [
          7,
          8
         ],
         "xaxis": "x2",
         "y": [
          18,
          13
         ],
         "yaxis": "y2"
        },
        {
         "hovertemplate": "item_id=4878<br>year=2014<br>week=%{x}<br>average_weekly_sales=%{y}<extra></extra>",
         "legendgroup": "4878",
         "line": {
          "color": "#FECB52",
          "dash": "solid"
         },
         "marker": {
          "symbol": "circle"
         },
         "mode": "lines",
         "name": "4878",
         "showlegend": true,
         "type": "scattergl",
         "x": [
          7,
          8,
          16,
          17
         ],
         "xaxis": "x2",
         "y": [
          21,
          32,
          57,
          23
         ],
         "yaxis": "y2"
        },
        {
         "hovertemplate": "item_id=7075<br>year=2014<br>week=%{x}<br>average_weekly_sales=%{y}<extra></extra>",
         "legendgroup": "7075",
         "line": {
          "color": "#636efa",
          "dash": "solid"
         },
         "marker": {
          "symbol": "circle"
         },
         "mode": "lines",
         "name": "7075",
         "showlegend": true,
         "type": "scattergl",
         "x": [
          7
         ],
         "xaxis": "x2",
         "y": [
          11.342857142857143
         ],
         "yaxis": "y2"
        },
        {
         "hovertemplate": "item_id=15988<br>year=2014<br>week=%{x}<br>average_weekly_sales=%{y}<extra></extra>",
         "legendgroup": "15988",
         "line": {
          "color": "#EF553B",
          "dash": "solid"
         },
         "marker": {
          "symbol": "circle"
         },
         "mode": "lines",
         "name": "15988",
         "showlegend": true,
         "type": "scattergl",
         "x": [
          7
         ],
         "xaxis": "x2",
         "y": [
          12
         ],
         "yaxis": "y2"
        },
        {
         "hovertemplate": "item_id=7008<br>year=2014<br>week=%{x}<br>average_weekly_sales=%{y}<extra></extra>",
         "legendgroup": "7008",
         "line": {
          "color": "#00cc96",
          "dash": "solid"
         },
         "marker": {
          "symbol": "circle"
         },
         "mode": "lines",
         "name": "7008",
         "showlegend": true,
         "type": "scattergl",
         "x": [
          8
         ],
         "xaxis": "x2",
         "y": [
          12
         ],
         "yaxis": "y2"
        },
        {
         "hovertemplate": "item_id=21486<br>year=2014<br>week=%{x}<br>average_weekly_sales=%{y}<extra></extra>",
         "legendgroup": "21486",
         "line": {
          "color": "#ab63fa",
          "dash": "solid"
         },
         "marker": {
          "symbol": "circle"
         },
         "mode": "lines",
         "name": "21486",
         "showlegend": true,
         "type": "scattergl",
         "x": [
          8
         ],
         "xaxis": "x2",
         "y": [
          17
         ],
         "yaxis": "y2"
        },
        {
         "hovertemplate": "item_id=6423<br>year=2014<br>week=%{x}<br>average_weekly_sales=%{y}<extra></extra>",
         "legendgroup": "6423",
         "line": {
          "color": "#FFA15A",
          "dash": "solid"
         },
         "marker": {
          "symbol": "circle"
         },
         "mode": "lines",
         "name": "6423",
         "showlegend": true,
         "type": "scattergl",
         "x": [
          9
         ],
         "xaxis": "x2",
         "y": [
          15
         ],
         "yaxis": "y2"
        },
        {
         "hovertemplate": "item_id=6423<br>year=2015<br>week=%{x}<br>average_weekly_sales=%{y}<extra></extra>",
         "legendgroup": "6423",
         "line": {
          "color": "#FFA15A",
          "dash": "solid"
         },
         "marker": {
          "symbol": "circle"
         },
         "mode": "lines",
         "name": "6423",
         "showlegend": false,
         "type": "scattergl",
         "x": [
          6
         ],
         "xaxis": "x3",
         "y": [
          13
         ],
         "yaxis": "y3"
        },
        {
         "hovertemplate": "item_id=7003<br>year=2014<br>week=%{x}<br>average_weekly_sales=%{y}<extra></extra>",
         "legendgroup": "7003",
         "line": {
          "color": "#19d3f3",
          "dash": "solid"
         },
         "marker": {
          "symbol": "circle"
         },
         "mode": "lines",
         "name": "7003",
         "showlegend": true,
         "type": "scattergl",
         "x": [
          9
         ],
         "xaxis": "x2",
         "y": [
          9.622222222222222
         ],
         "yaxis": "y2"
        },
        {
         "hovertemplate": "item_id=7004<br>year=2014<br>week=%{x}<br>average_weekly_sales=%{y}<extra></extra>",
         "legendgroup": "7004",
         "line": {
          "color": "#FF6692",
          "dash": "solid"
         },
         "marker": {
          "symbol": "circle"
         },
         "mode": "lines",
         "name": "7004",
         "showlegend": true,
         "type": "scattergl",
         "x": [
          9
         ],
         "xaxis": "x2",
         "y": [
          15.044444444444444
         ],
         "yaxis": "y2"
        },
        {
         "hovertemplate": "item_id=6686<br>year=2014<br>week=%{x}<br>average_weekly_sales=%{y}<extra></extra>",
         "legendgroup": "6686",
         "line": {
          "color": "#B6E880",
          "dash": "solid"
         },
         "marker": {
          "symbol": "circle"
         },
         "mode": "lines",
         "name": "6686",
         "showlegend": true,
         "type": "scattergl",
         "x": [
          10
         ],
         "xaxis": "x2",
         "y": [
          11
         ],
         "yaxis": "y2"
        },
        {
         "hovertemplate": "item_id=6687<br>year=2014<br>week=%{x}<br>average_weekly_sales=%{y}<extra></extra>",
         "legendgroup": "6687",
         "line": {
          "color": "#FF97FF",
          "dash": "solid"
         },
         "marker": {
          "symbol": "circle"
         },
         "mode": "lines",
         "name": "6687",
         "showlegend": true,
         "type": "scattergl",
         "x": [
          10,
          40
         ],
         "xaxis": "x2",
         "y": [
          10.666666666666666,
          31
         ],
         "yaxis": "y2"
        },
        {
         "hovertemplate": "item_id=7017<br>year=2014<br>week=%{x}<br>average_weekly_sales=%{y}<extra></extra>",
         "legendgroup": "7017",
         "line": {
          "color": "#FECB52",
          "dash": "solid"
         },
         "marker": {
          "symbol": "circle"
         },
         "mode": "lines",
         "name": "7017",
         "showlegend": true,
         "type": "scattergl",
         "x": [
          10,
          11,
          12
         ],
         "xaxis": "x2",
         "y": [
          11,
          24,
          10
         ],
         "yaxis": "y2"
        },
        {
         "hovertemplate": "item_id=1365<br>year=2014<br>week=%{x}<br>average_weekly_sales=%{y}<extra></extra>",
         "legendgroup": "1365",
         "line": {
          "color": "#636efa",
          "dash": "solid"
         },
         "marker": {
          "symbol": "circle"
         },
         "mode": "lines",
         "name": "1365",
         "showlegend": true,
         "type": "scattergl",
         "x": [
          11,
          13,
          14
         ],
         "xaxis": "x2",
         "y": [
          15,
          14,
          10
         ],
         "yaxis": "y2"
        },
        {
         "hovertemplate": "item_id=2689<br>year=2014<br>week=%{x}<br>average_weekly_sales=%{y}<extra></extra>",
         "legendgroup": "2689",
         "line": {
          "color": "#EF553B",
          "dash": "solid"
         },
         "marker": {
          "symbol": "circle"
         },
         "mode": "lines",
         "name": "2689",
         "showlegend": true,
         "type": "scattergl",
         "x": [
          11
         ],
         "xaxis": "x2",
         "y": [
          9.5
         ],
         "yaxis": "y2"
        },
        {
         "hovertemplate": "item_id=4265<br>year=2014<br>week=%{x}<br>average_weekly_sales=%{y}<extra></extra>",
         "legendgroup": "4265",
         "line": {
          "color": "#00cc96",
          "dash": "solid"
         },
         "marker": {
          "symbol": "circle"
         },
         "mode": "lines",
         "name": "4265",
         "showlegend": true,
         "type": "scattergl",
         "x": [
          11
         ],
         "xaxis": "x2",
         "y": [
          12.75
         ],
         "yaxis": "y2"
        },
        {
         "hovertemplate": "item_id=7018<br>year=2014<br>week=%{x}<br>average_weekly_sales=%{y}<extra></extra>",
         "legendgroup": "7018",
         "line": {
          "color": "#ab63fa",
          "dash": "solid"
         },
         "marker": {
          "symbol": "circle"
         },
         "mode": "lines",
         "name": "7018",
         "showlegend": true,
         "type": "scattergl",
         "x": [
          11,
          12
         ],
         "xaxis": "x2",
         "y": [
          25.5,
          11.434782608695652
         ],
         "yaxis": "y2"
        },
        {
         "hovertemplate": "item_id=7018<br>year=2015<br>week=%{x}<br>average_weekly_sales=%{y}<extra></extra>",
         "legendgroup": "7018",
         "line": {
          "color": "#ab63fa",
          "dash": "solid"
         },
         "marker": {
          "symbol": "circle"
         },
         "mode": "lines",
         "name": "7018",
         "showlegend": false,
         "type": "scattergl",
         "x": [
          40
         ],
         "xaxis": "x3",
         "y": [
          15.166666666666666
         ],
         "yaxis": "y3"
        },
        {
         "hovertemplate": "item_id=3928<br>year=2014<br>week=%{x}<br>average_weekly_sales=%{y}<extra></extra>",
         "legendgroup": "3928",
         "line": {
          "color": "#FFA15A",
          "dash": "solid"
         },
         "marker": {
          "symbol": "circle"
         },
         "mode": "lines",
         "name": "3928",
         "showlegend": true,
         "type": "scattergl",
         "x": [
          12,
          13
         ],
         "xaxis": "x2",
         "y": [
          32.2972972972973,
          12.822222222222223
         ],
         "yaxis": "y2"
        },
        {
         "hovertemplate": "item_id=4836<br>year=2014<br>week=%{x}<br>average_weekly_sales=%{y}<extra></extra>",
         "legendgroup": "4836",
         "line": {
          "color": "#19d3f3",
          "dash": "solid"
         },
         "marker": {
          "symbol": "circle"
         },
         "mode": "lines",
         "name": "4836",
         "showlegend": true,
         "type": "scattergl",
         "x": [
          12
         ],
         "xaxis": "x2",
         "y": [
          10.930232558139535
         ],
         "yaxis": "y2"
        },
        {
         "hovertemplate": "item_id=8060<br>year=2014<br>week=%{x}<br>average_weekly_sales=%{y}<extra></extra>",
         "legendgroup": "8060",
         "line": {
          "color": "#FF6692",
          "dash": "solid"
         },
         "marker": {
          "symbol": "circle"
         },
         "mode": "lines",
         "name": "8060",
         "showlegend": true,
         "type": "scattergl",
         "x": [
          12
         ],
         "xaxis": "x2",
         "y": [
          13.659090909090908
         ],
         "yaxis": "y2"
        },
        {
         "hovertemplate": "item_id=2814<br>year=2014<br>week=%{x}<br>average_weekly_sales=%{y}<extra></extra>",
         "legendgroup": "2814",
         "line": {
          "color": "#B6E880",
          "dash": "solid"
         },
         "marker": {
          "symbol": "circle"
         },
         "mode": "lines",
         "name": "2814",
         "showlegend": true,
         "type": "scattergl",
         "x": [
          16,
          17
         ],
         "xaxis": "x2",
         "y": [
          68.46808510638297,
          10.446808510638299
         ],
         "yaxis": "y2"
        },
        {
         "hovertemplate": "item_id=2815<br>year=2014<br>week=%{x}<br>average_weekly_sales=%{y}<extra></extra>",
         "legendgroup": "2815",
         "line": {
          "color": "#FF97FF",
          "dash": "solid"
         },
         "marker": {
          "symbol": "circle"
         },
         "mode": "lines",
         "name": "2815",
         "showlegend": true,
         "type": "scattergl",
         "x": [
          16
         ],
         "xaxis": "x2",
         "y": [
          16.4
         ],
         "yaxis": "y2"
        },
        {
         "hovertemplate": "item_id=13342<br>year=2014<br>week=%{x}<br>average_weekly_sales=%{y}<extra></extra>",
         "legendgroup": "13342",
         "line": {
          "color": "#FECB52",
          "dash": "solid"
         },
         "marker": {
          "symbol": "circle"
         },
         "mode": "lines",
         "name": "13342",
         "showlegend": true,
         "type": "scattergl",
         "x": [
          16,
          17,
          19,
          21,
          30,
          48
         ],
         "xaxis": "x2",
         "y": [
          17,
          18,
          12,
          15,
          10,
          13
         ],
         "yaxis": "y2"
        },
        {
         "hovertemplate": "item_id=13342<br>year=2015<br>week=%{x}<br>average_weekly_sales=%{y}<extra></extra>",
         "legendgroup": "13342",
         "line": {
          "color": "#FECB52",
          "dash": "solid"
         },
         "marker": {
          "symbol": "circle"
         },
         "mode": "lines",
         "name": "13342",
         "showlegend": false,
         "type": "scattergl",
         "x": [
          12,
          26,
          31,
          37
         ],
         "xaxis": "x3",
         "y": [
          10,
          11,
          12,
          11
         ],
         "yaxis": "y3"
        },
        {
         "hovertemplate": "item_id=21384<br>year=2014<br>week=%{x}<br>average_weekly_sales=%{y}<extra></extra>",
         "legendgroup": "21384",
         "line": {
          "color": "#636efa",
          "dash": "solid"
         },
         "marker": {
          "symbol": "circle"
         },
         "mode": "lines",
         "name": "21384",
         "showlegend": true,
         "type": "scattergl",
         "x": [
          16
         ],
         "xaxis": "x2",
         "y": [
          9.162790697674419
         ],
         "yaxis": "y2"
        },
        {
         "hovertemplate": "item_id=2685<br>year=2014<br>week=%{x}<br>average_weekly_sales=%{y}<extra></extra>",
         "legendgroup": "2685",
         "line": {
          "color": "#EF553B",
          "dash": "solid"
         },
         "marker": {
          "symbol": "circle"
         },
         "mode": "lines",
         "name": "2685",
         "showlegend": true,
         "type": "scattergl",
         "x": [
          17
         ],
         "xaxis": "x2",
         "y": [
          12.86046511627907
         ],
         "yaxis": "y2"
        },
        {
         "hovertemplate": "item_id=3469<br>year=2014<br>week=%{x}<br>average_weekly_sales=%{y}<extra></extra>",
         "legendgroup": "3469",
         "line": {
          "color": "#00cc96",
          "dash": "solid"
         },
         "marker": {
          "symbol": "circle"
         },
         "mode": "lines",
         "name": "3469",
         "showlegend": true,
         "type": "scattergl",
         "x": [
          17
         ],
         "xaxis": "x2",
         "y": [
          21
         ],
         "yaxis": "y2"
        },
        {
         "hovertemplate": "item_id=8057<br>year=2014<br>week=%{x}<br>average_weekly_sales=%{y}<extra></extra>",
         "legendgroup": "8057",
         "line": {
          "color": "#ab63fa",
          "dash": "solid"
         },
         "marker": {
          "symbol": "circle"
         },
         "mode": "lines",
         "name": "8057",
         "showlegend": true,
         "type": "scattergl",
         "x": [
          17
         ],
         "xaxis": "x2",
         "y": [
          157
         ],
         "yaxis": "y2"
        },
        {
         "hovertemplate": "item_id=6927<br>year=2014<br>week=%{x}<br>average_weekly_sales=%{y}<extra></extra>",
         "legendgroup": "6927",
         "line": {
          "color": "#FFA15A",
          "dash": "solid"
         },
         "marker": {
          "symbol": "circle"
         },
         "mode": "lines",
         "name": "6927",
         "showlegend": true,
         "type": "scattergl",
         "x": [
          18
         ],
         "xaxis": "x2",
         "y": [
          10
         ],
         "yaxis": "y2"
        },
        {
         "hovertemplate": "item_id=2048<br>year=2014<br>week=%{x}<br>average_weekly_sales=%{y}<extra></extra>",
         "legendgroup": "2048",
         "line": {
          "color": "#19d3f3",
          "dash": "solid"
         },
         "marker": {
          "symbol": "circle"
         },
         "mode": "lines",
         "name": "2048",
         "showlegend": true,
         "type": "scattergl",
         "x": [
          19
         ],
         "xaxis": "x2",
         "y": [
          23
         ],
         "yaxis": "y2"
        },
        {
         "hovertemplate": "item_id=6435<br>year=2014<br>week=%{x}<br>average_weekly_sales=%{y}<extra></extra>",
         "legendgroup": "6435",
         "line": {
          "color": "#FF6692",
          "dash": "solid"
         },
         "marker": {
          "symbol": "circle"
         },
         "mode": "lines",
         "name": "6435",
         "showlegend": true,
         "type": "scattergl",
         "x": [
          19
         ],
         "xaxis": "x2",
         "y": [
          23
         ],
         "yaxis": "y2"
        },
        {
         "hovertemplate": "item_id=7786<br>year=2014<br>week=%{x}<br>average_weekly_sales=%{y}<extra></extra>",
         "legendgroup": "7786",
         "line": {
          "color": "#B6E880",
          "dash": "solid"
         },
         "marker": {
          "symbol": "circle"
         },
         "mode": "lines",
         "name": "7786",
         "showlegend": true,
         "type": "scattergl",
         "x": [
          20,
          21,
          22
         ],
         "xaxis": "x2",
         "y": [
          13,
          25,
          38
         ],
         "yaxis": "y2"
        },
        {
         "hovertemplate": "item_id=6709<br>year=2014<br>week=%{x}<br>average_weekly_sales=%{y}<extra></extra>",
         "legendgroup": "6709",
         "line": {
          "color": "#FF97FF",
          "dash": "solid"
         },
         "marker": {
          "symbol": "circle"
         },
         "mode": "lines",
         "name": "6709",
         "showlegend": true,
         "type": "scattergl",
         "x": [
          21,
          22,
          23,
          24,
          25,
          27
         ],
         "xaxis": "x2",
         "y": [
          15,
          13,
          14,
          48,
          20,
          10
         ],
         "yaxis": "y2"
        },
        {
         "hovertemplate": "item_id=7835<br>year=2014<br>week=%{x}<br>average_weekly_sales=%{y}<extra></extra>",
         "legendgroup": "7835",
         "line": {
          "color": "#FECB52",
          "dash": "solid"
         },
         "marker": {
          "symbol": "circle"
         },
         "mode": "lines",
         "name": "7835",
         "showlegend": true,
         "type": "scattergl",
         "x": [
          21,
          23
         ],
         "xaxis": "x2",
         "y": [
          23,
          10
         ],
         "yaxis": "y2"
        },
        {
         "hovertemplate": "item_id=7837<br>year=2014<br>week=%{x}<br>average_weekly_sales=%{y}<extra></extra>",
         "legendgroup": "7837",
         "line": {
          "color": "#636efa",
          "dash": "solid"
         },
         "marker": {
          "symbol": "circle"
         },
         "mode": "lines",
         "name": "7837",
         "showlegend": true,
         "type": "scattergl",
         "x": [
          21
         ],
         "xaxis": "x2",
         "y": [
          10.71111111111111
         ],
         "yaxis": "y2"
        },
        {
         "hovertemplate": "item_id=7783<br>year=2014<br>week=%{x}<br>average_weekly_sales=%{y}<extra></extra>",
         "legendgroup": "7783",
         "line": {
          "color": "#EF553B",
          "dash": "solid"
         },
         "marker": {
          "symbol": "circle"
         },
         "mode": "lines",
         "name": "7783",
         "showlegend": true,
         "type": "scattergl",
         "x": [
          22
         ],
         "xaxis": "x2",
         "y": [
          18
         ],
         "yaxis": "y2"
        },
        {
         "hovertemplate": "item_id=7787<br>year=2014<br>week=%{x}<br>average_weekly_sales=%{y}<extra></extra>",
         "legendgroup": "7787",
         "line": {
          "color": "#00cc96",
          "dash": "solid"
         },
         "marker": {
          "symbol": "circle"
         },
         "mode": "lines",
         "name": "7787",
         "showlegend": true,
         "type": "scattergl",
         "x": [
          22
         ],
         "xaxis": "x2",
         "y": [
          15
         ],
         "yaxis": "y2"
        },
        {
         "hovertemplate": "item_id=7790<br>year=2014<br>week=%{x}<br>average_weekly_sales=%{y}<extra></extra>",
         "legendgroup": "7790",
         "line": {
          "color": "#ab63fa",
          "dash": "solid"
         },
         "marker": {
          "symbol": "circle"
         },
         "mode": "lines",
         "name": "7790",
         "showlegend": true,
         "type": "scattergl",
         "x": [
          22
         ],
         "xaxis": "x2",
         "y": [
          14.729166666666666
         ],
         "yaxis": "y2"
        },
        {
         "hovertemplate": "item_id=7794<br>year=2014<br>week=%{x}<br>average_weekly_sales=%{y}<extra></extra>",
         "legendgroup": "7794",
         "line": {
          "color": "#FFA15A",
          "dash": "solid"
         },
         "marker": {
          "symbol": "circle"
         },
         "mode": "lines",
         "name": "7794",
         "showlegend": true,
         "type": "scattergl",
         "x": [
          22
         ],
         "xaxis": "x2",
         "y": [
          18.91111111111111
         ],
         "yaxis": "y2"
        },
        {
         "hovertemplate": "item_id=7798<br>year=2014<br>week=%{x}<br>average_weekly_sales=%{y}<extra></extra>",
         "legendgroup": "7798",
         "line": {
          "color": "#19d3f3",
          "dash": "solid"
         },
         "marker": {
          "symbol": "circle"
         },
         "mode": "lines",
         "name": "7798",
         "showlegend": true,
         "type": "scattergl",
         "x": [
          22
         ],
         "xaxis": "x2",
         "y": [
          16.26086956521739
         ],
         "yaxis": "y2"
        },
        {
         "hovertemplate": "item_id=7805<br>year=2014<br>week=%{x}<br>average_weekly_sales=%{y}<extra></extra>",
         "legendgroup": "7805",
         "line": {
          "color": "#FF6692",
          "dash": "solid"
         },
         "marker": {
          "symbol": "circle"
         },
         "mode": "lines",
         "name": "7805",
         "showlegend": true,
         "type": "scattergl",
         "x": [
          22
         ],
         "xaxis": "x2",
         "y": [
          39.95744680851064
         ],
         "yaxis": "y2"
        },
        {
         "hovertemplate": "item_id=7806<br>year=2014<br>week=%{x}<br>average_weekly_sales=%{y}<extra></extra>",
         "legendgroup": "7806",
         "line": {
          "color": "#B6E880",
          "dash": "solid"
         },
         "marker": {
          "symbol": "circle"
         },
         "mode": "lines",
         "name": "7806",
         "showlegend": true,
         "type": "scattergl",
         "x": [
          22
         ],
         "xaxis": "x2",
         "y": [
          21.5
         ],
         "yaxis": "y2"
        },
        {
         "hovertemplate": "item_id=7807<br>year=2014<br>week=%{x}<br>average_weekly_sales=%{y}<extra></extra>",
         "legendgroup": "7807",
         "line": {
          "color": "#FF97FF",
          "dash": "solid"
         },
         "marker": {
          "symbol": "circle"
         },
         "mode": "lines",
         "name": "7807",
         "showlegend": true,
         "type": "scattergl",
         "x": [
          22
         ],
         "xaxis": "x2",
         "y": [
          47.8125
         ],
         "yaxis": "y2"
        },
        {
         "hovertemplate": "item_id=7808<br>year=2014<br>week=%{x}<br>average_weekly_sales=%{y}<extra></extra>",
         "legendgroup": "7808",
         "line": {
          "color": "#FECB52",
          "dash": "solid"
         },
         "marker": {
          "symbol": "circle"
         },
         "mode": "lines",
         "name": "7808",
         "showlegend": true,
         "type": "scattergl",
         "x": [
          22
         ],
         "xaxis": "x2",
         "y": [
          12.456521739130435
         ],
         "yaxis": "y2"
        },
        {
         "hovertemplate": "item_id=7834<br>year=2014<br>week=%{x}<br>average_weekly_sales=%{y}<extra></extra>",
         "legendgroup": "7834",
         "line": {
          "color": "#636efa",
          "dash": "solid"
         },
         "marker": {
          "symbol": "circle"
         },
         "mode": "lines",
         "name": "7834",
         "showlegend": true,
         "type": "scattergl",
         "x": [
          22
         ],
         "xaxis": "x2",
         "y": [
          14.133333333333333
         ],
         "yaxis": "y2"
        },
        {
         "hovertemplate": "item_id=589<br>year=2014<br>week=%{x}<br>average_weekly_sales=%{y}<extra></extra>",
         "legendgroup": "589",
         "line": {
          "color": "#EF553B",
          "dash": "solid"
         },
         "marker": {
          "symbol": "circle"
         },
         "mode": "lines",
         "name": "589",
         "showlegend": true,
         "type": "scattergl",
         "x": [
          23
         ],
         "xaxis": "x2",
         "y": [
          10
         ],
         "yaxis": "y2"
        },
        {
         "hovertemplate": "item_id=4280<br>year=2014<br>week=%{x}<br>average_weekly_sales=%{y}<extra></extra>",
         "legendgroup": "4280",
         "line": {
          "color": "#00cc96",
          "dash": "solid"
         },
         "marker": {
          "symbol": "circle"
         },
         "mode": "lines",
         "name": "4280",
         "showlegend": true,
         "type": "scattergl",
         "x": [
          23
         ],
         "xaxis": "x2",
         "y": [
          17
         ],
         "yaxis": "y2"
        },
        {
         "hovertemplate": "item_id=798<br>year=2014<br>week=%{x}<br>average_weekly_sales=%{y}<extra></extra>",
         "legendgroup": "798",
         "line": {
          "color": "#ab63fa",
          "dash": "solid"
         },
         "marker": {
          "symbol": "circle"
         },
         "mode": "lines",
         "name": "798",
         "showlegend": true,
         "type": "scattergl",
         "x": [
          25
         ],
         "xaxis": "x2",
         "y": [
          14
         ],
         "yaxis": "y2"
        },
        {
         "hovertemplate": "item_id=5818<br>year=2014<br>week=%{x}<br>average_weekly_sales=%{y}<extra></extra>",
         "legendgroup": "5818",
         "line": {
          "color": "#FFA15A",
          "dash": "solid"
         },
         "marker": {
          "symbol": "circle"
         },
         "mode": "lines",
         "name": "5818",
         "showlegend": true,
         "type": "scattergl",
         "x": [
          26,
          34,
          42,
          43,
          44,
          45,
          50,
          52
         ],
         "xaxis": "x2",
         "y": [
          13,
          12,
          14,
          10,
          13,
          18,
          10,
          21
         ],
         "yaxis": "y2"
        },
        {
         "hovertemplate": "item_id=5818<br>year=2015<br>week=%{x}<br>average_weekly_sales=%{y}<extra></extra>",
         "legendgroup": "5818",
         "line": {
          "color": "#FFA15A",
          "dash": "solid"
         },
         "marker": {
          "symbol": "circle"
         },
         "mode": "lines",
         "name": "5818",
         "showlegend": false,
         "type": "scattergl",
         "x": [
          4,
          8
         ],
         "xaxis": "x3",
         "y": [
          13,
          17
         ],
         "yaxis": "y3"
        },
        {
         "hovertemplate": "item_id=7172<br>year=2014<br>week=%{x}<br>average_weekly_sales=%{y}<extra></extra>",
         "legendgroup": "7172",
         "line": {
          "color": "#19d3f3",
          "dash": "solid"
         },
         "marker": {
          "symbol": "circle"
         },
         "mode": "lines",
         "name": "7172",
         "showlegend": true,
         "type": "scattergl",
         "x": [
          26
         ],
         "xaxis": "x2",
         "y": [
          11.533333333333333
         ],
         "yaxis": "y2"
        },
        {
         "hovertemplate": "item_id=11874<br>year=2014<br>week=%{x}<br>average_weekly_sales=%{y}<extra></extra>",
         "legendgroup": "11874",
         "line": {
          "color": "#FF6692",
          "dash": "solid"
         },
         "marker": {
          "symbol": "circle"
         },
         "mode": "lines",
         "name": "11874",
         "showlegend": true,
         "type": "scattergl",
         "x": [
          26
         ],
         "xaxis": "x2",
         "y": [
          15
         ],
         "yaxis": "y2"
        },
        {
         "hovertemplate": "item_id=2965<br>year=2014<br>week=%{x}<br>average_weekly_sales=%{y}<extra></extra>",
         "legendgroup": "2965",
         "line": {
          "color": "#B6E880",
          "dash": "solid"
         },
         "marker": {
          "symbol": "circle"
         },
         "mode": "lines",
         "name": "2965",
         "showlegend": true,
         "type": "scattergl",
         "x": [
          28,
          31
         ],
         "xaxis": "x2",
         "y": [
          17,
          14
         ],
         "yaxis": "y2"
        },
        {
         "hovertemplate": "item_id=2965<br>year=2015<br>week=%{x}<br>average_weekly_sales=%{y}<extra></extra>",
         "legendgroup": "2965",
         "line": {
          "color": "#B6E880",
          "dash": "solid"
         },
         "marker": {
          "symbol": "circle"
         },
         "mode": "lines",
         "name": "2965",
         "showlegend": false,
         "type": "scattergl",
         "x": [
          3
         ],
         "xaxis": "x3",
         "y": [
          35
         ],
         "yaxis": "y3"
        },
        {
         "hovertemplate": "item_id=4158<br>year=2014<br>week=%{x}<br>average_weekly_sales=%{y}<extra></extra>",
         "legendgroup": "4158",
         "line": {
          "color": "#FF97FF",
          "dash": "solid"
         },
         "marker": {
          "symbol": "circle"
         },
         "mode": "lines",
         "name": "4158",
         "showlegend": true,
         "type": "scattergl",
         "x": [
          28
         ],
         "xaxis": "x2",
         "y": [
          15
         ],
         "yaxis": "y2"
        },
        {
         "hovertemplate": "item_id=4260<br>year=2014<br>week=%{x}<br>average_weekly_sales=%{y}<extra></extra>",
         "legendgroup": "4260",
         "line": {
          "color": "#FECB52",
          "dash": "solid"
         },
         "marker": {
          "symbol": "circle"
         },
         "mode": "lines",
         "name": "4260",
         "showlegend": true,
         "type": "scattergl",
         "x": [
          28,
          29,
          32,
          33
         ],
         "xaxis": "x2",
         "y": [
          17,
          11,
          12,
          12
         ],
         "yaxis": "y2"
        },
        {
         "hovertemplate": "item_id=4260<br>year=2015<br>week=%{x}<br>average_weekly_sales=%{y}<extra></extra>",
         "legendgroup": "4260",
         "line": {
          "color": "#FECB52",
          "dash": "solid"
         },
         "marker": {
          "symbol": "circle"
         },
         "mode": "lines",
         "name": "4260",
         "showlegend": false,
         "type": "scattergl",
         "x": [
          23
         ],
         "xaxis": "x3",
         "y": [
          10
         ],
         "yaxis": "y3"
        },
        {
         "hovertemplate": "item_id=6161<br>year=2014<br>week=%{x}<br>average_weekly_sales=%{y}<extra></extra>",
         "legendgroup": "6161",
         "line": {
          "color": "#636efa",
          "dash": "solid"
         },
         "marker": {
          "symbol": "circle"
         },
         "mode": "lines",
         "name": "6161",
         "showlegend": true,
         "type": "scattergl",
         "x": [
          28,
          31,
          32,
          33
         ],
         "xaxis": "x2",
         "y": [
          13,
          10,
          19,
          22
         ],
         "yaxis": "y2"
        },
        {
         "hovertemplate": "item_id=6375<br>year=2014<br>week=%{x}<br>average_weekly_sales=%{y}<extra></extra>",
         "legendgroup": "6375",
         "line": {
          "color": "#EF553B",
          "dash": "solid"
         },
         "marker": {
          "symbol": "circle"
         },
         "mode": "lines",
         "name": "6375",
         "showlegend": true,
         "type": "scattergl",
         "x": [
          28,
          29,
          30,
          31
         ],
         "xaxis": "x2",
         "y": [
          16,
          11,
          17,
          18
         ],
         "yaxis": "y2"
        },
        {
         "hovertemplate": "item_id=4155<br>year=2014<br>week=%{x}<br>average_weekly_sales=%{y}<extra></extra>",
         "legendgroup": "4155",
         "line": {
          "color": "#00cc96",
          "dash": "solid"
         },
         "marker": {
          "symbol": "circle"
         },
         "mode": "lines",
         "name": "4155",
         "showlegend": true,
         "type": "scattergl",
         "x": [
          30
         ],
         "xaxis": "x2",
         "y": [
          10
         ],
         "yaxis": "y2"
        },
        {
         "hovertemplate": "item_id=19319<br>year=2014<br>week=%{x}<br>average_weekly_sales=%{y}<extra></extra>",
         "legendgroup": "19319",
         "line": {
          "color": "#ab63fa",
          "dash": "solid"
         },
         "marker": {
          "symbol": "circle"
         },
         "mode": "lines",
         "name": "19319",
         "showlegend": true,
         "type": "scattergl",
         "x": [
          30
         ],
         "xaxis": "x2",
         "y": [
          49
         ],
         "yaxis": "y2"
        },
        {
         "hovertemplate": "item_id=16252<br>year=2014<br>week=%{x}<br>average_weekly_sales=%{y}<extra></extra>",
         "legendgroup": "16252",
         "line": {
          "color": "#FFA15A",
          "dash": "solid"
         },
         "marker": {
          "symbol": "circle"
         },
         "mode": "lines",
         "name": "16252",
         "showlegend": true,
         "type": "scattergl",
         "x": [
          31,
          41
         ],
         "xaxis": "x2",
         "y": [
          10,
          13
         ],
         "yaxis": "y2"
        },
        {
         "hovertemplate": "item_id=16252<br>year=2015<br>week=%{x}<br>average_weekly_sales=%{y}<extra></extra>",
         "legendgroup": "16252",
         "line": {
          "color": "#FFA15A",
          "dash": "solid"
         },
         "marker": {
          "symbol": "circle"
         },
         "mode": "lines",
         "name": "16252",
         "showlegend": false,
         "type": "scattergl",
         "x": [
          3,
          7
         ],
         "xaxis": "x3",
         "y": [
          14,
          11
         ],
         "yaxis": "y3"
        },
        {
         "hovertemplate": "item_id=16790<br>year=2014<br>week=%{x}<br>average_weekly_sales=%{y}<extra></extra>",
         "legendgroup": "16790",
         "line": {
          "color": "#19d3f3",
          "dash": "solid"
         },
         "marker": {
          "symbol": "circle"
         },
         "mode": "lines",
         "name": "16790",
         "showlegend": true,
         "type": "scattergl",
         "x": [
          31,
          32
         ],
         "xaxis": "x2",
         "y": [
          48.59183673469388,
          10.604166666666666
         ],
         "yaxis": "y2"
        },
        {
         "hovertemplate": "item_id=1510<br>year=2014<br>week=%{x}<br>average_weekly_sales=%{y}<extra></extra>",
         "legendgroup": "1510",
         "line": {
          "color": "#FF6692",
          "dash": "solid"
         },
         "marker": {
          "symbol": "circle"
         },
         "mode": "lines",
         "name": "1510",
         "showlegend": true,
         "type": "scattergl",
         "x": [
          32
         ],
         "xaxis": "x2",
         "y": [
          13
         ],
         "yaxis": "y2"
        },
        {
         "hovertemplate": "item_id=19288<br>year=2014<br>week=%{x}<br>average_weekly_sales=%{y}<extra></extra>",
         "legendgroup": "19288",
         "line": {
          "color": "#B6E880",
          "dash": "solid"
         },
         "marker": {
          "symbol": "circle"
         },
         "mode": "lines",
         "name": "19288",
         "showlegend": true,
         "type": "scattergl",
         "x": [
          32,
          33,
          34,
          36
         ],
         "xaxis": "x2",
         "y": [
          12,
          11,
          11,
          10
         ],
         "yaxis": "y2"
        },
        {
         "hovertemplate": "item_id=6166<br>year=2014<br>week=%{x}<br>average_weekly_sales=%{y}<extra></extra>",
         "legendgroup": "6166",
         "line": {
          "color": "#FF97FF",
          "dash": "solid"
         },
         "marker": {
          "symbol": "circle"
         },
         "mode": "lines",
         "name": "6166",
         "showlegend": true,
         "type": "scattergl",
         "x": [
          33
         ],
         "xaxis": "x2",
         "y": [
          13
         ],
         "yaxis": "y2"
        },
        {
         "hovertemplate": "item_id=7967<br>year=2014<br>week=%{x}<br>average_weekly_sales=%{y}<extra></extra>",
         "legendgroup": "7967",
         "line": {
          "color": "#FECB52",
          "dash": "solid"
         },
         "marker": {
          "symbol": "circle"
         },
         "mode": "lines",
         "name": "7967",
         "showlegend": true,
         "type": "scattergl",
         "x": [
          33,
          34,
          35,
          36,
          37,
          38,
          39,
          40,
          41,
          42,
          43,
          44,
          45,
          46,
          47,
          48,
          49,
          50,
          51,
          52
         ],
         "xaxis": "x2",
         "y": [
          12,
          30,
          46,
          31,
          35,
          34,
          56,
          65,
          55,
          57,
          46,
          55,
          60,
          52,
          60,
          40,
          52,
          43,
          69,
          104
         ],
         "yaxis": "y2"
        },
        {
         "hovertemplate": "item_id=7967<br>year=2015<br>week=%{x}<br>average_weekly_sales=%{y}<extra></extra>",
         "legendgroup": "7967",
         "line": {
          "color": "#FECB52",
          "dash": "solid"
         },
         "marker": {
          "symbol": "circle"
         },
         "mode": "lines",
         "name": "7967",
         "showlegend": false,
         "type": "scattergl",
         "x": [
          53,
          1,
          2,
          3,
          4,
          5,
          6,
          7,
          8,
          9,
          10,
          11,
          12,
          13,
          14,
          15,
          16,
          17,
          18,
          19,
          20,
          21,
          22,
          23,
          24,
          25,
          26,
          27,
          28,
          29,
          30,
          31,
          32,
          33,
          34,
          35,
          36,
          37,
          38,
          39,
          40,
          41,
          42
         ],
         "xaxis": "x3",
         "y": [
          91,
          87,
          100,
          81,
          55,
          38,
          36,
          39,
          50,
          49,
          41,
          49,
          27,
          46,
          32,
          24,
          31,
          15,
          13,
          21,
          24,
          25,
          23,
          21,
          17,
          12,
          40,
          19,
          16,
          17,
          15,
          16,
          15,
          14,
          15,
          18,
          12,
          12,
          11,
          20,
          21,
          20,
          12
         ],
         "yaxis": "y3"
        },
        {
         "hovertemplate": "item_id=7969<br>year=2014<br>week=%{x}<br>average_weekly_sales=%{y}<extra></extra>",
         "legendgroup": "7969",
         "line": {
          "color": "#636efa",
          "dash": "solid"
         },
         "marker": {
          "symbol": "circle"
         },
         "mode": "lines",
         "name": "7969",
         "showlegend": true,
         "type": "scattergl",
         "x": [
          33,
          34,
          35
         ],
         "xaxis": "x2",
         "y": [
          10,
          23,
          12
         ],
         "yaxis": "y2"
        },
        {
         "hovertemplate": "item_id=7973<br>year=2014<br>week=%{x}<br>average_weekly_sales=%{y}<extra></extra>",
         "legendgroup": "7973",
         "line": {
          "color": "#EF553B",
          "dash": "solid"
         },
         "marker": {
          "symbol": "circle"
         },
         "mode": "lines",
         "name": "7973",
         "showlegend": true,
         "type": "scattergl",
         "x": [
          33,
          34,
          36
         ],
         "xaxis": "x2",
         "y": [
          10,
          15,
          10
         ],
         "yaxis": "y2"
        },
        {
         "hovertemplate": "item_id=2817<br>year=2014<br>week=%{x}<br>average_weekly_sales=%{y}<extra></extra>",
         "legendgroup": "2817",
         "line": {
          "color": "#00cc96",
          "dash": "solid"
         },
         "marker": {
          "symbol": "circle"
         },
         "mode": "lines",
         "name": "2817",
         "showlegend": true,
         "type": "scattergl",
         "x": [
          34
         ],
         "xaxis": "x2",
         "y": [
          14.625
         ],
         "yaxis": "y2"
        },
        {
         "hovertemplate": "item_id=7971<br>year=2014<br>week=%{x}<br>average_weekly_sales=%{y}<extra></extra>",
         "legendgroup": "7971",
         "line": {
          "color": "#ab63fa",
          "dash": "solid"
         },
         "marker": {
          "symbol": "circle"
         },
         "mode": "lines",
         "name": "7971",
         "showlegend": true,
         "type": "scattergl",
         "x": [
          34
         ],
         "xaxis": "x2",
         "y": [
          11
         ],
         "yaxis": "y2"
        },
        {
         "hovertemplate": "item_id=6991<br>year=2014<br>week=%{x}<br>average_weekly_sales=%{y}<extra></extra>",
         "legendgroup": "6991",
         "line": {
          "color": "#FFA15A",
          "dash": "solid"
         },
         "marker": {
          "symbol": "circle"
         },
         "mode": "lines",
         "name": "6991",
         "showlegend": true,
         "type": "scattergl",
         "x": [
          35,
          36,
          37,
          38,
          39,
          40
         ],
         "xaxis": "x2",
         "y": [
          14,
          35,
          36,
          27,
          50,
          15
         ],
         "yaxis": "y2"
        },
        {
         "hovertemplate": "item_id=7966<br>year=2014<br>week=%{x}<br>average_weekly_sales=%{y}<extra></extra>",
         "legendgroup": "7966",
         "line": {
          "color": "#19d3f3",
          "dash": "solid"
         },
         "marker": {
          "symbol": "circle"
         },
         "mode": "lines",
         "name": "7966",
         "showlegend": true,
         "type": "scattergl",
         "x": [
          35,
          37,
          38,
          39,
          40,
          41,
          42,
          43,
          44,
          45,
          46,
          47,
          48,
          49,
          50,
          51,
          52
         ],
         "xaxis": "x2",
         "y": [
          11,
          14,
          12,
          25,
          24,
          13,
          10,
          13,
          22,
          20,
          20,
          34,
          19,
          28,
          25,
          80,
          100
         ],
         "yaxis": "y2"
        },
        {
         "hovertemplate": "item_id=7966<br>year=2015<br>week=%{x}<br>average_weekly_sales=%{y}<extra></extra>",
         "legendgroup": "7966",
         "line": {
          "color": "#19d3f3",
          "dash": "solid"
         },
         "marker": {
          "symbol": "circle"
         },
         "mode": "lines",
         "name": "7966",
         "showlegend": false,
         "type": "scattergl",
         "x": [
          53,
          1,
          2,
          3,
          4,
          5,
          6,
          7,
          8,
          9,
          10,
          11,
          12,
          13,
          14,
          16,
          18,
          20,
          21,
          22,
          26,
          27,
          33,
          34,
          35,
          36,
          37,
          39
         ],
         "xaxis": "x3",
         "y": [
          69,
          40,
          76,
          54,
          29,
          33,
          42,
          20,
          29,
          21,
          16,
          21,
          16,
          18,
          15,
          18,
          12,
          10,
          12,
          10,
          42,
          10,
          10,
          12,
          11,
          12,
          21,
          11
         ],
         "yaxis": "y3"
        },
        {
         "hovertemplate": "item_id=6502<br>year=2014<br>week=%{x}<br>average_weekly_sales=%{y}<extra></extra>",
         "legendgroup": "6502",
         "line": {
          "color": "#FF6692",
          "dash": "solid"
         },
         "marker": {
          "symbol": "circle"
         },
         "mode": "lines",
         "name": "6502",
         "showlegend": true,
         "type": "scattergl",
         "x": [
          36,
          37
         ],
         "xaxis": "x2",
         "y": [
          34.285714285714285,
          20.448979591836736
         ],
         "yaxis": "y2"
        },
        {
         "hovertemplate": "item_id=6504<br>year=2014<br>week=%{x}<br>average_weekly_sales=%{y}<extra></extra>",
         "legendgroup": "6504",
         "line": {
          "color": "#B6E880",
          "dash": "solid"
         },
         "marker": {
          "symbol": "circle"
         },
         "mode": "lines",
         "name": "6504",
         "showlegend": true,
         "type": "scattergl",
         "x": [
          36,
          37
         ],
         "xaxis": "x2",
         "y": [
          23.473684210526315,
          11.875
         ],
         "yaxis": "y2"
        },
        {
         "hovertemplate": "item_id=2780<br>year=2014<br>week=%{x}<br>average_weekly_sales=%{y}<extra></extra>",
         "legendgroup": "2780",
         "line": {
          "color": "#FF97FF",
          "dash": "solid"
         },
         "marker": {
          "symbol": "circle"
         },
         "mode": "lines",
         "name": "2780",
         "showlegend": true,
         "type": "scattergl",
         "x": [
          37
         ],
         "xaxis": "x2",
         "y": [
          22.510204081632654
         ],
         "yaxis": "y2"
        },
        {
         "hovertemplate": "item_id=3339<br>year=2014<br>week=%{x}<br>average_weekly_sales=%{y}<extra></extra>",
         "legendgroup": "3339",
         "line": {
          "color": "#FECB52",
          "dash": "solid"
         },
         "marker": {
          "symbol": "circle"
         },
         "mode": "lines",
         "name": "3339",
         "showlegend": true,
         "type": "scattergl",
         "x": [
          37,
          38,
          39,
          40,
          41,
          42
         ],
         "xaxis": "x2",
         "y": [
          11,
          24,
          74,
          39,
          17,
          17
         ],
         "yaxis": "y2"
        },
        {
         "hovertemplate": "item_id=5038<br>year=2014<br>week=%{x}<br>average_weekly_sales=%{y}<extra></extra>",
         "legendgroup": "5038",
         "line": {
          "color": "#636efa",
          "dash": "solid"
         },
         "marker": {
          "symbol": "circle"
         },
         "mode": "lines",
         "name": "5038",
         "showlegend": true,
         "type": "scattergl",
         "x": [
          37
         ],
         "xaxis": "x2",
         "y": [
          9.282608695652174
         ],
         "yaxis": "y2"
        },
        {
         "hovertemplate": "item_id=5381<br>year=2014<br>week=%{x}<br>average_weekly_sales=%{y}<extra></extra>",
         "legendgroup": "5381",
         "line": {
          "color": "#EF553B",
          "dash": "solid"
         },
         "marker": {
          "symbol": "circle"
         },
         "mode": "lines",
         "name": "5381",
         "showlegend": true,
         "type": "scattergl",
         "x": [
          37,
          43
         ],
         "xaxis": "x2",
         "y": [
          11,
          10
         ],
         "yaxis": "y2"
        },
        {
         "hovertemplate": "item_id=5381<br>year=2015<br>week=%{x}<br>average_weekly_sales=%{y}<extra></extra>",
         "legendgroup": "5381",
         "line": {
          "color": "#EF553B",
          "dash": "solid"
         },
         "marker": {
          "symbol": "circle"
         },
         "mode": "lines",
         "name": "5381",
         "showlegend": false,
         "type": "scattergl",
         "x": [
          2
         ],
         "xaxis": "x3",
         "y": [
          12
         ],
         "yaxis": "y3"
        },
        {
         "hovertemplate": "item_id=6430<br>year=2014<br>week=%{x}<br>average_weekly_sales=%{y}<extra></extra>",
         "legendgroup": "6430",
         "line": {
          "color": "#00cc96",
          "dash": "solid"
         },
         "marker": {
          "symbol": "circle"
         },
         "mode": "lines",
         "name": "6430",
         "showlegend": true,
         "type": "scattergl",
         "x": [
          37
         ],
         "xaxis": "x2",
         "y": [
          11
         ],
         "yaxis": "y2"
        },
        {
         "hovertemplate": "item_id=9242<br>year=2014<br>week=%{x}<br>average_weekly_sales=%{y}<extra></extra>",
         "legendgroup": "9242",
         "line": {
          "color": "#ab63fa",
          "dash": "solid"
         },
         "marker": {
          "symbol": "circle"
         },
         "mode": "lines",
         "name": "9242",
         "showlegend": true,
         "type": "scattergl",
         "x": [
          37,
          38,
          39,
          40
         ],
         "xaxis": "x2",
         "y": [
          20,
          17.375,
          37.935483870967744,
          56.21212121212121
         ],
         "yaxis": "y2"
        },
        {
         "hovertemplate": "item_id=2276<br>year=2014<br>week=%{x}<br>average_weekly_sales=%{y}<extra></extra>",
         "legendgroup": "2276",
         "line": {
          "color": "#FFA15A",
          "dash": "solid"
         },
         "marker": {
          "symbol": "circle"
         },
         "mode": "lines",
         "name": "2276",
         "showlegend": true,
         "type": "scattergl",
         "x": [
          38
         ],
         "xaxis": "x2",
         "y": [
          13
         ],
         "yaxis": "y2"
        },
        {
         "hovertemplate": "item_id=9241<br>year=2014<br>week=%{x}<br>average_weekly_sales=%{y}<extra></extra>",
         "legendgroup": "9241",
         "line": {
          "color": "#19d3f3",
          "dash": "solid"
         },
         "marker": {
          "symbol": "circle"
         },
         "mode": "lines",
         "name": "9241",
         "showlegend": true,
         "type": "scattergl",
         "x": [
          38,
          39,
          40
         ],
         "xaxis": "x2",
         "y": [
          10.892857142857142,
          20.620689655172413,
          25.59259259259259
         ],
         "yaxis": "y2"
        },
        {
         "hovertemplate": "item_id=13097<br>year=2014<br>week=%{x}<br>average_weekly_sales=%{y}<extra></extra>",
         "legendgroup": "13097",
         "line": {
          "color": "#FF6692",
          "dash": "solid"
         },
         "marker": {
          "symbol": "circle"
         },
         "mode": "lines",
         "name": "13097",
         "showlegend": true,
         "type": "scattergl",
         "x": [
          38,
          39,
          40,
          41,
          42,
          43,
          44,
          45,
          46,
          47,
          48,
          49,
          50,
          51,
          52
         ],
         "xaxis": "x2",
         "y": [
          10,
          14,
          17,
          16,
          16,
          13,
          11,
          30,
          16,
          16,
          12,
          13,
          14,
          21,
          28
         ],
         "yaxis": "y2"
        },
        {
         "hovertemplate": "item_id=13097<br>year=2015<br>week=%{x}<br>average_weekly_sales=%{y}<extra></extra>",
         "legendgroup": "13097",
         "line": {
          "color": "#FF6692",
          "dash": "solid"
         },
         "marker": {
          "symbol": "circle"
         },
         "mode": "lines",
         "name": "13097",
         "showlegend": false,
         "type": "scattergl",
         "x": [
          53,
          1,
          2,
          3,
          4,
          5,
          6,
          7,
          8,
          9,
          10,
          11,
          12,
          13,
          14,
          15,
          16,
          17,
          19,
          20,
          21,
          22,
          23,
          24,
          26,
          27,
          28,
          29,
          30,
          31,
          32,
          33,
          34,
          35,
          36,
          37,
          38,
          39,
          41,
          42,
          43,
          44
         ],
         "xaxis": "x3",
         "y": [
          17,
          20,
          36,
          27,
          14,
          34,
          22,
          27,
          26,
          31,
          16,
          24,
          25,
          17,
          26,
          14,
          19,
          11,
          20,
          18,
          13,
          20,
          20,
          25,
          28,
          14,
          19,
          21,
          11,
          10,
          12,
          19,
          11,
          16,
          12,
          12,
          16,
          16,
          16,
          13,
          16,
          12
         ],
         "yaxis": "y3"
        },
        {
         "hovertemplate": "item_id=13526<br>year=2014<br>week=%{x}<br>average_weekly_sales=%{y}<extra></extra>",
         "legendgroup": "13526",
         "line": {
          "color": "#B6E880",
          "dash": "solid"
         },
         "marker": {
          "symbol": "circle"
         },
         "mode": "lines",
         "name": "13526",
         "showlegend": true,
         "type": "scattergl",
         "x": [
          38
         ],
         "xaxis": "x2",
         "y": [
          12
         ],
         "yaxis": "y2"
        },
        {
         "hovertemplate": "item_id=3340<br>year=2014<br>week=%{x}<br>average_weekly_sales=%{y}<extra></extra>",
         "legendgroup": "3340",
         "line": {
          "color": "#FF97FF",
          "dash": "solid"
         },
         "marker": {
          "symbol": "circle"
         },
         "mode": "lines",
         "name": "3340",
         "showlegend": true,
         "type": "scattergl",
         "x": [
          39,
          40
         ],
         "xaxis": "x2",
         "y": [
          21.346938775510203,
          10.27659574468085
         ],
         "yaxis": "y2"
        },
        {
         "hovertemplate": "item_id=3341<br>year=2014<br>week=%{x}<br>average_weekly_sales=%{y}<extra></extra>",
         "legendgroup": "3341",
         "line": {
          "color": "#FECB52",
          "dash": "solid"
         },
         "marker": {
          "symbol": "circle"
         },
         "mode": "lines",
         "name": "3341",
         "showlegend": true,
         "type": "scattergl",
         "x": [
          39
         ],
         "xaxis": "x2",
         "y": [
          12.83673469387755
         ],
         "yaxis": "y2"
        },
        {
         "hovertemplate": "item_id=3342<br>year=2014<br>week=%{x}<br>average_weekly_sales=%{y}<extra></extra>",
         "legendgroup": "3342",
         "line": {
          "color": "#636efa",
          "dash": "solid"
         },
         "marker": {
          "symbol": "circle"
         },
         "mode": "lines",
         "name": "3342",
         "showlegend": true,
         "type": "scattergl",
         "x": [
          39
         ],
         "xaxis": "x2",
         "y": [
          26.102040816326532
         ],
         "yaxis": "y2"
        },
        {
         "hovertemplate": "item_id=3343<br>year=2014<br>week=%{x}<br>average_weekly_sales=%{y}<extra></extra>",
         "legendgroup": "3343",
         "line": {
          "color": "#EF553B",
          "dash": "solid"
         },
         "marker": {
          "symbol": "circle"
         },
         "mode": "lines",
         "name": "3343",
         "showlegend": true,
         "type": "scattergl",
         "x": [
          39
         ],
         "xaxis": "x2",
         "y": [
          11.938775510204081
         ],
         "yaxis": "y2"
        },
        {
         "hovertemplate": "item_id=3346<br>year=2014<br>week=%{x}<br>average_weekly_sales=%{y}<extra></extra>",
         "legendgroup": "3346",
         "line": {
          "color": "#00cc96",
          "dash": "solid"
         },
         "marker": {
          "symbol": "circle"
         },
         "mode": "lines",
         "name": "3346",
         "showlegend": true,
         "type": "scattergl",
         "x": [
          39
         ],
         "xaxis": "x2",
         "y": [
          10.10204081632653
         ],
         "yaxis": "y2"
        },
        {
         "hovertemplate": "item_id=6970<br>year=2014<br>week=%{x}<br>average_weekly_sales=%{y}<extra></extra>",
         "legendgroup": "6970",
         "line": {
          "color": "#ab63fa",
          "dash": "solid"
         },
         "marker": {
          "symbol": "circle"
         },
         "mode": "lines",
         "name": "6970",
         "showlegend": true,
         "type": "scattergl",
         "x": [
          39,
          40
         ],
         "xaxis": "x2",
         "y": [
          13,
          10
         ],
         "yaxis": "y2"
        },
        {
         "hovertemplate": "item_id=6970<br>year=2015<br>week=%{x}<br>average_weekly_sales=%{y}<extra></extra>",
         "legendgroup": "6970",
         "line": {
          "color": "#ab63fa",
          "dash": "solid"
         },
         "marker": {
          "symbol": "circle"
         },
         "mode": "lines",
         "name": "6970",
         "showlegend": false,
         "type": "scattergl",
         "x": [
          2,
          4,
          5,
          6
         ],
         "xaxis": "x3",
         "y": [
          10,
          19,
          33,
          34
         ],
         "yaxis": "y3"
        },
        {
         "hovertemplate": "item_id=9243<br>year=2014<br>week=%{x}<br>average_weekly_sales=%{y}<extra></extra>",
         "legendgroup": "9243",
         "line": {
          "color": "#FFA15A",
          "dash": "solid"
         },
         "marker": {
          "symbol": "circle"
         },
         "mode": "lines",
         "name": "9243",
         "showlegend": true,
         "type": "scattergl",
         "x": [
          39,
          40
         ],
         "xaxis": "x2",
         "y": [
          18.90909090909091,
          15.521739130434783
         ],
         "yaxis": "y2"
        },
        {
         "hovertemplate": "item_id=13098<br>year=2014<br>week=%{x}<br>average_weekly_sales=%{y}<extra></extra>",
         "legendgroup": "13098",
         "line": {
          "color": "#19d3f3",
          "dash": "solid"
         },
         "marker": {
          "symbol": "circle"
         },
         "mode": "lines",
         "name": "13098",
         "showlegend": true,
         "type": "scattergl",
         "x": [
          39,
          40,
          41,
          43,
          44,
          45,
          46,
          47,
          48,
          49,
          51,
          52
         ],
         "xaxis": "x2",
         "y": [
          13,
          10,
          10,
          11,
          15,
          31,
          22,
          19,
          16,
          11,
          18,
          20
         ],
         "yaxis": "y2"
        },
        {
         "hovertemplate": "item_id=13098<br>year=2015<br>week=%{x}<br>average_weekly_sales=%{y}<extra></extra>",
         "legendgroup": "13098",
         "line": {
          "color": "#19d3f3",
          "dash": "solid"
         },
         "marker": {
          "symbol": "circle"
         },
         "mode": "lines",
         "name": "13098",
         "showlegend": false,
         "type": "scattergl",
         "x": [
          53,
          2,
          4,
          5,
          6,
          7,
          8,
          9,
          12,
          14,
          15,
          19,
          20,
          21,
          22,
          26,
          28,
          29,
          32,
          33,
          35,
          36,
          37,
          38,
          39,
          40,
          42,
          44
         ],
         "xaxis": "x3",
         "y": [
          19,
          13,
          15,
          21,
          14,
          22,
          18,
          14,
          16,
          10,
          12,
          10,
          17,
          12,
          16,
          18,
          14,
          12,
          11,
          12,
          14,
          10,
          14,
          18,
          10,
          10,
          12,
          15
         ],
         "yaxis": "y3"
        },
        {
         "hovertemplate": "item_id=9201<br>year=2014<br>week=%{x}<br>average_weekly_sales=%{y}<extra></extra>",
         "legendgroup": "9201",
         "line": {
          "color": "#FF6692",
          "dash": "solid"
         },
         "marker": {
          "symbol": "circle"
         },
         "mode": "lines",
         "name": "9201",
         "showlegend": true,
         "type": "scattergl",
         "x": [
          40
         ],
         "xaxis": "x2",
         "y": [
          10.5
         ],
         "yaxis": "y2"
        },
        {
         "hovertemplate": "item_id=9214<br>year=2014<br>week=%{x}<br>average_weekly_sales=%{y}<extra></extra>",
         "legendgroup": "9214",
         "line": {
          "color": "#B6E880",
          "dash": "solid"
         },
         "marker": {
          "symbol": "circle"
         },
         "mode": "lines",
         "name": "9214",
         "showlegend": true,
         "type": "scattergl",
         "x": [
          40
         ],
         "xaxis": "x2",
         "y": [
          9.5
         ],
         "yaxis": "y2"
        },
        {
         "hovertemplate": "item_id=9394<br>year=2014<br>week=%{x}<br>average_weekly_sales=%{y}<extra></extra>",
         "legendgroup": "9394",
         "line": {
          "color": "#FF97FF",
          "dash": "solid"
         },
         "marker": {
          "symbol": "circle"
         },
         "mode": "lines",
         "name": "9394",
         "showlegend": true,
         "type": "scattergl",
         "x": [
          40
         ],
         "xaxis": "x2",
         "y": [
          17
         ],
         "yaxis": "y2"
        },
        {
         "hovertemplate": "item_id=9395<br>year=2014<br>week=%{x}<br>average_weekly_sales=%{y}<extra></extra>",
         "legendgroup": "9395",
         "line": {
          "color": "#FECB52",
          "dash": "solid"
         },
         "marker": {
          "symbol": "circle"
         },
         "mode": "lines",
         "name": "9395",
         "showlegend": true,
         "type": "scattergl",
         "x": [
          40
         ],
         "xaxis": "x2",
         "y": [
          15.5
         ],
         "yaxis": "y2"
        },
        {
         "hovertemplate": "item_id=9396<br>year=2014<br>week=%{x}<br>average_weekly_sales=%{y}<extra></extra>",
         "legendgroup": "9396",
         "line": {
          "color": "#636efa",
          "dash": "solid"
         },
         "marker": {
          "symbol": "circle"
         },
         "mode": "lines",
         "name": "9396",
         "showlegend": true,
         "type": "scattergl",
         "x": [
          40
         ],
         "xaxis": "x2",
         "y": [
          97
         ],
         "yaxis": "y2"
        },
        {
         "hovertemplate": "item_id=9397<br>year=2014<br>week=%{x}<br>average_weekly_sales=%{y}<extra></extra>",
         "legendgroup": "9397",
         "line": {
          "color": "#EF553B",
          "dash": "solid"
         },
         "marker": {
          "symbol": "circle"
         },
         "mode": "lines",
         "name": "9397",
         "showlegend": true,
         "type": "scattergl",
         "x": [
          40
         ],
         "xaxis": "x2",
         "y": [
          16
         ],
         "yaxis": "y2"
        },
        {
         "hovertemplate": "item_id=9398<br>year=2014<br>week=%{x}<br>average_weekly_sales=%{y}<extra></extra>",
         "legendgroup": "9398",
         "line": {
          "color": "#00cc96",
          "dash": "solid"
         },
         "marker": {
          "symbol": "circle"
         },
         "mode": "lines",
         "name": "9398",
         "showlegend": true,
         "type": "scattergl",
         "x": [
          40
         ],
         "xaxis": "x2",
         "y": [
          44.5
         ],
         "yaxis": "y2"
        },
        {
         "hovertemplate": "item_id=9399<br>year=2014<br>week=%{x}<br>average_weekly_sales=%{y}<extra></extra>",
         "legendgroup": "9399",
         "line": {
          "color": "#ab63fa",
          "dash": "solid"
         },
         "marker": {
          "symbol": "circle"
         },
         "mode": "lines",
         "name": "9399",
         "showlegend": true,
         "type": "scattergl",
         "x": [
          40
         ],
         "xaxis": "x2",
         "y": [
          31.5
         ],
         "yaxis": "y2"
        },
        {
         "hovertemplate": "item_id=9401<br>year=2014<br>week=%{x}<br>average_weekly_sales=%{y}<extra></extra>",
         "legendgroup": "9401",
         "line": {
          "color": "#FFA15A",
          "dash": "solid"
         },
         "marker": {
          "symbol": "circle"
         },
         "mode": "lines",
         "name": "9401",
         "showlegend": true,
         "type": "scattergl",
         "x": [
          40
         ],
         "xaxis": "x2",
         "y": [
          24
         ],
         "yaxis": "y2"
        },
        {
         "hovertemplate": "item_id=9402<br>year=2014<br>week=%{x}<br>average_weekly_sales=%{y}<extra></extra>",
         "legendgroup": "9402",
         "line": {
          "color": "#19d3f3",
          "dash": "solid"
         },
         "marker": {
          "symbol": "circle"
         },
         "mode": "lines",
         "name": "9402",
         "showlegend": true,
         "type": "scattergl",
         "x": [
          40
         ],
         "xaxis": "x2",
         "y": [
          16
         ],
         "yaxis": "y2"
        },
        {
         "hovertemplate": "item_id=9404<br>year=2014<br>week=%{x}<br>average_weekly_sales=%{y}<extra></extra>",
         "legendgroup": "9404",
         "line": {
          "color": "#FF6692",
          "dash": "solid"
         },
         "marker": {
          "symbol": "circle"
         },
         "mode": "lines",
         "name": "9404",
         "showlegend": true,
         "type": "scattergl",
         "x": [
          40
         ],
         "xaxis": "x2",
         "y": [
          37
         ],
         "yaxis": "y2"
        },
        {
         "hovertemplate": "item_id=9405<br>year=2014<br>week=%{x}<br>average_weekly_sales=%{y}<extra></extra>",
         "legendgroup": "9405",
         "line": {
          "color": "#B6E880",
          "dash": "solid"
         },
         "marker": {
          "symbol": "circle"
         },
         "mode": "lines",
         "name": "9405",
         "showlegend": true,
         "type": "scattergl",
         "x": [
          40
         ],
         "xaxis": "x2",
         "y": [
          27
         ],
         "yaxis": "y2"
        },
        {
         "hovertemplate": "item_id=9412<br>year=2014<br>week=%{x}<br>average_weekly_sales=%{y}<extra></extra>",
         "legendgroup": "9412",
         "line": {
          "color": "#FF97FF",
          "dash": "solid"
         },
         "marker": {
          "symbol": "circle"
         },
         "mode": "lines",
         "name": "9412",
         "showlegend": true,
         "type": "scattergl",
         "x": [
          40
         ],
         "xaxis": "x2",
         "y": [
          13.5
         ],
         "yaxis": "y2"
        },
        {
         "hovertemplate": "item_id=9413<br>year=2014<br>week=%{x}<br>average_weekly_sales=%{y}<extra></extra>",
         "legendgroup": "9413",
         "line": {
          "color": "#FECB52",
          "dash": "solid"
         },
         "marker": {
          "symbol": "circle"
         },
         "mode": "lines",
         "name": "9413",
         "showlegend": true,
         "type": "scattergl",
         "x": [
          40
         ],
         "xaxis": "x2",
         "y": [
          10.5
         ],
         "yaxis": "y2"
        },
        {
         "hovertemplate": "item_id=9414<br>year=2014<br>week=%{x}<br>average_weekly_sales=%{y}<extra></extra>",
         "legendgroup": "9414",
         "line": {
          "color": "#636efa",
          "dash": "solid"
         },
         "marker": {
          "symbol": "circle"
         },
         "mode": "lines",
         "name": "9414",
         "showlegend": true,
         "type": "scattergl",
         "x": [
          40
         ],
         "xaxis": "x2",
         "y": [
          12
         ],
         "yaxis": "y2"
        },
        {
         "hovertemplate": "item_id=10199<br>year=2014<br>week=%{x}<br>average_weekly_sales=%{y}<extra></extra>",
         "legendgroup": "10199",
         "line": {
          "color": "#EF553B",
          "dash": "solid"
         },
         "marker": {
          "symbol": "circle"
         },
         "mode": "lines",
         "name": "10199",
         "showlegend": true,
         "type": "scattergl",
         "x": [
          40
         ],
         "xaxis": "x2",
         "y": [
          239
         ],
         "yaxis": "y2"
        },
        {
         "hovertemplate": "item_id=11524<br>year=2014<br>week=%{x}<br>average_weekly_sales=%{y}<extra></extra>",
         "legendgroup": "11524",
         "line": {
          "color": "#00cc96",
          "dash": "solid"
         },
         "marker": {
          "symbol": "circle"
         },
         "mode": "lines",
         "name": "11524",
         "showlegend": true,
         "type": "scattergl",
         "x": [
          40
         ],
         "xaxis": "x2",
         "y": [
          22.5
         ],
         "yaxis": "y2"
        },
        {
         "hovertemplate": "item_id=11526<br>year=2014<br>week=%{x}<br>average_weekly_sales=%{y}<extra></extra>",
         "legendgroup": "11526",
         "line": {
          "color": "#ab63fa",
          "dash": "solid"
         },
         "marker": {
          "symbol": "circle"
         },
         "mode": "lines",
         "name": "11526",
         "showlegend": true,
         "type": "scattergl",
         "x": [
          40
         ],
         "xaxis": "x2",
         "y": [
          12.5
         ],
         "yaxis": "y2"
        },
        {
         "hovertemplate": "item_id=11526<br>year=2015<br>week=%{x}<br>average_weekly_sales=%{y}<extra></extra>",
         "legendgroup": "11526",
         "line": {
          "color": "#ab63fa",
          "dash": "solid"
         },
         "marker": {
          "symbol": "circle"
         },
         "mode": "lines",
         "name": "11526",
         "showlegend": false,
         "type": "scattergl",
         "x": [
          40
         ],
         "xaxis": "x3",
         "y": [
          24.2
         ],
         "yaxis": "y3"
        },
        {
         "hovertemplate": "item_id=11527<br>year=2014<br>week=%{x}<br>average_weekly_sales=%{y}<extra></extra>",
         "legendgroup": "11527",
         "line": {
          "color": "#FFA15A",
          "dash": "solid"
         },
         "marker": {
          "symbol": "circle"
         },
         "mode": "lines",
         "name": "11527",
         "showlegend": true,
         "type": "scattergl",
         "x": [
          40
         ],
         "xaxis": "x2",
         "y": [
          10
         ],
         "yaxis": "y2"
        },
        {
         "hovertemplate": "item_id=11527<br>year=2015<br>week=%{x}<br>average_weekly_sales=%{y}<extra></extra>",
         "legendgroup": "11527",
         "line": {
          "color": "#FFA15A",
          "dash": "solid"
         },
         "marker": {
          "symbol": "circle"
         },
         "mode": "lines",
         "name": "11527",
         "showlegend": false,
         "type": "scattergl",
         "x": [
          40
         ],
         "xaxis": "x3",
         "y": [
          13
         ],
         "yaxis": "y3"
        },
        {
         "hovertemplate": "item_id=11528<br>year=2014<br>week=%{x}<br>average_weekly_sales=%{y}<extra></extra>",
         "legendgroup": "11528",
         "line": {
          "color": "#19d3f3",
          "dash": "solid"
         },
         "marker": {
          "symbol": "circle"
         },
         "mode": "lines",
         "name": "11528",
         "showlegend": true,
         "type": "scattergl",
         "x": [
          40
         ],
         "xaxis": "x2",
         "y": [
          12.5
         ],
         "yaxis": "y2"
        },
        {
         "hovertemplate": "item_id=11529<br>year=2014<br>week=%{x}<br>average_weekly_sales=%{y}<extra></extra>",
         "legendgroup": "11529",
         "line": {
          "color": "#FF6692",
          "dash": "solid"
         },
         "marker": {
          "symbol": "circle"
         },
         "mode": "lines",
         "name": "11529",
         "showlegend": true,
         "type": "scattergl",
         "x": [
          40
         ],
         "xaxis": "x2",
         "y": [
          12.5
         ],
         "yaxis": "y2"
        },
        {
         "hovertemplate": "item_id=11534<br>year=2014<br>week=%{x}<br>average_weekly_sales=%{y}<extra></extra>",
         "legendgroup": "11534",
         "line": {
          "color": "#B6E880",
          "dash": "solid"
         },
         "marker": {
          "symbol": "circle"
         },
         "mode": "lines",
         "name": "11534",
         "showlegend": true,
         "type": "scattergl",
         "x": [
          40
         ],
         "xaxis": "x2",
         "y": [
          24
         ],
         "yaxis": "y2"
        },
        {
         "hovertemplate": "item_id=11534<br>year=2015<br>week=%{x}<br>average_weekly_sales=%{y}<extra></extra>",
         "legendgroup": "11534",
         "line": {
          "color": "#B6E880",
          "dash": "solid"
         },
         "marker": {
          "symbol": "circle"
         },
         "mode": "lines",
         "name": "11534",
         "showlegend": false,
         "type": "scattergl",
         "x": [
          40
         ],
         "xaxis": "x3",
         "y": [
          20.5
         ],
         "yaxis": "y3"
        },
        {
         "hovertemplate": "item_id=11536<br>year=2014<br>week=%{x}<br>average_weekly_sales=%{y}<extra></extra>",
         "legendgroup": "11536",
         "line": {
          "color": "#FF97FF",
          "dash": "solid"
         },
         "marker": {
          "symbol": "circle"
         },
         "mode": "lines",
         "name": "11536",
         "showlegend": true,
         "type": "scattergl",
         "x": [
          40
         ],
         "xaxis": "x2",
         "y": [
          11
         ],
         "yaxis": "y2"
        },
        {
         "hovertemplate": "item_id=11542<br>year=2014<br>week=%{x}<br>average_weekly_sales=%{y}<extra></extra>",
         "legendgroup": "11542",
         "line": {
          "color": "#FECB52",
          "dash": "solid"
         },
         "marker": {
          "symbol": "circle"
         },
         "mode": "lines",
         "name": "11542",
         "showlegend": true,
         "type": "scattergl",
         "x": [
          40
         ],
         "xaxis": "x2",
         "y": [
          17.5
         ],
         "yaxis": "y2"
        },
        {
         "hovertemplate": "item_id=13099<br>year=2014<br>week=%{x}<br>average_weekly_sales=%{y}<extra></extra>",
         "legendgroup": "13099",
         "line": {
          "color": "#636efa",
          "dash": "solid"
         },
         "marker": {
          "symbol": "circle"
         },
         "mode": "lines",
         "name": "13099",
         "showlegend": true,
         "type": "scattergl",
         "x": [
          40,
          41,
          42,
          43,
          44,
          45,
          46,
          47,
          48,
          49,
          50,
          51,
          52
         ],
         "xaxis": "x2",
         "y": [
          11,
          11,
          18,
          14,
          12,
          20,
          11,
          20,
          20,
          12,
          16,
          19,
          25
         ],
         "yaxis": "y2"
        },
        {
         "hovertemplate": "item_id=13099<br>year=2015<br>week=%{x}<br>average_weekly_sales=%{y}<extra></extra>",
         "legendgroup": "13099",
         "line": {
          "color": "#636efa",
          "dash": "solid"
         },
         "marker": {
          "symbol": "circle"
         },
         "mode": "lines",
         "name": "13099",
         "showlegend": false,
         "type": "scattergl",
         "x": [
          53,
          1,
          2,
          3,
          4,
          5,
          6,
          7,
          8,
          9,
          10,
          11,
          12,
          13,
          14,
          15,
          16,
          18,
          19,
          20,
          21,
          22,
          23,
          24,
          25,
          26,
          28,
          30,
          31,
          32,
          33,
          34,
          35,
          36,
          37,
          38,
          39,
          40,
          41,
          42,
          43,
          44
         ],
         "xaxis": "x3",
         "y": [
          23,
          23,
          25,
          25,
          14,
          32,
          10,
          21,
          28,
          18,
          21,
          14,
          18,
          22,
          21,
          14,
          17,
          11,
          12,
          16,
          25,
          13,
          10,
          16,
          13,
          21,
          15,
          10,
          13,
          10,
          18,
          10,
          20,
          11,
          16,
          21,
          13,
          11,
          12,
          15,
          13,
          15
         ],
         "yaxis": "y3"
        },
        {
         "hovertemplate": "item_id=13206<br>year=2014<br>week=%{x}<br>average_weekly_sales=%{y}<extra></extra>",
         "legendgroup": "13206",
         "line": {
          "color": "#EF553B",
          "dash": "solid"
         },
         "marker": {
          "symbol": "circle"
         },
         "mode": "lines",
         "name": "13206",
         "showlegend": true,
         "type": "scattergl",
         "x": [
          40
         ],
         "xaxis": "x2",
         "y": [
          16.333333333333332
         ],
         "yaxis": "y2"
        },
        {
         "hovertemplate": "item_id=13582<br>year=2014<br>week=%{x}<br>average_weekly_sales=%{y}<extra></extra>",
         "legendgroup": "13582",
         "line": {
          "color": "#00cc96",
          "dash": "solid"
         },
         "marker": {
          "symbol": "circle"
         },
         "mode": "lines",
         "name": "13582",
         "showlegend": true,
         "type": "scattergl",
         "x": [
          40
         ],
         "xaxis": "x2",
         "y": [
          10.5
         ],
         "yaxis": "y2"
        },
        {
         "hovertemplate": "item_id=13584<br>year=2014<br>week=%{x}<br>average_weekly_sales=%{y}<extra></extra>",
         "legendgroup": "13584",
         "line": {
          "color": "#ab63fa",
          "dash": "solid"
         },
         "marker": {
          "symbol": "circle"
         },
         "mode": "lines",
         "name": "13584",
         "showlegend": true,
         "type": "scattergl",
         "x": [
          40
         ],
         "xaxis": "x2",
         "y": [
          10.5
         ],
         "yaxis": "y2"
        },
        {
         "hovertemplate": "item_id=13585<br>year=2014<br>week=%{x}<br>average_weekly_sales=%{y}<extra></extra>",
         "legendgroup": "13585",
         "line": {
          "color": "#FFA15A",
          "dash": "solid"
         },
         "marker": {
          "symbol": "circle"
         },
         "mode": "lines",
         "name": "13585",
         "showlegend": true,
         "type": "scattergl",
         "x": [
          40
         ],
         "xaxis": "x2",
         "y": [
          11
         ],
         "yaxis": "y2"
        },
        {
         "hovertemplate": "item_id=13638<br>year=2014<br>week=%{x}<br>average_weekly_sales=%{y}<extra></extra>",
         "legendgroup": "13638",
         "line": {
          "color": "#19d3f3",
          "dash": "solid"
         },
         "marker": {
          "symbol": "circle"
         },
         "mode": "lines",
         "name": "13638",
         "showlegend": true,
         "type": "scattergl",
         "x": [
          40
         ],
         "xaxis": "x2",
         "y": [
          12
         ],
         "yaxis": "y2"
        },
        {
         "hovertemplate": "item_id=13641<br>year=2014<br>week=%{x}<br>average_weekly_sales=%{y}<extra></extra>",
         "legendgroup": "13641",
         "line": {
          "color": "#FF6692",
          "dash": "solid"
         },
         "marker": {
          "symbol": "circle"
         },
         "mode": "lines",
         "name": "13641",
         "showlegend": true,
         "type": "scattergl",
         "x": [
          40
         ],
         "xaxis": "x2",
         "y": [
          18
         ],
         "yaxis": "y2"
        },
        {
         "hovertemplate": "item_id=13642<br>year=2014<br>week=%{x}<br>average_weekly_sales=%{y}<extra></extra>",
         "legendgroup": "13642",
         "line": {
          "color": "#B6E880",
          "dash": "solid"
         },
         "marker": {
          "symbol": "circle"
         },
         "mode": "lines",
         "name": "13642",
         "showlegend": true,
         "type": "scattergl",
         "x": [
          40
         ],
         "xaxis": "x2",
         "y": [
          29
         ],
         "yaxis": "y2"
        },
        {
         "hovertemplate": "item_id=13646<br>year=2014<br>week=%{x}<br>average_weekly_sales=%{y}<extra></extra>",
         "legendgroup": "13646",
         "line": {
          "color": "#FF97FF",
          "dash": "solid"
         },
         "marker": {
          "symbol": "circle"
         },
         "mode": "lines",
         "name": "13646",
         "showlegend": true,
         "type": "scattergl",
         "x": [
          40
         ],
         "xaxis": "x2",
         "y": [
          24
         ],
         "yaxis": "y2"
        },
        {
         "hovertemplate": "item_id=13663<br>year=2014<br>week=%{x}<br>average_weekly_sales=%{y}<extra></extra>",
         "legendgroup": "13663",
         "line": {
          "color": "#FECB52",
          "dash": "solid"
         },
         "marker": {
          "symbol": "circle"
         },
         "mode": "lines",
         "name": "13663",
         "showlegend": true,
         "type": "scattergl",
         "x": [
          40
         ],
         "xaxis": "x2",
         "y": [
          11.5
         ],
         "yaxis": "y2"
        },
        {
         "hovertemplate": "item_id=13685<br>year=2014<br>week=%{x}<br>average_weekly_sales=%{y}<extra></extra>",
         "legendgroup": "13685",
         "line": {
          "color": "#636efa",
          "dash": "solid"
         },
         "marker": {
          "symbol": "circle"
         },
         "mode": "lines",
         "name": "13685",
         "showlegend": true,
         "type": "scattergl",
         "x": [
          40
         ],
         "xaxis": "x2",
         "y": [
          12
         ],
         "yaxis": "y2"
        },
        {
         "hovertemplate": "item_id=13687<br>year=2014<br>week=%{x}<br>average_weekly_sales=%{y}<extra></extra>",
         "legendgroup": "13687",
         "line": {
          "color": "#EF553B",
          "dash": "solid"
         },
         "marker": {
          "symbol": "circle"
         },
         "mode": "lines",
         "name": "13687",
         "showlegend": true,
         "type": "scattergl",
         "x": [
          40
         ],
         "xaxis": "x2",
         "y": [
          15.6
         ],
         "yaxis": "y2"
        },
        {
         "hovertemplate": "item_id=13689<br>year=2014<br>week=%{x}<br>average_weekly_sales=%{y}<extra></extra>",
         "legendgroup": "13689",
         "line": {
          "color": "#00cc96",
          "dash": "solid"
         },
         "marker": {
          "symbol": "circle"
         },
         "mode": "lines",
         "name": "13689",
         "showlegend": true,
         "type": "scattergl",
         "x": [
          40
         ],
         "xaxis": "x2",
         "y": [
          13
         ],
         "yaxis": "y2"
        },
        {
         "hovertemplate": "item_id=13711<br>year=2014<br>week=%{x}<br>average_weekly_sales=%{y}<extra></extra>",
         "legendgroup": "13711",
         "line": {
          "color": "#ab63fa",
          "dash": "solid"
         },
         "marker": {
          "symbol": "circle"
         },
         "mode": "lines",
         "name": "13711",
         "showlegend": true,
         "type": "scattergl",
         "x": [
          40
         ],
         "xaxis": "x2",
         "y": [
          20.5
         ],
         "yaxis": "y2"
        },
        {
         "hovertemplate": "item_id=13748<br>year=2014<br>week=%{x}<br>average_weekly_sales=%{y}<extra></extra>",
         "legendgroup": "13748",
         "line": {
          "color": "#FFA15A",
          "dash": "solid"
         },
         "marker": {
          "symbol": "circle"
         },
         "mode": "lines",
         "name": "13748",
         "showlegend": true,
         "type": "scattergl",
         "x": [
          40
         ],
         "xaxis": "x2",
         "y": [
          9.5
         ],
         "yaxis": "y2"
        },
        {
         "hovertemplate": "item_id=14848<br>year=2014<br>week=%{x}<br>average_weekly_sales=%{y}<extra></extra>",
         "legendgroup": "14848",
         "line": {
          "color": "#19d3f3",
          "dash": "solid"
         },
         "marker": {
          "symbol": "circle"
         },
         "mode": "lines",
         "name": "14848",
         "showlegend": true,
         "type": "scattergl",
         "x": [
          40
         ],
         "xaxis": "x2",
         "y": [
          32
         ],
         "yaxis": "y2"
        },
        {
         "hovertemplate": "item_id=14981<br>year=2014<br>week=%{x}<br>average_weekly_sales=%{y}<extra></extra>",
         "legendgroup": "14981",
         "line": {
          "color": "#FF6692",
          "dash": "solid"
         },
         "marker": {
          "symbol": "circle"
         },
         "mode": "lines",
         "name": "14981",
         "showlegend": true,
         "type": "scattergl",
         "x": [
          40
         ],
         "xaxis": "x2",
         "y": [
          11
         ],
         "yaxis": "y2"
        },
        {
         "hovertemplate": "item_id=14986<br>year=2014<br>week=%{x}<br>average_weekly_sales=%{y}<extra></extra>",
         "legendgroup": "14986",
         "line": {
          "color": "#B6E880",
          "dash": "solid"
         },
         "marker": {
          "symbol": "circle"
         },
         "mode": "lines",
         "name": "14986",
         "showlegend": true,
         "type": "scattergl",
         "x": [
          40
         ],
         "xaxis": "x2",
         "y": [
          10
         ],
         "yaxis": "y2"
        },
        {
         "hovertemplate": "item_id=14987<br>year=2014<br>week=%{x}<br>average_weekly_sales=%{y}<extra></extra>",
         "legendgroup": "14987",
         "line": {
          "color": "#FF97FF",
          "dash": "solid"
         },
         "marker": {
          "symbol": "circle"
         },
         "mode": "lines",
         "name": "14987",
         "showlegend": true,
         "type": "scattergl",
         "x": [
          40
         ],
         "xaxis": "x2",
         "y": [
          10
         ],
         "yaxis": "y2"
        },
        {
         "hovertemplate": "item_id=14994<br>year=2014<br>week=%{x}<br>average_weekly_sales=%{y}<extra></extra>",
         "legendgroup": "14994",
         "line": {
          "color": "#FECB52",
          "dash": "solid"
         },
         "marker": {
          "symbol": "circle"
         },
         "mode": "lines",
         "name": "14994",
         "showlegend": true,
         "type": "scattergl",
         "x": [
          40
         ],
         "xaxis": "x2",
         "y": [
          12
         ],
         "yaxis": "y2"
        },
        {
         "hovertemplate": "item_id=14997<br>year=2014<br>week=%{x}<br>average_weekly_sales=%{y}<extra></extra>",
         "legendgroup": "14997",
         "line": {
          "color": "#636efa",
          "dash": "solid"
         },
         "marker": {
          "symbol": "circle"
         },
         "mode": "lines",
         "name": "14997",
         "showlegend": true,
         "type": "scattergl",
         "x": [
          40
         ],
         "xaxis": "x2",
         "y": [
          12
         ],
         "yaxis": "y2"
        },
        {
         "hovertemplate": "item_id=15220<br>year=2014<br>week=%{x}<br>average_weekly_sales=%{y}<extra></extra>",
         "legendgroup": "15220",
         "line": {
          "color": "#EF553B",
          "dash": "solid"
         },
         "marker": {
          "symbol": "circle"
         },
         "mode": "lines",
         "name": "15220",
         "showlegend": true,
         "type": "scattergl",
         "x": [
          40
         ],
         "xaxis": "x2",
         "y": [
          12.5
         ],
         "yaxis": "y2"
        },
        {
         "hovertemplate": "item_id=15224<br>year=2014<br>week=%{x}<br>average_weekly_sales=%{y}<extra></extra>",
         "legendgroup": "15224",
         "line": {
          "color": "#00cc96",
          "dash": "solid"
         },
         "marker": {
          "symbol": "circle"
         },
         "mode": "lines",
         "name": "15224",
         "showlegend": true,
         "type": "scattergl",
         "x": [
          40
         ],
         "xaxis": "x2",
         "y": [
          9.25
         ],
         "yaxis": "y2"
        },
        {
         "hovertemplate": "item_id=15261<br>year=2014<br>week=%{x}<br>average_weekly_sales=%{y}<extra></extra>",
         "legendgroup": "15261",
         "line": {
          "color": "#ab63fa",
          "dash": "solid"
         },
         "marker": {
          "symbol": "circle"
         },
         "mode": "lines",
         "name": "15261",
         "showlegend": true,
         "type": "scattergl",
         "x": [
          40
         ],
         "xaxis": "x2",
         "y": [
          11.666666666666666
         ],
         "yaxis": "y2"
        },
        {
         "hovertemplate": "item_id=15262<br>year=2014<br>week=%{x}<br>average_weekly_sales=%{y}<extra></extra>",
         "legendgroup": "15262",
         "line": {
          "color": "#FFA15A",
          "dash": "solid"
         },
         "marker": {
          "symbol": "circle"
         },
         "mode": "lines",
         "name": "15262",
         "showlegend": true,
         "type": "scattergl",
         "x": [
          40
         ],
         "xaxis": "x2",
         "y": [
          10.875
         ],
         "yaxis": "y2"
        },
        {
         "hovertemplate": "item_id=15275<br>year=2014<br>week=%{x}<br>average_weekly_sales=%{y}<extra></extra>",
         "legendgroup": "15275",
         "line": {
          "color": "#19d3f3",
          "dash": "solid"
         },
         "marker": {
          "symbol": "circle"
         },
         "mode": "lines",
         "name": "15275",
         "showlegend": true,
         "type": "scattergl",
         "x": [
          40
         ],
         "xaxis": "x2",
         "y": [
          14.333333333333334
         ],
         "yaxis": "y2"
        },
        {
         "hovertemplate": "item_id=15304<br>year=2014<br>week=%{x}<br>average_weekly_sales=%{y}<extra></extra>",
         "legendgroup": "15304",
         "line": {
          "color": "#FF6692",
          "dash": "solid"
         },
         "marker": {
          "symbol": "circle"
         },
         "mode": "lines",
         "name": "15304",
         "showlegend": true,
         "type": "scattergl",
         "x": [
          40
         ],
         "xaxis": "x2",
         "y": [
          17
         ],
         "yaxis": "y2"
        },
        {
         "hovertemplate": "item_id=15304<br>year=2015<br>week=%{x}<br>average_weekly_sales=%{y}<extra></extra>",
         "legendgroup": "15304",
         "line": {
          "color": "#FF6692",
          "dash": "solid"
         },
         "marker": {
          "symbol": "circle"
         },
         "mode": "lines",
         "name": "15304",
         "showlegend": false,
         "type": "scattergl",
         "x": [
          40
         ],
         "xaxis": "x3",
         "y": [
          10.5
         ],
         "yaxis": "y3"
        },
        {
         "hovertemplate": "item_id=16263<br>year=2014<br>week=%{x}<br>average_weekly_sales=%{y}<extra></extra>",
         "legendgroup": "16263",
         "line": {
          "color": "#B6E880",
          "dash": "solid"
         },
         "marker": {
          "symbol": "circle"
         },
         "mode": "lines",
         "name": "16263",
         "showlegend": true,
         "type": "scattergl",
         "x": [
          40
         ],
         "xaxis": "x2",
         "y": [
          10
         ],
         "yaxis": "y2"
        },
        {
         "hovertemplate": "item_id=16264<br>year=2014<br>week=%{x}<br>average_weekly_sales=%{y}<extra></extra>",
         "legendgroup": "16264",
         "line": {
          "color": "#FF97FF",
          "dash": "solid"
         },
         "marker": {
          "symbol": "circle"
         },
         "mode": "lines",
         "name": "16264",
         "showlegend": true,
         "type": "scattergl",
         "x": [
          40
         ],
         "xaxis": "x2",
         "y": [
          11
         ],
         "yaxis": "y2"
        },
        {
         "hovertemplate": "item_id=19436<br>year=2014<br>week=%{x}<br>average_weekly_sales=%{y}<extra></extra>",
         "legendgroup": "19436",
         "line": {
          "color": "#FECB52",
          "dash": "solid"
         },
         "marker": {
          "symbol": "circle"
         },
         "mode": "lines",
         "name": "19436",
         "showlegend": true,
         "type": "scattergl",
         "x": [
          40
         ],
         "xaxis": "x2",
         "y": [
          16.204545454545453
         ],
         "yaxis": "y2"
        },
        {
         "hovertemplate": "item_id=19437<br>year=2014<br>week=%{x}<br>average_weekly_sales=%{y}<extra></extra>",
         "legendgroup": "19437",
         "line": {
          "color": "#636efa",
          "dash": "solid"
         },
         "marker": {
          "symbol": "circle"
         },
         "mode": "lines",
         "name": "19437",
         "showlegend": true,
         "type": "scattergl",
         "x": [
          40,
          41,
          42
         ],
         "xaxis": "x2",
         "y": [
          408,
          641,
          23
         ],
         "yaxis": "y2"
        },
        {
         "hovertemplate": "item_id=19437<br>year=2015<br>week=%{x}<br>average_weekly_sales=%{y}<extra></extra>",
         "legendgroup": "19437",
         "line": {
          "color": "#636efa",
          "dash": "solid"
         },
         "marker": {
          "symbol": "circle"
         },
         "mode": "lines",
         "name": "19437",
         "showlegend": false,
         "type": "scattergl",
         "x": [
          1,
          2
         ],
         "xaxis": "x3",
         "y": [
          57,
          220
         ],
         "yaxis": "y3"
        },
        {
         "hovertemplate": "item_id=19439<br>year=2014<br>week=%{x}<br>average_weekly_sales=%{y}<extra></extra>",
         "legendgroup": "19439",
         "line": {
          "color": "#EF553B",
          "dash": "solid"
         },
         "marker": {
          "symbol": "circle"
         },
         "mode": "lines",
         "name": "19439",
         "showlegend": true,
         "type": "scattergl",
         "x": [
          40,
          41
         ],
         "xaxis": "x2",
         "y": [
          101,
          10.204545454545455
         ],
         "yaxis": "y2"
        },
        {
         "hovertemplate": "item_id=20387<br>year=2014<br>week=%{x}<br>average_weekly_sales=%{y}<extra></extra>",
         "legendgroup": "20387",
         "line": {
          "color": "#00cc96",
          "dash": "solid"
         },
         "marker": {
          "symbol": "circle"
         },
         "mode": "lines",
         "name": "20387",
         "showlegend": true,
         "type": "scattergl",
         "x": [
          40
         ],
         "xaxis": "x2",
         "y": [
          11
         ],
         "yaxis": "y2"
        },
        {
         "hovertemplate": "item_id=20417<br>year=2014<br>week=%{x}<br>average_weekly_sales=%{y}<extra></extra>",
         "legendgroup": "20417",
         "line": {
          "color": "#ab63fa",
          "dash": "solid"
         },
         "marker": {
          "symbol": "circle"
         },
         "mode": "lines",
         "name": "20417",
         "showlegend": true,
         "type": "scattergl",
         "x": [
          40
         ],
         "xaxis": "x2",
         "y": [
          13.5
         ],
         "yaxis": "y2"
        },
        {
         "hovertemplate": "item_id=20738<br>year=2014<br>week=%{x}<br>average_weekly_sales=%{y}<extra></extra>",
         "legendgroup": "20738",
         "line": {
          "color": "#FFA15A",
          "dash": "solid"
         },
         "marker": {
          "symbol": "circle"
         },
         "mode": "lines",
         "name": "20738",
         "showlegend": true,
         "type": "scattergl",
         "x": [
          40
         ],
         "xaxis": "x2",
         "y": [
          10
         ],
         "yaxis": "y2"
        },
        {
         "hovertemplate": "item_id=20828<br>year=2014<br>week=%{x}<br>average_weekly_sales=%{y}<extra></extra>",
         "legendgroup": "20828",
         "line": {
          "color": "#19d3f3",
          "dash": "solid"
         },
         "marker": {
          "symbol": "circle"
         },
         "mode": "lines",
         "name": "20828",
         "showlegend": true,
         "type": "scattergl",
         "x": [
          40
         ],
         "xaxis": "x2",
         "y": [
          14.5
         ],
         "yaxis": "y2"
        },
        {
         "hovertemplate": "item_id=20829<br>year=2014<br>week=%{x}<br>average_weekly_sales=%{y}<extra></extra>",
         "legendgroup": "20829",
         "line": {
          "color": "#FF6692",
          "dash": "solid"
         },
         "marker": {
          "symbol": "circle"
         },
         "mode": "lines",
         "name": "20829",
         "showlegend": true,
         "type": "scattergl",
         "x": [
          40
         ],
         "xaxis": "x2",
         "y": [
          16.5
         ],
         "yaxis": "y2"
        },
        {
         "hovertemplate": "item_id=20830<br>year=2014<br>week=%{x}<br>average_weekly_sales=%{y}<extra></extra>",
         "legendgroup": "20830",
         "line": {
          "color": "#B6E880",
          "dash": "solid"
         },
         "marker": {
          "symbol": "circle"
         },
         "mode": "lines",
         "name": "20830",
         "showlegend": true,
         "type": "scattergl",
         "x": [
          40
         ],
         "xaxis": "x2",
         "y": [
          14.5
         ],
         "yaxis": "y2"
        },
        {
         "hovertemplate": "item_id=20886<br>year=2014<br>week=%{x}<br>average_weekly_sales=%{y}<extra></extra>",
         "legendgroup": "20886",
         "line": {
          "color": "#FF97FF",
          "dash": "solid"
         },
         "marker": {
          "symbol": "circle"
         },
         "mode": "lines",
         "name": "20886",
         "showlegend": true,
         "type": "scattergl",
         "x": [
          40
         ],
         "xaxis": "x2",
         "y": [
          10
         ],
         "yaxis": "y2"
        },
        {
         "hovertemplate": "item_id=20984<br>year=2014<br>week=%{x}<br>average_weekly_sales=%{y}<extra></extra>",
         "legendgroup": "20984",
         "line": {
          "color": "#FECB52",
          "dash": "solid"
         },
         "marker": {
          "symbol": "circle"
         },
         "mode": "lines",
         "name": "20984",
         "showlegend": true,
         "type": "scattergl",
         "x": [
          40
         ],
         "xaxis": "x2",
         "y": [
          9.5
         ],
         "yaxis": "y2"
        },
        {
         "hovertemplate": "item_id=21086<br>year=2014<br>week=%{x}<br>average_weekly_sales=%{y}<extra></extra>",
         "legendgroup": "21086",
         "line": {
          "color": "#636efa",
          "dash": "solid"
         },
         "marker": {
          "symbol": "circle"
         },
         "mode": "lines",
         "name": "21086",
         "showlegend": true,
         "type": "scattergl",
         "x": [
          40
         ],
         "xaxis": "x2",
         "y": [
          12
         ],
         "yaxis": "y2"
        },
        {
         "hovertemplate": "item_id=21087<br>year=2014<br>week=%{x}<br>average_weekly_sales=%{y}<extra></extra>",
         "legendgroup": "21087",
         "line": {
          "color": "#EF553B",
          "dash": "solid"
         },
         "marker": {
          "symbol": "circle"
         },
         "mode": "lines",
         "name": "21087",
         "showlegend": true,
         "type": "scattergl",
         "x": [
          40
         ],
         "xaxis": "x2",
         "y": [
          15.5
         ],
         "yaxis": "y2"
        },
        {
         "hovertemplate": "item_id=21094<br>year=2014<br>week=%{x}<br>average_weekly_sales=%{y}<extra></extra>",
         "legendgroup": "21094",
         "line": {
          "color": "#00cc96",
          "dash": "solid"
         },
         "marker": {
          "symbol": "circle"
         },
         "mode": "lines",
         "name": "21094",
         "showlegend": true,
         "type": "scattergl",
         "x": [
          40
         ],
         "xaxis": "x2",
         "y": [
          12.5
         ],
         "yaxis": "y2"
        },
        {
         "hovertemplate": "item_id=21118<br>year=2014<br>week=%{x}<br>average_weekly_sales=%{y}<extra></extra>",
         "legendgroup": "21118",
         "line": {
          "color": "#ab63fa",
          "dash": "solid"
         },
         "marker": {
          "symbol": "circle"
         },
         "mode": "lines",
         "name": "21118",
         "showlegend": true,
         "type": "scattergl",
         "x": [
          40
         ],
         "xaxis": "x2",
         "y": [
          9.5
         ],
         "yaxis": "y2"
        },
        {
         "hovertemplate": "item_id=21120<br>year=2014<br>week=%{x}<br>average_weekly_sales=%{y}<extra></extra>",
         "legendgroup": "21120",
         "line": {
          "color": "#FFA15A",
          "dash": "solid"
         },
         "marker": {
          "symbol": "circle"
         },
         "mode": "lines",
         "name": "21120",
         "showlegend": true,
         "type": "scattergl",
         "x": [
          40
         ],
         "xaxis": "x2",
         "y": [
          9.5
         ],
         "yaxis": "y2"
        },
        {
         "hovertemplate": "item_id=21161<br>year=2014<br>week=%{x}<br>average_weekly_sales=%{y}<extra></extra>",
         "legendgroup": "21161",
         "line": {
          "color": "#19d3f3",
          "dash": "solid"
         },
         "marker": {
          "symbol": "circle"
         },
         "mode": "lines",
         "name": "21161",
         "showlegend": true,
         "type": "scattergl",
         "x": [
          40
         ],
         "xaxis": "x2",
         "y": [
          9.5
         ],
         "yaxis": "y2"
        },
        {
         "hovertemplate": "item_id=21276<br>year=2014<br>week=%{x}<br>average_weekly_sales=%{y}<extra></extra>",
         "legendgroup": "21276",
         "line": {
          "color": "#FF6692",
          "dash": "solid"
         },
         "marker": {
          "symbol": "circle"
         },
         "mode": "lines",
         "name": "21276",
         "showlegend": true,
         "type": "scattergl",
         "x": [
          40
         ],
         "xaxis": "x2",
         "y": [
          11.25
         ],
         "yaxis": "y2"
        },
        {
         "hovertemplate": "item_id=19445<br>year=2014<br>week=%{x}<br>average_weekly_sales=%{y}<extra></extra>",
         "legendgroup": "19445",
         "line": {
          "color": "#B6E880",
          "dash": "solid"
         },
         "marker": {
          "symbol": "circle"
         },
         "mode": "lines",
         "name": "19445",
         "showlegend": true,
         "type": "scattergl",
         "x": [
          41,
          42,
          48
         ],
         "xaxis": "x2",
         "y": [
          515,
          10,
          14
         ],
         "yaxis": "y2"
        },
        {
         "hovertemplate": "item_id=19445<br>year=2015<br>week=%{x}<br>average_weekly_sales=%{y}<extra></extra>",
         "legendgroup": "19445",
         "line": {
          "color": "#B6E880",
          "dash": "solid"
         },
         "marker": {
          "symbol": "circle"
         },
         "mode": "lines",
         "name": "19445",
         "showlegend": false,
         "type": "scattergl",
         "x": [
          1,
          2
         ],
         "xaxis": "x3",
         "y": [
          148,
          253
         ],
         "yaxis": "y3"
        },
        {
         "hovertemplate": "item_id=19446<br>year=2014<br>week=%{x}<br>average_weekly_sales=%{y}<extra></extra>",
         "legendgroup": "19446",
         "line": {
          "color": "#FF97FF",
          "dash": "solid"
         },
         "marker": {
          "symbol": "circle"
         },
         "mode": "lines",
         "name": "19446",
         "showlegend": true,
         "type": "scattergl",
         "x": [
          41
         ],
         "xaxis": "x2",
         "y": [
          235
         ],
         "yaxis": "y2"
        },
        {
         "hovertemplate": "item_id=19446<br>year=2015<br>week=%{x}<br>average_weekly_sales=%{y}<extra></extra>",
         "legendgroup": "19446",
         "line": {
          "color": "#FF97FF",
          "dash": "solid"
         },
         "marker": {
          "symbol": "circle"
         },
         "mode": "lines",
         "name": "19446",
         "showlegend": false,
         "type": "scattergl",
         "x": [
          1,
          2
         ],
         "xaxis": "x3",
         "y": [
          31,
          282
         ],
         "yaxis": "y3"
        },
        {
         "hovertemplate": "item_id=3025<br>year=2014<br>week=%{x}<br>average_weekly_sales=%{y}<extra></extra>",
         "legendgroup": "3025",
         "line": {
          "color": "#FECB52",
          "dash": "solid"
         },
         "marker": {
          "symbol": "circle"
         },
         "mode": "lines",
         "name": "3025",
         "showlegend": true,
         "type": "scattergl",
         "x": [
          42,
          43,
          45,
          46,
          47,
          48,
          49,
          50,
          51,
          52
         ],
         "xaxis": "x2",
         "y": [
          10,
          13,
          20,
          33,
          408,
          218,
          172,
          140,
          142,
          122
         ],
         "yaxis": "y2"
        },
        {
         "hovertemplate": "item_id=3025<br>year=2015<br>week=%{x}<br>average_weekly_sales=%{y}<extra></extra>",
         "legendgroup": "3025",
         "line": {
          "color": "#FECB52",
          "dash": "solid"
         },
         "marker": {
          "symbol": "circle"
         },
         "mode": "lines",
         "name": "3025",
         "showlegend": false,
         "type": "scattergl",
         "x": [
          53,
          3,
          4,
          5,
          6,
          7,
          8,
          9,
          10,
          11,
          12,
          13,
          14
         ],
         "xaxis": "x3",
         "y": [
          37,
          19,
          28,
          33,
          26,
          22,
          17,
          22,
          18,
          11,
          16,
          11,
          15
         ],
         "yaxis": "y3"
        },
        {
         "hovertemplate": "item_id=3237<br>year=2014<br>week=%{x}<br>average_weekly_sales=%{y}<extra></extra>",
         "legendgroup": "3237",
         "line": {
          "color": "#636efa",
          "dash": "solid"
         },
         "marker": {
          "symbol": "circle"
         },
         "mode": "lines",
         "name": "3237",
         "showlegend": true,
         "type": "scattergl",
         "x": [
          42
         ],
         "xaxis": "x2",
         "y": [
          11.55
         ],
         "yaxis": "y2"
        },
        {
         "hovertemplate": "item_id=13753<br>year=2014<br>week=%{x}<br>average_weekly_sales=%{y}<extra></extra>",
         "legendgroup": "13753",
         "line": {
          "color": "#EF553B",
          "dash": "solid"
         },
         "marker": {
          "symbol": "circle"
         },
         "mode": "lines",
         "name": "13753",
         "showlegend": true,
         "type": "scattergl",
         "x": [
          42,
          46,
          47,
          49,
          50,
          51,
          52
         ],
         "xaxis": "x2",
         "y": [
          10,
          13,
          23,
          11,
          25,
          37,
          17
         ],
         "yaxis": "y2"
        },
        {
         "hovertemplate": "item_id=13753<br>year=2015<br>week=%{x}<br>average_weekly_sales=%{y}<extra></extra>",
         "legendgroup": "13753",
         "line": {
          "color": "#EF553B",
          "dash": "solid"
         },
         "marker": {
          "symbol": "circle"
         },
         "mode": "lines",
         "name": "13753",
         "showlegend": false,
         "type": "scattergl",
         "x": [
          5,
          6,
          8,
          13,
          14,
          16,
          17,
          21,
          22,
          23,
          24,
          25,
          28,
          36,
          40
         ],
         "xaxis": "x3",
         "y": [
          13,
          10,
          17,
          14,
          16,
          25,
          21,
          88,
          25,
          17,
          20,
          10,
          21,
          21,
          14
         ],
         "yaxis": "y3"
        },
        {
         "hovertemplate": "item_id=4492<br>year=2014<br>week=%{x}<br>average_weekly_sales=%{y}<extra></extra>",
         "legendgroup": "4492",
         "line": {
          "color": "#00cc96",
          "dash": "solid"
         },
         "marker": {
          "symbol": "circle"
         },
         "mode": "lines",
         "name": "4492",
         "showlegend": true,
         "type": "scattergl",
         "x": [
          43
         ],
         "xaxis": "x2",
         "y": [
          14
         ],
         "yaxis": "y2"
        },
        {
         "hovertemplate": "item_id=6436<br>year=2014<br>week=%{x}<br>average_weekly_sales=%{y}<extra></extra>",
         "legendgroup": "6436",
         "line": {
          "color": "#ab63fa",
          "dash": "solid"
         },
         "marker": {
          "symbol": "circle"
         },
         "mode": "lines",
         "name": "6436",
         "showlegend": true,
         "type": "scattergl",
         "x": [
          43
         ],
         "xaxis": "x2",
         "y": [
          9.10344827586207
         ],
         "yaxis": "y2"
        },
        {
         "hovertemplate": "item_id=6447<br>year=2014<br>week=%{x}<br>average_weekly_sales=%{y}<extra></extra>",
         "legendgroup": "6447",
         "line": {
          "color": "#FFA15A",
          "dash": "solid"
         },
         "marker": {
          "symbol": "circle"
         },
         "mode": "lines",
         "name": "6447",
         "showlegend": true,
         "type": "scattergl",
         "x": [
          43,
          44
         ],
         "xaxis": "x2",
         "y": [
          22,
          15
         ],
         "yaxis": "y2"
        },
        {
         "hovertemplate": "item_id=14834<br>year=2014<br>week=%{x}<br>average_weekly_sales=%{y}<extra></extra>",
         "legendgroup": "14834",
         "line": {
          "color": "#19d3f3",
          "dash": "solid"
         },
         "marker": {
          "symbol": "circle"
         },
         "mode": "lines",
         "name": "14834",
         "showlegend": true,
         "type": "scattergl",
         "x": [
          43
         ],
         "xaxis": "x2",
         "y": [
          10
         ],
         "yaxis": "y2"
        },
        {
         "hovertemplate": "item_id=2282<br>year=2014<br>week=%{x}<br>average_weekly_sales=%{y}<extra></extra>",
         "legendgroup": "2282",
         "line": {
          "color": "#FF6692",
          "dash": "solid"
         },
         "marker": {
          "symbol": "circle"
         },
         "mode": "lines",
         "name": "2282",
         "showlegend": true,
         "type": "scattergl",
         "x": [
          44,
          45,
          46
         ],
         "xaxis": "x2",
         "y": [
          24,
          40,
          12
         ],
         "yaxis": "y2"
        },
        {
         "hovertemplate": "item_id=2732<br>year=2014<br>week=%{x}<br>average_weekly_sales=%{y}<extra></extra>",
         "legendgroup": "2732",
         "line": {
          "color": "#B6E880",
          "dash": "solid"
         },
         "marker": {
          "symbol": "circle"
         },
         "mode": "lines",
         "name": "2732",
         "showlegend": true,
         "type": "scattergl",
         "x": [
          44
         ],
         "xaxis": "x2",
         "y": [
          15
         ],
         "yaxis": "y2"
        },
        {
         "hovertemplate": "item_id=2732<br>year=2015<br>week=%{x}<br>average_weekly_sales=%{y}<extra></extra>",
         "legendgroup": "2732",
         "line": {
          "color": "#B6E880",
          "dash": "solid"
         },
         "marker": {
          "symbol": "circle"
         },
         "mode": "lines",
         "name": "2732",
         "showlegend": false,
         "type": "scattergl",
         "x": [
          15
         ],
         "xaxis": "x3",
         "y": [
          10
         ],
         "yaxis": "y3"
        },
        {
         "hovertemplate": "item_id=3473<br>year=2014<br>week=%{x}<br>average_weekly_sales=%{y}<extra></extra>",
         "legendgroup": "3473",
         "line": {
          "color": "#FF97FF",
          "dash": "solid"
         },
         "marker": {
          "symbol": "circle"
         },
         "mode": "lines",
         "name": "3473",
         "showlegend": true,
         "type": "scattergl",
         "x": [
          44,
          45
         ],
         "xaxis": "x2",
         "y": [
          20,
          10
         ],
         "yaxis": "y2"
        },
        {
         "hovertemplate": "item_id=6959<br>year=2014<br>week=%{x}<br>average_weekly_sales=%{y}<extra></extra>",
         "legendgroup": "6959",
         "line": {
          "color": "#FECB52",
          "dash": "solid"
         },
         "marker": {
          "symbol": "circle"
         },
         "mode": "lines",
         "name": "6959",
         "showlegend": true,
         "type": "scattergl",
         "x": [
          44,
          52
         ],
         "xaxis": "x2",
         "y": [
          10,
          14
         ],
         "yaxis": "y2"
        },
        {
         "hovertemplate": "item_id=1552<br>year=2014<br>week=%{x}<br>average_weekly_sales=%{y}<extra></extra>",
         "legendgroup": "1552",
         "line": {
          "color": "#636efa",
          "dash": "solid"
         },
         "marker": {
          "symbol": "circle"
         },
         "mode": "lines",
         "name": "1552",
         "showlegend": true,
         "type": "scattergl",
         "x": [
          45,
          46
         ],
         "xaxis": "x2",
         "y": [
          16,
          13
         ],
         "yaxis": "y2"
        },
        {
         "hovertemplate": "item_id=2288<br>year=2014<br>week=%{x}<br>average_weekly_sales=%{y}<extra></extra>",
         "legendgroup": "2288",
         "line": {
          "color": "#EF553B",
          "dash": "solid"
         },
         "marker": {
          "symbol": "circle"
         },
         "mode": "lines",
         "name": "2288",
         "showlegend": true,
         "type": "scattergl",
         "x": [
          45
         ],
         "xaxis": "x2",
         "y": [
          9.591836734693878
         ],
         "yaxis": "y2"
        },
        {
         "hovertemplate": "item_id=2293<br>year=2014<br>week=%{x}<br>average_weekly_sales=%{y}<extra></extra>",
         "legendgroup": "2293",
         "line": {
          "color": "#00cc96",
          "dash": "solid"
         },
         "marker": {
          "symbol": "circle"
         },
         "mode": "lines",
         "name": "2293",
         "showlegend": true,
         "type": "scattergl",
         "x": [
          45
         ],
         "xaxis": "x2",
         "y": [
          28.104166666666668
         ],
         "yaxis": "y2"
        },
        {
         "hovertemplate": "item_id=1440<br>year=2014<br>week=%{x}<br>average_weekly_sales=%{y}<extra></extra>",
         "legendgroup": "1440",
         "line": {
          "color": "#ab63fa",
          "dash": "solid"
         },
         "marker": {
          "symbol": "circle"
         },
         "mode": "lines",
         "name": "1440",
         "showlegend": true,
         "type": "scattergl",
         "x": [
          46
         ],
         "xaxis": "x2",
         "y": [
          31
         ],
         "yaxis": "y2"
        },
        {
         "hovertemplate": "item_id=1551<br>year=2014<br>week=%{x}<br>average_weekly_sales=%{y}<extra></extra>",
         "legendgroup": "1551",
         "line": {
          "color": "#FFA15A",
          "dash": "solid"
         },
         "marker": {
          "symbol": "circle"
         },
         "mode": "lines",
         "name": "1551",
         "showlegend": true,
         "type": "scattergl",
         "x": [
          46
         ],
         "xaxis": "x2",
         "y": [
          13
         ],
         "yaxis": "y2"
        },
        {
         "hovertemplate": "item_id=1553<br>year=2014<br>week=%{x}<br>average_weekly_sales=%{y}<extra></extra>",
         "legendgroup": "1553",
         "line": {
          "color": "#19d3f3",
          "dash": "solid"
         },
         "marker": {
          "symbol": "circle"
         },
         "mode": "lines",
         "name": "1553",
         "showlegend": true,
         "type": "scattergl",
         "x": [
          46,
          47
         ],
         "xaxis": "x2",
         "y": [
          19,
          10
         ],
         "yaxis": "y2"
        },
        {
         "hovertemplate": "item_id=1555<br>year=2014<br>week=%{x}<br>average_weekly_sales=%{y}<extra></extra>",
         "legendgroup": "1555",
         "line": {
          "color": "#FF6692",
          "dash": "solid"
         },
         "marker": {
          "symbol": "circle"
         },
         "mode": "lines",
         "name": "1555",
         "showlegend": true,
         "type": "scattergl",
         "x": [
          46
         ],
         "xaxis": "x2",
         "y": [
          28.617021276595743
         ],
         "yaxis": "y2"
        },
        {
         "hovertemplate": "item_id=1556<br>year=2014<br>week=%{x}<br>average_weekly_sales=%{y}<extra></extra>",
         "legendgroup": "1556",
         "line": {
          "color": "#B6E880",
          "dash": "solid"
         },
         "marker": {
          "symbol": "circle"
         },
         "mode": "lines",
         "name": "1556",
         "showlegend": true,
         "type": "scattergl",
         "x": [
          46
         ],
         "xaxis": "x2",
         "y": [
          28.142857142857142
         ],
         "yaxis": "y2"
        },
        {
         "hovertemplate": "item_id=1559<br>year=2014<br>week=%{x}<br>average_weekly_sales=%{y}<extra></extra>",
         "legendgroup": "1559",
         "line": {
          "color": "#FF97FF",
          "dash": "solid"
         },
         "marker": {
          "symbol": "circle"
         },
         "mode": "lines",
         "name": "1559",
         "showlegend": true,
         "type": "scattergl",
         "x": [
          46
         ],
         "xaxis": "x2",
         "y": [
          10
         ],
         "yaxis": "y2"
        },
        {
         "hovertemplate": "item_id=1559<br>year=2015<br>week=%{x}<br>average_weekly_sales=%{y}<extra></extra>",
         "legendgroup": "1559",
         "line": {
          "color": "#FF97FF",
          "dash": "solid"
         },
         "marker": {
          "symbol": "circle"
         },
         "mode": "lines",
         "name": "1559",
         "showlegend": false,
         "type": "scattergl",
         "x": [
          42
         ],
         "xaxis": "x3",
         "y": [
          16
         ],
         "yaxis": "y3"
        },
        {
         "hovertemplate": "item_id=3454<br>year=2014<br>week=%{x}<br>average_weekly_sales=%{y}<extra></extra>",
         "legendgroup": "3454",
         "line": {
          "color": "#FECB52",
          "dash": "solid"
         },
         "marker": {
          "symbol": "circle"
         },
         "mode": "lines",
         "name": "3454",
         "showlegend": true,
         "type": "scattergl",
         "x": [
          46
         ],
         "xaxis": "x2",
         "y": [
          15
         ],
         "yaxis": "y2"
        },
        {
         "hovertemplate": "item_id=6937<br>year=2014<br>week=%{x}<br>average_weekly_sales=%{y}<extra></extra>",
         "legendgroup": "6937",
         "line": {
          "color": "#636efa",
          "dash": "solid"
         },
         "marker": {
          "symbol": "circle"
         },
         "mode": "lines",
         "name": "6937",
         "showlegend": true,
         "type": "scattergl",
         "x": [
          46,
          47,
          48,
          49
         ],
         "xaxis": "x2",
         "y": [
          13,
          16,
          34,
          16
         ],
         "yaxis": "y2"
        },
        {
         "hovertemplate": "item_id=7861<br>year=2014<br>week=%{x}<br>average_weekly_sales=%{y}<extra></extra>",
         "legendgroup": "7861",
         "line": {
          "color": "#EF553B",
          "dash": "solid"
         },
         "marker": {
          "symbol": "circle"
         },
         "mode": "lines",
         "name": "7861",
         "showlegend": true,
         "type": "scattergl",
         "x": [
          46
         ],
         "xaxis": "x2",
         "y": [
          13.166666666666666
         ],
         "yaxis": "y2"
        },
        {
         "hovertemplate": "item_id=7863<br>year=2014<br>week=%{x}<br>average_weekly_sales=%{y}<extra></extra>",
         "legendgroup": "7863",
         "line": {
          "color": "#00cc96",
          "dash": "solid"
         },
         "marker": {
          "symbol": "circle"
         },
         "mode": "lines",
         "name": "7863",
         "showlegend": true,
         "type": "scattergl",
         "x": [
          46
         ],
         "xaxis": "x2",
         "y": [
          10.479166666666666
         ],
         "yaxis": "y2"
        },
        {
         "hovertemplate": "item_id=3031<br>year=2014<br>week=%{x}<br>average_weekly_sales=%{y}<extra></extra>",
         "legendgroup": "3031",
         "line": {
          "color": "#ab63fa",
          "dash": "solid"
         },
         "marker": {
          "symbol": "circle"
         },
         "mode": "lines",
         "name": "3031",
         "showlegend": true,
         "type": "scattergl",
         "x": [
          47
         ],
         "xaxis": "x2",
         "y": [
          10.555555555555555
         ],
         "yaxis": "y2"
        },
        {
         "hovertemplate": "item_id=3455<br>year=2014<br>week=%{x}<br>average_weekly_sales=%{y}<extra></extra>",
         "legendgroup": "3455",
         "line": {
          "color": "#FFA15A",
          "dash": "solid"
         },
         "marker": {
          "symbol": "circle"
         },
         "mode": "lines",
         "name": "3455",
         "showlegend": true,
         "type": "scattergl",
         "x": [
          47
         ],
         "xaxis": "x2",
         "y": [
          11
         ],
         "yaxis": "y2"
        },
        {
         "hovertemplate": "item_id=3460<br>year=2014<br>week=%{x}<br>average_weekly_sales=%{y}<extra></extra>",
         "legendgroup": "3460",
         "line": {
          "color": "#19d3f3",
          "dash": "solid"
         },
         "marker": {
          "symbol": "circle"
         },
         "mode": "lines",
         "name": "3460",
         "showlegend": true,
         "type": "scattergl",
         "x": [
          47
         ],
         "xaxis": "x2",
         "y": [
          25.20408163265306
         ],
         "yaxis": "y2"
        },
        {
         "hovertemplate": "item_id=3462<br>year=2014<br>week=%{x}<br>average_weekly_sales=%{y}<extra></extra>",
         "legendgroup": "3462",
         "line": {
          "color": "#FF6692",
          "dash": "solid"
         },
         "marker": {
          "symbol": "circle"
         },
         "mode": "lines",
         "name": "3462",
         "showlegend": true,
         "type": "scattergl",
         "x": [
          47
         ],
         "xaxis": "x2",
         "y": [
          20.729166666666668
         ],
         "yaxis": "y2"
        },
        {
         "hovertemplate": "item_id=3466<br>year=2014<br>week=%{x}<br>average_weekly_sales=%{y}<extra></extra>",
         "legendgroup": "3466",
         "line": {
          "color": "#B6E880",
          "dash": "solid"
         },
         "marker": {
          "symbol": "circle"
         },
         "mode": "lines",
         "name": "3466",
         "showlegend": true,
         "type": "scattergl",
         "x": [
          47,
          48
         ],
         "xaxis": "x2",
         "y": [
          23,
          11
         ],
         "yaxis": "y2"
        },
        {
         "hovertemplate": "item_id=3733<br>year=2014<br>week=%{x}<br>average_weekly_sales=%{y}<extra></extra>",
         "legendgroup": "3733",
         "line": {
          "color": "#FF97FF",
          "dash": "solid"
         },
         "marker": {
          "symbol": "circle"
         },
         "mode": "lines",
         "name": "3733",
         "showlegend": true,
         "type": "scattergl",
         "x": [
          47,
          48
         ],
         "xaxis": "x2",
         "y": [
          71.27659574468085,
          12.229166666666666
         ],
         "yaxis": "y2"
        },
        {
         "hovertemplate": "item_id=17717<br>year=2014<br>week=%{x}<br>average_weekly_sales=%{y}<extra></extra>",
         "legendgroup": "17717",
         "line": {
          "color": "#FECB52",
          "dash": "solid"
         },
         "marker": {
          "symbol": "circle"
         },
         "mode": "lines",
         "name": "17717",
         "showlegend": true,
         "type": "scattergl",
         "x": [
          47,
          51,
          52
         ],
         "xaxis": "x2",
         "y": [
          11.8,
          9.777777777777779,
          11.543478260869565
         ],
         "yaxis": "y2"
        },
        {
         "hovertemplate": "item_id=17717<br>year=2015<br>week=%{x}<br>average_weekly_sales=%{y}<extra></extra>",
         "legendgroup": "17717",
         "line": {
          "color": "#FECB52",
          "dash": "solid"
         },
         "marker": {
          "symbol": "circle"
         },
         "mode": "lines",
         "name": "17717",
         "showlegend": false,
         "type": "scattergl",
         "x": [
          2
         ],
         "xaxis": "x3",
         "y": [
          9.577777777777778
         ],
         "yaxis": "y3"
        },
        {
         "hovertemplate": "item_id=2051<br>year=2014<br>week=%{x}<br>average_weekly_sales=%{y}<extra></extra>",
         "legendgroup": "2051",
         "line": {
          "color": "#636efa",
          "dash": "solid"
         },
         "marker": {
          "symbol": "circle"
         },
         "mode": "lines",
         "name": "2051",
         "showlegend": true,
         "type": "scattergl",
         "x": [
          48
         ],
         "xaxis": "x2",
         "y": [
          10
         ],
         "yaxis": "y2"
        },
        {
         "hovertemplate": "item_id=3403<br>year=2014<br>week=%{x}<br>average_weekly_sales=%{y}<extra></extra>",
         "legendgroup": "3403",
         "line": {
          "color": "#EF553B",
          "dash": "solid"
         },
         "marker": {
          "symbol": "circle"
         },
         "mode": "lines",
         "name": "3403",
         "showlegend": true,
         "type": "scattergl",
         "x": [
          48
         ],
         "xaxis": "x2",
         "y": [
          10
         ],
         "yaxis": "y2"
        },
        {
         "hovertemplate": "item_id=3403<br>year=2015<br>week=%{x}<br>average_weekly_sales=%{y}<extra></extra>",
         "legendgroup": "3403",
         "line": {
          "color": "#EF553B",
          "dash": "solid"
         },
         "marker": {
          "symbol": "circle"
         },
         "mode": "lines",
         "name": "3403",
         "showlegend": false,
         "type": "scattergl",
         "x": [
          23,
          25,
          29
         ],
         "xaxis": "x3",
         "y": [
          15,
          11,
          13
         ],
         "yaxis": "y3"
        },
        {
         "hovertemplate": "item_id=3411<br>year=2014<br>week=%{x}<br>average_weekly_sales=%{y}<extra></extra>",
         "legendgroup": "3411",
         "line": {
          "color": "#00cc96",
          "dash": "solid"
         },
         "marker": {
          "symbol": "circle"
         },
         "mode": "lines",
         "name": "3411",
         "showlegend": true,
         "type": "scattergl",
         "x": [
          48
         ],
         "xaxis": "x2",
         "y": [
          13
         ],
         "yaxis": "y2"
        },
        {
         "hovertemplate": "item_id=3418<br>year=2014<br>week=%{x}<br>average_weekly_sales=%{y}<extra></extra>",
         "legendgroup": "3418",
         "line": {
          "color": "#ab63fa",
          "dash": "solid"
         },
         "marker": {
          "symbol": "circle"
         },
         "mode": "lines",
         "name": "3418",
         "showlegend": true,
         "type": "scattergl",
         "x": [
          48
         ],
         "xaxis": "x2",
         "y": [
          13
         ],
         "yaxis": "y2"
        },
        {
         "hovertemplate": "item_id=6955<br>year=2014<br>week=%{x}<br>average_weekly_sales=%{y}<extra></extra>",
         "legendgroup": "6955",
         "line": {
          "color": "#FFA15A",
          "dash": "solid"
         },
         "marker": {
          "symbol": "circle"
         },
         "mode": "lines",
         "name": "6955",
         "showlegend": true,
         "type": "scattergl",
         "x": [
          48
         ],
         "xaxis": "x2",
         "y": [
          12
         ],
         "yaxis": "y2"
        },
        {
         "hovertemplate": "item_id=15334<br>year=2014<br>week=%{x}<br>average_weekly_sales=%{y}<extra></extra>",
         "legendgroup": "15334",
         "line": {
          "color": "#19d3f3",
          "dash": "solid"
         },
         "marker": {
          "symbol": "circle"
         },
         "mode": "lines",
         "name": "15334",
         "showlegend": true,
         "type": "scattergl",
         "x": [
          48
         ],
         "xaxis": "x2",
         "y": [
          11.833333333333334
         ],
         "yaxis": "y2"
        },
        {
         "hovertemplate": "item_id=2429<br>year=2014<br>week=%{x}<br>average_weekly_sales=%{y}<extra></extra>",
         "legendgroup": "2429",
         "line": {
          "color": "#FF6692",
          "dash": "solid"
         },
         "marker": {
          "symbol": "circle"
         },
         "mode": "lines",
         "name": "2429",
         "showlegend": true,
         "type": "scattergl",
         "x": [
          49
         ],
         "xaxis": "x2",
         "y": [
          13.395833333333334
         ],
         "yaxis": "y2"
        },
        {
         "hovertemplate": "item_id=6938<br>year=2014<br>week=%{x}<br>average_weekly_sales=%{y}<extra></extra>",
         "legendgroup": "6938",
         "line": {
          "color": "#B6E880",
          "dash": "solid"
         },
         "marker": {
          "symbol": "circle"
         },
         "mode": "lines",
         "name": "6938",
         "showlegend": true,
         "type": "scattergl",
         "x": [
          49,
          50,
          52
         ],
         "xaxis": "x2",
         "y": [
          13,
          11,
          10
         ],
         "yaxis": "y2"
        },
        {
         "hovertemplate": "item_id=6940<br>year=2014<br>week=%{x}<br>average_weekly_sales=%{y}<extra></extra>",
         "legendgroup": "6940",
         "line": {
          "color": "#FF97FF",
          "dash": "solid"
         },
         "marker": {
          "symbol": "circle"
         },
         "mode": "lines",
         "name": "6940",
         "showlegend": true,
         "type": "scattergl",
         "x": [
          49,
          50,
          51
         ],
         "xaxis": "x2",
         "y": [
          34,
          17,
          10
         ],
         "yaxis": "y2"
        },
        {
         "hovertemplate": "item_id=6940<br>year=2015<br>week=%{x}<br>average_weekly_sales=%{y}<extra></extra>",
         "legendgroup": "6940",
         "line": {
          "color": "#FF97FF",
          "dash": "solid"
         },
         "marker": {
          "symbol": "circle"
         },
         "mode": "lines",
         "name": "6940",
         "showlegend": false,
         "type": "scattergl",
         "x": [
          1,
          2
         ],
         "xaxis": "x3",
         "y": [
          10,
          10
         ],
         "yaxis": "y3"
        },
        {
         "hovertemplate": "item_id=10205<br>year=2014<br>week=%{x}<br>average_weekly_sales=%{y}<extra></extra>",
         "legendgroup": "10205",
         "line": {
          "color": "#FECB52",
          "dash": "solid"
         },
         "marker": {
          "symbol": "circle"
         },
         "mode": "lines",
         "name": "10205",
         "showlegend": true,
         "type": "scattergl",
         "x": [
          49
         ],
         "xaxis": "x2",
         "y": [
          10
         ],
         "yaxis": "y2"
        },
        {
         "hovertemplate": "item_id=10205<br>year=2015<br>week=%{x}<br>average_weekly_sales=%{y}<extra></extra>",
         "legendgroup": "10205",
         "line": {
          "color": "#FECB52",
          "dash": "solid"
         },
         "marker": {
          "symbol": "circle"
         },
         "mode": "lines",
         "name": "10205",
         "showlegend": false,
         "type": "scattergl",
         "x": [
          13,
          14,
          15,
          16,
          17,
          18,
          19,
          20,
          21
         ],
         "xaxis": "x3",
         "y": [
          11,
          15,
          31,
          33,
          29,
          35,
          56,
          115,
          34
         ],
         "yaxis": "y3"
        },
        {
         "hovertemplate": "item_id=2997<br>year=2014<br>week=%{x}<br>average_weekly_sales=%{y}<extra></extra>",
         "legendgroup": "2997",
         "line": {
          "color": "#636efa",
          "dash": "solid"
         },
         "marker": {
          "symbol": "circle"
         },
         "mode": "lines",
         "name": "2997",
         "showlegend": true,
         "type": "scattergl",
         "x": [
          50,
          51,
          52
         ],
         "xaxis": "x2",
         "y": [
          15,
          20,
          36
         ],
         "yaxis": "y2"
        },
        {
         "hovertemplate": "item_id=2997<br>year=2015<br>week=%{x}<br>average_weekly_sales=%{y}<extra></extra>",
         "legendgroup": "2997",
         "line": {
          "color": "#636efa",
          "dash": "solid"
         },
         "marker": {
          "symbol": "circle"
         },
         "mode": "lines",
         "name": "2997",
         "showlegend": false,
         "type": "scattergl",
         "x": [
          53
         ],
         "xaxis": "x3",
         "y": [
          23
         ],
         "yaxis": "y3"
        },
        {
         "hovertemplate": "item_id=5142<br>year=2014<br>week=%{x}<br>average_weekly_sales=%{y}<extra></extra>",
         "legendgroup": "5142",
         "line": {
          "color": "#EF553B",
          "dash": "solid"
         },
         "marker": {
          "symbol": "circle"
         },
         "mode": "lines",
         "name": "5142",
         "showlegend": true,
         "type": "scattergl",
         "x": [
          51
         ],
         "xaxis": "x2",
         "y": [
          15.5
         ],
         "yaxis": "y2"
        },
        {
         "hovertemplate": "item_id=6720<br>year=2014<br>week=%{x}<br>average_weekly_sales=%{y}<extra></extra>",
         "legendgroup": "6720",
         "line": {
          "color": "#00cc96",
          "dash": "solid"
         },
         "marker": {
          "symbol": "circle"
         },
         "mode": "lines",
         "name": "6720",
         "showlegend": true,
         "type": "scattergl",
         "x": [
          52
         ],
         "xaxis": "x2",
         "y": [
          10
         ],
         "yaxis": "y2"
        },
        {
         "hovertemplate": "item_id=6720<br>year=2015<br>week=%{x}<br>average_weekly_sales=%{y}<extra></extra>",
         "legendgroup": "6720",
         "line": {
          "color": "#00cc96",
          "dash": "solid"
         },
         "marker": {
          "symbol": "circle"
         },
         "mode": "lines",
         "name": "6720",
         "showlegend": false,
         "type": "scattergl",
         "x": [
          53,
          2
         ],
         "xaxis": "x3",
         "y": [
          11,
          12
         ],
         "yaxis": "y3"
        },
        {
         "hovertemplate": "item_id=13754<br>year=2014<br>week=%{x}<br>average_weekly_sales=%{y}<extra></extra>",
         "legendgroup": "13754",
         "line": {
          "color": "#ab63fa",
          "dash": "solid"
         },
         "marker": {
          "symbol": "circle"
         },
         "mode": "lines",
         "name": "13754",
         "showlegend": true,
         "type": "scattergl",
         "x": [
          52
         ],
         "xaxis": "x2",
         "y": [
          26
         ],
         "yaxis": "y2"
        },
        {
         "hovertemplate": "item_id=13754<br>year=2015<br>week=%{x}<br>average_weekly_sales=%{y}<extra></extra>",
         "legendgroup": "13754",
         "line": {
          "color": "#ab63fa",
          "dash": "solid"
         },
         "marker": {
          "symbol": "circle"
         },
         "mode": "lines",
         "name": "13754",
         "showlegend": false,
         "type": "scattergl",
         "x": [
          3,
          5,
          8,
          16,
          21,
          22,
          26,
          36,
          38,
          40
         ],
         "xaxis": "x3",
         "y": [
          16,
          12,
          10,
          16,
          30,
          33,
          10,
          14,
          11,
          15
         ],
         "yaxis": "y3"
        },
        {
         "hovertemplate": "item_id=5917<br>year=2015<br>week=%{x}<br>average_weekly_sales=%{y}<extra></extra>",
         "legendgroup": "5917",
         "line": {
          "color": "#FFA15A",
          "dash": "solid"
         },
         "marker": {
          "symbol": "circle"
         },
         "mode": "lines",
         "name": "5917",
         "showlegend": true,
         "type": "scattergl",
         "x": [
          53,
          3,
          4,
          10,
          11,
          12,
          13,
          14,
          15
         ],
         "xaxis": "x3",
         "y": [
          42,
          912,
          212,
          37,
          180,
          30,
          32,
          81,
          38
         ],
         "yaxis": "y3"
        },
        {
         "hovertemplate": "item_id=4358<br>year=2015<br>week=%{x}<br>average_weekly_sales=%{y}<extra></extra>",
         "legendgroup": "4358",
         "line": {
          "color": "#19d3f3",
          "dash": "solid"
         },
         "marker": {
          "symbol": "circle"
         },
         "mode": "lines",
         "name": "4358",
         "showlegend": true,
         "type": "scattergl",
         "x": [
          1
         ],
         "xaxis": "x3",
         "y": [
          98
         ],
         "yaxis": "y3"
        },
        {
         "hovertemplate": "item_id=4392<br>year=2015<br>week=%{x}<br>average_weekly_sales=%{y}<extra></extra>",
         "legendgroup": "4392",
         "line": {
          "color": "#FF6692",
          "dash": "solid"
         },
         "marker": {
          "symbol": "circle"
         },
         "mode": "lines",
         "name": "4392",
         "showlegend": true,
         "type": "scattergl",
         "x": [
          1,
          2
         ],
         "xaxis": "x3",
         "y": [
          86,
          156
         ],
         "yaxis": "y3"
        },
        {
         "hovertemplate": "item_id=6971<br>year=2015<br>week=%{x}<br>average_weekly_sales=%{y}<extra></extra>",
         "legendgroup": "6971",
         "line": {
          "color": "#B6E880",
          "dash": "solid"
         },
         "marker": {
          "symbol": "circle"
         },
         "mode": "lines",
         "name": "6971",
         "showlegend": true,
         "type": "scattergl",
         "x": [
          1,
          2,
          3,
          4,
          5
         ],
         "xaxis": "x3",
         "y": [
          15,
          22,
          20,
          19,
          11
         ],
         "yaxis": "y3"
        },
        {
         "hovertemplate": "item_id=2042<br>year=2015<br>week=%{x}<br>average_weekly_sales=%{y}<extra></extra>",
         "legendgroup": "2042",
         "line": {
          "color": "#FF97FF",
          "dash": "solid"
         },
         "marker": {
          "symbol": "circle"
         },
         "mode": "lines",
         "name": "2042",
         "showlegend": true,
         "type": "scattergl",
         "x": [
          2,
          3
         ],
         "xaxis": "x3",
         "y": [
          92,
          101
         ],
         "yaxis": "y3"
        },
        {
         "hovertemplate": "item_id=3672<br>year=2015<br>week=%{x}<br>average_weekly_sales=%{y}<extra></extra>",
         "legendgroup": "3672",
         "line": {
          "color": "#FECB52",
          "dash": "solid"
         },
         "marker": {
          "symbol": "circle"
         },
         "mode": "lines",
         "name": "3672",
         "showlegend": true,
         "type": "scattergl",
         "x": [
          2
         ],
         "xaxis": "x3",
         "y": [
          15
         ],
         "yaxis": "y3"
        },
        {
         "hovertemplate": "item_id=3683<br>year=2015<br>week=%{x}<br>average_weekly_sales=%{y}<extra></extra>",
         "legendgroup": "3683",
         "line": {
          "color": "#636efa",
          "dash": "solid"
         },
         "marker": {
          "symbol": "circle"
         },
         "mode": "lines",
         "name": "3683",
         "showlegend": true,
         "type": "scattergl",
         "x": [
          2
         ],
         "xaxis": "x3",
         "y": [
          20
         ],
         "yaxis": "y3"
        },
        {
         "hovertemplate": "item_id=3931<br>year=2015<br>week=%{x}<br>average_weekly_sales=%{y}<extra></extra>",
         "legendgroup": "3931",
         "line": {
          "color": "#EF553B",
          "dash": "solid"
         },
         "marker": {
          "symbol": "circle"
         },
         "mode": "lines",
         "name": "3931",
         "showlegend": true,
         "type": "scattergl",
         "x": [
          2
         ],
         "xaxis": "x3",
         "y": [
          157
         ],
         "yaxis": "y3"
        },
        {
         "hovertemplate": "item_id=4903<br>year=2015<br>week=%{x}<br>average_weekly_sales=%{y}<extra></extra>",
         "legendgroup": "4903",
         "line": {
          "color": "#00cc96",
          "dash": "solid"
         },
         "marker": {
          "symbol": "circle"
         },
         "mode": "lines",
         "name": "4903",
         "showlegend": true,
         "type": "scattergl",
         "x": [
          2
         ],
         "xaxis": "x3",
         "y": [
          11
         ],
         "yaxis": "y3"
        },
        {
         "hovertemplate": "item_id=4905<br>year=2015<br>week=%{x}<br>average_weekly_sales=%{y}<extra></extra>",
         "legendgroup": "4905",
         "line": {
          "color": "#ab63fa",
          "dash": "solid"
         },
         "marker": {
          "symbol": "circle"
         },
         "mode": "lines",
         "name": "4905",
         "showlegend": true,
         "type": "scattergl",
         "x": [
          2
         ],
         "xaxis": "x3",
         "y": [
          15
         ],
         "yaxis": "y3"
        },
        {
         "hovertemplate": "item_id=6997<br>year=2015<br>week=%{x}<br>average_weekly_sales=%{y}<extra></extra>",
         "legendgroup": "6997",
         "line": {
          "color": "#FFA15A",
          "dash": "solid"
         },
         "marker": {
          "symbol": "circle"
         },
         "mode": "lines",
         "name": "6997",
         "showlegend": true,
         "type": "scattergl",
         "x": [
          2
         ],
         "xaxis": "x3",
         "y": [
          15
         ],
         "yaxis": "y3"
        },
        {
         "hovertemplate": "item_id=2310<br>year=2015<br>week=%{x}<br>average_weekly_sales=%{y}<extra></extra>",
         "legendgroup": "2310",
         "line": {
          "color": "#19d3f3",
          "dash": "solid"
         },
         "marker": {
          "symbol": "circle"
         },
         "mode": "lines",
         "name": "2310",
         "showlegend": true,
         "type": "scattergl",
         "x": [
          3,
          4,
          10
         ],
         "xaxis": "x3",
         "y": [
          16,
          11,
          10
         ],
         "yaxis": "y3"
        },
        {
         "hovertemplate": "item_id=2312<br>year=2015<br>week=%{x}<br>average_weekly_sales=%{y}<extra></extra>",
         "legendgroup": "2312",
         "line": {
          "color": "#FF6692",
          "dash": "solid"
         },
         "marker": {
          "symbol": "circle"
         },
         "mode": "lines",
         "name": "2312",
         "showlegend": true,
         "type": "scattergl",
         "x": [
          3,
          4,
          7
         ],
         "xaxis": "x3",
         "y": [
          12,
          11,
          10
         ],
         "yaxis": "y3"
        },
        {
         "hovertemplate": "item_id=2693<br>year=2015<br>week=%{x}<br>average_weekly_sales=%{y}<extra></extra>",
         "legendgroup": "2693",
         "line": {
          "color": "#B6E880",
          "dash": "solid"
         },
         "marker": {
          "symbol": "circle"
         },
         "mode": "lines",
         "name": "2693",
         "showlegend": true,
         "type": "scattergl",
         "x": [
          3,
          7
         ],
         "xaxis": "x3",
         "y": [
          15,
          16
         ],
         "yaxis": "y3"
        },
        {
         "hovertemplate": "item_id=5920<br>year=2015<br>week=%{x}<br>average_weekly_sales=%{y}<extra></extra>",
         "legendgroup": "5920",
         "line": {
          "color": "#FF97FF",
          "dash": "solid"
         },
         "marker": {
          "symbol": "circle"
         },
         "mode": "lines",
         "name": "5920",
         "showlegend": true,
         "type": "scattergl",
         "x": [
          3
         ],
         "xaxis": "x3",
         "y": [
          30
         ],
         "yaxis": "y3"
        },
        {
         "hovertemplate": "item_id=20956<br>year=2015<br>week=%{x}<br>average_weekly_sales=%{y}<extra></extra>",
         "legendgroup": "20956",
         "line": {
          "color": "#FECB52",
          "dash": "solid"
         },
         "marker": {
          "symbol": "circle"
         },
         "mode": "lines",
         "name": "20956",
         "showlegend": true,
         "type": "scattergl",
         "x": [
          3,
          9,
          23,
          31
         ],
         "xaxis": "x3",
         "y": [
          73,
          38,
          11,
          12
         ],
         "yaxis": "y3"
        },
        {
         "hovertemplate": "item_id=6898<br>year=2015<br>week=%{x}<br>average_weekly_sales=%{y}<extra></extra>",
         "legendgroup": "6898",
         "line": {
          "color": "#636efa",
          "dash": "solid"
         },
         "marker": {
          "symbol": "circle"
         },
         "mode": "lines",
         "name": "6898",
         "showlegend": true,
         "type": "scattergl",
         "x": [
          4,
          9
         ],
         "xaxis": "x3",
         "y": [
          10,
          32
         ],
         "yaxis": "y3"
        },
        {
         "hovertemplate": "item_id=797<br>year=2015<br>week=%{x}<br>average_weekly_sales=%{y}<extra></extra>",
         "legendgroup": "797",
         "line": {
          "color": "#EF553B",
          "dash": "solid"
         },
         "marker": {
          "symbol": "circle"
         },
         "mode": "lines",
         "name": "797",
         "showlegend": true,
         "type": "scattergl",
         "x": [
          5,
          13
         ],
         "xaxis": "x3",
         "y": [
          15,
          13
         ],
         "yaxis": "y3"
        },
        {
         "hovertemplate": "item_id=3727<br>year=2015<br>week=%{x}<br>average_weekly_sales=%{y}<extra></extra>",
         "legendgroup": "3727",
         "line": {
          "color": "#00cc96",
          "dash": "solid"
         },
         "marker": {
          "symbol": "circle"
         },
         "mode": "lines",
         "name": "3727",
         "showlegend": true,
         "type": "scattergl",
         "x": [
          5
         ],
         "xaxis": "x3",
         "y": [
          115
         ],
         "yaxis": "y3"
        },
        {
         "hovertemplate": "item_id=6679<br>year=2015<br>week=%{x}<br>average_weekly_sales=%{y}<extra></extra>",
         "legendgroup": "6679",
         "line": {
          "color": "#ab63fa",
          "dash": "solid"
         },
         "marker": {
          "symbol": "circle"
         },
         "mode": "lines",
         "name": "6679",
         "showlegend": true,
         "type": "scattergl",
         "x": [
          5,
          6
         ],
         "xaxis": "x3",
         "y": [
          35,
          22
         ],
         "yaxis": "y3"
        },
        {
         "hovertemplate": "item_id=11372<br>year=2015<br>week=%{x}<br>average_weekly_sales=%{y}<extra></extra>",
         "legendgroup": "11372",
         "line": {
          "color": "#FFA15A",
          "dash": "solid"
         },
         "marker": {
          "symbol": "circle"
         },
         "mode": "lines",
         "name": "11372",
         "showlegend": true,
         "type": "scattergl",
         "x": [
          5,
          6,
          7,
          9,
          13,
          15,
          16,
          21,
          22,
          23,
          25,
          26,
          28,
          29,
          33,
          36,
          37,
          38,
          40
         ],
         "xaxis": "x3",
         "y": [
          16,
          10,
          11,
          11,
          26,
          14,
          18,
          63,
          14,
          26,
          13,
          10,
          36,
          23,
          10,
          19,
          15,
          27,
          36
         ],
         "yaxis": "y3"
        },
        {
         "hovertemplate": "item_id=15065<br>year=2015<br>week=%{x}<br>average_weekly_sales=%{y}<extra></extra>",
         "legendgroup": "15065",
         "line": {
          "color": "#19d3f3",
          "dash": "solid"
         },
         "marker": {
          "symbol": "circle"
         },
         "mode": "lines",
         "name": "15065",
         "showlegend": true,
         "type": "scattergl",
         "x": [
          5
         ],
         "xaxis": "x3",
         "y": [
          14
         ],
         "yaxis": "y3"
        },
        {
         "hovertemplate": "item_id=2987<br>year=2015<br>week=%{x}<br>average_weekly_sales=%{y}<extra></extra>",
         "legendgroup": "2987",
         "line": {
          "color": "#FF6692",
          "dash": "solid"
         },
         "marker": {
          "symbol": "circle"
         },
         "mode": "lines",
         "name": "2987",
         "showlegend": true,
         "type": "scattergl",
         "x": [
          6,
          7
         ],
         "xaxis": "x3",
         "y": [
          10,
          10
         ],
         "yaxis": "y3"
        },
        {
         "hovertemplate": "item_id=3728<br>year=2015<br>week=%{x}<br>average_weekly_sales=%{y}<extra></extra>",
         "legendgroup": "3728",
         "line": {
          "color": "#B6E880",
          "dash": "solid"
         },
         "marker": {
          "symbol": "circle"
         },
         "mode": "lines",
         "name": "3728",
         "showlegend": true,
         "type": "scattergl",
         "x": [
          6,
          7,
          8,
          9,
          10,
          11,
          12,
          13,
          14
         ],
         "xaxis": "x3",
         "y": [
          40,
          13,
          17,
          32,
          24,
          12,
          20,
          32,
          39
         ],
         "yaxis": "y3"
        },
        {
         "hovertemplate": "item_id=4275<br>year=2015<br>week=%{x}<br>average_weekly_sales=%{y}<extra></extra>",
         "legendgroup": "4275",
         "line": {
          "color": "#FF97FF",
          "dash": "solid"
         },
         "marker": {
          "symbol": "circle"
         },
         "mode": "lines",
         "name": "4275",
         "showlegend": true,
         "type": "scattergl",
         "x": [
          6
         ],
         "xaxis": "x3",
         "y": [
          10
         ],
         "yaxis": "y3"
        },
        {
         "hovertemplate": "item_id=1505<br>year=2015<br>week=%{x}<br>average_weekly_sales=%{y}<extra></extra>",
         "legendgroup": "1505",
         "line": {
          "color": "#FECB52",
          "dash": "solid"
         },
         "marker": {
          "symbol": "circle"
         },
         "mode": "lines",
         "name": "1505",
         "showlegend": true,
         "type": "scattergl",
         "x": [
          7
         ],
         "xaxis": "x3",
         "y": [
          10
         ],
         "yaxis": "y3"
        },
        {
         "hovertemplate": "item_id=3440<br>year=2015<br>week=%{x}<br>average_weekly_sales=%{y}<extra></extra>",
         "legendgroup": "3440",
         "line": {
          "color": "#636efa",
          "dash": "solid"
         },
         "marker": {
          "symbol": "circle"
         },
         "mode": "lines",
         "name": "3440",
         "showlegend": true,
         "type": "scattergl",
         "x": [
          7
         ],
         "xaxis": "x3",
         "y": [
          12
         ],
         "yaxis": "y3"
        },
        {
         "hovertemplate": "item_id=6688<br>year=2015<br>week=%{x}<br>average_weekly_sales=%{y}<extra></extra>",
         "legendgroup": "6688",
         "line": {
          "color": "#EF553B",
          "dash": "solid"
         },
         "marker": {
          "symbol": "circle"
         },
         "mode": "lines",
         "name": "6688",
         "showlegend": true,
         "type": "scattergl",
         "x": [
          7
         ],
         "xaxis": "x3",
         "y": [
          17
         ],
         "yaxis": "y3"
        },
        {
         "hovertemplate": "item_id=9533<br>year=2015<br>week=%{x}<br>average_weekly_sales=%{y}<extra></extra>",
         "legendgroup": "9533",
         "line": {
          "color": "#00cc96",
          "dash": "solid"
         },
         "marker": {
          "symbol": "circle"
         },
         "mode": "lines",
         "name": "9533",
         "showlegend": true,
         "type": "scattergl",
         "x": [
          8,
          20
         ],
         "xaxis": "x3",
         "y": [
          12,
          15
         ],
         "yaxis": "y3"
        },
        {
         "hovertemplate": "item_id=16251<br>year=2015<br>week=%{x}<br>average_weekly_sales=%{y}<extra></extra>",
         "legendgroup": "16251",
         "line": {
          "color": "#ab63fa",
          "dash": "solid"
         },
         "marker": {
          "symbol": "circle"
         },
         "mode": "lines",
         "name": "16251",
         "showlegend": true,
         "type": "scattergl",
         "x": [
          8,
          9,
          10
         ],
         "xaxis": "x3",
         "y": [
          11,
          10,
          14
         ],
         "yaxis": "y3"
        },
        {
         "hovertemplate": "item_id=16825<br>year=2015<br>week=%{x}<br>average_weekly_sales=%{y}<extra></extra>",
         "legendgroup": "16825",
         "line": {
          "color": "#FFA15A",
          "dash": "solid"
         },
         "marker": {
          "symbol": "circle"
         },
         "mode": "lines",
         "name": "16825",
         "showlegend": true,
         "type": "scattergl",
         "x": [
          8
         ],
         "xaxis": "x3",
         "y": [
          22.466666666666665
         ],
         "yaxis": "y3"
        },
        {
         "hovertemplate": "item_id=1568<br>year=2015<br>week=%{x}<br>average_weekly_sales=%{y}<extra></extra>",
         "legendgroup": "1568",
         "line": {
          "color": "#19d3f3",
          "dash": "solid"
         },
         "marker": {
          "symbol": "circle"
         },
         "mode": "lines",
         "name": "1568",
         "showlegend": true,
         "type": "scattergl",
         "x": [
          11
         ],
         "xaxis": "x3",
         "y": [
          13.581395348837209
         ],
         "yaxis": "y3"
        },
        {
         "hovertemplate": "item_id=5830<br>year=2015<br>week=%{x}<br>average_weekly_sales=%{y}<extra></extra>",
         "legendgroup": "5830",
         "line": {
          "color": "#FF6692",
          "dash": "solid"
         },
         "marker": {
          "symbol": "circle"
         },
         "mode": "lines",
         "name": "5830",
         "showlegend": true,
         "type": "scattergl",
         "x": [
          11
         ],
         "xaxis": "x3",
         "y": [
          9.8
         ],
         "yaxis": "y3"
        },
        {
         "hovertemplate": "item_id=1875<br>year=2015<br>week=%{x}<br>average_weekly_sales=%{y}<extra></extra>",
         "legendgroup": "1875",
         "line": {
          "color": "#B6E880",
          "dash": "solid"
         },
         "marker": {
          "symbol": "circle"
         },
         "mode": "lines",
         "name": "1875",
         "showlegend": true,
         "type": "scattergl",
         "x": [
          12,
          13,
          14
         ],
         "xaxis": "x3",
         "y": [
          149,
          73,
          30
         ],
         "yaxis": "y3"
        },
        {
         "hovertemplate": "item_id=2766<br>year=2015<br>week=%{x}<br>average_weekly_sales=%{y}<extra></extra>",
         "legendgroup": "2766",
         "line": {
          "color": "#FF97FF",
          "dash": "solid"
         },
         "marker": {
          "symbol": "circle"
         },
         "mode": "lines",
         "name": "2766",
         "showlegend": true,
         "type": "scattergl",
         "x": [
          12
         ],
         "xaxis": "x3",
         "y": [
          10
         ],
         "yaxis": "y3"
        },
        {
         "hovertemplate": "item_id=11371<br>year=2015<br>week=%{x}<br>average_weekly_sales=%{y}<extra></extra>",
         "legendgroup": "11371",
         "line": {
          "color": "#FECB52",
          "dash": "solid"
         },
         "marker": {
          "symbol": "circle"
         },
         "mode": "lines",
         "name": "11371",
         "showlegend": true,
         "type": "scattergl",
         "x": [
          12,
          16,
          42,
          44
         ],
         "xaxis": "x3",
         "y": [
          13,
          10,
          14,
          13
         ],
         "yaxis": "y3"
        },
        {
         "hovertemplate": "item_id=1385<br>year=2015<br>week=%{x}<br>average_weekly_sales=%{y}<extra></extra>",
         "legendgroup": "1385",
         "line": {
          "color": "#636efa",
          "dash": "solid"
         },
         "marker": {
          "symbol": "circle"
         },
         "mode": "lines",
         "name": "1385",
         "showlegend": true,
         "type": "scattergl",
         "x": [
          13,
          14
         ],
         "xaxis": "x3",
         "y": [
          19,
          71
         ],
         "yaxis": "y3"
        },
        {
         "hovertemplate": "item_id=1969<br>year=2015<br>week=%{x}<br>average_weekly_sales=%{y}<extra></extra>",
         "legendgroup": "1969",
         "line": {
          "color": "#EF553B",
          "dash": "solid"
         },
         "marker": {
          "symbol": "circle"
         },
         "mode": "lines",
         "name": "1969",
         "showlegend": true,
         "type": "scattergl",
         "x": [
          13
         ],
         "xaxis": "x3",
         "y": [
          17.11627906976744
         ],
         "yaxis": "y3"
        },
        {
         "hovertemplate": "item_id=1971<br>year=2015<br>week=%{x}<br>average_weekly_sales=%{y}<extra></extra>",
         "legendgroup": "1971",
         "line": {
          "color": "#00cc96",
          "dash": "solid"
         },
         "marker": {
          "symbol": "circle"
         },
         "mode": "lines",
         "name": "1971",
         "showlegend": true,
         "type": "scattergl",
         "x": [
          13
         ],
         "xaxis": "x3",
         "y": [
          20.142857142857142
         ],
         "yaxis": "y3"
        },
        {
         "hovertemplate": "item_id=5759<br>year=2015<br>week=%{x}<br>average_weekly_sales=%{y}<extra></extra>",
         "legendgroup": "5759",
         "line": {
          "color": "#ab63fa",
          "dash": "solid"
         },
         "marker": {
          "symbol": "circle"
         },
         "mode": "lines",
         "name": "5759",
         "showlegend": true,
         "type": "scattergl",
         "x": [
          13,
          14
         ],
         "xaxis": "x3",
         "y": [
          16,
          12
         ],
         "yaxis": "y3"
        },
        {
         "hovertemplate": "item_id=3729<br>year=2015<br>week=%{x}<br>average_weekly_sales=%{y}<extra></extra>",
         "legendgroup": "3729",
         "line": {
          "color": "#FFA15A",
          "dash": "solid"
         },
         "marker": {
          "symbol": "circle"
         },
         "mode": "lines",
         "name": "3729",
         "showlegend": true,
         "type": "scattergl",
         "x": [
          14,
          15,
          16
         ],
         "xaxis": "x3",
         "y": [
          41,
          116,
          58
         ],
         "yaxis": "y3"
        },
        {
         "hovertemplate": "item_id=4899<br>year=2015<br>week=%{x}<br>average_weekly_sales=%{y}<extra></extra>",
         "legendgroup": "4899",
         "line": {
          "color": "#19d3f3",
          "dash": "solid"
         },
         "marker": {
          "symbol": "circle"
         },
         "mode": "lines",
         "name": "4899",
         "showlegend": true,
         "type": "scattergl",
         "x": [
          14,
          15,
          16
         ],
         "xaxis": "x3",
         "y": [
          14,
          24,
          16
         ],
         "yaxis": "y3"
        },
        {
         "hovertemplate": "item_id=69<br>year=2015<br>week=%{x}<br>average_weekly_sales=%{y}<extra></extra>",
         "legendgroup": "69",
         "line": {
          "color": "#FF6692",
          "dash": "solid"
         },
         "marker": {
          "symbol": "circle"
         },
         "mode": "lines",
         "name": "69",
         "showlegend": true,
         "type": "scattergl",
         "x": [
          15
         ],
         "xaxis": "x3",
         "y": [
          16
         ],
         "yaxis": "y3"
        },
        {
         "hovertemplate": "item_id=12021<br>year=2015<br>week=%{x}<br>average_weekly_sales=%{y}<extra></extra>",
         "legendgroup": "12021",
         "line": {
          "color": "#B6E880",
          "dash": "solid"
         },
         "marker": {
          "symbol": "circle"
         },
         "mode": "lines",
         "name": "12021",
         "showlegend": true,
         "type": "scattergl",
         "x": [
          15
         ],
         "xaxis": "x3",
         "y": [
          10.571428571428571
         ],
         "yaxis": "y3"
        },
        {
         "hovertemplate": "item_id=15038<br>year=2015<br>week=%{x}<br>average_weekly_sales=%{y}<extra></extra>",
         "legendgroup": "15038",
         "line": {
          "color": "#FF97FF",
          "dash": "solid"
         },
         "marker": {
          "symbol": "circle"
         },
         "mode": "lines",
         "name": "15038",
         "showlegend": true,
         "type": "scattergl",
         "x": [
          15
         ],
         "xaxis": "x3",
         "y": [
          10
         ],
         "yaxis": "y3"
        },
        {
         "hovertemplate": "item_id=3730<br>year=2015<br>week=%{x}<br>average_weekly_sales=%{y}<extra></extra>",
         "legendgroup": "3730",
         "line": {
          "color": "#FECB52",
          "dash": "solid"
         },
         "marker": {
          "symbol": "circle"
         },
         "mode": "lines",
         "name": "3730",
         "showlegend": true,
         "type": "scattergl",
         "x": [
          16,
          17,
          18
         ],
         "xaxis": "x3",
         "y": [
          431,
          610,
          202
         ],
         "yaxis": "y3"
        },
        {
         "hovertemplate": "item_id=3731<br>year=2015<br>week=%{x}<br>average_weekly_sales=%{y}<extra></extra>",
         "legendgroup": "3731",
         "line": {
          "color": "#636efa",
          "dash": "solid"
         },
         "marker": {
          "symbol": "circle"
         },
         "mode": "lines",
         "name": "3731",
         "showlegend": true,
         "type": "scattergl",
         "x": [
          16,
          17,
          24
         ],
         "xaxis": "x3",
         "y": [
          145.8372093023256,
          20.697674418604652,
          10.482758620689655
         ],
         "yaxis": "y3"
        },
        {
         "hovertemplate": "item_id=4892<br>year=2015<br>week=%{x}<br>average_weekly_sales=%{y}<extra></extra>",
         "legendgroup": "4892",
         "line": {
          "color": "#EF553B",
          "dash": "solid"
         },
         "marker": {
          "symbol": "circle"
         },
         "mode": "lines",
         "name": "4892",
         "showlegend": true,
         "type": "scattergl",
         "x": [
          16
         ],
         "xaxis": "x3",
         "y": [
          12.953488372093023
         ],
         "yaxis": "y3"
        },
        {
         "hovertemplate": "item_id=4894<br>year=2015<br>week=%{x}<br>average_weekly_sales=%{y}<extra></extra>",
         "legendgroup": "4894",
         "line": {
          "color": "#00cc96",
          "dash": "solid"
         },
         "marker": {
          "symbol": "circle"
         },
         "mode": "lines",
         "name": "4894",
         "showlegend": true,
         "type": "scattergl",
         "x": [
          16
         ],
         "xaxis": "x3",
         "y": [
          32.97674418604651
         ],
         "yaxis": "y3"
        },
        {
         "hovertemplate": "item_id=4896<br>year=2015<br>week=%{x}<br>average_weekly_sales=%{y}<extra></extra>",
         "legendgroup": "4896",
         "line": {
          "color": "#ab63fa",
          "dash": "solid"
         },
         "marker": {
          "symbol": "circle"
         },
         "mode": "lines",
         "name": "4896",
         "showlegend": true,
         "type": "scattergl",
         "x": [
          16
         ],
         "xaxis": "x3",
         "y": [
          10.81578947368421
         ],
         "yaxis": "y3"
        },
        {
         "hovertemplate": "item_id=1588<br>year=2015<br>week=%{x}<br>average_weekly_sales=%{y}<extra></extra>",
         "legendgroup": "1588",
         "line": {
          "color": "#FFA15A",
          "dash": "solid"
         },
         "marker": {
          "symbol": "circle"
         },
         "mode": "lines",
         "name": "1588",
         "showlegend": true,
         "type": "scattergl",
         "x": [
          17,
          42
         ],
         "xaxis": "x3",
         "y": [
          13,
          19
         ],
         "yaxis": "y3"
        },
        {
         "hovertemplate": "item_id=2969<br>year=2015<br>week=%{x}<br>average_weekly_sales=%{y}<extra></extra>",
         "legendgroup": "2969",
         "line": {
          "color": "#19d3f3",
          "dash": "solid"
         },
         "marker": {
          "symbol": "circle"
         },
         "mode": "lines",
         "name": "2969",
         "showlegend": true,
         "type": "scattergl",
         "x": [
          17
         ],
         "xaxis": "x3",
         "y": [
          10.488372093023257
         ],
         "yaxis": "y3"
        },
        {
         "hovertemplate": "item_id=3721<br>year=2015<br>week=%{x}<br>average_weekly_sales=%{y}<extra></extra>",
         "legendgroup": "3721",
         "line": {
          "color": "#FF6692",
          "dash": "solid"
         },
         "marker": {
          "symbol": "circle"
         },
         "mode": "lines",
         "name": "3721",
         "showlegend": true,
         "type": "scattergl",
         "x": [
          17,
          18
         ],
         "xaxis": "x3",
         "y": [
          10,
          14
         ],
         "yaxis": "y3"
        },
        {
         "hovertemplate": "item_id=3725<br>year=2015<br>week=%{x}<br>average_weekly_sales=%{y}<extra></extra>",
         "legendgroup": "3725",
         "line": {
          "color": "#B6E880",
          "dash": "solid"
         },
         "marker": {
          "symbol": "circle"
         },
         "mode": "lines",
         "name": "3725",
         "showlegend": true,
         "type": "scattergl",
         "x": [
          17
         ],
         "xaxis": "x3",
         "y": [
          13
         ],
         "yaxis": "y3"
        },
        {
         "hovertemplate": "item_id=5361<br>year=2015<br>week=%{x}<br>average_weekly_sales=%{y}<extra></extra>",
         "legendgroup": "5361",
         "line": {
          "color": "#FF97FF",
          "dash": "solid"
         },
         "marker": {
          "symbol": "circle"
         },
         "mode": "lines",
         "name": "5361",
         "showlegend": true,
         "type": "scattergl",
         "x": [
          17
         ],
         "xaxis": "x3",
         "y": [
          15.279069767441861
         ],
         "yaxis": "y3"
        },
        {
         "hovertemplate": "item_id=7841<br>year=2015<br>week=%{x}<br>average_weekly_sales=%{y}<extra></extra>",
         "legendgroup": "7841",
         "line": {
          "color": "#FECB52",
          "dash": "solid"
         },
         "marker": {
          "symbol": "circle"
         },
         "mode": "lines",
         "name": "7841",
         "showlegend": true,
         "type": "scattergl",
         "x": [
          18,
          19,
          21
         ],
         "xaxis": "x3",
         "y": [
          11,
          24,
          11
         ],
         "yaxis": "y3"
        },
        {
         "hovertemplate": "item_id=9248<br>year=2015<br>week=%{x}<br>average_weekly_sales=%{y}<extra></extra>",
         "legendgroup": "9248",
         "line": {
          "color": "#636efa",
          "dash": "solid"
         },
         "marker": {
          "symbol": "circle"
         },
         "mode": "lines",
         "name": "9248",
         "showlegend": true,
         "type": "scattergl",
         "x": [
          18,
          36,
          37,
          38,
          39,
          40
         ],
         "xaxis": "x3",
         "y": [
          16,
          13,
          33,
          60,
          226,
          1312
         ],
         "yaxis": "y3"
        },
        {
         "hovertemplate": "item_id=9249<br>year=2015<br>week=%{x}<br>average_weekly_sales=%{y}<extra></extra>",
         "legendgroup": "9249",
         "line": {
          "color": "#EF553B",
          "dash": "solid"
         },
         "marker": {
          "symbol": "circle"
         },
         "mode": "lines",
         "name": "9249",
         "showlegend": true,
         "type": "scattergl",
         "x": [
          18,
          36,
          37,
          38,
          39,
          40
         ],
         "xaxis": "x3",
         "y": [
          16,
          13,
          33,
          63,
          226,
          1309
         ],
         "yaxis": "y3"
        },
        {
         "hovertemplate": "item_id=9251<br>year=2015<br>week=%{x}<br>average_weekly_sales=%{y}<extra></extra>",
         "legendgroup": "9251",
         "line": {
          "color": "#00cc96",
          "dash": "solid"
         },
         "marker": {
          "symbol": "circle"
         },
         "mode": "lines",
         "name": "9251",
         "showlegend": true,
         "type": "scattergl",
         "x": [
          18,
          20,
          22,
          24,
          25,
          26,
          27,
          28,
          29,
          30,
          31,
          32,
          33,
          34,
          35,
          36,
          37,
          38,
          39,
          40
         ],
         "xaxis": "x3",
         "y": [
          20,
          12,
          10,
          10,
          16,
          11,
          15,
          27,
          17,
          24,
          18,
          30,
          36,
          43,
          65,
          86,
          197,
          209,
          303,
          332
         ],
         "yaxis": "y3"
        },
        {
         "hovertemplate": "item_id=9255<br>year=2015<br>week=%{x}<br>average_weekly_sales=%{y}<extra></extra>",
         "legendgroup": "9255",
         "line": {
          "color": "#ab63fa",
          "dash": "solid"
         },
         "marker": {
          "symbol": "circle"
         },
         "mode": "lines",
         "name": "9255",
         "showlegend": true,
         "type": "scattergl",
         "x": [
          18,
          33,
          34,
          35,
          36,
          37,
          38,
          39,
          40
         ],
         "xaxis": "x3",
         "y": [
          12,
          12,
          21,
          22,
          50,
          79,
          98,
          147,
          170
         ],
         "yaxis": "y3"
        },
        {
         "hovertemplate": "item_id=9247<br>year=2015<br>week=%{x}<br>average_weekly_sales=%{y}<extra></extra>",
         "legendgroup": "9247",
         "line": {
          "color": "#FFA15A",
          "dash": "solid"
         },
         "marker": {
          "symbol": "circle"
         },
         "mode": "lines",
         "name": "9247",
         "showlegend": true,
         "type": "scattergl",
         "x": [
          19,
          20,
          21,
          24,
          27,
          28,
          29,
          31,
          32,
          33,
          34,
          35,
          36,
          37,
          38,
          39,
          40
         ],
         "xaxis": "x3",
         "y": [
          15,
          10,
          16,
          14,
          12,
          18,
          13,
          17,
          24,
          22,
          46,
          46,
          67,
          107,
          165,
          247,
          144
         ],
         "yaxis": "y3"
        },
        {
         "hovertemplate": "item_id=10206<br>year=2015<br>week=%{x}<br>average_weekly_sales=%{y}<extra></extra>",
         "legendgroup": "10206",
         "line": {
          "color": "#19d3f3",
          "dash": "solid"
         },
         "marker": {
          "symbol": "circle"
         },
         "mode": "lines",
         "name": "10206",
         "showlegend": true,
         "type": "scattergl",
         "x": [
          20,
          21,
          22
         ],
         "xaxis": "x3",
         "y": [
          20,
          20,
          10
         ],
         "yaxis": "y3"
        },
        {
         "hovertemplate": "item_id=10215<br>year=2015<br>week=%{x}<br>average_weekly_sales=%{y}<extra></extra>",
         "legendgroup": "10215",
         "line": {
          "color": "#FF6692",
          "dash": "solid"
         },
         "marker": {
          "symbol": "circle"
         },
         "mode": "lines",
         "name": "10215",
         "showlegend": true,
         "type": "scattergl",
         "x": [
          20,
          21
         ],
         "xaxis": "x3",
         "y": [
          19,
          27
         ],
         "yaxis": "y3"
        },
        {
         "hovertemplate": "item_id=9253<br>year=2015<br>week=%{x}<br>average_weekly_sales=%{y}<extra></extra>",
         "legendgroup": "9253",
         "line": {
          "color": "#B6E880",
          "dash": "solid"
         },
         "marker": {
          "symbol": "circle"
         },
         "mode": "lines",
         "name": "9253",
         "showlegend": true,
         "type": "scattergl",
         "x": [
          21,
          37,
          38,
          39,
          40
         ],
         "xaxis": "x3",
         "y": [
          10,
          18,
          25,
          136,
          336
         ],
         "yaxis": "y3"
        },
        {
         "hovertemplate": "item_id=10207<br>year=2015<br>week=%{x}<br>average_weekly_sales=%{y}<extra></extra>",
         "legendgroup": "10207",
         "line": {
          "color": "#FF97FF",
          "dash": "solid"
         },
         "marker": {
          "symbol": "circle"
         },
         "mode": "lines",
         "name": "10207",
         "showlegend": true,
         "type": "scattergl",
         "x": [
          21
         ],
         "xaxis": "x3",
         "y": [
          20.627906976744185
         ],
         "yaxis": "y3"
        },
        {
         "hovertemplate": "item_id=10208<br>year=2015<br>week=%{x}<br>average_weekly_sales=%{y}<extra></extra>",
         "legendgroup": "10208",
         "line": {
          "color": "#FECB52",
          "dash": "solid"
         },
         "marker": {
          "symbol": "circle"
         },
         "mode": "lines",
         "name": "10208",
         "showlegend": true,
         "type": "scattergl",
         "x": [
          21,
          22,
          23
         ],
         "xaxis": "x3",
         "y": [
          54,
          15,
          15
         ],
         "yaxis": "y3"
        },
        {
         "hovertemplate": "item_id=10209<br>year=2015<br>week=%{x}<br>average_weekly_sales=%{y}<extra></extra>",
         "legendgroup": "10209",
         "line": {
          "color": "#636efa",
          "dash": "solid"
         },
         "marker": {
          "symbol": "circle"
         },
         "mode": "lines",
         "name": "10209",
         "showlegend": true,
         "type": "scattergl",
         "x": [
          21
         ],
         "xaxis": "x3",
         "y": [
          69.53488372093024
         ],
         "yaxis": "y3"
        },
        {
         "hovertemplate": "item_id=10210<br>year=2015<br>week=%{x}<br>average_weekly_sales=%{y}<extra></extra>",
         "legendgroup": "10210",
         "line": {
          "color": "#EF553B",
          "dash": "solid"
         },
         "marker": {
          "symbol": "circle"
         },
         "mode": "lines",
         "name": "10210",
         "showlegend": true,
         "type": "scattergl",
         "x": [
          21
         ],
         "xaxis": "x3",
         "y": [
          67.6046511627907
         ],
         "yaxis": "y3"
        },
        {
         "hovertemplate": "item_id=10212<br>year=2015<br>week=%{x}<br>average_weekly_sales=%{y}<extra></extra>",
         "legendgroup": "10212",
         "line": {
          "color": "#00cc96",
          "dash": "solid"
         },
         "marker": {
          "symbol": "circle"
         },
         "mode": "lines",
         "name": "10212",
         "showlegend": true,
         "type": "scattergl",
         "x": [
          21
         ],
         "xaxis": "x3",
         "y": [
          17.195121951219512
         ],
         "yaxis": "y3"
        },
        {
         "hovertemplate": "item_id=10213<br>year=2015<br>week=%{x}<br>average_weekly_sales=%{y}<extra></extra>",
         "legendgroup": "10213",
         "line": {
          "color": "#ab63fa",
          "dash": "solid"
         },
         "marker": {
          "symbol": "circle"
         },
         "mode": "lines",
         "name": "10213",
         "showlegend": true,
         "type": "scattergl",
         "x": [
          21
         ],
         "xaxis": "x3",
         "y": [
          9.761904761904763
         ],
         "yaxis": "y3"
        },
        {
         "hovertemplate": "item_id=22102<br>year=2015<br>week=%{x}<br>average_weekly_sales=%{y}<extra></extra>",
         "legendgroup": "22102",
         "line": {
          "color": "#FFA15A",
          "dash": "solid"
         },
         "marker": {
          "symbol": "circle"
         },
         "mode": "lines",
         "name": "22102",
         "showlegend": true,
         "type": "scattergl",
         "x": [
          21
         ],
         "xaxis": "x3",
         "y": [
          9.914285714285715
         ],
         "yaxis": "y3"
        },
        {
         "hovertemplate": "item_id=4256<br>year=2015<br>week=%{x}<br>average_weekly_sales=%{y}<extra></extra>",
         "legendgroup": "4256",
         "line": {
          "color": "#19d3f3",
          "dash": "solid"
         },
         "marker": {
          "symbol": "circle"
         },
         "mode": "lines",
         "name": "4256",
         "showlegend": true,
         "type": "scattergl",
         "x": [
          23
         ],
         "xaxis": "x3",
         "y": [
          23
         ],
         "yaxis": "y3"
        },
        {
         "hovertemplate": "item_id=14842<br>year=2015<br>week=%{x}<br>average_weekly_sales=%{y}<extra></extra>",
         "legendgroup": "14842",
         "line": {
          "color": "#FF6692",
          "dash": "solid"
         },
         "marker": {
          "symbol": "circle"
         },
         "mode": "lines",
         "name": "14842",
         "showlegend": true,
         "type": "scattergl",
         "x": [
          23
         ],
         "xaxis": "x3",
         "y": [
          11
         ],
         "yaxis": "y3"
        },
        {
         "hovertemplate": "item_id=4386<br>year=2015<br>week=%{x}<br>average_weekly_sales=%{y}<extra></extra>",
         "legendgroup": "4386",
         "line": {
          "color": "#B6E880",
          "dash": "solid"
         },
         "marker": {
          "symbol": "circle"
         },
         "mode": "lines",
         "name": "4386",
         "showlegend": true,
         "type": "scattergl",
         "x": [
          24,
          25
         ],
         "xaxis": "x3",
         "y": [
          88,
          21
         ],
         "yaxis": "y3"
        },
        {
         "hovertemplate": "item_id=20183<br>year=2015<br>week=%{x}<br>average_weekly_sales=%{y}<extra></extra>",
         "legendgroup": "20183",
         "line": {
          "color": "#FF97FF",
          "dash": "solid"
         },
         "marker": {
          "symbol": "circle"
         },
         "mode": "lines",
         "name": "20183",
         "showlegend": true,
         "type": "scattergl",
         "x": [
          24
         ],
         "xaxis": "x3",
         "y": [
          12
         ],
         "yaxis": "y3"
        },
        {
         "hovertemplate": "item_id=1818<br>year=2015<br>week=%{x}<br>average_weekly_sales=%{y}<extra></extra>",
         "legendgroup": "1818",
         "line": {
          "color": "#FECB52",
          "dash": "solid"
         },
         "marker": {
          "symbol": "circle"
         },
         "mode": "lines",
         "name": "1818",
         "showlegend": true,
         "type": "scattergl",
         "x": [
          25
         ],
         "xaxis": "x3",
         "y": [
          25
         ],
         "yaxis": "y3"
        },
        {
         "hovertemplate": "item_id=1814<br>year=2015<br>week=%{x}<br>average_weekly_sales=%{y}<extra></extra>",
         "legendgroup": "1814",
         "line": {
          "color": "#636efa",
          "dash": "solid"
         },
         "marker": {
          "symbol": "circle"
         },
         "mode": "lines",
         "name": "1814",
         "showlegend": true,
         "type": "scattergl",
         "x": [
          26
         ],
         "xaxis": "x3",
         "y": [
          22.38095238095238
         ],
         "yaxis": "y3"
        },
        {
         "hovertemplate": "item_id=5375<br>year=2015<br>week=%{x}<br>average_weekly_sales=%{y}<extra></extra>",
         "legendgroup": "5375",
         "line": {
          "color": "#EF553B",
          "dash": "solid"
         },
         "marker": {
          "symbol": "circle"
         },
         "mode": "lines",
         "name": "5375",
         "showlegend": true,
         "type": "scattergl",
         "x": [
          26
         ],
         "xaxis": "x3",
         "y": [
          10
         ],
         "yaxis": "y3"
        },
        {
         "hovertemplate": "item_id=3688<br>year=2015<br>week=%{x}<br>average_weekly_sales=%{y}<extra></extra>",
         "legendgroup": "3688",
         "line": {
          "color": "#00cc96",
          "dash": "solid"
         },
         "marker": {
          "symbol": "circle"
         },
         "mode": "lines",
         "name": "3688",
         "showlegend": true,
         "type": "scattergl",
         "x": [
          29
         ],
         "xaxis": "x3",
         "y": [
          9.285714285714286
         ],
         "yaxis": "y3"
        },
        {
         "hovertemplate": "item_id=1567<br>year=2015<br>week=%{x}<br>average_weekly_sales=%{y}<extra></extra>",
         "legendgroup": "1567",
         "line": {
          "color": "#ab63fa",
          "dash": "solid"
         },
         "marker": {
          "symbol": "circle"
         },
         "mode": "lines",
         "name": "1567",
         "showlegend": true,
         "type": "scattergl",
         "x": [
          30,
          42
         ],
         "xaxis": "x3",
         "y": [
          13,
          21
         ],
         "yaxis": "y3"
        },
        {
         "hovertemplate": "item_id=9244<br>year=2015<br>week=%{x}<br>average_weekly_sales=%{y}<extra></extra>",
         "legendgroup": "9244",
         "line": {
          "color": "#FFA15A",
          "dash": "solid"
         },
         "marker": {
          "symbol": "circle"
         },
         "mode": "lines",
         "name": "9244",
         "showlegend": true,
         "type": "scattergl",
         "x": [
          34,
          36,
          37,
          38,
          39,
          40
         ],
         "xaxis": "x3",
         "y": [
          10,
          14,
          26,
          31,
          132,
          396
         ],
         "yaxis": "y3"
        },
        {
         "hovertemplate": "item_id=9245<br>year=2015<br>week=%{x}<br>average_weekly_sales=%{y}<extra></extra>",
         "legendgroup": "9245",
         "line": {
          "color": "#19d3f3",
          "dash": "solid"
         },
         "marker": {
          "symbol": "circle"
         },
         "mode": "lines",
         "name": "9245",
         "showlegend": true,
         "type": "scattergl",
         "x": [
          34,
          36,
          37,
          38,
          39,
          40
         ],
         "xaxis": "x3",
         "y": [
          10,
          19,
          24,
          32,
          131,
          393
         ],
         "yaxis": "y3"
        },
        {
         "hovertemplate": "item_id=11354<br>year=2015<br>week=%{x}<br>average_weekly_sales=%{y}<extra></extra>",
         "legendgroup": "11354",
         "line": {
          "color": "#FF6692",
          "dash": "solid"
         },
         "marker": {
          "symbol": "circle"
         },
         "mode": "lines",
         "name": "11354",
         "showlegend": true,
         "type": "scattergl",
         "x": [
          35
         ],
         "xaxis": "x3",
         "y": [
          17.536585365853657
         ],
         "yaxis": "y3"
        },
        {
         "hovertemplate": "item_id=4719<br>year=2015<br>week=%{x}<br>average_weekly_sales=%{y}<extra></extra>",
         "legendgroup": "4719",
         "line": {
          "color": "#B6E880",
          "dash": "solid"
         },
         "marker": {
          "symbol": "circle"
         },
         "mode": "lines",
         "name": "4719",
         "showlegend": true,
         "type": "scattergl",
         "x": [
          36
         ],
         "xaxis": "x3",
         "y": [
          11.125
         ],
         "yaxis": "y3"
        },
        {
         "hovertemplate": "item_id=4720<br>year=2015<br>week=%{x}<br>average_weekly_sales=%{y}<extra></extra>",
         "legendgroup": "4720",
         "line": {
          "color": "#FF97FF",
          "dash": "solid"
         },
         "marker": {
          "symbol": "circle"
         },
         "mode": "lines",
         "name": "4720",
         "showlegend": true,
         "type": "scattergl",
         "x": [
          36,
          37
         ],
         "xaxis": "x3",
         "y": [
          21,
          13
         ],
         "yaxis": "y3"
        },
        {
         "hovertemplate": "item_id=4721<br>year=2015<br>week=%{x}<br>average_weekly_sales=%{y}<extra></extra>",
         "legendgroup": "4721",
         "line": {
          "color": "#FECB52",
          "dash": "solid"
         },
         "marker": {
          "symbol": "circle"
         },
         "mode": "lines",
         "name": "4721",
         "showlegend": true,
         "type": "scattergl",
         "x": [
          36
         ],
         "xaxis": "x3",
         "y": [
          10.78048780487805
         ],
         "yaxis": "y3"
        },
        {
         "hovertemplate": "item_id=4840<br>year=2015<br>week=%{x}<br>average_weekly_sales=%{y}<extra></extra>",
         "legendgroup": "4840",
         "line": {
          "color": "#636efa",
          "dash": "solid"
         },
         "marker": {
          "symbol": "circle"
         },
         "mode": "lines",
         "name": "4840",
         "showlegend": true,
         "type": "scattergl",
         "x": [
          36
         ],
         "xaxis": "x3",
         "y": [
          10.379310344827585
         ],
         "yaxis": "y3"
        },
        {
         "hovertemplate": "item_id=3227<br>year=2015<br>week=%{x}<br>average_weekly_sales=%{y}<extra></extra>",
         "legendgroup": "3227",
         "line": {
          "color": "#EF553B",
          "dash": "solid"
         },
         "marker": {
          "symbol": "circle"
         },
         "mode": "lines",
         "name": "3227",
         "showlegend": true,
         "type": "scattergl",
         "x": [
          37
         ],
         "xaxis": "x3",
         "y": [
          11
         ],
         "yaxis": "y3"
        },
        {
         "hovertemplate": "item_id=9252<br>year=2015<br>week=%{x}<br>average_weekly_sales=%{y}<extra></extra>",
         "legendgroup": "9252",
         "line": {
          "color": "#00cc96",
          "dash": "solid"
         },
         "marker": {
          "symbol": "circle"
         },
         "mode": "lines",
         "name": "9252",
         "showlegend": true,
         "type": "scattergl",
         "x": [
          37,
          38,
          39,
          40
         ],
         "xaxis": "x3",
         "y": [
          18,
          25,
          136,
          336
         ],
         "yaxis": "y3"
        },
        {
         "hovertemplate": "item_id=2757<br>year=2015<br>week=%{x}<br>average_weekly_sales=%{y}<extra></extra>",
         "legendgroup": "2757",
         "line": {
          "color": "#ab63fa",
          "dash": "solid"
         },
         "marker": {
          "symbol": "circle"
         },
         "mode": "lines",
         "name": "2757",
         "showlegend": true,
         "type": "scattergl",
         "x": [
          38
         ],
         "xaxis": "x3",
         "y": [
          10
         ],
         "yaxis": "y3"
        },
        {
         "hovertemplate": "item_id=3001<br>year=2015<br>week=%{x}<br>average_weekly_sales=%{y}<extra></extra>",
         "legendgroup": "3001",
         "line": {
          "color": "#FFA15A",
          "dash": "solid"
         },
         "marker": {
          "symbol": "circle"
         },
         "mode": "lines",
         "name": "3001",
         "showlegend": true,
         "type": "scattergl",
         "x": [
          38
         ],
         "xaxis": "x3",
         "y": [
          10
         ],
         "yaxis": "y3"
        },
        {
         "hovertemplate": "item_id=9246<br>year=2015<br>week=%{x}<br>average_weekly_sales=%{y}<extra></extra>",
         "legendgroup": "9246",
         "line": {
          "color": "#19d3f3",
          "dash": "solid"
         },
         "marker": {
          "symbol": "circle"
         },
         "mode": "lines",
         "name": "9246",
         "showlegend": true,
         "type": "scattergl",
         "x": [
          38,
          39
         ],
         "xaxis": "x3",
         "y": [
          11,
          11.318181818181818
         ],
         "yaxis": "y3"
        },
        {
         "hovertemplate": "item_id=9250<br>year=2015<br>week=%{x}<br>average_weekly_sales=%{y}<extra></extra>",
         "legendgroup": "9250",
         "line": {
          "color": "#FF6692",
          "dash": "solid"
         },
         "marker": {
          "symbol": "circle"
         },
         "mode": "lines",
         "name": "9250",
         "showlegend": true,
         "type": "scattergl",
         "x": [
          38,
          39,
          40
         ],
         "xaxis": "x3",
         "y": [
          10.45,
          12.625,
          14.166666666666666
         ],
         "yaxis": "y3"
        },
        {
         "hovertemplate": "item_id=15077<br>year=2015<br>week=%{x}<br>average_weekly_sales=%{y}<extra></extra>",
         "legendgroup": "15077",
         "line": {
          "color": "#B6E880",
          "dash": "solid"
         },
         "marker": {
          "symbol": "circle"
         },
         "mode": "lines",
         "name": "15077",
         "showlegend": true,
         "type": "scattergl",
         "x": [
          38
         ],
         "xaxis": "x3",
         "y": [
          11
         ],
         "yaxis": "y3"
        },
        {
         "hovertemplate": "item_id=16248<br>year=2015<br>week=%{x}<br>average_weekly_sales=%{y}<extra></extra>",
         "legendgroup": "16248",
         "line": {
          "color": "#FF97FF",
          "dash": "solid"
         },
         "marker": {
          "symbol": "circle"
         },
         "mode": "lines",
         "name": "16248",
         "showlegend": true,
         "type": "scattergl",
         "x": [
          38
         ],
         "xaxis": "x3",
         "y": [
          12
         ],
         "yaxis": "y3"
        },
        {
         "hovertemplate": "item_id=1544<br>year=2015<br>week=%{x}<br>average_weekly_sales=%{y}<extra></extra>",
         "legendgroup": "1544",
         "line": {
          "color": "#FECB52",
          "dash": "solid"
         },
         "marker": {
          "symbol": "circle"
         },
         "mode": "lines",
         "name": "1544",
         "showlegend": true,
         "type": "scattergl",
         "x": [
          39,
          42
         ],
         "xaxis": "x3",
         "y": [
          14.5,
          11
         ],
         "yaxis": "y3"
        },
        {
         "hovertemplate": "item_id=3350<br>year=2015<br>week=%{x}<br>average_weekly_sales=%{y}<extra></extra>",
         "legendgroup": "3350",
         "line": {
          "color": "#636efa",
          "dash": "solid"
         },
         "marker": {
          "symbol": "circle"
         },
         "mode": "lines",
         "name": "3350",
         "showlegend": true,
         "type": "scattergl",
         "x": [
          39
         ],
         "xaxis": "x3",
         "y": [
          14.878048780487806
         ],
         "yaxis": "y3"
        },
        {
         "hovertemplate": "item_id=3351<br>year=2015<br>week=%{x}<br>average_weekly_sales=%{y}<extra></extra>",
         "legendgroup": "3351",
         "line": {
          "color": "#EF553B",
          "dash": "solid"
         },
         "marker": {
          "symbol": "circle"
         },
         "mode": "lines",
         "name": "3351",
         "showlegend": true,
         "type": "scattergl",
         "x": [
          39
         ],
         "xaxis": "x3",
         "y": [
          36.048780487804876
         ],
         "yaxis": "y3"
        },
        {
         "hovertemplate": "item_id=3352<br>year=2015<br>week=%{x}<br>average_weekly_sales=%{y}<extra></extra>",
         "legendgroup": "3352",
         "line": {
          "color": "#00cc96",
          "dash": "solid"
         },
         "marker": {
          "symbol": "circle"
         },
         "mode": "lines",
         "name": "3352",
         "showlegend": true,
         "type": "scattergl",
         "x": [
          39
         ],
         "xaxis": "x3",
         "y": [
          13.902439024390244
         ],
         "yaxis": "y3"
        },
        {
         "hovertemplate": "item_id=3726<br>year=2015<br>week=%{x}<br>average_weekly_sales=%{y}<extra></extra>",
         "legendgroup": "3726",
         "line": {
          "color": "#ab63fa",
          "dash": "solid"
         },
         "marker": {
          "symbol": "circle"
         },
         "mode": "lines",
         "name": "3726",
         "showlegend": true,
         "type": "scattergl",
         "x": [
          39,
          43
         ],
         "xaxis": "x3",
         "y": [
          21,
          13
         ],
         "yaxis": "y3"
        },
        {
         "hovertemplate": "item_id=9254<br>year=2015<br>week=%{x}<br>average_weekly_sales=%{y}<extra></extra>",
         "legendgroup": "9254",
         "line": {
          "color": "#FFA15A",
          "dash": "solid"
         },
         "marker": {
          "symbol": "circle"
         },
         "mode": "lines",
         "name": "9254",
         "showlegend": true,
         "type": "scattergl",
         "x": [
          39,
          40
         ],
         "xaxis": "x3",
         "y": [
          9.25,
          9.61111111111111
         ],
         "yaxis": "y3"
        },
        {
         "hovertemplate": "item_id=13412<br>year=2015<br>week=%{x}<br>average_weekly_sales=%{y}<extra></extra>",
         "legendgroup": "13412",
         "line": {
          "color": "#19d3f3",
          "dash": "solid"
         },
         "marker": {
          "symbol": "circle"
         },
         "mode": "lines",
         "name": "13412",
         "showlegend": true,
         "type": "scattergl",
         "x": [
          39
         ],
         "xaxis": "x3",
         "y": [
          11
         ],
         "yaxis": "y3"
        },
        {
         "hovertemplate": "item_id=4201<br>year=2015<br>week=%{x}<br>average_weekly_sales=%{y}<extra></extra>",
         "legendgroup": "4201",
         "line": {
          "color": "#FF6692",
          "dash": "solid"
         },
         "marker": {
          "symbol": "circle"
         },
         "mode": "lines",
         "name": "4201",
         "showlegend": true,
         "type": "scattergl",
         "x": [
          40
         ],
         "xaxis": "x3",
         "y": [
          194
         ],
         "yaxis": "y3"
        },
        {
         "hovertemplate": "item_id=4865<br>year=2015<br>week=%{x}<br>average_weekly_sales=%{y}<extra></extra>",
         "legendgroup": "4865",
         "line": {
          "color": "#B6E880",
          "dash": "solid"
         },
         "marker": {
          "symbol": "circle"
         },
         "mode": "lines",
         "name": "4865",
         "showlegend": true,
         "type": "scattergl",
         "x": [
          40,
          41,
          42
         ],
         "xaxis": "x3",
         "y": [
          46,
          19,
          10
         ],
         "yaxis": "y3"
        },
        {
         "hovertemplate": "item_id=4866<br>year=2015<br>week=%{x}<br>average_weekly_sales=%{y}<extra></extra>",
         "legendgroup": "4866",
         "line": {
          "color": "#FF97FF",
          "dash": "solid"
         },
         "marker": {
          "symbol": "circle"
         },
         "mode": "lines",
         "name": "4866",
         "showlegend": true,
         "type": "scattergl",
         "x": [
          40
         ],
         "xaxis": "x3",
         "y": [
          15
         ],
         "yaxis": "y3"
        },
        {
         "hovertemplate": "item_id=9353<br>year=2015<br>week=%{x}<br>average_weekly_sales=%{y}<extra></extra>",
         "legendgroup": "9353",
         "line": {
          "color": "#FECB52",
          "dash": "solid"
         },
         "marker": {
          "symbol": "circle"
         },
         "mode": "lines",
         "name": "9353",
         "showlegend": true,
         "type": "scattergl",
         "x": [
          40
         ],
         "xaxis": "x3",
         "y": [
          10
         ],
         "yaxis": "y3"
        },
        {
         "hovertemplate": "item_id=9354<br>year=2015<br>week=%{x}<br>average_weekly_sales=%{y}<extra></extra>",
         "legendgroup": "9354",
         "line": {
          "color": "#636efa",
          "dash": "solid"
         },
         "marker": {
          "symbol": "circle"
         },
         "mode": "lines",
         "name": "9354",
         "showlegend": true,
         "type": "scattergl",
         "x": [
          40
         ],
         "xaxis": "x3",
         "y": [
          22
         ],
         "yaxis": "y3"
        },
        {
         "hovertemplate": "item_id=9361<br>year=2015<br>week=%{x}<br>average_weekly_sales=%{y}<extra></extra>",
         "legendgroup": "9361",
         "line": {
          "color": "#EF553B",
          "dash": "solid"
         },
         "marker": {
          "symbol": "circle"
         },
         "mode": "lines",
         "name": "9361",
         "showlegend": true,
         "type": "scattergl",
         "x": [
          40
         ],
         "xaxis": "x3",
         "y": [
          11.333333333333334
         ],
         "yaxis": "y3"
        },
        {
         "hovertemplate": "item_id=11522<br>year=2015<br>week=%{x}<br>average_weekly_sales=%{y}<extra></extra>",
         "legendgroup": "11522",
         "line": {
          "color": "#00cc96",
          "dash": "solid"
         },
         "marker": {
          "symbol": "circle"
         },
         "mode": "lines",
         "name": "11522",
         "showlegend": true,
         "type": "scattergl",
         "x": [
          40
         ],
         "xaxis": "x3",
         "y": [
          15
         ],
         "yaxis": "y3"
        },
        {
         "hovertemplate": "item_id=11525<br>year=2015<br>week=%{x}<br>average_weekly_sales=%{y}<extra></extra>",
         "legendgroup": "11525",
         "line": {
          "color": "#ab63fa",
          "dash": "solid"
         },
         "marker": {
          "symbol": "circle"
         },
         "mode": "lines",
         "name": "11525",
         "showlegend": true,
         "type": "scattergl",
         "x": [
          40
         ],
         "xaxis": "x3",
         "y": [
          11
         ],
         "yaxis": "y3"
        },
        {
         "hovertemplate": "item_id=11530<br>year=2015<br>week=%{x}<br>average_weekly_sales=%{y}<extra></extra>",
         "legendgroup": "11530",
         "line": {
          "color": "#FFA15A",
          "dash": "solid"
         },
         "marker": {
          "symbol": "circle"
         },
         "mode": "lines",
         "name": "11530",
         "showlegend": true,
         "type": "scattergl",
         "x": [
          40
         ],
         "xaxis": "x3",
         "y": [
          16.5
         ],
         "yaxis": "y3"
        },
        {
         "hovertemplate": "item_id=13214<br>year=2015<br>week=%{x}<br>average_weekly_sales=%{y}<extra></extra>",
         "legendgroup": "13214",
         "line": {
          "color": "#19d3f3",
          "dash": "solid"
         },
         "marker": {
          "symbol": "circle"
         },
         "mode": "lines",
         "name": "13214",
         "showlegend": true,
         "type": "scattergl",
         "x": [
          40
         ],
         "xaxis": "x3",
         "y": [
          13.5
         ],
         "yaxis": "y3"
        },
        {
         "hovertemplate": "item_id=13246<br>year=2015<br>week=%{x}<br>average_weekly_sales=%{y}<extra></extra>",
         "legendgroup": "13246",
         "line": {
          "color": "#FF6692",
          "dash": "solid"
         },
         "marker": {
          "symbol": "circle"
         },
         "mode": "lines",
         "name": "13246",
         "showlegend": true,
         "type": "scattergl",
         "x": [
          40
         ],
         "xaxis": "x3",
         "y": [
          15.2
         ],
         "yaxis": "y3"
        },
        {
         "hovertemplate": "item_id=13529<br>year=2015<br>week=%{x}<br>average_weekly_sales=%{y}<extra></extra>",
         "legendgroup": "13529",
         "line": {
          "color": "#B6E880",
          "dash": "solid"
         },
         "marker": {
          "symbol": "circle"
         },
         "mode": "lines",
         "name": "13529",
         "showlegend": true,
         "type": "scattergl",
         "x": [
          40
         ],
         "xaxis": "x3",
         "y": [
          10
         ],
         "yaxis": "y3"
        },
        {
         "hovertemplate": "item_id=13656<br>year=2015<br>week=%{x}<br>average_weekly_sales=%{y}<extra></extra>",
         "legendgroup": "13656",
         "line": {
          "color": "#FF97FF",
          "dash": "solid"
         },
         "marker": {
          "symbol": "circle"
         },
         "mode": "lines",
         "name": "13656",
         "showlegend": true,
         "type": "scattergl",
         "x": [
          40
         ],
         "xaxis": "x3",
         "y": [
          11
         ],
         "yaxis": "y3"
        },
        {
         "hovertemplate": "item_id=13742<br>year=2015<br>week=%{x}<br>average_weekly_sales=%{y}<extra></extra>",
         "legendgroup": "13742",
         "line": {
          "color": "#FECB52",
          "dash": "solid"
         },
         "marker": {
          "symbol": "circle"
         },
         "mode": "lines",
         "name": "13742",
         "showlegend": true,
         "type": "scattergl",
         "x": [
          40
         ],
         "xaxis": "x3",
         "y": [
          10.333333333333334
         ],
         "yaxis": "y3"
        },
        {
         "hovertemplate": "item_id=14956<br>year=2015<br>week=%{x}<br>average_weekly_sales=%{y}<extra></extra>",
         "legendgroup": "14956",
         "line": {
          "color": "#636efa",
          "dash": "solid"
         },
         "marker": {
          "symbol": "circle"
         },
         "mode": "lines",
         "name": "14956",
         "showlegend": true,
         "type": "scattergl",
         "x": [
          40
         ],
         "xaxis": "x3",
         "y": [
          12.666666666666666
         ],
         "yaxis": "y3"
        },
        {
         "hovertemplate": "item_id=14957<br>year=2015<br>week=%{x}<br>average_weekly_sales=%{y}<extra></extra>",
         "legendgroup": "14957",
         "line": {
          "color": "#EF553B",
          "dash": "solid"
         },
         "marker": {
          "symbol": "circle"
         },
         "mode": "lines",
         "name": "14957",
         "showlegend": true,
         "type": "scattergl",
         "x": [
          40
         ],
         "xaxis": "x3",
         "y": [
          13.5
         ],
         "yaxis": "y3"
        },
        {
         "hovertemplate": "item_id=15047<br>year=2015<br>week=%{x}<br>average_weekly_sales=%{y}<extra></extra>",
         "legendgroup": "15047",
         "line": {
          "color": "#00cc96",
          "dash": "solid"
         },
         "marker": {
          "symbol": "circle"
         },
         "mode": "lines",
         "name": "15047",
         "showlegend": true,
         "type": "scattergl",
         "x": [
          40
         ],
         "xaxis": "x3",
         "y": [
          13
         ],
         "yaxis": "y3"
        },
        {
         "hovertemplate": "item_id=15067<br>year=2015<br>week=%{x}<br>average_weekly_sales=%{y}<extra></extra>",
         "legendgroup": "15067",
         "line": {
          "color": "#ab63fa",
          "dash": "solid"
         },
         "marker": {
          "symbol": "circle"
         },
         "mode": "lines",
         "name": "15067",
         "showlegend": true,
         "type": "scattergl",
         "x": [
          40
         ],
         "xaxis": "x3",
         "y": [
          9.6
         ],
         "yaxis": "y3"
        },
        {
         "hovertemplate": "item_id=15069<br>year=2015<br>week=%{x}<br>average_weekly_sales=%{y}<extra></extra>",
         "legendgroup": "15069",
         "line": {
          "color": "#FFA15A",
          "dash": "solid"
         },
         "marker": {
          "symbol": "circle"
         },
         "mode": "lines",
         "name": "15069",
         "showlegend": true,
         "type": "scattergl",
         "x": [
          40
         ],
         "xaxis": "x3",
         "y": [
          12.725
         ],
         "yaxis": "y3"
        },
        {
         "hovertemplate": "item_id=15237<br>year=2015<br>week=%{x}<br>average_weekly_sales=%{y}<extra></extra>",
         "legendgroup": "15237",
         "line": {
          "color": "#19d3f3",
          "dash": "solid"
         },
         "marker": {
          "symbol": "circle"
         },
         "mode": "lines",
         "name": "15237",
         "showlegend": true,
         "type": "scattergl",
         "x": [
          40
         ],
         "xaxis": "x3",
         "y": [
          10
         ],
         "yaxis": "y3"
        },
        {
         "hovertemplate": "item_id=16843<br>year=2015<br>week=%{x}<br>average_weekly_sales=%{y}<extra></extra>",
         "legendgroup": "16843",
         "line": {
          "color": "#FF6692",
          "dash": "solid"
         },
         "marker": {
          "symbol": "circle"
         },
         "mode": "lines",
         "name": "16843",
         "showlegend": true,
         "type": "scattergl",
         "x": [
          40
         ],
         "xaxis": "x3",
         "y": [
          16.384615384615383
         ],
         "yaxis": "y3"
        },
        {
         "hovertemplate": "item_id=20537<br>year=2015<br>week=%{x}<br>average_weekly_sales=%{y}<extra></extra>",
         "legendgroup": "20537",
         "line": {
          "color": "#B6E880",
          "dash": "solid"
         },
         "marker": {
          "symbol": "circle"
         },
         "mode": "lines",
         "name": "20537",
         "showlegend": true,
         "type": "scattergl",
         "x": [
          40
         ],
         "xaxis": "x3",
         "y": [
          13.666666666666666
         ],
         "yaxis": "y3"
        },
        {
         "hovertemplate": "item_id=21119<br>year=2015<br>week=%{x}<br>average_weekly_sales=%{y}<extra></extra>",
         "legendgroup": "21119",
         "line": {
          "color": "#FF97FF",
          "dash": "solid"
         },
         "marker": {
          "symbol": "circle"
         },
         "mode": "lines",
         "name": "21119",
         "showlegend": true,
         "type": "scattergl",
         "x": [
          40
         ],
         "xaxis": "x3",
         "y": [
          11
         ],
         "yaxis": "y3"
        },
        {
         "hovertemplate": "item_id=21936<br>year=2015<br>week=%{x}<br>average_weekly_sales=%{y}<extra></extra>",
         "legendgroup": "21936",
         "line": {
          "color": "#FECB52",
          "dash": "solid"
         },
         "marker": {
          "symbol": "circle"
         },
         "mode": "lines",
         "name": "21936",
         "showlegend": true,
         "type": "scattergl",
         "x": [
          40
         ],
         "xaxis": "x3",
         "y": [
          15
         ],
         "yaxis": "y3"
        },
        {
         "hovertemplate": "item_id=21941<br>year=2015<br>week=%{x}<br>average_weekly_sales=%{y}<extra></extra>",
         "legendgroup": "21941",
         "line": {
          "color": "#636efa",
          "dash": "solid"
         },
         "marker": {
          "symbol": "circle"
         },
         "mode": "lines",
         "name": "21941",
         "showlegend": true,
         "type": "scattergl",
         "x": [
          40
         ],
         "xaxis": "x3",
         "y": [
          15
         ],
         "yaxis": "y3"
        },
        {
         "hovertemplate": "item_id=21942<br>year=2015<br>week=%{x}<br>average_weekly_sales=%{y}<extra></extra>",
         "legendgroup": "21942",
         "line": {
          "color": "#EF553B",
          "dash": "solid"
         },
         "marker": {
          "symbol": "circle"
         },
         "mode": "lines",
         "name": "21942",
         "showlegend": true,
         "type": "scattergl",
         "x": [
          40
         ],
         "xaxis": "x3",
         "y": [
          15.5
         ],
         "yaxis": "y3"
        },
        {
         "hovertemplate": "item_id=21943<br>year=2015<br>week=%{x}<br>average_weekly_sales=%{y}<extra></extra>",
         "legendgroup": "21943",
         "line": {
          "color": "#00cc96",
          "dash": "solid"
         },
         "marker": {
          "symbol": "circle"
         },
         "mode": "lines",
         "name": "21943",
         "showlegend": true,
         "type": "scattergl",
         "x": [
          40
         ],
         "xaxis": "x3",
         "y": [
          10
         ],
         "yaxis": "y3"
        },
        {
         "hovertemplate": "item_id=21945<br>year=2015<br>week=%{x}<br>average_weekly_sales=%{y}<extra></extra>",
         "legendgroup": "21945",
         "line": {
          "color": "#ab63fa",
          "dash": "solid"
         },
         "marker": {
          "symbol": "circle"
         },
         "mode": "lines",
         "name": "21945",
         "showlegend": true,
         "type": "scattergl",
         "x": [
          40
         ],
         "xaxis": "x3",
         "y": [
          15
         ],
         "yaxis": "y3"
        },
        {
         "hovertemplate": "item_id=21955<br>year=2015<br>week=%{x}<br>average_weekly_sales=%{y}<extra></extra>",
         "legendgroup": "21955",
         "line": {
          "color": "#FFA15A",
          "dash": "solid"
         },
         "marker": {
          "symbol": "circle"
         },
         "mode": "lines",
         "name": "21955",
         "showlegend": true,
         "type": "scattergl",
         "x": [
          40
         ],
         "xaxis": "x3",
         "y": [
          13
         ],
         "yaxis": "y3"
        },
        {
         "hovertemplate": "item_id=3406<br>year=2015<br>week=%{x}<br>average_weekly_sales=%{y}<extra></extra>",
         "legendgroup": "3406",
         "line": {
          "color": "#19d3f3",
          "dash": "solid"
         },
         "marker": {
          "symbol": "circle"
         },
         "mode": "lines",
         "name": "3406",
         "showlegend": true,
         "type": "scattergl",
         "x": [
          41,
          43,
          44
         ],
         "xaxis": "x3",
         "y": [
          10,
          13,
          14
         ],
         "yaxis": "y3"
        },
        {
         "hovertemplate": "item_id=7223<br>year=2015<br>week=%{x}<br>average_weekly_sales=%{y}<extra></extra>",
         "legendgroup": "7223",
         "line": {
          "color": "#FF6692",
          "dash": "solid"
         },
         "marker": {
          "symbol": "circle"
         },
         "mode": "lines",
         "name": "7223",
         "showlegend": true,
         "type": "scattergl",
         "x": [
          41
         ],
         "xaxis": "x3",
         "y": [
          13.45
         ],
         "yaxis": "y3"
        },
        {
         "hovertemplate": "item_id=10201<br>year=2015<br>week=%{x}<br>average_weekly_sales=%{y}<extra></extra>",
         "legendgroup": "10201",
         "line": {
          "color": "#B6E880",
          "dash": "solid"
         },
         "marker": {
          "symbol": "circle"
         },
         "mode": "lines",
         "name": "10201",
         "showlegend": true,
         "type": "scattergl",
         "x": [
          42
         ],
         "xaxis": "x3",
         "y": [
          26.24390243902439
         ],
         "yaxis": "y3"
        },
        {
         "hovertemplate": "item_id=10202<br>year=2015<br>week=%{x}<br>average_weekly_sales=%{y}<extra></extra>",
         "legendgroup": "10202",
         "line": {
          "color": "#FF97FF",
          "dash": "solid"
         },
         "marker": {
          "symbol": "circle"
         },
         "mode": "lines",
         "name": "10202",
         "showlegend": true,
         "type": "scattergl",
         "x": [
          42
         ],
         "xaxis": "x3",
         "y": [
          17.425
         ],
         "yaxis": "y3"
        },
        {
         "hovertemplate": "item_id=1583<br>year=2015<br>week=%{x}<br>average_weekly_sales=%{y}<extra></extra>",
         "legendgroup": "1583",
         "line": {
          "color": "#FECB52",
          "dash": "solid"
         },
         "marker": {
          "symbol": "circle"
         },
         "mode": "lines",
         "name": "1583",
         "showlegend": true,
         "type": "scattergl",
         "x": [
          43
         ],
         "xaxis": "x3",
         "y": [
          12.625
         ],
         "yaxis": "y3"
        },
        {
         "hovertemplate": "item_id=3409<br>year=2015<br>week=%{x}<br>average_weekly_sales=%{y}<extra></extra>",
         "legendgroup": "3409",
         "line": {
          "color": "#636efa",
          "dash": "solid"
         },
         "marker": {
          "symbol": "circle"
         },
         "mode": "lines",
         "name": "3409",
         "showlegend": true,
         "type": "scattergl",
         "x": [
          43
         ],
         "xaxis": "x3",
         "y": [
          10
         ],
         "yaxis": "y3"
        },
        {
         "hovertemplate": "item_id=7224<br>year=2015<br>week=%{x}<br>average_weekly_sales=%{y}<extra></extra>",
         "legendgroup": "7224",
         "line": {
          "color": "#EF553B",
          "dash": "solid"
         },
         "marker": {
          "symbol": "circle"
         },
         "mode": "lines",
         "name": "7224",
         "showlegend": true,
         "type": "scattergl",
         "x": [
          43
         ],
         "xaxis": "x3",
         "y": [
          10.973684210526315
         ],
         "yaxis": "y3"
        },
        {
         "hovertemplate": "item_id=20386<br>year=2015<br>week=%{x}<br>average_weekly_sales=%{y}<extra></extra>",
         "legendgroup": "20386",
         "line": {
          "color": "#00cc96",
          "dash": "solid"
         },
         "marker": {
          "symbol": "circle"
         },
         "mode": "lines",
         "name": "20386",
         "showlegend": true,
         "type": "scattergl",
         "x": [
          43
         ],
         "xaxis": "x3",
         "y": [
          12
         ],
         "yaxis": "y3"
        },
        {
         "hovertemplate": "item_id=1820<br>year=2015<br>week=%{x}<br>average_weekly_sales=%{y}<extra></extra>",
         "legendgroup": "1820",
         "line": {
          "color": "#ab63fa",
          "dash": "solid"
         },
         "marker": {
          "symbol": "circle"
         },
         "mode": "lines",
         "name": "1820",
         "showlegend": true,
         "type": "scattergl",
         "x": [
          44
         ],
         "xaxis": "x3",
         "y": [
          13
         ],
         "yaxis": "y3"
        },
        {
         "hovertemplate": "item_id=1929<br>year=2015<br>week=%{x}<br>average_weekly_sales=%{y}<extra></extra>",
         "legendgroup": "1929",
         "line": {
          "color": "#FFA15A",
          "dash": "solid"
         },
         "marker": {
          "symbol": "circle"
         },
         "mode": "lines",
         "name": "1929",
         "showlegend": true,
         "type": "scattergl",
         "x": [
          44
         ],
         "xaxis": "x3",
         "y": [
          23
         ],
         "yaxis": "y3"
        },
        {
         "hovertemplate": "item_id=2403<br>year=2015<br>week=%{x}<br>average_weekly_sales=%{y}<extra></extra>",
         "legendgroup": "2403",
         "line": {
          "color": "#19d3f3",
          "dash": "solid"
         },
         "marker": {
          "symbol": "circle"
         },
         "mode": "lines",
         "name": "2403",
         "showlegend": true,
         "type": "scattergl",
         "x": [
          44
         ],
         "xaxis": "x3",
         "y": [
          30
         ],
         "yaxis": "y3"
        },
        {
         "hovertemplate": "item_id=2404<br>year=2015<br>week=%{x}<br>average_weekly_sales=%{y}<extra></extra>",
         "legendgroup": "2404",
         "line": {
          "color": "#FF6692",
          "dash": "solid"
         },
         "marker": {
          "symbol": "circle"
         },
         "mode": "lines",
         "name": "2404",
         "showlegend": true,
         "type": "scattergl",
         "x": [
          44
         ],
         "xaxis": "x3",
         "y": [
          26
         ],
         "yaxis": "y3"
        },
        {
         "hovertemplate": "item_id=6936<br>year=2015<br>week=%{x}<br>average_weekly_sales=%{y}<extra></extra>",
         "legendgroup": "6936",
         "line": {
          "color": "#B6E880",
          "dash": "solid"
         },
         "marker": {
          "symbol": "circle"
         },
         "mode": "lines",
         "name": "6936",
         "showlegend": true,
         "type": "scattergl",
         "x": [
          44
         ],
         "xaxis": "x3",
         "y": [
          22
         ],
         "yaxis": "y3"
        }
       ],
       "layout": {
        "annotations": [
         {
          "font": {},
          "showarrow": false,
          "text": "year=2013",
          "x": 0.15999999999999998,
          "xanchor": "center",
          "xref": "paper",
          "y": 1,
          "yanchor": "bottom",
          "yref": "paper"
         },
         {
          "font": {},
          "showarrow": false,
          "text": "year=2014",
          "x": 0.49999999999999994,
          "xanchor": "center",
          "xref": "paper",
          "y": 1,
          "yanchor": "bottom",
          "yref": "paper"
         },
         {
          "font": {},
          "showarrow": false,
          "text": "year=2015",
          "x": 0.8399999999999999,
          "xanchor": "center",
          "xref": "paper",
          "y": 1,
          "yanchor": "bottom",
          "yref": "paper"
         }
        ],
        "legend": {
         "title": {
          "text": "item_id"
         },
         "tracegroupgap": 0
        },
        "template": {
         "data": {
          "bar": [
           {
            "error_x": {
             "color": "#2a3f5f"
            },
            "error_y": {
             "color": "#2a3f5f"
            },
            "marker": {
             "line": {
              "color": "#E5ECF6",
              "width": 0.5
             },
             "pattern": {
              "fillmode": "overlay",
              "size": 10,
              "solidity": 0.2
             }
            },
            "type": "bar"
           }
          ],
          "barpolar": [
           {
            "marker": {
             "line": {
              "color": "#E5ECF6",
              "width": 0.5
             },
             "pattern": {
              "fillmode": "overlay",
              "size": 10,
              "solidity": 0.2
             }
            },
            "type": "barpolar"
           }
          ],
          "carpet": [
           {
            "aaxis": {
             "endlinecolor": "#2a3f5f",
             "gridcolor": "white",
             "linecolor": "white",
             "minorgridcolor": "white",
             "startlinecolor": "#2a3f5f"
            },
            "baxis": {
             "endlinecolor": "#2a3f5f",
             "gridcolor": "white",
             "linecolor": "white",
             "minorgridcolor": "white",
             "startlinecolor": "#2a3f5f"
            },
            "type": "carpet"
           }
          ],
          "choropleth": [
           {
            "colorbar": {
             "outlinewidth": 0,
             "ticks": ""
            },
            "type": "choropleth"
           }
          ],
          "contour": [
           {
            "colorbar": {
             "outlinewidth": 0,
             "ticks": ""
            },
            "colorscale": [
             [
              0,
              "#0d0887"
             ],
             [
              0.1111111111111111,
              "#46039f"
             ],
             [
              0.2222222222222222,
              "#7201a8"
             ],
             [
              0.3333333333333333,
              "#9c179e"
             ],
             [
              0.4444444444444444,
              "#bd3786"
             ],
             [
              0.5555555555555556,
              "#d8576b"
             ],
             [
              0.6666666666666666,
              "#ed7953"
             ],
             [
              0.7777777777777778,
              "#fb9f3a"
             ],
             [
              0.8888888888888888,
              "#fdca26"
             ],
             [
              1,
              "#f0f921"
             ]
            ],
            "type": "contour"
           }
          ],
          "contourcarpet": [
           {
            "colorbar": {
             "outlinewidth": 0,
             "ticks": ""
            },
            "type": "contourcarpet"
           }
          ],
          "heatmap": [
           {
            "colorbar": {
             "outlinewidth": 0,
             "ticks": ""
            },
            "colorscale": [
             [
              0,
              "#0d0887"
             ],
             [
              0.1111111111111111,
              "#46039f"
             ],
             [
              0.2222222222222222,
              "#7201a8"
             ],
             [
              0.3333333333333333,
              "#9c179e"
             ],
             [
              0.4444444444444444,
              "#bd3786"
             ],
             [
              0.5555555555555556,
              "#d8576b"
             ],
             [
              0.6666666666666666,
              "#ed7953"
             ],
             [
              0.7777777777777778,
              "#fb9f3a"
             ],
             [
              0.8888888888888888,
              "#fdca26"
             ],
             [
              1,
              "#f0f921"
             ]
            ],
            "type": "heatmap"
           }
          ],
          "heatmapgl": [
           {
            "colorbar": {
             "outlinewidth": 0,
             "ticks": ""
            },
            "colorscale": [
             [
              0,
              "#0d0887"
             ],
             [
              0.1111111111111111,
              "#46039f"
             ],
             [
              0.2222222222222222,
              "#7201a8"
             ],
             [
              0.3333333333333333,
              "#9c179e"
             ],
             [
              0.4444444444444444,
              "#bd3786"
             ],
             [
              0.5555555555555556,
              "#d8576b"
             ],
             [
              0.6666666666666666,
              "#ed7953"
             ],
             [
              0.7777777777777778,
              "#fb9f3a"
             ],
             [
              0.8888888888888888,
              "#fdca26"
             ],
             [
              1,
              "#f0f921"
             ]
            ],
            "type": "heatmapgl"
           }
          ],
          "histogram": [
           {
            "marker": {
             "pattern": {
              "fillmode": "overlay",
              "size": 10,
              "solidity": 0.2
             }
            },
            "type": "histogram"
           }
          ],
          "histogram2d": [
           {
            "colorbar": {
             "outlinewidth": 0,
             "ticks": ""
            },
            "colorscale": [
             [
              0,
              "#0d0887"
             ],
             [
              0.1111111111111111,
              "#46039f"
             ],
             [
              0.2222222222222222,
              "#7201a8"
             ],
             [
              0.3333333333333333,
              "#9c179e"
             ],
             [
              0.4444444444444444,
              "#bd3786"
             ],
             [
              0.5555555555555556,
              "#d8576b"
             ],
             [
              0.6666666666666666,
              "#ed7953"
             ],
             [
              0.7777777777777778,
              "#fb9f3a"
             ],
             [
              0.8888888888888888,
              "#fdca26"
             ],
             [
              1,
              "#f0f921"
             ]
            ],
            "type": "histogram2d"
           }
          ],
          "histogram2dcontour": [
           {
            "colorbar": {
             "outlinewidth": 0,
             "ticks": ""
            },
            "colorscale": [
             [
              0,
              "#0d0887"
             ],
             [
              0.1111111111111111,
              "#46039f"
             ],
             [
              0.2222222222222222,
              "#7201a8"
             ],
             [
              0.3333333333333333,
              "#9c179e"
             ],
             [
              0.4444444444444444,
              "#bd3786"
             ],
             [
              0.5555555555555556,
              "#d8576b"
             ],
             [
              0.6666666666666666,
              "#ed7953"
             ],
             [
              0.7777777777777778,
              "#fb9f3a"
             ],
             [
              0.8888888888888888,
              "#fdca26"
             ],
             [
              1,
              "#f0f921"
             ]
            ],
            "type": "histogram2dcontour"
           }
          ],
          "mesh3d": [
           {
            "colorbar": {
             "outlinewidth": 0,
             "ticks": ""
            },
            "type": "mesh3d"
           }
          ],
          "parcoords": [
           {
            "line": {
             "colorbar": {
              "outlinewidth": 0,
              "ticks": ""
             }
            },
            "type": "parcoords"
           }
          ],
          "pie": [
           {
            "automargin": true,
            "type": "pie"
           }
          ],
          "scatter": [
           {
            "fillpattern": {
             "fillmode": "overlay",
             "size": 10,
             "solidity": 0.2
            },
            "type": "scatter"
           }
          ],
          "scatter3d": [
           {
            "line": {
             "colorbar": {
              "outlinewidth": 0,
              "ticks": ""
             }
            },
            "marker": {
             "colorbar": {
              "outlinewidth": 0,
              "ticks": ""
             }
            },
            "type": "scatter3d"
           }
          ],
          "scattercarpet": [
           {
            "marker": {
             "colorbar": {
              "outlinewidth": 0,
              "ticks": ""
             }
            },
            "type": "scattercarpet"
           }
          ],
          "scattergeo": [
           {
            "marker": {
             "colorbar": {
              "outlinewidth": 0,
              "ticks": ""
             }
            },
            "type": "scattergeo"
           }
          ],
          "scattergl": [
           {
            "marker": {
             "colorbar": {
              "outlinewidth": 0,
              "ticks": ""
             }
            },
            "type": "scattergl"
           }
          ],
          "scattermapbox": [
           {
            "marker": {
             "colorbar": {
              "outlinewidth": 0,
              "ticks": ""
             }
            },
            "type": "scattermapbox"
           }
          ],
          "scatterpolar": [
           {
            "marker": {
             "colorbar": {
              "outlinewidth": 0,
              "ticks": ""
             }
            },
            "type": "scatterpolar"
           }
          ],
          "scatterpolargl": [
           {
            "marker": {
             "colorbar": {
              "outlinewidth": 0,
              "ticks": ""
             }
            },
            "type": "scatterpolargl"
           }
          ],
          "scatterternary": [
           {
            "marker": {
             "colorbar": {
              "outlinewidth": 0,
              "ticks": ""
             }
            },
            "type": "scatterternary"
           }
          ],
          "surface": [
           {
            "colorbar": {
             "outlinewidth": 0,
             "ticks": ""
            },
            "colorscale": [
             [
              0,
              "#0d0887"
             ],
             [
              0.1111111111111111,
              "#46039f"
             ],
             [
              0.2222222222222222,
              "#7201a8"
             ],
             [
              0.3333333333333333,
              "#9c179e"
             ],
             [
              0.4444444444444444,
              "#bd3786"
             ],
             [
              0.5555555555555556,
              "#d8576b"
             ],
             [
              0.6666666666666666,
              "#ed7953"
             ],
             [
              0.7777777777777778,
              "#fb9f3a"
             ],
             [
              0.8888888888888888,
              "#fdca26"
             ],
             [
              1,
              "#f0f921"
             ]
            ],
            "type": "surface"
           }
          ],
          "table": [
           {
            "cells": {
             "fill": {
              "color": "#EBF0F8"
             },
             "line": {
              "color": "white"
             }
            },
            "header": {
             "fill": {
              "color": "#C8D4E3"
             },
             "line": {
              "color": "white"
             }
            },
            "type": "table"
           }
          ]
         },
         "layout": {
          "annotationdefaults": {
           "arrowcolor": "#2a3f5f",
           "arrowhead": 0,
           "arrowwidth": 1
          },
          "autotypenumbers": "strict",
          "coloraxis": {
           "colorbar": {
            "outlinewidth": 0,
            "ticks": ""
           }
          },
          "colorscale": {
           "diverging": [
            [
             0,
             "#8e0152"
            ],
            [
             0.1,
             "#c51b7d"
            ],
            [
             0.2,
             "#de77ae"
            ],
            [
             0.3,
             "#f1b6da"
            ],
            [
             0.4,
             "#fde0ef"
            ],
            [
             0.5,
             "#f7f7f7"
            ],
            [
             0.6,
             "#e6f5d0"
            ],
            [
             0.7,
             "#b8e186"
            ],
            [
             0.8,
             "#7fbc41"
            ],
            [
             0.9,
             "#4d9221"
            ],
            [
             1,
             "#276419"
            ]
           ],
           "sequential": [
            [
             0,
             "#0d0887"
            ],
            [
             0.1111111111111111,
             "#46039f"
            ],
            [
             0.2222222222222222,
             "#7201a8"
            ],
            [
             0.3333333333333333,
             "#9c179e"
            ],
            [
             0.4444444444444444,
             "#bd3786"
            ],
            [
             0.5555555555555556,
             "#d8576b"
            ],
            [
             0.6666666666666666,
             "#ed7953"
            ],
            [
             0.7777777777777778,
             "#fb9f3a"
            ],
            [
             0.8888888888888888,
             "#fdca26"
            ],
            [
             1,
             "#f0f921"
            ]
           ],
           "sequentialminus": [
            [
             0,
             "#0d0887"
            ],
            [
             0.1111111111111111,
             "#46039f"
            ],
            [
             0.2222222222222222,
             "#7201a8"
            ],
            [
             0.3333333333333333,
             "#9c179e"
            ],
            [
             0.4444444444444444,
             "#bd3786"
            ],
            [
             0.5555555555555556,
             "#d8576b"
            ],
            [
             0.6666666666666666,
             "#ed7953"
            ],
            [
             0.7777777777777778,
             "#fb9f3a"
            ],
            [
             0.8888888888888888,
             "#fdca26"
            ],
            [
             1,
             "#f0f921"
            ]
           ]
          },
          "colorway": [
           "#636efa",
           "#EF553B",
           "#00cc96",
           "#ab63fa",
           "#FFA15A",
           "#19d3f3",
           "#FF6692",
           "#B6E880",
           "#FF97FF",
           "#FECB52"
          ],
          "font": {
           "color": "#2a3f5f"
          },
          "geo": {
           "bgcolor": "white",
           "lakecolor": "white",
           "landcolor": "#E5ECF6",
           "showlakes": true,
           "showland": true,
           "subunitcolor": "white"
          },
          "hoverlabel": {
           "align": "left"
          },
          "hovermode": "closest",
          "mapbox": {
           "style": "light"
          },
          "paper_bgcolor": "white",
          "plot_bgcolor": "#E5ECF6",
          "polar": {
           "angularaxis": {
            "gridcolor": "white",
            "linecolor": "white",
            "ticks": ""
           },
           "bgcolor": "#E5ECF6",
           "radialaxis": {
            "gridcolor": "white",
            "linecolor": "white",
            "ticks": ""
           }
          },
          "scene": {
           "xaxis": {
            "backgroundcolor": "#E5ECF6",
            "gridcolor": "white",
            "gridwidth": 2,
            "linecolor": "white",
            "showbackground": true,
            "ticks": "",
            "zerolinecolor": "white"
           },
           "yaxis": {
            "backgroundcolor": "#E5ECF6",
            "gridcolor": "white",
            "gridwidth": 2,
            "linecolor": "white",
            "showbackground": true,
            "ticks": "",
            "zerolinecolor": "white"
           },
           "zaxis": {
            "backgroundcolor": "#E5ECF6",
            "gridcolor": "white",
            "gridwidth": 2,
            "linecolor": "white",
            "showbackground": true,
            "ticks": "",
            "zerolinecolor": "white"
           }
          },
          "shapedefaults": {
           "line": {
            "color": "#2a3f5f"
           }
          },
          "ternary": {
           "aaxis": {
            "gridcolor": "white",
            "linecolor": "white",
            "ticks": ""
           },
           "baxis": {
            "gridcolor": "white",
            "linecolor": "white",
            "ticks": ""
           },
           "bgcolor": "#E5ECF6",
           "caxis": {
            "gridcolor": "white",
            "linecolor": "white",
            "ticks": ""
           }
          },
          "title": {
           "x": 0.05
          },
          "xaxis": {
           "automargin": true,
           "gridcolor": "white",
           "linecolor": "white",
           "ticks": "",
           "title": {
            "standoff": 15
           },
           "zerolinecolor": "white",
           "zerolinewidth": 2
          },
          "yaxis": {
           "automargin": true,
           "gridcolor": "white",
           "linecolor": "white",
           "ticks": "",
           "title": {
            "standoff": 15
           },
           "zerolinecolor": "white",
           "zerolinewidth": 2
          }
         }
        },
        "title": {
         "text": "Items Purchased per Week"
        },
        "xaxis": {
         "anchor": "y",
         "domain": [
          0,
          0.31999999999999995
         ],
         "title": {
          "text": "Week"
         }
        },
        "xaxis2": {
         "anchor": "y2",
         "domain": [
          0.33999999999999997,
          0.6599999999999999
         ],
         "matches": "x",
         "title": {
          "text": "week"
         }
        },
        "xaxis3": {
         "anchor": "y3",
         "domain": [
          0.6799999999999999,
          0.9999999999999999
         ],
         "matches": "x",
         "title": {
          "text": "week"
         }
        },
        "yaxis": {
         "anchor": "x",
         "domain": [
          0,
          1
         ],
         "title": {
          "text": "Items Sold"
         }
        },
        "yaxis2": {
         "anchor": "x2",
         "domain": [
          0,
          1
         ],
         "matches": "y",
         "showticklabels": false
        },
        "yaxis3": {
         "anchor": "x3",
         "domain": [
          0,
          1
         ],
         "matches": "y",
         "showticklabels": false
        }
       }
      }
     },
     "metadata": {},
     "output_type": "display_data"
    }
   ],
   "source": [
    "all_sales = pd.concat(weekly_sales_dict.values(), ignore_index=True)\n",
    "all_sales['year'] = all_sales['date'].dt.year\n",
    "\n",
    "fig = px.line(all_sales[all_sales['average_weekly_sales'] > 9], x='week', y='average_weekly_sales', color='item_id',\n",
    "              title='Items Purchased per Week', facet_col='year')\n",
    "fig.update_layout(xaxis_title='Week', yaxis_title='Items Sold')\n",
    "fig.show()"
   ]
  },
  {
   "cell_type": "markdown",
   "metadata": {},
   "source": [
    "## Will focus on item 20949 - most sales/data to test on"
   ]
  },
  {
   "cell_type": "code",
   "execution_count": 85,
   "metadata": {},
   "outputs": [
    {
     "data": {
      "application/vnd.plotly.v1+json": {
       "config": {
        "plotlyServerURL": "https://plot.ly"
       },
       "data": [
        {
         "hovertemplate": "year=2013<br>week=%{x}<br>average_weekly_sales=%{y}<extra></extra>",
         "legendgroup": "2013",
         "line": {
          "color": "#636efa",
          "dash": "solid"
         },
         "marker": {
          "symbol": "circle"
         },
         "mode": "lines",
         "name": "2013",
         "orientation": "v",
         "showlegend": true,
         "type": "scatter",
         "x": [
          17,
          18,
          19,
          20,
          21,
          22,
          23,
          24,
          25,
          26,
          27,
          28,
          29,
          30,
          31,
          32,
          33,
          34,
          35,
          36,
          37,
          38,
          39,
          40,
          41,
          42,
          43,
          44,
          45,
          46,
          47,
          48,
          49,
          50,
          51,
          52
         ],
         "xaxis": "x",
         "y": [
          10.133333333333333,
          24.08,
          20.833333333333332,
          23.235294117647058,
          27.86111111111111,
          36.23809523809524,
          46.38095238095238,
          48.395348837209305,
          43.06976744186046,
          42.58139534883721,
          39.18181818181818,
          39.642857142857146,
          38.604651162790695,
          38.04651162790697,
          37.372093023255815,
          35.829268292682926,
          36.707317073170735,
          41.73809523809524,
          45.609756097560975,
          50.666666666666664,
          39.65853658536585,
          49.55,
          39.16279069767442,
          40.23255813953488,
          40.13953488372093,
          41.27906976744186,
          39.53488372093023,
          52.48837209302326,
          51.93023255813954,
          40.627906976744185,
          43.604651162790695,
          41.48837209302326,
          43.06976744186046,
          47.93023255813954,
          55.627906976744185,
          91.81818181818181
         ],
         "yaxis": "y"
        },
        {
         "hovertemplate": "year=2014<br>week=%{x}<br>average_weekly_sales=%{y}<extra></extra>",
         "legendgroup": "2014",
         "line": {
          "color": "#EF553B",
          "dash": "solid"
         },
         "marker": {
          "symbol": "circle"
         },
         "mode": "lines",
         "name": "2014",
         "orientation": "v",
         "showlegend": true,
         "type": "scatter",
         "x": [
          53,
          1,
          2,
          3,
          4,
          5,
          6,
          7,
          8,
          9,
          10,
          11,
          12,
          13,
          14,
          15,
          16,
          17,
          18,
          19,
          20,
          21,
          22,
          23,
          24,
          25,
          26,
          27,
          28,
          29,
          30,
          31,
          32,
          33,
          34,
          35,
          36,
          37,
          38,
          39,
          40,
          41,
          42,
          43,
          44,
          45,
          46,
          47,
          48,
          49,
          50,
          51,
          52
         ],
         "xaxis": "x",
         "y": [
          42.29545454545455,
          44.74418604651163,
          41.47727272727273,
          31.348837209302324,
          32.48837209302326,
          34.627906976744185,
          35.72093023255814,
          37.5,
          45.41860465116279,
          33.15909090909091,
          39.37777777777778,
          44.55555555555556,
          37.111111111111114,
          33.22222222222222,
          29.2,
          34.37777777777778,
          31.68888888888889,
          27.47826086956522,
          28.108695652173914,
          26.26086956521739,
          22.543478260869566,
          29.217391304347824,
          36.108695652173914,
          25.8,
          33.93333333333333,
          33.87234042553192,
          43.73913043478261,
          27.95744680851064,
          32.48936170212766,
          27.659574468085108,
          27.695652173913043,
          27.895833333333332,
          26.5625,
          29.70212765957447,
          31.382978723404257,
          32.229166666666664,
          31.625,
          37.06521739130435,
          30.782608695652176,
          34.61702127659574,
          33.59574468085106,
          34.638297872340424,
          30.1875,
          30.333333333333332,
          29.23404255319149,
          38.91489361702128,
          40.04255319148936,
          39.319148936170215,
          33.21739130434783,
          33.5625,
          37.5,
          60.12765957446808,
          72.56521739130434
         ],
         "yaxis": "y"
        },
        {
         "hovertemplate": "year=2015<br>week=%{x}<br>average_weekly_sales=%{y}<extra></extra>",
         "legendgroup": "2015",
         "line": {
          "color": "#00cc96",
          "dash": "solid"
         },
         "marker": {
          "symbol": "circle"
         },
         "mode": "lines",
         "name": "2015",
         "orientation": "v",
         "showlegend": true,
         "type": "scatter",
         "x": [
          53,
          1,
          2,
          3,
          4,
          5,
          6,
          7,
          8,
          9,
          10,
          11,
          12,
          13,
          14,
          15,
          16,
          17,
          18,
          19,
          20,
          21,
          22,
          23,
          24,
          25,
          26,
          27,
          28,
          29,
          30,
          31,
          32,
          33,
          34,
          35,
          36,
          37,
          38,
          39,
          40,
          41,
          42,
          43,
          44
         ],
         "xaxis": "x",
         "y": [
          59.666666666666664,
          37.11363636363637,
          47.76744186046512,
          57.08695652173913,
          20.976744186046513,
          19.7,
          20.105263157894736,
          20.57894736842105,
          25.97222222222222,
          16.25,
          14.903225806451612,
          14.333333333333334,
          11.607142857142858,
          16.178571428571427,
          16.5,
          20.864864864864863,
          42.270270270270274,
          24.44736842105263,
          23.45945945945946,
          18.57894736842105,
          16.875,
          30.342105263157894,
          20.53846153846154,
          21,
          22.942857142857143,
          22.6,
          23.63157894736842,
          21.37837837837838,
          19.210526315789473,
          20.743589743589745,
          19.435897435897434,
          17.57894736842105,
          18.64864864864865,
          19.756756756756758,
          26.77777777777778,
          22.17948717948718,
          22.675675675675677,
          22,
          20.7027027027027,
          20.641025641025642,
          20.13157894736842,
          22.675675675675677,
          35.8421052631579,
          21.43243243243243,
          15.435897435897436
         ],
         "yaxis": "y"
        }
       ],
       "layout": {
        "legend": {
         "title": {
          "text": "year"
         },
         "tracegroupgap": 0
        },
        "template": {
         "data": {
          "bar": [
           {
            "error_x": {
             "color": "#2a3f5f"
            },
            "error_y": {
             "color": "#2a3f5f"
            },
            "marker": {
             "line": {
              "color": "#E5ECF6",
              "width": 0.5
             },
             "pattern": {
              "fillmode": "overlay",
              "size": 10,
              "solidity": 0.2
             }
            },
            "type": "bar"
           }
          ],
          "barpolar": [
           {
            "marker": {
             "line": {
              "color": "#E5ECF6",
              "width": 0.5
             },
             "pattern": {
              "fillmode": "overlay",
              "size": 10,
              "solidity": 0.2
             }
            },
            "type": "barpolar"
           }
          ],
          "carpet": [
           {
            "aaxis": {
             "endlinecolor": "#2a3f5f",
             "gridcolor": "white",
             "linecolor": "white",
             "minorgridcolor": "white",
             "startlinecolor": "#2a3f5f"
            },
            "baxis": {
             "endlinecolor": "#2a3f5f",
             "gridcolor": "white",
             "linecolor": "white",
             "minorgridcolor": "white",
             "startlinecolor": "#2a3f5f"
            },
            "type": "carpet"
           }
          ],
          "choropleth": [
           {
            "colorbar": {
             "outlinewidth": 0,
             "ticks": ""
            },
            "type": "choropleth"
           }
          ],
          "contour": [
           {
            "colorbar": {
             "outlinewidth": 0,
             "ticks": ""
            },
            "colorscale": [
             [
              0,
              "#0d0887"
             ],
             [
              0.1111111111111111,
              "#46039f"
             ],
             [
              0.2222222222222222,
              "#7201a8"
             ],
             [
              0.3333333333333333,
              "#9c179e"
             ],
             [
              0.4444444444444444,
              "#bd3786"
             ],
             [
              0.5555555555555556,
              "#d8576b"
             ],
             [
              0.6666666666666666,
              "#ed7953"
             ],
             [
              0.7777777777777778,
              "#fb9f3a"
             ],
             [
              0.8888888888888888,
              "#fdca26"
             ],
             [
              1,
              "#f0f921"
             ]
            ],
            "type": "contour"
           }
          ],
          "contourcarpet": [
           {
            "colorbar": {
             "outlinewidth": 0,
             "ticks": ""
            },
            "type": "contourcarpet"
           }
          ],
          "heatmap": [
           {
            "colorbar": {
             "outlinewidth": 0,
             "ticks": ""
            },
            "colorscale": [
             [
              0,
              "#0d0887"
             ],
             [
              0.1111111111111111,
              "#46039f"
             ],
             [
              0.2222222222222222,
              "#7201a8"
             ],
             [
              0.3333333333333333,
              "#9c179e"
             ],
             [
              0.4444444444444444,
              "#bd3786"
             ],
             [
              0.5555555555555556,
              "#d8576b"
             ],
             [
              0.6666666666666666,
              "#ed7953"
             ],
             [
              0.7777777777777778,
              "#fb9f3a"
             ],
             [
              0.8888888888888888,
              "#fdca26"
             ],
             [
              1,
              "#f0f921"
             ]
            ],
            "type": "heatmap"
           }
          ],
          "heatmapgl": [
           {
            "colorbar": {
             "outlinewidth": 0,
             "ticks": ""
            },
            "colorscale": [
             [
              0,
              "#0d0887"
             ],
             [
              0.1111111111111111,
              "#46039f"
             ],
             [
              0.2222222222222222,
              "#7201a8"
             ],
             [
              0.3333333333333333,
              "#9c179e"
             ],
             [
              0.4444444444444444,
              "#bd3786"
             ],
             [
              0.5555555555555556,
              "#d8576b"
             ],
             [
              0.6666666666666666,
              "#ed7953"
             ],
             [
              0.7777777777777778,
              "#fb9f3a"
             ],
             [
              0.8888888888888888,
              "#fdca26"
             ],
             [
              1,
              "#f0f921"
             ]
            ],
            "type": "heatmapgl"
           }
          ],
          "histogram": [
           {
            "marker": {
             "pattern": {
              "fillmode": "overlay",
              "size": 10,
              "solidity": 0.2
             }
            },
            "type": "histogram"
           }
          ],
          "histogram2d": [
           {
            "colorbar": {
             "outlinewidth": 0,
             "ticks": ""
            },
            "colorscale": [
             [
              0,
              "#0d0887"
             ],
             [
              0.1111111111111111,
              "#46039f"
             ],
             [
              0.2222222222222222,
              "#7201a8"
             ],
             [
              0.3333333333333333,
              "#9c179e"
             ],
             [
              0.4444444444444444,
              "#bd3786"
             ],
             [
              0.5555555555555556,
              "#d8576b"
             ],
             [
              0.6666666666666666,
              "#ed7953"
             ],
             [
              0.7777777777777778,
              "#fb9f3a"
             ],
             [
              0.8888888888888888,
              "#fdca26"
             ],
             [
              1,
              "#f0f921"
             ]
            ],
            "type": "histogram2d"
           }
          ],
          "histogram2dcontour": [
           {
            "colorbar": {
             "outlinewidth": 0,
             "ticks": ""
            },
            "colorscale": [
             [
              0,
              "#0d0887"
             ],
             [
              0.1111111111111111,
              "#46039f"
             ],
             [
              0.2222222222222222,
              "#7201a8"
             ],
             [
              0.3333333333333333,
              "#9c179e"
             ],
             [
              0.4444444444444444,
              "#bd3786"
             ],
             [
              0.5555555555555556,
              "#d8576b"
             ],
             [
              0.6666666666666666,
              "#ed7953"
             ],
             [
              0.7777777777777778,
              "#fb9f3a"
             ],
             [
              0.8888888888888888,
              "#fdca26"
             ],
             [
              1,
              "#f0f921"
             ]
            ],
            "type": "histogram2dcontour"
           }
          ],
          "mesh3d": [
           {
            "colorbar": {
             "outlinewidth": 0,
             "ticks": ""
            },
            "type": "mesh3d"
           }
          ],
          "parcoords": [
           {
            "line": {
             "colorbar": {
              "outlinewidth": 0,
              "ticks": ""
             }
            },
            "type": "parcoords"
           }
          ],
          "pie": [
           {
            "automargin": true,
            "type": "pie"
           }
          ],
          "scatter": [
           {
            "fillpattern": {
             "fillmode": "overlay",
             "size": 10,
             "solidity": 0.2
            },
            "type": "scatter"
           }
          ],
          "scatter3d": [
           {
            "line": {
             "colorbar": {
              "outlinewidth": 0,
              "ticks": ""
             }
            },
            "marker": {
             "colorbar": {
              "outlinewidth": 0,
              "ticks": ""
             }
            },
            "type": "scatter3d"
           }
          ],
          "scattercarpet": [
           {
            "marker": {
             "colorbar": {
              "outlinewidth": 0,
              "ticks": ""
             }
            },
            "type": "scattercarpet"
           }
          ],
          "scattergeo": [
           {
            "marker": {
             "colorbar": {
              "outlinewidth": 0,
              "ticks": ""
             }
            },
            "type": "scattergeo"
           }
          ],
          "scattergl": [
           {
            "marker": {
             "colorbar": {
              "outlinewidth": 0,
              "ticks": ""
             }
            },
            "type": "scattergl"
           }
          ],
          "scattermapbox": [
           {
            "marker": {
             "colorbar": {
              "outlinewidth": 0,
              "ticks": ""
             }
            },
            "type": "scattermapbox"
           }
          ],
          "scatterpolar": [
           {
            "marker": {
             "colorbar": {
              "outlinewidth": 0,
              "ticks": ""
             }
            },
            "type": "scatterpolar"
           }
          ],
          "scatterpolargl": [
           {
            "marker": {
             "colorbar": {
              "outlinewidth": 0,
              "ticks": ""
             }
            },
            "type": "scatterpolargl"
           }
          ],
          "scatterternary": [
           {
            "marker": {
             "colorbar": {
              "outlinewidth": 0,
              "ticks": ""
             }
            },
            "type": "scatterternary"
           }
          ],
          "surface": [
           {
            "colorbar": {
             "outlinewidth": 0,
             "ticks": ""
            },
            "colorscale": [
             [
              0,
              "#0d0887"
             ],
             [
              0.1111111111111111,
              "#46039f"
             ],
             [
              0.2222222222222222,
              "#7201a8"
             ],
             [
              0.3333333333333333,
              "#9c179e"
             ],
             [
              0.4444444444444444,
              "#bd3786"
             ],
             [
              0.5555555555555556,
              "#d8576b"
             ],
             [
              0.6666666666666666,
              "#ed7953"
             ],
             [
              0.7777777777777778,
              "#fb9f3a"
             ],
             [
              0.8888888888888888,
              "#fdca26"
             ],
             [
              1,
              "#f0f921"
             ]
            ],
            "type": "surface"
           }
          ],
          "table": [
           {
            "cells": {
             "fill": {
              "color": "#EBF0F8"
             },
             "line": {
              "color": "white"
             }
            },
            "header": {
             "fill": {
              "color": "#C8D4E3"
             },
             "line": {
              "color": "white"
             }
            },
            "type": "table"
           }
          ]
         },
         "layout": {
          "annotationdefaults": {
           "arrowcolor": "#2a3f5f",
           "arrowhead": 0,
           "arrowwidth": 1
          },
          "autotypenumbers": "strict",
          "coloraxis": {
           "colorbar": {
            "outlinewidth": 0,
            "ticks": ""
           }
          },
          "colorscale": {
           "diverging": [
            [
             0,
             "#8e0152"
            ],
            [
             0.1,
             "#c51b7d"
            ],
            [
             0.2,
             "#de77ae"
            ],
            [
             0.3,
             "#f1b6da"
            ],
            [
             0.4,
             "#fde0ef"
            ],
            [
             0.5,
             "#f7f7f7"
            ],
            [
             0.6,
             "#e6f5d0"
            ],
            [
             0.7,
             "#b8e186"
            ],
            [
             0.8,
             "#7fbc41"
            ],
            [
             0.9,
             "#4d9221"
            ],
            [
             1,
             "#276419"
            ]
           ],
           "sequential": [
            [
             0,
             "#0d0887"
            ],
            [
             0.1111111111111111,
             "#46039f"
            ],
            [
             0.2222222222222222,
             "#7201a8"
            ],
            [
             0.3333333333333333,
             "#9c179e"
            ],
            [
             0.4444444444444444,
             "#bd3786"
            ],
            [
             0.5555555555555556,
             "#d8576b"
            ],
            [
             0.6666666666666666,
             "#ed7953"
            ],
            [
             0.7777777777777778,
             "#fb9f3a"
            ],
            [
             0.8888888888888888,
             "#fdca26"
            ],
            [
             1,
             "#f0f921"
            ]
           ],
           "sequentialminus": [
            [
             0,
             "#0d0887"
            ],
            [
             0.1111111111111111,
             "#46039f"
            ],
            [
             0.2222222222222222,
             "#7201a8"
            ],
            [
             0.3333333333333333,
             "#9c179e"
            ],
            [
             0.4444444444444444,
             "#bd3786"
            ],
            [
             0.5555555555555556,
             "#d8576b"
            ],
            [
             0.6666666666666666,
             "#ed7953"
            ],
            [
             0.7777777777777778,
             "#fb9f3a"
            ],
            [
             0.8888888888888888,
             "#fdca26"
            ],
            [
             1,
             "#f0f921"
            ]
           ]
          },
          "colorway": [
           "#636efa",
           "#EF553B",
           "#00cc96",
           "#ab63fa",
           "#FFA15A",
           "#19d3f3",
           "#FF6692",
           "#B6E880",
           "#FF97FF",
           "#FECB52"
          ],
          "font": {
           "color": "#2a3f5f"
          },
          "geo": {
           "bgcolor": "white",
           "lakecolor": "white",
           "landcolor": "#E5ECF6",
           "showlakes": true,
           "showland": true,
           "subunitcolor": "white"
          },
          "hoverlabel": {
           "align": "left"
          },
          "hovermode": "closest",
          "mapbox": {
           "style": "light"
          },
          "paper_bgcolor": "white",
          "plot_bgcolor": "#E5ECF6",
          "polar": {
           "angularaxis": {
            "gridcolor": "white",
            "linecolor": "white",
            "ticks": ""
           },
           "bgcolor": "#E5ECF6",
           "radialaxis": {
            "gridcolor": "white",
            "linecolor": "white",
            "ticks": ""
           }
          },
          "scene": {
           "xaxis": {
            "backgroundcolor": "#E5ECF6",
            "gridcolor": "white",
            "gridwidth": 2,
            "linecolor": "white",
            "showbackground": true,
            "ticks": "",
            "zerolinecolor": "white"
           },
           "yaxis": {
            "backgroundcolor": "#E5ECF6",
            "gridcolor": "white",
            "gridwidth": 2,
            "linecolor": "white",
            "showbackground": true,
            "ticks": "",
            "zerolinecolor": "white"
           },
           "zaxis": {
            "backgroundcolor": "#E5ECF6",
            "gridcolor": "white",
            "gridwidth": 2,
            "linecolor": "white",
            "showbackground": true,
            "ticks": "",
            "zerolinecolor": "white"
           }
          },
          "shapedefaults": {
           "line": {
            "color": "#2a3f5f"
           }
          },
          "ternary": {
           "aaxis": {
            "gridcolor": "white",
            "linecolor": "white",
            "ticks": ""
           },
           "baxis": {
            "gridcolor": "white",
            "linecolor": "white",
            "ticks": ""
           },
           "bgcolor": "#E5ECF6",
           "caxis": {
            "gridcolor": "white",
            "linecolor": "white",
            "ticks": ""
           }
          },
          "title": {
           "x": 0.05
          },
          "xaxis": {
           "automargin": true,
           "gridcolor": "white",
           "linecolor": "white",
           "ticks": "",
           "title": {
            "standoff": 15
           },
           "zerolinecolor": "white",
           "zerolinewidth": 2
          },
          "yaxis": {
           "automargin": true,
           "gridcolor": "white",
           "linecolor": "white",
           "ticks": "",
           "title": {
            "standoff": 15
           },
           "zerolinecolor": "white",
           "zerolinewidth": 2
          }
         }
        },
        "title": {
         "text": "Items Purchased per Week"
        },
        "xaxis": {
         "anchor": "y",
         "domain": [
          0,
          1
         ],
         "title": {
          "text": "Date"
         }
        },
        "yaxis": {
         "anchor": "x",
         "domain": [
          0,
          1
         ],
         "title": {
          "text": "Items Sold"
         }
        }
       }
      }
     },
     "metadata": {},
     "output_type": "display_data"
    }
   ],
   "source": [
    "fig = px.line(all_sales[all_sales['item_id'] == 20949], x='week', y='average_weekly_sales', color='year',title='Items Purchased per Week')\n",
    "fig.update_layout(xaxis_title='Date', yaxis_title='Items Sold')\n",
    "fig.show()"
   ]
  },
  {
   "cell_type": "markdown",
   "metadata": {},
   "source": [
    "## Moving average applied to df's to reduce noise & aid visualization"
   ]
  },
  {
   "cell_type": "code",
   "execution_count": 86,
   "metadata": {},
   "outputs": [],
   "source": [
    "# 4 for 1 month\n",
    "def apply_moving_average(df, window=4):\n",
    "    df['moving_avg'] = df.groupby('item_id')['average_weekly_sales'].transform(lambda x: x.rolling(window=window, min_periods=1).mean())\n",
    "    return df\n",
    "\n",
    "for year in weekly_sales_dict:\n",
    "    weekly_sales_dict[year] = apply_moving_average(weekly_sales_dict[year])\n",
    "\n",
    "all_sales = pd.concat(weekly_sales_dict.values(), ignore_index=True)\n",
    "all_sales['year'] = all_sales['date'].dt.year\n",
    "\n",
    "# Filter for the specific item_id\n",
    "item_id = 20949\n",
    "filtered_sales = all_sales[all_sales['item_id'] == item_id]"
   ]
  },
  {
   "cell_type": "code",
   "execution_count": 87,
   "metadata": {},
   "outputs": [
    {
     "data": {
      "application/vnd.plotly.v1+json": {
       "config": {
        "plotlyServerURL": "https://plot.ly"
       },
       "data": [
        {
         "hovertemplate": "Year=2013<br>week=%{x}<br>Moving Average=%{y}<extra></extra>",
         "legendgroup": "2013",
         "line": {
          "color": "#636efa",
          "dash": "solid"
         },
         "marker": {
          "symbol": "circle"
         },
         "mode": "lines",
         "name": "2013",
         "orientation": "v",
         "showlegend": true,
         "type": "scatter",
         "x": [
          17,
          18,
          19,
          20,
          21,
          22,
          23,
          24,
          25,
          26,
          27,
          28,
          29,
          30,
          31,
          32,
          33,
          34,
          35,
          36,
          37,
          38,
          39,
          40,
          41,
          42,
          43,
          44,
          45,
          46,
          47,
          48,
          49,
          50,
          51,
          52
         ],
         "xaxis": "x",
         "y": [
          10.133333333333333,
          17.106666666666666,
          18.34888888888889,
          19.57049019607843,
          24.00243464052288,
          27.041958450046685,
          33.428863211951445,
          39.71887689184201,
          43.52104097452934,
          45.106866002214836,
          43.30708245243129,
          41.11895952884325,
          40.002680459075805,
          38.86895952884325,
          38.416528239202655,
          37.463131026659106,
          36.98879750425411,
          37.91169340680118,
          39.97110917537747,
          43.6804587688734,
          44.41826364692218,
          46.37123983739838,
          44.75949848742673,
          42.15097135564379,
          42.27122093023256,
          40.20348837209302,
          40.29651162790697,
          43.360465116279066,
          46.30813953488372,
          46.145348837209305,
          47.162790697674424,
          44.412790697674424,
          42.19767441860465,
          44.02325581395348,
          47.02906976744187,
          59.61152219873151
         ],
         "yaxis": "y"
        },
        {
         "hovertemplate": "Year=2014<br>week=%{x}<br>Moving Average=%{y}<extra></extra>",
         "legendgroup": "2014",
         "line": {
          "color": "#EF553B",
          "dash": "solid"
         },
         "marker": {
          "symbol": "circle"
         },
         "mode": "lines",
         "name": "2014",
         "orientation": "v",
         "showlegend": true,
         "type": "scatter",
         "x": [
          53,
          1,
          2,
          3,
          4,
          5,
          6,
          7,
          8,
          9,
          10,
          11,
          12,
          13,
          14,
          15,
          16,
          17,
          18,
          19,
          20,
          21,
          22,
          23,
          24,
          25,
          26,
          27,
          28,
          29,
          30,
          31,
          32,
          33,
          34,
          35,
          36,
          37,
          38,
          39,
          40,
          41,
          42,
          43,
          44,
          45,
          46,
          47,
          48,
          49,
          50,
          51,
          52
         ],
         "xaxis": "x",
         "y": [
          59.41794397463002,
          44.74418604651163,
          43.110729386892174,
          39.19009866102889,
          37.514667019027485,
          34.985597251585624,
          33.54651162790698,
          35.0843023255814,
          38.31686046511628,
          37.94965644820296,
          38.86386833450787,
          40.627757223396756,
          38.55088383838384,
          38.56666666666667,
          36.022222222222226,
          33.477777777777774,
          32.12222222222222,
          30.686231884057968,
          30.41340579710145,
          28.384178743961353,
          26.097826086956523,
          26.532608695652176,
          28.532608695652172,
          28.417391304347827,
          31.264855072463767,
          32.42859235275979,
          34.336201048411965,
          34.87556275053962,
          34.514569842738204,
          32.9613783533765,
          28.950508788159112,
          28.935105419364785,
          27.45338999383287,
          27.964028291705212,
          28.885859929078016,
          29.96919326241135,
          31.23481826241135,
          33.07559069534382,
          32.9254981884058,
          33.52246184088807,
          34.015148011100834,
          33.40841813135985,
          33.259640957446805,
          32.188718971631204,
          31.098293439716315,
          32.16744237588652,
          34.63120567375886,
          36.87765957446808,
          37.87349676225717,
          36.53539835800185,
          35.89976006012951,
          41.10188771970398,
          50.93884424144311
         ],
         "yaxis": "y"
        },
        {
         "hovertemplate": "Year=2015<br>week=%{x}<br>Moving Average=%{y}<extra></extra>",
         "legendgroup": "2015",
         "line": {
          "color": "#00cc96",
          "dash": "solid"
         },
         "marker": {
          "symbol": "circle"
         },
         "mode": "lines",
         "name": "2015",
         "orientation": "v",
         "showlegend": true,
         "type": "scatter",
         "x": [
          53,
          1,
          2,
          3,
          4,
          5,
          6,
          7,
          8,
          9,
          10,
          11,
          12,
          13,
          14,
          15,
          16,
          17,
          18,
          19,
          20,
          21,
          22,
          23,
          24,
          25,
          26,
          27,
          28,
          29,
          30,
          31,
          32,
          33,
          34,
          35,
          36,
          37,
          38,
          39,
          40,
          41,
          42,
          43,
          44
         ],
         "xaxis": "x",
         "y": [
          57.46488590810978,
          37.11363636363637,
          42.44053911205074,
          47.322678248613535,
          40.73619473297178,
          36.382785642062686,
          29.467240966420096,
          20.340238678090575,
          21.5891081871345,
          20.726608187134502,
          19.42609884927372,
          17.864695340501793,
          14.273425499231951,
          14.255568356374807,
          14.654761904761905,
          16.287644787644787,
          23.95342664092664,
          26.02062588904694,
          27.760490753911803,
          27.189011379800853,
          20.840193812233284,
          22.313878022759603,
          21.583628542510123,
          22.18889170040486,
          23.705855986119147,
          21.770329670329673,
          22.543609022556392,
          22.638203617150985,
          21.705120910384068,
          21.241018346281503,
          20.192097968413755,
          19.242240215924426,
          19.101770799139217,
          18.855062552430972,
          20.690532637901057,
          21.84066759066759,
          22.847424347424347,
          23.408235158235158,
          21.889466389466392,
          21.504851004851005,
          20.868826822774192,
          21.03774574169311,
          24.82259638180691,
          25.020448079658607,
          23.846527701790862
         ],
         "yaxis": "y"
        }
       ],
       "layout": {
        "legend": {
         "title": {
          "text": "Year"
         },
         "tracegroupgap": 0
        },
        "template": {
         "data": {
          "bar": [
           {
            "error_x": {
             "color": "#2a3f5f"
            },
            "error_y": {
             "color": "#2a3f5f"
            },
            "marker": {
             "line": {
              "color": "#E5ECF6",
              "width": 0.5
             },
             "pattern": {
              "fillmode": "overlay",
              "size": 10,
              "solidity": 0.2
             }
            },
            "type": "bar"
           }
          ],
          "barpolar": [
           {
            "marker": {
             "line": {
              "color": "#E5ECF6",
              "width": 0.5
             },
             "pattern": {
              "fillmode": "overlay",
              "size": 10,
              "solidity": 0.2
             }
            },
            "type": "barpolar"
           }
          ],
          "carpet": [
           {
            "aaxis": {
             "endlinecolor": "#2a3f5f",
             "gridcolor": "white",
             "linecolor": "white",
             "minorgridcolor": "white",
             "startlinecolor": "#2a3f5f"
            },
            "baxis": {
             "endlinecolor": "#2a3f5f",
             "gridcolor": "white",
             "linecolor": "white",
             "minorgridcolor": "white",
             "startlinecolor": "#2a3f5f"
            },
            "type": "carpet"
           }
          ],
          "choropleth": [
           {
            "colorbar": {
             "outlinewidth": 0,
             "ticks": ""
            },
            "type": "choropleth"
           }
          ],
          "contour": [
           {
            "colorbar": {
             "outlinewidth": 0,
             "ticks": ""
            },
            "colorscale": [
             [
              0,
              "#0d0887"
             ],
             [
              0.1111111111111111,
              "#46039f"
             ],
             [
              0.2222222222222222,
              "#7201a8"
             ],
             [
              0.3333333333333333,
              "#9c179e"
             ],
             [
              0.4444444444444444,
              "#bd3786"
             ],
             [
              0.5555555555555556,
              "#d8576b"
             ],
             [
              0.6666666666666666,
              "#ed7953"
             ],
             [
              0.7777777777777778,
              "#fb9f3a"
             ],
             [
              0.8888888888888888,
              "#fdca26"
             ],
             [
              1,
              "#f0f921"
             ]
            ],
            "type": "contour"
           }
          ],
          "contourcarpet": [
           {
            "colorbar": {
             "outlinewidth": 0,
             "ticks": ""
            },
            "type": "contourcarpet"
           }
          ],
          "heatmap": [
           {
            "colorbar": {
             "outlinewidth": 0,
             "ticks": ""
            },
            "colorscale": [
             [
              0,
              "#0d0887"
             ],
             [
              0.1111111111111111,
              "#46039f"
             ],
             [
              0.2222222222222222,
              "#7201a8"
             ],
             [
              0.3333333333333333,
              "#9c179e"
             ],
             [
              0.4444444444444444,
              "#bd3786"
             ],
             [
              0.5555555555555556,
              "#d8576b"
             ],
             [
              0.6666666666666666,
              "#ed7953"
             ],
             [
              0.7777777777777778,
              "#fb9f3a"
             ],
             [
              0.8888888888888888,
              "#fdca26"
             ],
             [
              1,
              "#f0f921"
             ]
            ],
            "type": "heatmap"
           }
          ],
          "heatmapgl": [
           {
            "colorbar": {
             "outlinewidth": 0,
             "ticks": ""
            },
            "colorscale": [
             [
              0,
              "#0d0887"
             ],
             [
              0.1111111111111111,
              "#46039f"
             ],
             [
              0.2222222222222222,
              "#7201a8"
             ],
             [
              0.3333333333333333,
              "#9c179e"
             ],
             [
              0.4444444444444444,
              "#bd3786"
             ],
             [
              0.5555555555555556,
              "#d8576b"
             ],
             [
              0.6666666666666666,
              "#ed7953"
             ],
             [
              0.7777777777777778,
              "#fb9f3a"
             ],
             [
              0.8888888888888888,
              "#fdca26"
             ],
             [
              1,
              "#f0f921"
             ]
            ],
            "type": "heatmapgl"
           }
          ],
          "histogram": [
           {
            "marker": {
             "pattern": {
              "fillmode": "overlay",
              "size": 10,
              "solidity": 0.2
             }
            },
            "type": "histogram"
           }
          ],
          "histogram2d": [
           {
            "colorbar": {
             "outlinewidth": 0,
             "ticks": ""
            },
            "colorscale": [
             [
              0,
              "#0d0887"
             ],
             [
              0.1111111111111111,
              "#46039f"
             ],
             [
              0.2222222222222222,
              "#7201a8"
             ],
             [
              0.3333333333333333,
              "#9c179e"
             ],
             [
              0.4444444444444444,
              "#bd3786"
             ],
             [
              0.5555555555555556,
              "#d8576b"
             ],
             [
              0.6666666666666666,
              "#ed7953"
             ],
             [
              0.7777777777777778,
              "#fb9f3a"
             ],
             [
              0.8888888888888888,
              "#fdca26"
             ],
             [
              1,
              "#f0f921"
             ]
            ],
            "type": "histogram2d"
           }
          ],
          "histogram2dcontour": [
           {
            "colorbar": {
             "outlinewidth": 0,
             "ticks": ""
            },
            "colorscale": [
             [
              0,
              "#0d0887"
             ],
             [
              0.1111111111111111,
              "#46039f"
             ],
             [
              0.2222222222222222,
              "#7201a8"
             ],
             [
              0.3333333333333333,
              "#9c179e"
             ],
             [
              0.4444444444444444,
              "#bd3786"
             ],
             [
              0.5555555555555556,
              "#d8576b"
             ],
             [
              0.6666666666666666,
              "#ed7953"
             ],
             [
              0.7777777777777778,
              "#fb9f3a"
             ],
             [
              0.8888888888888888,
              "#fdca26"
             ],
             [
              1,
              "#f0f921"
             ]
            ],
            "type": "histogram2dcontour"
           }
          ],
          "mesh3d": [
           {
            "colorbar": {
             "outlinewidth": 0,
             "ticks": ""
            },
            "type": "mesh3d"
           }
          ],
          "parcoords": [
           {
            "line": {
             "colorbar": {
              "outlinewidth": 0,
              "ticks": ""
             }
            },
            "type": "parcoords"
           }
          ],
          "pie": [
           {
            "automargin": true,
            "type": "pie"
           }
          ],
          "scatter": [
           {
            "fillpattern": {
             "fillmode": "overlay",
             "size": 10,
             "solidity": 0.2
            },
            "type": "scatter"
           }
          ],
          "scatter3d": [
           {
            "line": {
             "colorbar": {
              "outlinewidth": 0,
              "ticks": ""
             }
            },
            "marker": {
             "colorbar": {
              "outlinewidth": 0,
              "ticks": ""
             }
            },
            "type": "scatter3d"
           }
          ],
          "scattercarpet": [
           {
            "marker": {
             "colorbar": {
              "outlinewidth": 0,
              "ticks": ""
             }
            },
            "type": "scattercarpet"
           }
          ],
          "scattergeo": [
           {
            "marker": {
             "colorbar": {
              "outlinewidth": 0,
              "ticks": ""
             }
            },
            "type": "scattergeo"
           }
          ],
          "scattergl": [
           {
            "marker": {
             "colorbar": {
              "outlinewidth": 0,
              "ticks": ""
             }
            },
            "type": "scattergl"
           }
          ],
          "scattermapbox": [
           {
            "marker": {
             "colorbar": {
              "outlinewidth": 0,
              "ticks": ""
             }
            },
            "type": "scattermapbox"
           }
          ],
          "scatterpolar": [
           {
            "marker": {
             "colorbar": {
              "outlinewidth": 0,
              "ticks": ""
             }
            },
            "type": "scatterpolar"
           }
          ],
          "scatterpolargl": [
           {
            "marker": {
             "colorbar": {
              "outlinewidth": 0,
              "ticks": ""
             }
            },
            "type": "scatterpolargl"
           }
          ],
          "scatterternary": [
           {
            "marker": {
             "colorbar": {
              "outlinewidth": 0,
              "ticks": ""
             }
            },
            "type": "scatterternary"
           }
          ],
          "surface": [
           {
            "colorbar": {
             "outlinewidth": 0,
             "ticks": ""
            },
            "colorscale": [
             [
              0,
              "#0d0887"
             ],
             [
              0.1111111111111111,
              "#46039f"
             ],
             [
              0.2222222222222222,
              "#7201a8"
             ],
             [
              0.3333333333333333,
              "#9c179e"
             ],
             [
              0.4444444444444444,
              "#bd3786"
             ],
             [
              0.5555555555555556,
              "#d8576b"
             ],
             [
              0.6666666666666666,
              "#ed7953"
             ],
             [
              0.7777777777777778,
              "#fb9f3a"
             ],
             [
              0.8888888888888888,
              "#fdca26"
             ],
             [
              1,
              "#f0f921"
             ]
            ],
            "type": "surface"
           }
          ],
          "table": [
           {
            "cells": {
             "fill": {
              "color": "#EBF0F8"
             },
             "line": {
              "color": "white"
             }
            },
            "header": {
             "fill": {
              "color": "#C8D4E3"
             },
             "line": {
              "color": "white"
             }
            },
            "type": "table"
           }
          ]
         },
         "layout": {
          "annotationdefaults": {
           "arrowcolor": "#2a3f5f",
           "arrowhead": 0,
           "arrowwidth": 1
          },
          "autotypenumbers": "strict",
          "coloraxis": {
           "colorbar": {
            "outlinewidth": 0,
            "ticks": ""
           }
          },
          "colorscale": {
           "diverging": [
            [
             0,
             "#8e0152"
            ],
            [
             0.1,
             "#c51b7d"
            ],
            [
             0.2,
             "#de77ae"
            ],
            [
             0.3,
             "#f1b6da"
            ],
            [
             0.4,
             "#fde0ef"
            ],
            [
             0.5,
             "#f7f7f7"
            ],
            [
             0.6,
             "#e6f5d0"
            ],
            [
             0.7,
             "#b8e186"
            ],
            [
             0.8,
             "#7fbc41"
            ],
            [
             0.9,
             "#4d9221"
            ],
            [
             1,
             "#276419"
            ]
           ],
           "sequential": [
            [
             0,
             "#0d0887"
            ],
            [
             0.1111111111111111,
             "#46039f"
            ],
            [
             0.2222222222222222,
             "#7201a8"
            ],
            [
             0.3333333333333333,
             "#9c179e"
            ],
            [
             0.4444444444444444,
             "#bd3786"
            ],
            [
             0.5555555555555556,
             "#d8576b"
            ],
            [
             0.6666666666666666,
             "#ed7953"
            ],
            [
             0.7777777777777778,
             "#fb9f3a"
            ],
            [
             0.8888888888888888,
             "#fdca26"
            ],
            [
             1,
             "#f0f921"
            ]
           ],
           "sequentialminus": [
            [
             0,
             "#0d0887"
            ],
            [
             0.1111111111111111,
             "#46039f"
            ],
            [
             0.2222222222222222,
             "#7201a8"
            ],
            [
             0.3333333333333333,
             "#9c179e"
            ],
            [
             0.4444444444444444,
             "#bd3786"
            ],
            [
             0.5555555555555556,
             "#d8576b"
            ],
            [
             0.6666666666666666,
             "#ed7953"
            ],
            [
             0.7777777777777778,
             "#fb9f3a"
            ],
            [
             0.8888888888888888,
             "#fdca26"
            ],
            [
             1,
             "#f0f921"
            ]
           ]
          },
          "colorway": [
           "#636efa",
           "#EF553B",
           "#00cc96",
           "#ab63fa",
           "#FFA15A",
           "#19d3f3",
           "#FF6692",
           "#B6E880",
           "#FF97FF",
           "#FECB52"
          ],
          "font": {
           "color": "#2a3f5f"
          },
          "geo": {
           "bgcolor": "white",
           "lakecolor": "white",
           "landcolor": "#E5ECF6",
           "showlakes": true,
           "showland": true,
           "subunitcolor": "white"
          },
          "hoverlabel": {
           "align": "left"
          },
          "hovermode": "closest",
          "mapbox": {
           "style": "light"
          },
          "paper_bgcolor": "white",
          "plot_bgcolor": "#E5ECF6",
          "polar": {
           "angularaxis": {
            "gridcolor": "white",
            "linecolor": "white",
            "ticks": ""
           },
           "bgcolor": "#E5ECF6",
           "radialaxis": {
            "gridcolor": "white",
            "linecolor": "white",
            "ticks": ""
           }
          },
          "scene": {
           "xaxis": {
            "backgroundcolor": "#E5ECF6",
            "gridcolor": "white",
            "gridwidth": 2,
            "linecolor": "white",
            "showbackground": true,
            "ticks": "",
            "zerolinecolor": "white"
           },
           "yaxis": {
            "backgroundcolor": "#E5ECF6",
            "gridcolor": "white",
            "gridwidth": 2,
            "linecolor": "white",
            "showbackground": true,
            "ticks": "",
            "zerolinecolor": "white"
           },
           "zaxis": {
            "backgroundcolor": "#E5ECF6",
            "gridcolor": "white",
            "gridwidth": 2,
            "linecolor": "white",
            "showbackground": true,
            "ticks": "",
            "zerolinecolor": "white"
           }
          },
          "shapedefaults": {
           "line": {
            "color": "#2a3f5f"
           }
          },
          "ternary": {
           "aaxis": {
            "gridcolor": "white",
            "linecolor": "white",
            "ticks": ""
           },
           "baxis": {
            "gridcolor": "white",
            "linecolor": "white",
            "ticks": ""
           },
           "bgcolor": "#E5ECF6",
           "caxis": {
            "gridcolor": "white",
            "linecolor": "white",
            "ticks": ""
           }
          },
          "title": {
           "x": 0.05
          },
          "xaxis": {
           "automargin": true,
           "gridcolor": "white",
           "linecolor": "white",
           "ticks": "",
           "title": {
            "standoff": 15
           },
           "zerolinecolor": "white",
           "zerolinewidth": 2
          },
          "yaxis": {
           "automargin": true,
           "gridcolor": "white",
           "linecolor": "white",
           "ticks": "",
           "title": {
            "standoff": 15
           },
           "zerolinecolor": "white",
           "zerolinewidth": 2
          }
         }
        },
        "title": {
         "text": "Moving Average of Items Purchased per Week for Item 20949"
        },
        "xaxis": {
         "anchor": "y",
         "domain": [
          0,
          1
         ],
         "title": {
          "text": "Week"
         }
        },
        "yaxis": {
         "anchor": "x",
         "domain": [
          0,
          1
         ],
         "title": {
          "text": "Moving Average of Items Sold"
         }
        }
       }
      }
     },
     "metadata": {},
     "output_type": "display_data"
    }
   ],
   "source": [
    "# Plot with moving average lines for each year\n",
    "fig = px.line(\n",
    "    filtered_sales,\n",
    "    x='week',\n",
    "    y='moving_avg',\n",
    "    color='year',  # Use 'year' to differentiate lines by year\n",
    "    title=f'Moving Average of Items Purchased per Week for Item {item_id}',\n",
    "    labels={'year': 'Year', 'moving_avg': 'Moving Average'},\n",
    ")\n",
    "\n",
    "fig.update_layout(xaxis_title='Week', yaxis_title='Moving Average of Items Sold')\n",
    "fig.show()"
   ]
  },
  {
   "cell_type": "markdown",
   "metadata": {},
   "source": [
    "\n",
    "## Possible pattern observed in 2013 and 2014\n",
    "\n",
    "## lack of similarity in 2015 could be due to lack of data\n",
    "\n",
    "next steps:\n",
    "\n",
    "plot standard deviation for item 20949 between shops - how much variability is there? how to group shops?\n",
    "\n",
    "test on dataset from week 22 = 06-02"
   ]
  },
  {
   "cell_type": "code",
   "execution_count": 149,
   "metadata": {},
   "outputs": [
    {
     "data": {
      "text/html": [
       "<div>\n",
       "<style scoped>\n",
       "    .dataframe tbody tr th:only-of-type {\n",
       "        vertical-align: middle;\n",
       "    }\n",
       "\n",
       "    .dataframe tbody tr th {\n",
       "        vertical-align: top;\n",
       "    }\n",
       "\n",
       "    .dataframe thead th {\n",
       "        text-align: right;\n",
       "    }\n",
       "</style>\n",
       "<table border=\"1\" class=\"dataframe\">\n",
       "  <thead>\n",
       "    <tr style=\"text-align: right;\">\n",
       "      <th></th>\n",
       "      <th>date</th>\n",
       "      <th>item_id</th>\n",
       "      <th>total_sales</th>\n",
       "      <th>shop_count</th>\n",
       "      <th>average_weekly_sales</th>\n",
       "      <th>week</th>\n",
       "      <th>moving_avg</th>\n",
       "    </tr>\n",
       "  </thead>\n",
       "  <tbody>\n",
       "    <tr>\n",
       "      <th>4258</th>\n",
       "      <td>2014-01-05</td>\n",
       "      <td>20949</td>\n",
       "      <td>1924.0</td>\n",
       "      <td>43</td>\n",
       "      <td>44.744186</td>\n",
       "      <td>1</td>\n",
       "      <td>44.744186</td>\n",
       "    </tr>\n",
       "    <tr>\n",
       "      <th>9145</th>\n",
       "      <td>2014-01-12</td>\n",
       "      <td>20949</td>\n",
       "      <td>1825.0</td>\n",
       "      <td>44</td>\n",
       "      <td>41.477273</td>\n",
       "      <td>2</td>\n",
       "      <td>43.110729</td>\n",
       "    </tr>\n",
       "    <tr>\n",
       "      <th>13563</th>\n",
       "      <td>2014-01-19</td>\n",
       "      <td>20949</td>\n",
       "      <td>1348.0</td>\n",
       "      <td>43</td>\n",
       "      <td>31.348837</td>\n",
       "      <td>3</td>\n",
       "      <td>39.190099</td>\n",
       "    </tr>\n",
       "    <tr>\n",
       "      <th>17945</th>\n",
       "      <td>2014-01-26</td>\n",
       "      <td>20949</td>\n",
       "      <td>1397.0</td>\n",
       "      <td>43</td>\n",
       "      <td>32.488372</td>\n",
       "      <td>4</td>\n",
       "      <td>37.514667</td>\n",
       "    </tr>\n",
       "    <tr>\n",
       "      <th>22285</th>\n",
       "      <td>2014-02-02</td>\n",
       "      <td>20949</td>\n",
       "      <td>1489.0</td>\n",
       "      <td>43</td>\n",
       "      <td>34.627907</td>\n",
       "      <td>5</td>\n",
       "      <td>34.985597</td>\n",
       "    </tr>\n",
       "    <tr>\n",
       "      <th>26581</th>\n",
       "      <td>2014-02-09</td>\n",
       "      <td>20949</td>\n",
       "      <td>1536.0</td>\n",
       "      <td>43</td>\n",
       "      <td>35.720930</td>\n",
       "      <td>6</td>\n",
       "      <td>33.546512</td>\n",
       "    </tr>\n",
       "    <tr>\n",
       "      <th>31060</th>\n",
       "      <td>2014-02-16</td>\n",
       "      <td>20949</td>\n",
       "      <td>1575.0</td>\n",
       "      <td>42</td>\n",
       "      <td>37.500000</td>\n",
       "      <td>7</td>\n",
       "      <td>35.084302</td>\n",
       "    </tr>\n",
       "    <tr>\n",
       "      <th>35713</th>\n",
       "      <td>2014-02-23</td>\n",
       "      <td>20949</td>\n",
       "      <td>1953.0</td>\n",
       "      <td>43</td>\n",
       "      <td>45.418605</td>\n",
       "      <td>8</td>\n",
       "      <td>38.316860</td>\n",
       "    </tr>\n",
       "    <tr>\n",
       "      <th>39991</th>\n",
       "      <td>2014-03-02</td>\n",
       "      <td>20949</td>\n",
       "      <td>1459.0</td>\n",
       "      <td>44</td>\n",
       "      <td>33.159091</td>\n",
       "      <td>9</td>\n",
       "      <td>37.949656</td>\n",
       "    </tr>\n",
       "    <tr>\n",
       "      <th>44490</th>\n",
       "      <td>2014-03-09</td>\n",
       "      <td>20949</td>\n",
       "      <td>1772.0</td>\n",
       "      <td>45</td>\n",
       "      <td>39.377778</td>\n",
       "      <td>10</td>\n",
       "      <td>38.863868</td>\n",
       "    </tr>\n",
       "    <tr>\n",
       "      <th>48675</th>\n",
       "      <td>2014-03-16</td>\n",
       "      <td>20949</td>\n",
       "      <td>2005.0</td>\n",
       "      <td>45</td>\n",
       "      <td>44.555556</td>\n",
       "      <td>11</td>\n",
       "      <td>40.627757</td>\n",
       "    </tr>\n",
       "    <tr>\n",
       "      <th>52914</th>\n",
       "      <td>2014-03-23</td>\n",
       "      <td>20949</td>\n",
       "      <td>1670.0</td>\n",
       "      <td>45</td>\n",
       "      <td>37.111111</td>\n",
       "      <td>12</td>\n",
       "      <td>38.550884</td>\n",
       "    </tr>\n",
       "    <tr>\n",
       "      <th>57095</th>\n",
       "      <td>2014-03-30</td>\n",
       "      <td>20949</td>\n",
       "      <td>1495.0</td>\n",
       "      <td>45</td>\n",
       "      <td>33.222222</td>\n",
       "      <td>13</td>\n",
       "      <td>38.566667</td>\n",
       "    </tr>\n",
       "    <tr>\n",
       "      <th>61218</th>\n",
       "      <td>2014-04-06</td>\n",
       "      <td>20949</td>\n",
       "      <td>1314.0</td>\n",
       "      <td>45</td>\n",
       "      <td>29.200000</td>\n",
       "      <td>14</td>\n",
       "      <td>36.022222</td>\n",
       "    </tr>\n",
       "    <tr>\n",
       "      <th>65279</th>\n",
       "      <td>2014-04-13</td>\n",
       "      <td>20949</td>\n",
       "      <td>1547.0</td>\n",
       "      <td>45</td>\n",
       "      <td>34.377778</td>\n",
       "      <td>15</td>\n",
       "      <td>33.477778</td>\n",
       "    </tr>\n",
       "    <tr>\n",
       "      <th>69311</th>\n",
       "      <td>2014-04-20</td>\n",
       "      <td>20949</td>\n",
       "      <td>1426.0</td>\n",
       "      <td>45</td>\n",
       "      <td>31.688889</td>\n",
       "      <td>16</td>\n",
       "      <td>32.122222</td>\n",
       "    </tr>\n",
       "    <tr>\n",
       "      <th>73388</th>\n",
       "      <td>2014-04-27</td>\n",
       "      <td>20949</td>\n",
       "      <td>1264.0</td>\n",
       "      <td>46</td>\n",
       "      <td>27.478261</td>\n",
       "      <td>17</td>\n",
       "      <td>30.686232</td>\n",
       "    </tr>\n",
       "    <tr>\n",
       "      <th>77429</th>\n",
       "      <td>2014-05-04</td>\n",
       "      <td>20949</td>\n",
       "      <td>1293.0</td>\n",
       "      <td>46</td>\n",
       "      <td>28.108696</td>\n",
       "      <td>18</td>\n",
       "      <td>30.413406</td>\n",
       "    </tr>\n",
       "    <tr>\n",
       "      <th>81394</th>\n",
       "      <td>2014-05-11</td>\n",
       "      <td>20949</td>\n",
       "      <td>1208.0</td>\n",
       "      <td>46</td>\n",
       "      <td>26.260870</td>\n",
       "      <td>19</td>\n",
       "      <td>28.384179</td>\n",
       "    </tr>\n",
       "    <tr>\n",
       "      <th>85286</th>\n",
       "      <td>2014-05-18</td>\n",
       "      <td>20949</td>\n",
       "      <td>1037.0</td>\n",
       "      <td>46</td>\n",
       "      <td>22.543478</td>\n",
       "      <td>20</td>\n",
       "      <td>26.097826</td>\n",
       "    </tr>\n",
       "    <tr>\n",
       "      <th>89124</th>\n",
       "      <td>2014-05-25</td>\n",
       "      <td>20949</td>\n",
       "      <td>1344.0</td>\n",
       "      <td>46</td>\n",
       "      <td>29.217391</td>\n",
       "      <td>21</td>\n",
       "      <td>26.532609</td>\n",
       "    </tr>\n",
       "    <tr>\n",
       "      <th>93324</th>\n",
       "      <td>2014-06-01</td>\n",
       "      <td>20949</td>\n",
       "      <td>1661.0</td>\n",
       "      <td>46</td>\n",
       "      <td>36.108696</td>\n",
       "      <td>22</td>\n",
       "      <td>28.532609</td>\n",
       "    </tr>\n",
       "    <tr>\n",
       "      <th>97327</th>\n",
       "      <td>2014-06-08</td>\n",
       "      <td>20949</td>\n",
       "      <td>1161.0</td>\n",
       "      <td>45</td>\n",
       "      <td>25.800000</td>\n",
       "      <td>23</td>\n",
       "      <td>28.417391</td>\n",
       "    </tr>\n",
       "    <tr>\n",
       "      <th>101536</th>\n",
       "      <td>2014-06-15</td>\n",
       "      <td>20949</td>\n",
       "      <td>1527.0</td>\n",
       "      <td>45</td>\n",
       "      <td>33.933333</td>\n",
       "      <td>24</td>\n",
       "      <td>31.264855</td>\n",
       "    </tr>\n",
       "    <tr>\n",
       "      <th>105590</th>\n",
       "      <td>2014-06-22</td>\n",
       "      <td>20949</td>\n",
       "      <td>1592.0</td>\n",
       "      <td>47</td>\n",
       "      <td>33.872340</td>\n",
       "      <td>25</td>\n",
       "      <td>32.428592</td>\n",
       "    </tr>\n",
       "    <tr>\n",
       "      <th>109763</th>\n",
       "      <td>2014-06-29</td>\n",
       "      <td>20949</td>\n",
       "      <td>2012.0</td>\n",
       "      <td>46</td>\n",
       "      <td>43.739130</td>\n",
       "      <td>26</td>\n",
       "      <td>34.336201</td>\n",
       "    </tr>\n",
       "    <tr>\n",
       "      <th>113796</th>\n",
       "      <td>2014-07-06</td>\n",
       "      <td>20949</td>\n",
       "      <td>1314.0</td>\n",
       "      <td>47</td>\n",
       "      <td>27.957447</td>\n",
       "      <td>27</td>\n",
       "      <td>34.875563</td>\n",
       "    </tr>\n",
       "    <tr>\n",
       "      <th>117927</th>\n",
       "      <td>2014-07-13</td>\n",
       "      <td>20949</td>\n",
       "      <td>1527.0</td>\n",
       "      <td>47</td>\n",
       "      <td>32.489362</td>\n",
       "      <td>28</td>\n",
       "      <td>34.514570</td>\n",
       "    </tr>\n",
       "    <tr>\n",
       "      <th>121953</th>\n",
       "      <td>2014-07-20</td>\n",
       "      <td>20949</td>\n",
       "      <td>1300.0</td>\n",
       "      <td>47</td>\n",
       "      <td>27.659574</td>\n",
       "      <td>29</td>\n",
       "      <td>32.961378</td>\n",
       "    </tr>\n",
       "    <tr>\n",
       "      <th>126015</th>\n",
       "      <td>2014-07-27</td>\n",
       "      <td>20949</td>\n",
       "      <td>1274.0</td>\n",
       "      <td>46</td>\n",
       "      <td>27.695652</td>\n",
       "      <td>30</td>\n",
       "      <td>28.950509</td>\n",
       "    </tr>\n",
       "    <tr>\n",
       "      <th>130024</th>\n",
       "      <td>2014-08-03</td>\n",
       "      <td>20949</td>\n",
       "      <td>1339.0</td>\n",
       "      <td>48</td>\n",
       "      <td>27.895833</td>\n",
       "      <td>31</td>\n",
       "      <td>28.935105</td>\n",
       "    </tr>\n",
       "    <tr>\n",
       "      <th>133895</th>\n",
       "      <td>2014-08-10</td>\n",
       "      <td>20949</td>\n",
       "      <td>1275.0</td>\n",
       "      <td>48</td>\n",
       "      <td>26.562500</td>\n",
       "      <td>32</td>\n",
       "      <td>27.453390</td>\n",
       "    </tr>\n",
       "    <tr>\n",
       "      <th>137908</th>\n",
       "      <td>2014-08-17</td>\n",
       "      <td>20949</td>\n",
       "      <td>1396.0</td>\n",
       "      <td>47</td>\n",
       "      <td>29.702128</td>\n",
       "      <td>33</td>\n",
       "      <td>27.964028</td>\n",
       "    </tr>\n",
       "    <tr>\n",
       "      <th>141819</th>\n",
       "      <td>2014-08-24</td>\n",
       "      <td>20949</td>\n",
       "      <td>1475.0</td>\n",
       "      <td>47</td>\n",
       "      <td>31.382979</td>\n",
       "      <td>34</td>\n",
       "      <td>28.885860</td>\n",
       "    </tr>\n",
       "    <tr>\n",
       "      <th>145786</th>\n",
       "      <td>2014-08-31</td>\n",
       "      <td>20949</td>\n",
       "      <td>1547.0</td>\n",
       "      <td>48</td>\n",
       "      <td>32.229167</td>\n",
       "      <td>35</td>\n",
       "      <td>29.969193</td>\n",
       "    </tr>\n",
       "    <tr>\n",
       "      <th>149515</th>\n",
       "      <td>2014-09-07</td>\n",
       "      <td>20949</td>\n",
       "      <td>1518.0</td>\n",
       "      <td>48</td>\n",
       "      <td>31.625000</td>\n",
       "      <td>36</td>\n",
       "      <td>31.234818</td>\n",
       "    </tr>\n",
       "    <tr>\n",
       "      <th>153381</th>\n",
       "      <td>2014-09-14</td>\n",
       "      <td>20949</td>\n",
       "      <td>1705.0</td>\n",
       "      <td>46</td>\n",
       "      <td>37.065217</td>\n",
       "      <td>37</td>\n",
       "      <td>33.075591</td>\n",
       "    </tr>\n",
       "    <tr>\n",
       "      <th>156995</th>\n",
       "      <td>2014-09-21</td>\n",
       "      <td>20949</td>\n",
       "      <td>1416.0</td>\n",
       "      <td>46</td>\n",
       "      <td>30.782609</td>\n",
       "      <td>38</td>\n",
       "      <td>32.925498</td>\n",
       "    </tr>\n",
       "    <tr>\n",
       "      <th>160604</th>\n",
       "      <td>2014-09-28</td>\n",
       "      <td>20949</td>\n",
       "      <td>1627.0</td>\n",
       "      <td>47</td>\n",
       "      <td>34.617021</td>\n",
       "      <td>39</td>\n",
       "      <td>33.522462</td>\n",
       "    </tr>\n",
       "    <tr>\n",
       "      <th>164560</th>\n",
       "      <td>2014-10-05</td>\n",
       "      <td>20949</td>\n",
       "      <td>1579.0</td>\n",
       "      <td>47</td>\n",
       "      <td>33.595745</td>\n",
       "      <td>40</td>\n",
       "      <td>34.015148</td>\n",
       "    </tr>\n",
       "    <tr>\n",
       "      <th>168385</th>\n",
       "      <td>2014-10-12</td>\n",
       "      <td>20949</td>\n",
       "      <td>1628.0</td>\n",
       "      <td>47</td>\n",
       "      <td>34.638298</td>\n",
       "      <td>41</td>\n",
       "      <td>33.408418</td>\n",
       "    </tr>\n",
       "    <tr>\n",
       "      <th>172208</th>\n",
       "      <td>2014-10-19</td>\n",
       "      <td>20949</td>\n",
       "      <td>1449.0</td>\n",
       "      <td>48</td>\n",
       "      <td>30.187500</td>\n",
       "      <td>42</td>\n",
       "      <td>33.259641</td>\n",
       "    </tr>\n",
       "    <tr>\n",
       "      <th>175834</th>\n",
       "      <td>2014-10-26</td>\n",
       "      <td>20949</td>\n",
       "      <td>1456.0</td>\n",
       "      <td>48</td>\n",
       "      <td>30.333333</td>\n",
       "      <td>43</td>\n",
       "      <td>32.188719</td>\n",
       "    </tr>\n",
       "    <tr>\n",
       "      <th>179716</th>\n",
       "      <td>2014-11-02</td>\n",
       "      <td>20949</td>\n",
       "      <td>1374.0</td>\n",
       "      <td>47</td>\n",
       "      <td>29.234043</td>\n",
       "      <td>44</td>\n",
       "      <td>31.098293</td>\n",
       "    </tr>\n",
       "    <tr>\n",
       "      <th>183563</th>\n",
       "      <td>2014-11-09</td>\n",
       "      <td>20949</td>\n",
       "      <td>1829.0</td>\n",
       "      <td>47</td>\n",
       "      <td>38.914894</td>\n",
       "      <td>45</td>\n",
       "      <td>32.167442</td>\n",
       "    </tr>\n",
       "    <tr>\n",
       "      <th>187395</th>\n",
       "      <td>2014-11-16</td>\n",
       "      <td>20949</td>\n",
       "      <td>1882.0</td>\n",
       "      <td>47</td>\n",
       "      <td>40.042553</td>\n",
       "      <td>46</td>\n",
       "      <td>34.631206</td>\n",
       "    </tr>\n",
       "    <tr>\n",
       "      <th>191226</th>\n",
       "      <td>2014-11-23</td>\n",
       "      <td>20949</td>\n",
       "      <td>1848.0</td>\n",
       "      <td>47</td>\n",
       "      <td>39.319149</td>\n",
       "      <td>47</td>\n",
       "      <td>36.877660</td>\n",
       "    </tr>\n",
       "    <tr>\n",
       "      <th>195095</th>\n",
       "      <td>2014-11-30</td>\n",
       "      <td>20949</td>\n",
       "      <td>1528.0</td>\n",
       "      <td>46</td>\n",
       "      <td>33.217391</td>\n",
       "      <td>48</td>\n",
       "      <td>37.873497</td>\n",
       "    </tr>\n",
       "    <tr>\n",
       "      <th>198816</th>\n",
       "      <td>2014-12-07</td>\n",
       "      <td>20949</td>\n",
       "      <td>1611.0</td>\n",
       "      <td>48</td>\n",
       "      <td>33.562500</td>\n",
       "      <td>49</td>\n",
       "      <td>36.535398</td>\n",
       "    </tr>\n",
       "    <tr>\n",
       "      <th>202764</th>\n",
       "      <td>2014-12-14</td>\n",
       "      <td>20949</td>\n",
       "      <td>1725.0</td>\n",
       "      <td>46</td>\n",
       "      <td>37.500000</td>\n",
       "      <td>50</td>\n",
       "      <td>35.899760</td>\n",
       "    </tr>\n",
       "    <tr>\n",
       "      <th>206965</th>\n",
       "      <td>2014-12-21</td>\n",
       "      <td>20949</td>\n",
       "      <td>2826.0</td>\n",
       "      <td>47</td>\n",
       "      <td>60.127660</td>\n",
       "      <td>51</td>\n",
       "      <td>41.101888</td>\n",
       "    </tr>\n",
       "    <tr>\n",
       "      <th>211556</th>\n",
       "      <td>2014-12-28</td>\n",
       "      <td>20949</td>\n",
       "      <td>3338.0</td>\n",
       "      <td>46</td>\n",
       "      <td>72.565217</td>\n",
       "      <td>52</td>\n",
       "      <td>50.938844</td>\n",
       "    </tr>\n",
       "    <tr>\n",
       "      <th>215518</th>\n",
       "      <td>2015-01-04</td>\n",
       "      <td>20949</td>\n",
       "      <td>2685.0</td>\n",
       "      <td>45</td>\n",
       "      <td>59.666667</td>\n",
       "      <td>53</td>\n",
       "      <td>57.464886</td>\n",
       "    </tr>\n",
       "  </tbody>\n",
       "</table>\n",
       "</div>"
      ],
      "text/plain": [
       "             date  item_id  total_sales  shop_count  average_weekly_sales  \\\n",
       "4258   2014-01-05    20949       1924.0          43             44.744186   \n",
       "9145   2014-01-12    20949       1825.0          44             41.477273   \n",
       "13563  2014-01-19    20949       1348.0          43             31.348837   \n",
       "17945  2014-01-26    20949       1397.0          43             32.488372   \n",
       "22285  2014-02-02    20949       1489.0          43             34.627907   \n",
       "26581  2014-02-09    20949       1536.0          43             35.720930   \n",
       "31060  2014-02-16    20949       1575.0          42             37.500000   \n",
       "35713  2014-02-23    20949       1953.0          43             45.418605   \n",
       "39991  2014-03-02    20949       1459.0          44             33.159091   \n",
       "44490  2014-03-09    20949       1772.0          45             39.377778   \n",
       "48675  2014-03-16    20949       2005.0          45             44.555556   \n",
       "52914  2014-03-23    20949       1670.0          45             37.111111   \n",
       "57095  2014-03-30    20949       1495.0          45             33.222222   \n",
       "61218  2014-04-06    20949       1314.0          45             29.200000   \n",
       "65279  2014-04-13    20949       1547.0          45             34.377778   \n",
       "69311  2014-04-20    20949       1426.0          45             31.688889   \n",
       "73388  2014-04-27    20949       1264.0          46             27.478261   \n",
       "77429  2014-05-04    20949       1293.0          46             28.108696   \n",
       "81394  2014-05-11    20949       1208.0          46             26.260870   \n",
       "85286  2014-05-18    20949       1037.0          46             22.543478   \n",
       "89124  2014-05-25    20949       1344.0          46             29.217391   \n",
       "93324  2014-06-01    20949       1661.0          46             36.108696   \n",
       "97327  2014-06-08    20949       1161.0          45             25.800000   \n",
       "101536 2014-06-15    20949       1527.0          45             33.933333   \n",
       "105590 2014-06-22    20949       1592.0          47             33.872340   \n",
       "109763 2014-06-29    20949       2012.0          46             43.739130   \n",
       "113796 2014-07-06    20949       1314.0          47             27.957447   \n",
       "117927 2014-07-13    20949       1527.0          47             32.489362   \n",
       "121953 2014-07-20    20949       1300.0          47             27.659574   \n",
       "126015 2014-07-27    20949       1274.0          46             27.695652   \n",
       "130024 2014-08-03    20949       1339.0          48             27.895833   \n",
       "133895 2014-08-10    20949       1275.0          48             26.562500   \n",
       "137908 2014-08-17    20949       1396.0          47             29.702128   \n",
       "141819 2014-08-24    20949       1475.0          47             31.382979   \n",
       "145786 2014-08-31    20949       1547.0          48             32.229167   \n",
       "149515 2014-09-07    20949       1518.0          48             31.625000   \n",
       "153381 2014-09-14    20949       1705.0          46             37.065217   \n",
       "156995 2014-09-21    20949       1416.0          46             30.782609   \n",
       "160604 2014-09-28    20949       1627.0          47             34.617021   \n",
       "164560 2014-10-05    20949       1579.0          47             33.595745   \n",
       "168385 2014-10-12    20949       1628.0          47             34.638298   \n",
       "172208 2014-10-19    20949       1449.0          48             30.187500   \n",
       "175834 2014-10-26    20949       1456.0          48             30.333333   \n",
       "179716 2014-11-02    20949       1374.0          47             29.234043   \n",
       "183563 2014-11-09    20949       1829.0          47             38.914894   \n",
       "187395 2014-11-16    20949       1882.0          47             40.042553   \n",
       "191226 2014-11-23    20949       1848.0          47             39.319149   \n",
       "195095 2014-11-30    20949       1528.0          46             33.217391   \n",
       "198816 2014-12-07    20949       1611.0          48             33.562500   \n",
       "202764 2014-12-14    20949       1725.0          46             37.500000   \n",
       "206965 2014-12-21    20949       2826.0          47             60.127660   \n",
       "211556 2014-12-28    20949       3338.0          46             72.565217   \n",
       "215518 2015-01-04    20949       2685.0          45             59.666667   \n",
       "\n",
       "        week  moving_avg  \n",
       "4258       1   44.744186  \n",
       "9145       2   43.110729  \n",
       "13563      3   39.190099  \n",
       "17945      4   37.514667  \n",
       "22285      5   34.985597  \n",
       "26581      6   33.546512  \n",
       "31060      7   35.084302  \n",
       "35713      8   38.316860  \n",
       "39991      9   37.949656  \n",
       "44490     10   38.863868  \n",
       "48675     11   40.627757  \n",
       "52914     12   38.550884  \n",
       "57095     13   38.566667  \n",
       "61218     14   36.022222  \n",
       "65279     15   33.477778  \n",
       "69311     16   32.122222  \n",
       "73388     17   30.686232  \n",
       "77429     18   30.413406  \n",
       "81394     19   28.384179  \n",
       "85286     20   26.097826  \n",
       "89124     21   26.532609  \n",
       "93324     22   28.532609  \n",
       "97327     23   28.417391  \n",
       "101536    24   31.264855  \n",
       "105590    25   32.428592  \n",
       "109763    26   34.336201  \n",
       "113796    27   34.875563  \n",
       "117927    28   34.514570  \n",
       "121953    29   32.961378  \n",
       "126015    30   28.950509  \n",
       "130024    31   28.935105  \n",
       "133895    32   27.453390  \n",
       "137908    33   27.964028  \n",
       "141819    34   28.885860  \n",
       "145786    35   29.969193  \n",
       "149515    36   31.234818  \n",
       "153381    37   33.075591  \n",
       "156995    38   32.925498  \n",
       "160604    39   33.522462  \n",
       "164560    40   34.015148  \n",
       "168385    41   33.408418  \n",
       "172208    42   33.259641  \n",
       "175834    43   32.188719  \n",
       "179716    44   31.098293  \n",
       "183563    45   32.167442  \n",
       "187395    46   34.631206  \n",
       "191226    47   36.877660  \n",
       "195095    48   37.873497  \n",
       "198816    49   36.535398  \n",
       "202764    50   35.899760  \n",
       "206965    51   41.101888  \n",
       "211556    52   50.938844  \n",
       "215518    53   57.464886  "
      ]
     },
     "execution_count": 149,
     "metadata": {},
     "output_type": "execute_result"
    }
   ],
   "source": [
    "data_dict = {key: df[(df['item_id'] == item_id)] for key, df in weekly_sales_dict.items()}\n",
    "data_dict[2014]"
   ]
  },
  {
   "cell_type": "markdown",
   "metadata": {},
   "source": [
    "# Autocorrelation results - daily average (not used)\n",
    "\n",
    "Autocorelation calculated on data before sliding average applied\n",
    "\n",
    "Expected seasonality for retail data\n",
    "\n",
    "Less data collected in 2015 explains difference in correlation, likely not enough data \n",
    "to reveal pattern though pattern is still slightly comparable to 2013.\n",
    "\n",
    "There is a moderate positive autocorrelation at lag of 7, which peaks in 7 day intervals, though this decreases in significance over time\n",
    "\n",
    "Suggests that if sales on one day were higher than average, sales will be increased at a similar rate 7 days later and vice versa\n",
    "\n",
    "This may also be true for 14 and 21 days later, but with a weaker similarity in distance from average\n",
    "\n",
    "There may also be a moderate positive correlation at lag of 1 meaning if sales increased yesterday they may similarly increase the next day.\n",
    "\n",
    "### Two new features:\n",
    "\n",
    "Difference from average sales 7 days prior (standard deviation)\n",
    "\n",
    "Actual number of sales 7 days prior\n",
    "\n",
    "Could also incorporate difference the day before, 14 and 21 days to see how this affects accuracy\n",
    "\n"
   ]
  },
  {
   "cell_type": "markdown",
   "metadata": {},
   "source": [
    "# Autocorrelation results - weekly average\n",
    "\n",
    "## Within years\n",
    "There is a moderate positive correlation at lag 1 \n",
    "\n",
    "Previously mentioned pattern between sales from one week to the next\n",
    "\n",
    "### Two new features:\n",
    "\n",
    "Difference from average sales the week before (standard deviation)\n",
    "\n",
    "Actual number of sales the week before"
   ]
  },
  {
   "cell_type": "code",
   "execution_count": 152,
   "metadata": {},
   "outputs": [
    {
     "data": {
      "image/png": "[encoded data removed]",
      "text/plain": [
       "<Figure size 2000x600 with 1 Axes>"
      ]
     },
     "metadata": {},
     "output_type": "display_data"
    },
    {
     "data": {
      "image/png": "[encoded data removed]",
      "text/plain": [
       "<Figure size 2000x600 with 1 Axes>"
      ]
     },
     "metadata": {},
     "output_type": "display_data"
    },
    {
     "data": {
      "image/png": "[encoded data removed]",
      "text/plain": [
       "<Figure size 2000x600 with 1 Axes>"
      ]
     },
     "metadata": {},
     "output_type": "display_data"
    }
   ],
   "source": [
    "\n",
    "def plot_autocorrelation(year, data):\n",
    "    \n",
    "    # Plot autocorrelation\n",
    "    fig, ax = plt.subplots(figsize=(20, 6))  # Adjust figsize as needed\n",
    "    plot_acf(data['total_sales'], ax=ax, title=f'Autocorrelation for year {year}', lags=len(data)-1)\n",
    "    \n",
    "    # Customize x-axis ticks\n",
    "    ax.set_xticks(range(0, len(data), 1))  # Set ticks every 1 unit\n",
    "    ax.xaxis.set_major_formatter(plt.FuncFormatter(lambda x, _: int(x)))  # Format x-axis labels as integers\n",
    "    \n",
    "    # Add grid lines\n",
    "    ax.grid(True)\n",
    "    \n",
    "    plt.show()\n",
    "\n",
    "\n",
    "\n",
    "# Plot autocorrelation for each year\n",
    "for year in years:\n",
    "    plot_autocorrelation(year, data_dict[year])  "
   ]
  },
  {
   "cell_type": "code",
   "execution_count": 128,
   "metadata": {},
   "outputs": [
    {
     "data": {
      "text/html": [
       "<div>\n",
       "<style scoped>\n",
       "    .dataframe tbody tr th:only-of-type {\n",
       "        vertical-align: middle;\n",
       "    }\n",
       "\n",
       "    .dataframe tbody tr th {\n",
       "        vertical-align: top;\n",
       "    }\n",
       "\n",
       "    .dataframe thead th {\n",
       "        text-align: right;\n",
       "    }\n",
       "</style>\n",
       "<table border=\"1\" class=\"dataframe\">\n",
       "  <thead>\n",
       "    <tr style=\"text-align: right;\">\n",
       "      <th></th>\n",
       "      <th>date</th>\n",
       "      <th>item_id</th>\n",
       "      <th>total_sales</th>\n",
       "      <th>shop_count</th>\n",
       "      <th>average_weekly_sales</th>\n",
       "      <th>week</th>\n",
       "      <th>moving_avg</th>\n",
       "      <th>year</th>\n",
       "    </tr>\n",
       "  </thead>\n",
       "  <tbody>\n",
       "    <tr>\n",
       "      <th>90712</th>\n",
       "      <td>2013-04-28</td>\n",
       "      <td>20949</td>\n",
       "      <td>152.0</td>\n",
       "      <td>15</td>\n",
       "      <td>10.133333</td>\n",
       "      <td>17</td>\n",
       "      <td>10.133333</td>\n",
       "      <td>2013</td>\n",
       "    </tr>\n",
       "    <tr>\n",
       "      <th>96059</th>\n",
       "      <td>2013-05-05</td>\n",
       "      <td>20949</td>\n",
       "      <td>602.0</td>\n",
       "      <td>25</td>\n",
       "      <td>24.080000</td>\n",
       "      <td>18</td>\n",
       "      <td>17.106667</td>\n",
       "      <td>2013</td>\n",
       "    </tr>\n",
       "    <tr>\n",
       "      <th>101045</th>\n",
       "      <td>2013-05-12</td>\n",
       "      <td>20949</td>\n",
       "      <td>625.0</td>\n",
       "      <td>30</td>\n",
       "      <td>20.833333</td>\n",
       "      <td>19</td>\n",
       "      <td>18.348889</td>\n",
       "      <td>2013</td>\n",
       "    </tr>\n",
       "    <tr>\n",
       "      <th>105967</th>\n",
       "      <td>2013-05-19</td>\n",
       "      <td>20949</td>\n",
       "      <td>790.0</td>\n",
       "      <td>34</td>\n",
       "      <td>23.235294</td>\n",
       "      <td>20</td>\n",
       "      <td>19.570490</td>\n",
       "      <td>2013</td>\n",
       "    </tr>\n",
       "    <tr>\n",
       "      <th>111105</th>\n",
       "      <td>2013-05-26</td>\n",
       "      <td>20949</td>\n",
       "      <td>1003.0</td>\n",
       "      <td>36</td>\n",
       "      <td>27.861111</td>\n",
       "      <td>21</td>\n",
       "      <td>24.002435</td>\n",
       "      <td>2013</td>\n",
       "    </tr>\n",
       "    <tr>\n",
       "      <th>...</th>\n",
       "      <td>...</td>\n",
       "      <td>...</td>\n",
       "      <td>...</td>\n",
       "      <td>...</td>\n",
       "      <td>...</td>\n",
       "      <td>...</td>\n",
       "      <td>...</td>\n",
       "      <td>...</td>\n",
       "    </tr>\n",
       "    <tr>\n",
       "      <th>621749</th>\n",
       "      <td>2015-10-04</td>\n",
       "      <td>20949</td>\n",
       "      <td>765.0</td>\n",
       "      <td>38</td>\n",
       "      <td>20.131579</td>\n",
       "      <td>40</td>\n",
       "      <td>20.868827</td>\n",
       "      <td>2015</td>\n",
       "    </tr>\n",
       "    <tr>\n",
       "      <th>624870</th>\n",
       "      <td>2015-10-11</td>\n",
       "      <td>20949</td>\n",
       "      <td>839.0</td>\n",
       "      <td>37</td>\n",
       "      <td>22.675676</td>\n",
       "      <td>41</td>\n",
       "      <td>21.037746</td>\n",
       "      <td>2015</td>\n",
       "    </tr>\n",
       "    <tr>\n",
       "      <th>627895</th>\n",
       "      <td>2015-10-18</td>\n",
       "      <td>20949</td>\n",
       "      <td>1362.0</td>\n",
       "      <td>38</td>\n",
       "      <td>35.842105</td>\n",
       "      <td>42</td>\n",
       "      <td>24.822596</td>\n",
       "      <td>2015</td>\n",
       "    </tr>\n",
       "    <tr>\n",
       "      <th>631008</th>\n",
       "      <td>2015-10-25</td>\n",
       "      <td>20949</td>\n",
       "      <td>793.0</td>\n",
       "      <td>37</td>\n",
       "      <td>21.432432</td>\n",
       "      <td>43</td>\n",
       "      <td>25.020448</td>\n",
       "      <td>2015</td>\n",
       "    </tr>\n",
       "    <tr>\n",
       "      <th>633927</th>\n",
       "      <td>2015-11-01</td>\n",
       "      <td>20949</td>\n",
       "      <td>602.0</td>\n",
       "      <td>39</td>\n",
       "      <td>15.435897</td>\n",
       "      <td>44</td>\n",
       "      <td>23.846528</td>\n",
       "      <td>2015</td>\n",
       "    </tr>\n",
       "  </tbody>\n",
       "</table>\n",
       "<p>134 rows × 8 columns</p>\n",
       "</div>"
      ],
      "text/plain": [
       "             date  item_id  total_sales  shop_count  average_weekly_sales  \\\n",
       "90712  2013-04-28    20949        152.0          15             10.133333   \n",
       "96059  2013-05-05    20949        602.0          25             24.080000   \n",
       "101045 2013-05-12    20949        625.0          30             20.833333   \n",
       "105967 2013-05-19    20949        790.0          34             23.235294   \n",
       "111105 2013-05-26    20949       1003.0          36             27.861111   \n",
       "...           ...      ...          ...         ...                   ...   \n",
       "621749 2015-10-04    20949        765.0          38             20.131579   \n",
       "624870 2015-10-11    20949        839.0          37             22.675676   \n",
       "627895 2015-10-18    20949       1362.0          38             35.842105   \n",
       "631008 2015-10-25    20949        793.0          37             21.432432   \n",
       "633927 2015-11-01    20949        602.0          39             15.435897   \n",
       "\n",
       "        week  moving_avg  year  \n",
       "90712     17   10.133333  2013  \n",
       "96059     18   17.106667  2013  \n",
       "101045    19   18.348889  2013  \n",
       "105967    20   19.570490  2013  \n",
       "111105    21   24.002435  2013  \n",
       "...      ...         ...   ...  \n",
       "621749    40   20.868827  2015  \n",
       "624870    41   21.037746  2015  \n",
       "627895    42   24.822596  2015  \n",
       "631008    43   25.020448  2015  \n",
       "633927    44   23.846528  2015  \n",
       "\n",
       "[134 rows x 8 columns]"
      ]
     },
     "execution_count": 128,
     "metadata": {},
     "output_type": "execute_result"
    }
   ],
   "source": [
    "all_sales = all_sales[all_sales['item_id'] == 20949]\n",
    "all_sales"
   ]
  },
  {
   "cell_type": "code",
   "execution_count": 158,
   "metadata": {},
   "outputs": [
    {
     "name": "stdout",
     "output_type": "stream",
     "text": [
      "37 53 44\n"
     ]
    }
   ],
   "source": [
    "print(len(data_dict[2013]),len(data_dict[2014]),len(data_dict[2015]))"
   ]
  },
  {
   "cell_type": "markdown",
   "metadata": {},
   "source": [
    "# Cross-correlation between years \n",
    "\n",
    "Double check if there is pattern across years/where the strongest correlations are\n",
    "\n",
    "as seen in visualization datasets for 2013 and 2014 are very similar - could be used for training/testing\n",
    "\n",
    "standardised datasets"
   ]
  },
  {
   "cell_type": "code",
   "execution_count": 170,
   "metadata": {},
   "outputs": [
    {
     "data": {
      "image/png": "[encoded data removed]",
      "text/plain": [
       "<Figure size 1000x500 with 1 Axes>"
      ]
     },
     "metadata": {},
     "output_type": "display_data"
    },
    {
     "data": {
      "image/png": "[encoded data removed]",
      "text/plain": [
       "<Figure size 1000x500 with 1 Axes>"
      ]
     },
     "metadata": {},
     "output_type": "display_data"
    },
    {
     "data": {
      "image/png": "[encoded data removed]",
      "text/plain": [
       "<Figure size 1000x500 with 1 Axes>"
      ]
     },
     "metadata": {},
     "output_type": "display_data"
    }
   ],
   "source": [
    "\n",
    "def plot_cross_correlation(ts1, ts2, title):\n",
    "    correlation = ccf(ts1['average_weekly_sales'], ts2['average_weekly_sales'], adjusted=False)\n",
    "    lags = np.arange(len(correlation))\n",
    "    \n",
    "    plt.figure(figsize=(10, 5))\n",
    "    plt.bar(lags, correlation, width=0.4)\n",
    "    plt.title(title)\n",
    "    plt.xlabel('Lag')\n",
    "    plt.ylabel('Cross-Correlation')\n",
    "    plt.grid(True)  # Add grid lines\n",
    "    plt.xticks(lags)  # Set xticks to show all numbers\n",
    "    plt.xlim(-1, 30)  # Limit x-axis to range from 0 to 30\n",
    "    plt.show()\n",
    "\n",
    "# Plot cross-correlation for each pair of years\n",
    "plot_cross_correlation(data_dict[2013], data_dict[2014][data_dict[2014]['week'] >= 17], 'Cross-Correlation between 2013 and 2014')\n",
    "plot_cross_correlation(data_dict[2013][data_dict[2013]['week'] <= 44], data_dict[2015], 'Cross-Correlation between 2013 and 2015')\n",
    "plot_cross_correlation(data_dict[2014][data_dict[2014]['week'] <= 44], data_dict[2015], 'Cross-Correlation between 2014 and 2015')"
   ]
  }
 ],
 "metadata": {
  "kernelspec": {
   "display_name": "datascience",
   "language": "python",
   "name": "python3"
  },
  "language_info": {
   "codemirror_mode": {
    "name": "ipython",
    "version": 3
   },
   "file_extension": ".py",
   "mimetype": "text/x-python",
   "name": "python",
   "nbconvert_exporter": "python",
   "pygments_lexer": "ipython3",
   "version": "3.12.4"
  }
 },
 "nbformat": 4,
 "nbformat_minor": 2
}
